{
 "cells": [
  {
   "cell_type": "markdown",
   "metadata": {},
   "source": [
    "# Analiza danych tekstowych i języka naturalnego\n",
    "**28.04.2020**\n",
    "<br>\n",
    "\n",
    "<div style=\"text-align: right\">\n",
    "<b>Patryk Pilarski</b><br>\n",
    "1patryk.pilarski@gmail.com<br>\n",
    "p.pilarski@sages.com.pl\n",
    "</div>"
   ]
  },
  {
   "cell_type": "markdown",
   "metadata": {},
   "source": [
    "**Text mining** (analiza tekstu) - ogół działań mających na celu pozyskanie wysokiej jakości informacji z tekstu. W procesie wykorzystywane są techniki NLP, IR oraz ML w celu pozyskania ustrukturyzowanych form czy wzorców, jak również istotnych wniosków. Typowy proces składa się z następujących etapów: \n",
    "- pozyskanie danych, \n",
    "- przygotowanie danych (normalizacja, nadawanie struktury), \n",
    "- ekstrakcja wzorców, \n",
    "- ewaluacja i interpretacja. \n",
    "<br>\n",
    "\n",
    "Do najczęstszych zadań należą: klasyfikacja i klasteryzacja dokumentów, podsumowywanie tekstów, analiza sentymentu i named entity recognition."
   ]
  },
  {
   "cell_type": "markdown",
   "metadata": {},
   "source": [
    "-----\n",
    "## Stringi"
   ]
  },
  {
   "cell_type": "markdown",
   "metadata": {},
   "source": [
    "Unicode - komputerowy zestaw znaków mający w zamierzeniu obejmować wszystkie pisma używane na świecie"
   ]
  },
  {
   "cell_type": "code",
   "execution_count": 4,
   "metadata": {},
   "outputs": [],
   "source": [
    "text = \"🐢² = żółw • żółw\""
   ]
  },
  {
   "cell_type": "code",
   "execution_count": 5,
   "metadata": {
    "collapsed": true,
    "jupyter": {
     "outputs_hidden": true
    },
    "scrolled": true
   },
   "outputs": [
    {
     "name": "stdout",
     "output_type": "stream",
     "text": [
      "🐢\n",
      "²\n",
      " \n",
      "=\n",
      " \n",
      "ż\n",
      "ó\n",
      "ł\n",
      "w\n",
      " \n",
      "•\n",
      " \n",
      "ż\n",
      "ó\n",
      "ł\n",
      "w\n"
     ]
    }
   ],
   "source": [
    "for x in text:\n",
    "    print(x)"
   ]
  },
  {
   "cell_type": "code",
   "execution_count": 6,
   "metadata": {},
   "outputs": [
    {
     "data": {
      "text/plain": [
       "'🐢'"
      ]
     },
     "execution_count": 6,
     "metadata": {},
     "output_type": "execute_result"
    }
   ],
   "source": [
    "text[0]"
   ]
  },
  {
   "cell_type": "code",
   "execution_count": 7,
   "metadata": {},
   "outputs": [
    {
     "data": {
      "text/plain": [
       "'🐢²'"
      ]
     },
     "execution_count": 7,
     "metadata": {},
     "output_type": "execute_result"
    }
   ],
   "source": [
    "text[:2]"
   ]
  },
  {
   "cell_type": "code",
   "execution_count": null,
   "metadata": {},
   "outputs": [],
   "source": [
    "text.split()"
   ]
  },
  {
   "cell_type": "code",
   "execution_count": null,
   "metadata": {},
   "outputs": [],
   "source": [
    "text.split(\"=\")"
   ]
  },
  {
   "cell_type": "code",
   "execution_count": null,
   "metadata": {},
   "outputs": [],
   "source": [
    "[x.strip() for x in text.split(\"=\")]"
   ]
  },
  {
   "cell_type": "code",
   "execution_count": null,
   "metadata": {},
   "outputs": [],
   "source": [
    "text.split(\" = \")"
   ]
  },
  {
   "cell_type": "code",
   "execution_count": null,
   "metadata": {},
   "outputs": [],
   "source": [
    "text.upper()"
   ]
  },
  {
   "cell_type": "code",
   "execution_count": null,
   "metadata": {},
   "outputs": [],
   "source": [
    "text.strip(\"w\")"
   ]
  },
  {
   "cell_type": "code",
   "execution_count": null,
   "metadata": {},
   "outputs": [],
   "source": [
    "\"!!!??tu!?nie??!!\".strip(\"?!\")"
   ]
  },
  {
   "cell_type": "code",
   "execution_count": null,
   "metadata": {},
   "outputs": [],
   "source": [
    "text.replace(\"²\", \"^2\")"
   ]
  },
  {
   "cell_type": "code",
   "execution_count": null,
   "metadata": {},
   "outputs": [],
   "source": [
    "lst = [\"kto\", \"to\", \"taki\"]"
   ]
  },
  {
   "cell_type": "code",
   "execution_count": null,
   "metadata": {},
   "outputs": [],
   "source": [
    "\" \".join(lst)"
   ]
  },
  {
   "cell_type": "markdown",
   "metadata": {},
   "source": [
    "**ZADANIE**\n",
    "> Odwróć kolejność znaków w stringu `text`"
   ]
  },
  {
   "cell_type": "code",
   "execution_count": null,
   "metadata": {},
   "outputs": [],
   "source": []
  },
  {
   "cell_type": "markdown",
   "metadata": {},
   "source": [
    "----\n",
    "## Regex"
   ]
  },
  {
   "cell_type": "markdown",
   "metadata": {},
   "source": [
    "**Regex** (wyrażenia regularne) – wzorce opisujące łańcuchy symboli, pozwalają na znajdowanie lub modyfikowanie zdefiniowanych wzorców. Znajdują bardzo szerokie zastosowanie np. w ekstrakcji danych z tekstu takich jak adresy email, kody pocztowe, numery telefonów itp.<br> https://regex101.com/"
   ]
  },
  {
   "cell_type": "code",
   "execution_count": 8,
   "metadata": {},
   "outputs": [],
   "source": [
    "import re"
   ]
  },
  {
   "cell_type": "code",
   "execution_count": 9,
   "metadata": {},
   "outputs": [
    {
     "data": {
      "text/plain": [
       "['w', 'w']"
      ]
     },
     "execution_count": 9,
     "metadata": {},
     "output_type": "execute_result"
    }
   ],
   "source": [
    "re.findall(\"w\", text)"
   ]
  },
  {
   "cell_type": "code",
   "execution_count": 10,
   "metadata": {
    "scrolled": true
   },
   "outputs": [
    {
     "data": {
      "text/plain": [
       "['w', 'w']"
      ]
     },
     "execution_count": 10,
     "metadata": {},
     "output_type": "execute_result"
    }
   ],
   "source": [
    "re.findall(\"[a-z]+\", text)"
   ]
  },
  {
   "cell_type": "code",
   "execution_count": 11,
   "metadata": {},
   "outputs": [
    {
     "data": {
      "text/plain": [
       "['ł', 'ł']"
      ]
     },
     "execution_count": 11,
     "metadata": {},
     "output_type": "execute_result"
    }
   ],
   "source": [
    "re.findall(\"ł\", text)"
   ]
  },
  {
   "cell_type": "code",
   "execution_count": 16,
   "metadata": {},
   "outputs": [
    {
     "data": {
      "text/plain": [
       "['²', 'żółw', 'żółw']"
      ]
     },
     "execution_count": 16,
     "metadata": {},
     "output_type": "execute_result"
    }
   ],
   "source": [
    "re.findall(\"\\w+\", text)"
   ]
  },
  {
   "cell_type": "markdown",
   "metadata": {},
   "source": [
    "**ZADANIE**\n",
    "> 1. Z tekstu `txt` wyciągnij wszytskie liczby<br>\n",
    "> 2. Z tekstu `txt` wyciągnij wszystkie słowa zaczynające się od wielkiej litery<br>"
   ]
  },
  {
   "cell_type": "code",
   "execution_count": 17,
   "metadata": {},
   "outputs": [],
   "source": [
    "txt = \\\n",
    "\"\"\"\n",
    "Monty Python (also collectively known as the Pythons) were a British surreal comedy troupe who created the \n",
    "sketch comedy television show Monty Python's Flying Circus, which first aired on the BBC in 1969. \n",
    "Forty-five episodes were made over four series. The Python phenomenon developed from the television series \n",
    "into something larger in scope and impact, including touring stage shows, films, numerous albums, several books \n",
    "and musicals. The Pythons' influence on comedy has been compared to the Beatles' influence on music. \n",
    "Regarded as an enduring icon of 1970s pop culture, their sketch show has been referred to as being \n",
    "“an important moment in the evolution of television comedy\".\n",
    "Broadcast by the BBC between 1969 and 1974, Monty Python's Flying Circus was conceived, written and performed \n",
    "by its members Graham Chapman, John Cleese, Terry Gilliam, Eric Idle, Terry Jones, and Michael Palin. \n",
    "Loosely structured as a sketch show, but with an innovative stream-of-consciousness approach aided by \n",
    "Gilliam's animation, it pushed the boundaries of what was acceptable in style and content. \n",
    "A self-contained comedy team responsible for both writing and performing their work, the Pythons had creative \n",
    "control which allowed them to experiment with form and content, discarding rules of television comedy. \n",
    "Following their television work, they began making films, including Monty Python and the Holy Grail (1975), \n",
    "Life of Brian (1979) and The Meaning of Life (1983). Their influence on British comedy has been apparent \n",
    "for years, while in North America, it has coloured the work of cult performers from the early editions \n",
    "of Saturday Night Live through to more recent absurdist trends in television comedy. \n",
    "\"Pythonesque\" has entered the English lexicon as a result.\n",
    "\"\"\""
   ]
  },
  {
   "cell_type": "code",
   "execution_count": 29,
   "metadata": {},
   "outputs": [
    {
     "data": {
      "text/plain": [
       "['1969', '1970', '1969', '1974', '1975', '1979', '1983']"
      ]
     },
     "execution_count": 29,
     "metadata": {},
     "output_type": "execute_result"
    }
   ],
   "source": [
    "re.findall(\"\\d+\",txt)\n",
    "re.findall('[0-9]+',txt)"
   ]
  },
  {
   "cell_type": "code",
   "execution_count": 33,
   "metadata": {
    "scrolled": true
   },
   "outputs": [
    {
     "data": {
      "text/plain": [
       "['Monty',\n",
       " 'Python',\n",
       " 'Pythons',\n",
       " 'British',\n",
       " 'Monty',\n",
       " 'Python',\n",
       " 'Flying',\n",
       " 'Circus',\n",
       " 'Forty',\n",
       " 'The',\n",
       " 'Python',\n",
       " 'The',\n",
       " 'Pythons',\n",
       " 'Beatles',\n",
       " 'Regarded',\n",
       " 'Broadcast',\n",
       " 'Monty',\n",
       " 'Python',\n",
       " 'Flying',\n",
       " 'Circus',\n",
       " 'Graham',\n",
       " 'Chapman',\n",
       " 'John',\n",
       " 'Cleese',\n",
       " 'Terry',\n",
       " 'Gilliam',\n",
       " 'Eric',\n",
       " 'Idle',\n",
       " 'Terry',\n",
       " 'Jones',\n",
       " 'Michael',\n",
       " 'Palin',\n",
       " 'Loosely',\n",
       " 'Gilliam',\n",
       " 'Pythons',\n",
       " 'Following',\n",
       " 'Monty',\n",
       " 'Python',\n",
       " 'Holy',\n",
       " 'Grail',\n",
       " 'Life',\n",
       " 'Brian',\n",
       " 'The',\n",
       " 'Meaning',\n",
       " 'Life',\n",
       " 'Their',\n",
       " 'British',\n",
       " 'North',\n",
       " 'America',\n",
       " 'Saturday',\n",
       " 'Night',\n",
       " 'Live',\n",
       " 'Pythonesque',\n",
       " 'English']"
      ]
     },
     "execution_count": 33,
     "metadata": {},
     "output_type": "execute_result"
    }
   ],
   "source": [
    "re.findall('[A-Z][a-z]+',txt)"
   ]
  },
  {
   "cell_type": "markdown",
   "metadata": {},
   "source": [
    "----\n",
    "## Wczytywanie danych\n",
    "\n",
    "[Surowe dane](https://snap.stanford.edu/data/web-FineFoods.html)"
   ]
  },
  {
   "cell_type": "markdown",
   "metadata": {},
   "source": [
    "**PROSTE PLIKI TEKSTOWE**"
   ]
  },
  {
   "cell_type": "code",
   "execution_count": 34,
   "metadata": {},
   "outputs": [],
   "source": [
    "# open\n",
    "with open(\"finefoods_sample.csv\", \"r\") as f:\n",
    "    foods = f.readlines()"
   ]
  },
  {
   "cell_type": "code",
   "execution_count": 35,
   "metadata": {
    "collapsed": true,
    "jupyter": {
     "outputs_hidden": true
    }
   },
   "outputs": [
    {
     "data": {
      "text/plain": [
       "['score,summary,review\\n',\n",
       " '1.0,Didn\\'t Grow. Went Moldy.,\"I\\'m not sure what I did wrong... but I watered it once and followed the directions and waited for it to grow and nothing happened. It simply got fuzzy, and didn\\'t sprout.  After reading the reviews (I wish I had ahead of my purchase) I see it turned moldy for other people as well.\"\\n',\n",
       " '1.0,\"Great food, but purchase from local store for A LOT less\",\"As 2 others have stated you can get the 32 packs from Wal-Mart for about $12-13. You also do have the variety of choosing different flavors and different textures like the pate or shreds. My older and younger cats would rather eat the shredded or meat bits then the mashed pate thing, and I think they don\\'t have such a strong smell as the pate does either!  If you do not mind paying double then go for it, but I am always searching for the lowest price and knowing that Amazon is usually cheaper thought I could find them on here, but that is obviously not true in this case! Better just to buy some when you\\'re at the store. At the store it is about .42 per can and at what I have been seeing on here it is about .78 -.80. So if you\\'re like me and don\\'t go to Wal-mart all that often or even if you do, best just to stock up on a few cases and save quite a bit of money!\"\\n',\n",
       " '1.0,\"Product is fine, dodgy seller?\",\"The Lavazza Gran Crema pods are fine if you\\'re not too fussed about good coffee, or if you\\'re using them for latte or other milk drinks. My main issue with these was how they came from the seller. The product description clearly states that the pods come in a \"\"20 pack box\"\" - this was important to me as I keep my pods on the bench in their display boxes. Instead, my 20 pods came loose in a zip lock bag and each one was clearly marked - not for individual sale. The seller obviously buys these in bulk and then on-sells them for a larger profit - very dodgy.\"\\n',\n",
       " '5.0,\"A sweet, healthy treat\",\"Low sugar, low fat, a measured amount, and sweet and chocolatey enough to satisfy my evening sweet tooth cravings.\"\\n',\n",
       " '1.0,NOT BERRY... or CHERRY  90% APPLE,AVOID unless you want apple...( product held 90% apple) with less then 14  bitty bits of cherry or berry. If you desire BERRY try the CRUNCHIES freeze dried truly all berry!( if ZERO stars were available this would be a zero...good idea if it really were CHERRY BERRY...so OK 1 star)\\n',\n",
       " '5.0,Great product,\"Old Wessex Scottish style porridge oats has been my favorite oatmeal since I first tried it 9 years ago. It does not have the gummy consistency of other oatmeal and I prefer its flavor to others.  I\\'ve been eating oatmeal for 60 years now and I think I can speak as \"\"one who knows good oats.\"\" These are good oats. Also, buying it as a club member makes my favorite oatmeal even more affordable.  I used to drive 80 miles to stock up.  Amazon sure has made my shopping a lot easier.\"\\n',\n",
       " '5.0,Wife loves this tea,\"I used to drink chamomile tea back when I was child and just needed something to settle my stomach. The blended teas of today just don\\'t match that wonderful tea of yesteryear. However, my wife loves the honey, vanilla, chamomile combo. Like other teas we\\'ve grown to enjoy, this one is getting increasingly harder to find. Since I was ready to reorder my Stash brand Double Bergamot Earl Grey tea, it made sense to buy this at the same time. Surprisingly, even though both were ordered at the same time, this came separately even though both are being sold & shipped by Amazon. I am still waiting for the Stash tea.\"\\n',\n",
       " '1.0,Not for true grits lovers,\"The dry product is extremely fine, almost powdery. The cooked product is mushy and doesn\\'t even taste like grits to me. I like the coarse stone ground grits which haven\\'t been de-germed. Regular white grits from the grocery store is preferable to this product. I will donate the three unopened boxes to our local food bank.\"\\n',\n",
       " '5.0,Heather In Michigan,\"Everyone ate this pizza as if nothing were different from regular pizza! (and I make a good scratch crust, if I do say so.) I threw some extra spices in the sauce to cover up any potential funny taste, but it wsn\\'t needed! The edges of the crust were delicious, as well! The crust was even crispy on the botton thanks to the pre-cooking! Thank goodness we dont have to adjust our pizza eating now that we have a GF eater in the house!\"\\n',\n",
       " '5.0,Excellent Sweet Taste,\"This is NOT a hot (hot) sauce that is cruddy on flavor for the sake of heat.  This is a hot (hot) sweet BBQ sauce. I love adding this to anything with BBQ.  From a heat standpoint, I am a \"\"huge\"\" fan of Tabasco. I can\\'t eat pasta, salsa, bloody marys, etc... without it.  This is a lot hotter than Tabasco, but a lot sweeter. I now keep Tabasco and Bone Suckin Sauce-Habanero on hand and I am a very happy dude.\"\\n',\n",
       " \"5.0,Unique savory flavor,I've tried all the vegetarian Taste of Thai boxed noodle products and all the vegetarian Annie Chun noodle bowls. This is by far the best and one of the few in which the sauce combines with the noodles to create a unique flavor. It's deeply savory (umami) and unlike most anything I've tasted as a vegetarian. I could eat these every day.\\n\",\n",
       " '1.0,Bread Mix,\"Not a good bread mix. No flavor, no raisins and definitely nooooooo.......hazelnuts that i could find.\"\\n',\n",
       " '5.0,Dog loves it!!,\"Great training aid. Very easy to use.  My puppy will follow this Lickety Stik anywhere!  After a while, just shaking the container gets her running to me.\"\\n',\n",
       " '5.0,Great Coffee,I purchased this coffee as a gift for my mother and it arrived well before the estimated delivery date. I was told the coffee was definitely fresh which can sometimes be a challenge when trying to buy Jaimaican Blue Mountain coffee. It was just as good as the Blue Mountain coffee that I had brought back from Jamaica quite a few years ago. Great coffee from and would recommend purchasing from this reseller if looking to purchase Jamaican Blue Mountain coffee.\\n',\n",
       " '1.0,I will not take a chance with my dogs health,\"My dogs love the taste of it. my worry is the next day one of them vomit the entire food he just ate plus the one from the previous day. I have to said I did not gradually change to this food, so maybe that is the reason. but I notice lots of urine more than normal. I just don\\'t feel comfortable feeding this food to my dogs.\"\\n',\n",
       " '1.0,too much pepper!,\"This is just awful soup with so much black pepper, I nearly choked on it.  It had a burnt taste.  Very poor quality control on this item.  I was shocked because this brand\\'s chicken broth is very good.\"\\n',\n",
       " '1.0,Open bag and stale chips,\"I ordered 3 bags, because they came as a pack. When the box arrived 1 of them was open (I assume because they shipped it via air and the pressure made it explode) and it had spilled all over the box so I had to throw those away. The 2nd bag I opened was stale, so I couldn\\'t use those either. I wasted my money on this purchase unfortunately.\"\\n',\n",
       " '5.0,LOVE THIS COMPANY,\"I\\'ve puchased several items from this company and have been pleased with all of them.  Expensive, yes.  but I give them out as \"\"party favors\"\" for dogs that have boarded with me.  We Board Labs.\"\\n',\n",
       " '5.0,Might be the best chips I\\'ve ever had,\"These are REALLY terrific, crunchy and flavorful with no artificial taste.  Not only might the be the best chips I\\'ve ever eaten, I\\'m wondering if they\\'re the best FOOD I\\'ve ever eaten.  If Amazon would start carrying my beloved Apple Beer I could quit going to the grocery store entirely.\"\\n',\n",
       " '5.0,\"Not bitter, just like cola\",\"After discovering the San Pellegrino product line, I did a search and happened upon this particular product. After reading some of the reviews, I was intrigued and just had to try it. Now, having tried it, I don\\'t understand the reviews at all. Perhaps it\\'s just an example of how very different people\\'s taste buds are. But this product, to me, is not the least bit bitter. It is quite sugary (sugar is the second ingredient listed, next to water). It does not taste at all lemony or like orange. To me, it tastes very similar to China Cola, which is primarily vanilla, clove, and licorice. China Cola, tastes very similar to Coke. The only real plus to this product is that it is caffeine free... but... so is China Cola (which is expensive, but cheaper than this product), and caffeine free Coke. It does have a little bit of an aftertaste which tastes like fermented grapes... a little like a wine cooler, and this aftertaste goes away very quickly. Not bad. It is good. But nothing special. If they bottled it state side, and therefore would be much cheaper, I would buy more often. But, all in all... it\\'s a good drink.. ok, not bitter,... very sugary though.\"\\n',\n",
       " '5.0,Senseo Paris French Vanilla Bistro Coffee Pods,Senseo Paris French Vanilla Coffee pods are easy to use and easy to clean up. The pods brew a very flavorful cup of coffee. French Vanilla is one of my favorites.\\n',\n",
       " '5.0,a hoilistic health coach,\"My vanilla bean plant is awesome. It came to me in perfect condition, very healthy. Do you know that this is an orchid?  It grows in soil, unlike orchids and it is the only orchid that produces a product other than flowers. I have recommended others to purchase one of these plants!\"\\n',\n",
       " \"5.0,DON'T BUY THIS COFFEE!,It's more expensive than most other coffees.  Once you try it you won't be able to go back.  It's that good.\\n\",\n",
       " '5.0,My Secret to Surving Winter!,\"I live in Atlanta and while most don\\'t think of the winter here as harsh, I was born over 500 miles south so its practically the arctic to me. Since moving here I have used hot tea as a winter comfort. For years I drank  Twinings Irish Breakfast Tea, Tea Bags, 20-Count Boxes (Pack of 6)  which was strong and had lots of flavor but left a slight metallic aftertaste. I stumbled on  Twinings English Breakfast Tea, Tea Bags, 50-Count Boxes (Pack of 6)  and for awhile, this strong tea with less of a metallic aftertaste was my favorite. But my wife brought home this Vanilla Chai tea and I think I have found my all time favorite. It is a traditional back tea with vanilla and other spices that added together are out of this world. I perfer it to the herbal teas I have tried because it has that underlying true black tea taste. I drink it with half and half, it has so much flavor it doesn\\'t need sweetening although traditional chai teas are served very sweet. Try this tea and see what you have been missing!\"\\n',\n",
       " '1.0,BEWARE - AMAZON LIMITS THE TOTAL AMOUNT YOU CAN BUY,\"The food is GREAT.  The cats have gotten completely addicted to it.  BUT....what Amazon doesn\\'t bother to mention is that \"\"quantities are limited\"\".  I have been buying this food for my 3 cats for about 6 months.  It comprises roughly half their diet (or 3 cats/day).  I just went to re-order and was repeatedly told \"\"there\\'s a problem\"\".  Long story, and 2 phone calls plus 2 emails later, I was told I have bought the LIFETIME MAXIMUM of this product.  I ordered it for almost twice the price via the marketplace, but I am furious with Amazon.  NOWHERE on this page do they tell you there\\'s a limit.  So I\\'m here to tell you there is.  The food is great, but don\\'t get used to buying it here.\"\\n',\n",
       " \"5.0,Love the flavor,This is a naturally sweeter tea that doesn't require extra sugar.  The taste is wonderful with dessert or before bed (naturally caffeine-free).  Just love the taste of this tea.\\n\",\n",
       " '5.0,Amazing Product,\"I ordered these for a part of a bridal shower favor (with a mug, tea, and biscotti).  These were the perfect complement and everyone loved them! The Madhava Honey Sticks are a great value (definitely the lowest priced item of this type that I found), but they also are an all around great product!  The honey is delicious and pure tasting, no plastic taste that I have had happen with other honey sticks. I definitely recommend!!\"\\n',\n",
       " \"1.0,Melted chocolate,I received my first box and when I opened it the chocolate had been melted. It was no longer smooth and creamy as Lindt truffles usually are. The weather had been cold and I accepted the package directly from the post women so I assumed it had arrived that way. I called Amazon and they gave me a replacement box which arrived in 2 days. Unfortunately it had also been melted and at that point I just gave up. I have two boxes of yucky chocolate.  I'm assuming that they melted while they sat around at amazon or Lindt provided a sub par product.  Do not order these. Buy them somewhere where you can inspect them first.\\n\",\n",
       " '1.0,Warning new taste now 7 grams of sugar!,\"Watch out for the new \"\"better\"\" taste.  They added 5 more grams of sugar.  It\\'s no longer a healthy cereal.\"\\n',\n",
       " '5.0,Awesome Gluten-Free Pasta Brand,\"All of Tinkyada\\'s pasta is pretty wonderful.  I can\\'t tell you how many Gluten-free pasta brands I have tried and at best they have been gross!  Finally, I found Tinkyada and I have never been disappointed.  I think this is my absolute favorite Tinkyada type (the Fusilli), but I also love the fettucini, the lasagna noodles, the elbows and shells.\"\\n',\n",
       " '5.0,\"Oh Good, Another Shipment Arrived Today\",\"This is my third order from Amazon for this product. When I decided to go wheat free a few months ago I knew I had to come up with an acceptable pancake mix because I LOVE pancakes. Since I\\'d used Bisquick for many years my first experiment was naturally to go with their gluten-free product. It was okay but nothing to brag about. I still have a partial box left over that I use sometimes as a coating for fish or chicken.  So I got to looking some more and kept coming across reviews for Pamela\\'s Baking & Pancake Mix. There were a lot of positive reviews so I gave it a shot and have been very satisfied. Blueberry pancakes almost every morning. No kidding! I use milk instead of water (water and pancakes just don\\'t seem right together to me) and add lots of blueberries and a couple tablespoons of chia seed. For the oil I use coconut oil. My wife made some chocolate chip cookies with it and they were pretty excellent too. Now that the weather is getting cooler, we\\'ll be experimenting more.  I\\'ve recommended this mix to several family members and others and they are on board with it. Most of them are not on gluten-free diets but agree that it\\'s a healthy alternative to wheat-based products. My wife and I and our two adult children are also not gluten intolerant.  The only negative I have about this product is the packaging. The three bags may be shipped in frustration-free packaging but the packages themselves are not frustration-free. I usually give up trying to pinch the seals together and just fold the top over. But still, this is five-star in my book. I did find this mix at a local grocery store but by ordering it though Amazon I saved about ten dollars for three bags.\"\\n',\n",
       " '5.0,forget the milk. Try honey!,\"Tastes dry and dense with milk, so I experimented and found that if you eat it in a bowl with some honey (however amount depending on your preference), it\\'s delicious!- the healthiest \"\"granola\"\" ever!!  makes for an absolutely wholesome, DELICIOUS snack.  I think the one with almonds is best!\"\\n',\n",
       " '5.0,Love it!,\"Love the Torani coconut syrup.  I use it in coffee drinks.  Some coffee, ice, milk, chocolate, and syrup.  No sugar needed.  Enough sweetness comes with the syrup.  Perfect!\"\\n',\n",
       " '5.0,Best matcha quality and price,\"I previously tried other matcha products and was generally satisfied with the quality but not the price.  I decided to give Pure Matcha green and rooibos a try because the price seemed to be very competitive.  The quality of Pure Matcha\\'s products surpasses that of all others I have tried- stays fresh, has a consistent texture and tastes great.  Both the quality and price are better than others that I have purchased for the same quantity.  I highly recommend Pure Matcha and will continue to purchase.\"\\n',\n",
       " '1.0,Not very good panforte,\"Glucose syrup and sulphur dioxide were not ingredients at the time of the crusades.  This might technically be called panforte, but it does not taste good - flavors and spices are lame.  Probably carelessly industry-produced.  I will not be purchasing this again.  Is it even really Italian?  If you\\'ve ever eaten it in Italy, panforte is delicious, but this stuff does not even come close.\"\\n',\n",
       " \"1.0,This is not gluten free.,Why is this in the Gluten Free store? Read the ingredients.  It contains wheat.  It might be a great product but it should not be in this listing. Please remove it and the other Helper products.  They all seem to contain wheat.  If you don't have celiac disease you can disreguard this complaint.\\n\",\n",
       " '5.0,Crawford Garibaldi Biscuits,I was very satisfied with the Crawford Garibaldi Biscuits. They taste better than the Sunshine fruit buscuits that are no longer manufactured in the United States.\\n',\n",
       " '1.0,NO REAL PRODUCT DESCRIPTION,BUYING THIS ITEM WITH NO PRODUCT DESCRIPTION IS LIKE SIGNING A BLANK CHECK. ONLY A MORON WOULD DO THAT\\n',\n",
       " '5.0,Just My Kind of Coffee,\"Coffee Masters Hazelnut coffee used to be carried in a local coffee/pastry shop, which is where I fell in love with it.  Then they went out of business and I tried for so long to locate it elsewhere, finally finding it at Amazon.  It is a mild coffee with a lovely flavor and aroma.  I used to mix it half and half with regular coffee, but now drink it 100% by itself 100% of the time.  Got on the auto ship plan and couldn\\'t be happier.\"\\n',\n",
       " '5.0,The Best Stuff!,I just want to comment-I have been buying this waffle mix since my husband tasted it at a free hotel breakfastseveral years ago. Amazon is the only place I could find it and such a great price! It is our favorite!\\n',\n",
       " '1.0,Causes migraines and doesnt work,\"So yeah, it kept me awake..... Only to give me a huge migraine. Thanks five hour energy... Everyday? How about never... I\\'m in terrible pain from a QUARTER OF A BOTTLE\"\\n',\n",
       " \"1.0,Nothing Like I Remember,I love vanilla milk and can't find the mix around where I live so I ordered it. I read somewhere that it is only made in New Mexico now and sure enough the writing on the package was all written in Spanish. That may or may not have anything to do with why I didn't like it.  I think that this product tasted like vanilla slimfast shakes. I cannot stand slimfast so I was so disappointed. My daughter loves this mix though so it won't go to waste im sure.\\n\",\n",
       " \"5.0,I love this product,We love these marshmallows becuase they have no pork products in them. I don't like the fat free brand though.\\n\",\n",
       " \"5.0,Good Candy,Used this as a part of my sister in laws 'candy bar' at her bridal shower and these were very popular. They tasted great and were a great price for the quantity received.\\n\",\n",
       " '5.0,kraft tangy italian spaghetti dinner,\"I think the kraft spaghetti is great, my kids had never had it and they also liked it. It was a great price with free shipping we will be ordering it again!! thank You, Julie Silva\"\\n',\n",
       " '1.0,\"Amaranth, the useless grain.\",\"It seems I have been dupt! Amaranth does not pop like popcorn,cook up like oatmeal ot make a nice side dish like Quinoa.  I have looked and looked but I cannot find anything to do with it.  Gnosses\"\\n',\n",
       " \"5.0,so good,I normally prefer Starbucks pumpkin lattes to Dunkin donuts' but these kcups are amazing!  Won't have to make my daily Starbucks visit!\\n\",\n",
       " '5.0,Yummy!,\"If you want great granola, look no further.  I live in Utah and none of the stores carry it so I have to mail order my granola to get something good!\"\\n',\n",
       " '5.0,Great New Favours!,\"I was surprised when the box arrived, I didn\\'t know there would be so many new and exciting favours. The Sweet potato was really good, as was the Thai Style, the Jalape&ntilde;o packets were OK.\"\\n',\n",
       " '1.0,Clever Way to Hide MSG,\"dried autolyzed yeast extract = MSG  If you want to find out if there is processed free glutamic acid (MSG) in a product, you must ask the manufacturer for information about \"\"free glutamic acid.\"\"  Don\\'t ask about \"\"MSG.\"\"  Manufacturers find it convenient, when speaking to consumers, to tell them that there is no \"\"MSG\"\" in their product, meaning that there is no ingredient called \"\"monosodium glutamate.\"\"  Even if a manufacturer tells you there is no MSG in a product, there may be autolyzed yeast, hydrolyzed pea protein, carrageenan, sodium caseinate, enzymes, and a whole slew of other ingredients that contain or create processed free glutamic acid (MSG) during manufacture.  If you are told that all of the MSG in a product is \"\"naturally occurring,\"\" thank the manufacturer for that meaningless information, but explain that all processed free glutamic acid (MSG) is referred to as \"\"natural\"\" by the FDA -- so \"\"natural\"\" tells you nothing.  In fact, as the word \"\"natural\"\" is defined by the FDA, the food ingredient \"\"monosodium glutamate\"\" is \"\"natural.\"\"  It is the amount of processed free glutamic acid in the product that will determine whether or not you might suffer an MSG reaction. (Everyone has a different tolerance for MSG.) If the manufacturer claims not to know whether or not there is processed free glutamic acid (MSG) in his or her product, ask that the product be analyzed for free amino acids, including free glutamic acid. There are tests for measuring free glutamic acid. The AOAC Official Methods of Analysis (1984) gives one method. There are others. The cost of testing should be no more than $150.  We have been advised by the FDA that if any such misbranded products are brought to their attention, they will act to correct the situation. To report misbranded products to the FDA, please call the FDA at 888-723-3366 between 10 a.m. and 4 p.m., eastern time - and keep a record of your call.\"\\n',\n",
       " '5.0,Great taste,It is hard to find this product in the store and when I do it is very expensive. This product is exactly the brand I buy but at a much better price.\\n',\n",
       " '1.0,do NOT buy this! NEVER NEVER NEVER,\"My gf bought this for me not knowing what\\'s in the basket.  First of all, instead of that frog you see in the picture, a cheap one dollar store stuffed animal came.  And, snacks they put in the basket would cost you no more than $10, even if you buy them at overpriced convenience stores.  They put some cheap looking imitation snacks that looked like Doritos, and they were from \"\"golden flakes\"\", a brand that i\\'ve never seen or heard.  WORST OF ALL, I found a live COCKROACH inside the shipping box that contained this gift!!!  It was huge.  Seriously, I was going to take a picture to share customer image on amazon page, but it was just too gross.  I feel so bad for my gf who was such a sucker to buy this crap.\"\\n',\n",
       " '1.0,Horrible Product and Company,I ordered this product for our vacation home in Colorado. We arrived in Colorado December 16th and this coffee maker stoped working January 3rd. It is now January 13th and I have yet to talk to someone from the company after being put on hold for over 40 minutes 4 different times. I love the concept of the K-Cup but they need to fix the water pump on this machine and fix the way they handle customer service and returns.\\n',\n",
       " \"1.0,Got a disease and died,We don't like these Hawaiian umbrellas. We have had 3 and 2 (including this one) have caught some sticky fungus and died. We will not buy another.\\n\",\n",
       " '5.0,A healthy and refreshing drink,\"This drink packs a taste wallop, which continues some time after you have swallowed the last drop. Furthermore, there is no unpleasant aftertaste, what you feel at the beginning is what you taste at the end. The taste is also a good one, the apple, grape, acerola and cherry juices in combination with the carbonated water really activates the taste buds. I also found it refreshing with no sugar or caffeine buzz arriving a few minutes after I consumed it. A healthy drink, I will continue to drink it in the future.\"\\n',\n",
       " '1.0,American Kennel Club Chicken Poppers,\"One would assume that American kennel club chicken poppers would be manufatured in the United States, however these are not made in the usa. Had to return the product.\"\\n',\n",
       " '5.0,terrific marinade,\"This is hands-down the easiest and tastiest marinade I\\'ve ever used.  My whole family and many families in our area buy it from local stores.  It is strong so a little goes a long way.  My husband had never had it before we married and now he wants it in every pot roast with vegetables and in hamburgers. When making pot roast, I water it down a little which makes it a little less strong but still tenderizes the meat and provides water for the vegetables. I love it on fish and chicken.  Our cabinet is never without it.  Thanks, Allegro!\"\\n',\n",
       " '5.0,Most excellent,\"Very good taste,Not hard like most others that I have tried. Real beef!! A real good soft and chewy treat! Nice mild flavor. Go ahead try them,,\"\\n',\n",
       " '5.0,These are great!,These crackers are delish! I love them with a wedge of light laughing cow cheese on top. I wish they were more affordable. My local health food store sells them for $4.75 per package.\\n',\n",
       " '1.0,\"\"\"I\\'d Rather Fight Than Switch\"\"\",\"To me, fruit juice in small cans are simply a staple - first example that comes to mind is good ol\\' Dole pineapple juice. The trend towards trendy little \"\"health\"\" beverages in overpriced little cans is nearly tragic.  There is nothing about this product that would compel me to buy it. If I want a soda, I\\'ll just grab one. I don\\'t drink enough of them to have much dietary impact and despite the claim of \"\"100% What You Want\"\", there is nothing in here for me. If I want 100% Of What I Want, I will buy a few oranges and some seltzer water. If I want \"\"0% Of What You Don\\'t Want\"\", well, why buy it?  This is a time when we had better look pretty closely at what is an indulgent convenience and what is a necessity, and how to find a happy medium. I consider the likes of Pellegrino Aranciata, Orangina and Izze a luxury, and when I indulge it is a true delight.  \"\"Switch\"\" is a product that is not better tasting, proven healthier, or even less expensive than any of many other alternatives. Once again marketing is driving product creation and design, and that is a hateful concept.  If you want a similar taste experience for about the same price,  pick up some Alka-Seltzer Cold Plus Nighttime- you\\'ll stop sneezing and sniffling and get a great night\\'s sleep.\"\\n',\n",
       " '5.0,RedButterfly,\"I simply LOVE this tea! It is yummy, full of flavor and the best part is the caffeine! I really love Yogi brand tea, but it could get a big expensive at retail or grocery stores, so the bulk prices on Amazon are perfect for customers like me that drink tea daily! Shipping was a breeze, as always!\"\\n',\n",
       " '5.0,Great item,\"Its getting harder and harder to find these around town where I live. Great items, I agree with the other review that after a while the smell is terrible. However its a small price to pay. Both my dogs love their hooves. I have a coon hound and cocker spaniel/beagle mix. They will chew on the hooves for hours.\"\\n',\n",
       " '1.0,\"Like was said, smells and tastes like grass\",\"OK, so please do not consider this a negative review of Davidson\\'s Tea in general.  I guess tea is like anything else, there are some who will like a particular tea and some who won\\'t.  As you can see, there are other reviewers who like this tea a lot.  Another reviewer hit it right on the head, \"\"smells like grass\"\".  It does in fact smell like grass.  I don\\'t want that.  I am ignorant of what a green tea should taste like and I am sure this is the proper smell and taste for this tea and that as green rooibos goes it will be better than other because Davidson\\'s teas usually are, but like my dad told me about Gin-and-Tonics when I was a we one who snuck a sip while he pretended not to be looking, \"\"it is an aquired taste son\"\".  I give it 1 star because I personnaly don\\'t like it, not because it is wrong in how it tastes or smells.  Hail Flavius!\"\\n',\n",
       " '1.0,beer bread,\"We all know how much we love the cable company.  Well, they have spread out to new grounds with the same care and quality that we all pay thru the nose for.  Larry should stick to cable and see if he can perfect that before doing anything else.  Hell, his beer bread cost me a good can of beer.  We always bought beer bread at Traders Joe\\'s but they stopped selling it.  This was a very bland substitute!\"\\n',\n",
       " '5.0,Go to smucker\\'s site,\"You can order a box of 3, 6, 8 and 12 bags of this coffee (in season) for a reasonable price  (~$8 per bag)  http://onlinestore.smucker.com/display_category.cfm?cat_id=86&viewall=0&pg=1\"\\n',\n",
       " \"5.0,Great Product,My dog is 11 years old and has a bad back. He is a VERY picky eater.  He LOVES these treats and asks for them if we forget to give him one. (Which is seldom because he is so spoiled) There is a bit more of a perk in his step since we've discovered this product. The cost here on Amazon is fantastic too because the stores have been charging me $7.99 a bag. (NYC prices yikes)\\n\",\n",
       " \"5.0,What a sweet treat!,Excellent flavor!! This stevia is so good that I signed on to Subscribe and Save--I use it in tea every day and I can't imagine getting tired of it.\\n\",\n",
       " \"5.0,Great Catnip Seeds,I've been very happy with these catnip seeds. They grew with beautiful white flowers that decorated my garden. I'm very impressed with these seeds. They only take about a week to grow.\\n\",\n",
       " \"5.0,best gummy snack ive ever had,these are my favorite gummy snack of all time. every flavor is awesome but there's only 3 but who cares there delicious!  these are very hard to find in stores the only place i can find them is at a grocery store in those open bin things in the candy area and there always dried out. these however are the freshest gummy octopus's ive every had and i couldn't be happier.  shipping from candy nation was fast (3 days) and candy was very fresh\\n\",\n",
       " '5.0,AWESOME Went out of their way to get a gift on time!,This was the best Customer Service! They went out of their way to get a birthday gift to our customer on time!\\n',\n",
       " '5.0,Saccharin is great,\"I\\'ve used saccharin tablets for many years, but the recent \"\"new\"\" sugar substitutes seem to have driven saccharin tablets off the shelves of all the local supermarkets. I\\'m pleased to find this product at Amazon as it is a vendor I\\'m comfortable with. Apparently, if you prefer to use saccharin as a sugar substitute, this is the place to get it.\"\\n',\n",
       " '5.0,The best instant coffee!,\"Absolutely the best instant coffee in the market. Through Amazon.com the price is unbeateable. I subscribe for every six months orders and have experienced delivery on time each time, plus discounts. Both the caffeinated and uncaffeinated are mellow and need no cream to enjoy its full flavor.\"\\n',\n",
       " '1.0,Sone Ugly Added Spice That Looks Like Mouse Droppings,\"I ended up throwing this one away mid-way because I kept picking brown mouse like droppings out of my mouth. I inspected it to see what it could be, likely just a spice they added, but the chunks were big, and seeing that they looked just like mouse poop, I could not continue on and finish it.  Its a shame because the soup itself tastes great... however I cannot get past the spice things they added. They looked far too much like rodent droppings.\"\\n',\n",
       " '5.0,Special Tea,\"This is one of my favourite teas now that I\\'ve found it.  Absolutely delicious. Blackberry fruity with a hint of maple.  Great tea in a wonderful wooden box that could be used again. Would be great iced, but is also excellent hot.\"\\n',\n",
       " '1.0,Very Over Sold,\"From the product write-up, you\\'d think this company dries the world\\'s most flavorful onions and ships them to the customer the same day.  What I got was a container of what seemed to be stale, flavorless micro-minced onions.  You get the onion burn, if you eat a full tablespoon, alone (I did), but none of the fragrance and other rich flavor that a good dried onion must have.\"\\n',\n",
       " '1.0,RiceWorks has lost its taste,\"I used to love the Sweet chili Riceworks but they must have change the recipe. It doesn\\'t taste as good. Also, although the chip bags came in a box, the chips had been crushed. I will not/not buy them again.\"\\n',\n",
       " '5.0,Great Pie Filling,\"I love this Pie filling! I am a Diabetic and it is heard to find a filling that won\\'t max out my Numbers or make me sick. This one worked all the way around. When used as the Directions say I had six good servings of CHERRY Pie, and did not have High Numbers in the morning.\"\\n',\n",
       " '1.0,too bad,\"It\\'s sad, but unless you like artificial sweetener a whole lot, this won\\'t be for you any more than it was for me.\"\\n',\n",
       " '5.0,Best ever!!!,These pine nuts were so good that I am buying another 3 pounds.  Definitely the best I have ever tasted.\\n',\n",
       " '5.0,MmmmmmMINT!,\"MMmmmmmMINT Matcha is JUST what I needed to help round off my matcha supply!  I love mint but need to be in the mood for it. Luckly for me that mood comes fairly often!  Mint is eye opening, awakening, and also helps soothe a troubled tummy.  We had some really good Japanese food last night at a great restaurant but all of us were having some tummy \"\"issues\"\" last evening after dinner. This mornings mint matcha is really helping to settle the tummy woes.  When I opened my bag from Red Leaf Tea the aroma was striking! I instantly thought \"\"ohhhh yessss this is IT\"\". It had some slight resemblance to Spearmint gum, and while I do detect a slight peppermint flavor here I would have to say the mint used is mostly spearmint. For those who know their mints some really prefer one type of mint over another. Spearmint to me is sweeter than peppermint and there is less of a bite to it. Some may beg to differ since most people are used to peppermint candies but in its true form I find peppermint to have more bite, sharper than spearmint and spearmint more sweet naturally. Regardless of what type of mint you prefer I have to say this Mint Matcha from Red Leaf does in fact taste very natural!  Yet at the same time it is an excellent mixer as well. Of course you will want to use a little less mint matcha in your blend along with another matcha but I choose to blend mint with mocha this morning. The mocha I used a full scoop and the mint just a half of a scoop. I can taste the mocha very well and the mint does not totally over power it.  This mint does not in any way taste like mouth wash or toothpaste. It is quite enjoyable. I am so glad that I purchased this one and will absolutely keep this as a stash regular.  Also I notice that the mocha base is providing a nice creamy backdrop to the mint matcha! Ohhhh I MUST try a french vanilla / mint blend as soon as possible - I am thinking \"\"Grasshopper\"\" flavored matcha here! Oh yeah!  So all in all I could not be happier that I went for it and grabbed this Mint Matcha from Red Leaf!\"\\n',\n",
       " '1.0,I expected better,\"My mother-in-law, my adult children, my wife and I all tried this and quite frankly all thought it was just plain bad bad bad.You could taste liquid smoke in it and it didn\\'t resemble Jalapeno flavor at all.  I was really disappointed.  I still go to Taco Bell even if the news said they didn\\'t have beef in their tacos because I like the taste of what I get.  Some people gave this product a 5 star rating but I\\'m sorry but my panel of experts (;-), say no way Jose.\"\\n',\n",
       " '1.0,Horrible,\"Not only does this gum smell like cough syrup, it tastes like it too. Disgusting.  Ad for the fruit taste, its there for a very short time before turning into a stiff ball of gum.\"\\n',\n",
       " '5.0,Handspresso HP intense portafilter,I already own the handpresso traveling kit and it probably is one of the best gadgets I have ever owned  When we are traveling it is so nice to have access to good coffee so when I saw this item and read what it did I naturally had to have it its kind of like a update for the handpresso unit I cant wait to try it out there are going to be some jealous people around when they smell the fresh espresso (LOL)\\n',\n",
       " '5.0,I LOVE THIS COFFEE!!!,\"New Orleans is one of my favorite cities in the world. Everytime I go, Cafe DuMonde is a must....as I travel and sample coffees around the world, I realize that this is coffee can hold its own. I am sorry they don\\'t sell the beans so I can grind my own...but I love the smoky rich flavor. Really great coffee!!! I can bring a little of Louisiana everywhere I go. Thanks!!\"\\n',\n",
       " '5.0,Great product!!,I really like the taste of these bars. They are convenient as a breakfast or snack item. I keep coming back for more!!\\n',\n",
       " '1.0,Cachou Lajaunie Licorice,YUK!  I threw it away.  I guess it is an aquired taste.  I love black licorice and thought this would be a could way to have it without to many calories.\\n',\n",
       " \"5.0,Excellant Hazelnut flavor for coffee,I prefer hazelnut flavored coffee and used instant Taster's Choice brand until they stopped packaging it in the 6 or 7 oz canisters.  After experimenting with various flavoring agents I found this Torani syrup to fill the bill.  Don't add any sugar or sweetener as the syrup is already sweet.  Personally I am very happy with the results.  I have my hazelnut instant coffee again at a reasonable price.\\n\",\n",
       " '5.0,Outstanding spices!,\"Chef Paul spices are simply the best! Paul Prudhomme is one of my favorite chefs, a real genius with foods.  His spices will make any backyard chef a master. I\\'ve not had anyone not remark on how good the steaks, chicken, fish, pork, or shrimp is.  I tried finding it in grocery stores, and it was a waste of time. Buy it on Amazon. I ordered it in the larger packages, and it\\'s economical that way.\"\\n',\n",
       " '5.0,Outstanding taste!,\"Great product!  I\\'ve always loved these crackers and was delighted to find them so affordable here. Sorry to see they\\'ve now become too expensive to buy, though.\"\\n',\n",
       " '5.0,Best Instant Ever,\"This is the best instant coffee I have ever tried and I have tried so many brands, I even prefer it to brewed coffee. Very tasty with great aroma and rich coffee flavor.\"\\n',\n",
       " \"5.0,Hershey's cinnamon chips...a little piece of heaven!!!,If you are looking for something to change up the chocolate rut....this is your product!!  They are tasty and are high quality.  Make a delightful snickerdoodle bread!!!  Shipping was amazingly quick!!!  I reordered a double box with the same quick shipping results!!!  They arrived in less than 1 week!\\n\",\n",
       " '1.0,\"Did not ship the brand listed, and got 3 cans of Hot instead of the variety pack.\",\"After searching reviews on amazon, I chose to order this brand due to name recongnition and high reviews on this particular brand, La Tienda. The picture shows 3 cans of La Tienda, but what you get is another brand entirely: some brand called SPP, different tin, different label, different brand. Not affiliated whatsoever with La Tienda. Futhermore, the picture clearly shows a variety pack- one can of HOT one can of SWEET and one can of BITTERSWEET. I got three cans of HOT.  Since the packaging is entirely in spanish, I cannot discern if this is a reputable brand or producer, nor can I know if this brand is a cheap substitute for the brand I thought I was getting. Since I am not an expert on Spanish Smoked Paprika, I decided to just go with a seemingly well known brand and not take a chance on a brand I never heard of. For all I know this could be a store brand or generic and not produced to the standards of the brand he is advertising.  Seller needs to take down the picture and relist with what you are actually getting. If you are brand conscious, go elsewhwere. The brand I received, \"\"SPP\"\" is not being sold by any one on amazon, and I can\\'t actually find ANY information about this brand at all.\"\\n',\n",
       " '1.0,Just go to the store! Please read1,\"Ok so I was doing some research to find good deals on formula. I am not sure if many of you know, but if you go to the Similac website and sign-up to be a Similac mom they will send you frequent coupons in the mail. Not just any coupons kiddos. $5.00 off of any sized Similac formula as long as it does not cost less than 5 bucks. My baby is 2 weeks old and I have gotten these coupons in the mail twice already. 7 coupons in total. That is a lot of saving!Also, a huge plus is when you can use double coupons. Stack store coupons with the manufacturer coupons. This will help you save a lot of dough. Good luck and I hope this was helpful.\"\\n',\n",
       " \"5.0,The best stuff,I love the White Chocolate Mohcas at Starbucks but don't always have time to get them or the desire to always have to drive there and wait in line for it.  My husband bought me the Tassimo machine and I found these here on Amazon to make my white mochas at home.  This sauce is amazing and the mochas I make at home are just as good if not better than the ones at Starbucks.  I always had problems getting them consistently good and it depended on the barista who was making them how they would turn out.  Now they are delicious every time and I don't have to leave home to get one.  Just make sure you read the details that this needs to be refrigerated once opened.  I haven't used it in anything but mochas or regular coffee so far but I am looking forward to trying it on various other things.  I'm on my 3rd bottle already and I just bought it less than 2 months ago.  I drink mochas at least 4 times a week now.\\n\",\n",
       " '1.0,\"Junk Food a la \"\"health food\"\"\",\"Brown rice \"\"milk\"\" is not actually made from rice, but from sweetener made from rice. It is a form of \"\"malt\"\" sugar. Insulin up the wazoo. Avoid products like these.\"\\n',\n",
       " '1.0,very disappointed,\"I received this product today. It was going to be a gift for my office staff. All of the pears were bruised and fruit looked like something I could have purchased from the grocery store myself for half the price.  There were no blocks of cheese, as pictured. Instead there was a wheel of Laughing Cow cheese and one sleeve of crackers.  This product was absolutely not worth what is being charged and I would not consider purchasing products from this vendor again.\"\\n',\n",
       " \"1.0,Not So Smart,Ingredients: High Fructose Corn Syrup and Hydrogenated Oil.  Do a search and see what you think. I won't touch this stuff.\\n\",\n",
       " '5.0,I love this BBQ sauce. Perfect for stocking stuffers. Thanks Amazon!!,\"Great tasting sauce..Appeals to most taste buds!! I too used Cattlemen\\'s, buying it @ Walmart until they stopped carrying it. Finally found it on Amazon and wanted to order a larger bottle but at the time just the 18 oz was available. Bought several six packs and then got the idea to add one to my gift stockings for friends & family. 18 oz plastic bottle is a perfect fit. My six packs arrived safe and sound. Thank, Amazon. sacee\"\\n',\n",
       " '1.0,Gas and fart generator!!!,\"This is the first time I have so much gas and fart after eating a cake. Two hours after the meal, it\\'s almost guaranteed that I start to suffer and it lasts for the entire day. My wife has the same symptom and so it is certain. So uncomfortable.\"\\n',\n",
       " '1.0,Better do it from scratch,\"As much as I LOVE NordicWare pans, I was completely disappointed by the mixes. Apple Spice did not even get out of the pan, completely ruining my party And Zesty Lemon took three times longer than expected, was overflowing the pan and tasted in some chemical way. So my advise - get the pans, but do the batter from scratch.\"\\n',\n",
       " '5.0,Great transition,\"My baby went from the Gerber gentle to the gentle 2 with no problems.  He has done so well on this formula since he was a newborn.  I am doing both cow\\'s milk and this, and no problems!\"\\n',\n",
       " '5.0,Exceptional Value...Great Price...Great Amazon Service,\"I simply could not beat the price on this product. It came out to a little over $1 per 100 packets, which I normally buy 100 packs for $1.50 in the grocery store, plus 8.25% sales tax. In this economy, its all about the numbers. The product tastes just like Equal to me and flavors wonderfully. The first box I received had some defective packaging resulting in the product pouring out of the packets and into the bottom of the box. Amazon quickly replaced the box of sweetener with another, which had no defective packets. Excellent service from Amazon. This is why I keep coming back....\"\\n',\n",
       " '1.0,unhappy,This Product came with outter plastic cover removed with only 29 bars of candy in a 30 bar pack. Also came melted and reharded. (Not sure if that happend in shipping or came that way) But unsure of eating cause package came opened. *I did not make any claim since it was so cheap.\\n',\n",
       " '1.0,Hay is for horses,\"If you\\'ve tasted real tea, then you know that Twinings tastes like hay.  Cut open the bag and look.  I think they share ingredients with Lipton;)\"\\n',\n",
       " '1.0,Wheat/Gluten made beans inedible,\"Why on Earth Eden felt it necessary to include wheat flour is beyond me; I\\'ve never met a can of beans that had flour in it before. When I read the Amazon description (kidney beans cooked in spices, japaleno etc.) there was no mention of flour. When the cans arrived...there it is at the bottom of the label -- wheat flour. I have celiac and I am unable to eat these beans. Very disappointed that wheat flour was not mentioned on the product page as it is such an unusual addition.\"\\n',\n",
       " '5.0,product discontinued,\"I have just been told by \\'back to NATURE\\' that this has been discontinued.  We started noticing that it was disappearing from shelves all over our area about 2 months ago. We asked every place to check for availability, yet never heard anything other than it is backordered.  I used \\'back to NATURE\\' website to do the \\'contact us\\' thing twice and never received a response.  I came to Amazon while searching online and placed myself on the notify when this product becomes available list.  Today I decided to try and call back to NATURE. I spoke with the person that answered the phone, she said she could help, and after discussing my difficulty finding the product she offered to \\'research\\' and get back to me. I must note she attempted to collect quite of bit of personal information. She assured me that I could simply go back to the local groceries and ask why they were not stocking it however I insisted that it was not available anywhere nor here on Amazon so the problem was not my grocer.  I wasn\\'t quite accepting her quick \\'research, get back to me, and get of the phone approach\\' so I asked to talk to someone else and she got me on the line with her supervisor Lizzy.  After reviewing the above and being offered a \\'research and get back\\' solution I was a bit more insistant and it was then that she said \\'.. that product had been discontinued due to a lack of sales and once discontinued it is inlikely that it will become available again...\\'. At this point I was more than just a bit disapointed and shared with her that in my local market the \\'Cranberry Pecan Granola\\' just happened to be the only one of their granola selections that was always selling out, week after week over the last several years and I found it curious that the one selection that did appear to sell was discontinued.  I guess it is only popular here!\"\\n',\n",
       " '5.0,YUMMY,\"My son has multiple allergies, he\\'s allergic to wheat, eggs, nuts, & barley..I\\'m one of those mom\\'s who loves to bake..I havent found any good tasting gluten free mixes until now..I bought the cookie mix, quick bread mix, chocolate cake mix & now the coffee cake mix.. I absolutely love it.. I poured 1/2 the batter in a pan, poured some of the topping mix on top of that with cherry pie filling, then the rest of the batter & crumb topping..It was amazing.. SOoo glad I found the Cravings Place mixes.\"\\n',\n",
       " '1.0,\"Been there, Done that!\",\"This was USELESS to me and a lot of others. Difficult to set and I had no results! There is a product called \"\"NoMol\"\" it\\'s what my EXTERMINATOR used. it\\'s CHEAP, EFFECTIVE,but hard to find. My EXTERMINATOR trapped 10 moles last year and I\\'ve trapped 10 So Far this year! I have a lot invested in my Flower beds! these \"\"Criiters\"\" were DESTROYING them. I\\'ve tried everything from poison gummy worms to smoke bombs, Castor oil to castor beans. Gum, Bleach and contraptions like this that DO NOT WORK! Look at NoMOL on YouTUBE.... it was the ONLY thing that worked for me! The proff was always right there in that trap. 20 dead Moles..... So Far!\"\\n',\n",
       " '1.0,do not recommend buying from amazon,\"it is gatorade, what can you say ? but it is in heavy cans and when I ordered it from amazon they 3rd-partied it and the shipper put 6 big cans in a flimy box with zero protection and zero padding. when it arrived 4 of 6 cans were split and spilling dry gatorade. I had to go and buy a huge plastic tub to pour all the gatorade in before it humidified into a solid green brick. extremely dissatisfied. would NOT buy again from amazon.\"\\n',\n",
       " \"5.0,angel food cake,very happy with the betty crocker angel ckae mix  can't find it any other place\\n\",\n",
       " '5.0,Absolutely the Best Pickle in the World,\"What more can I say.  I agree with everyone else.  They quit selling them in my area, Fort Worth, Texas about five years ago.  Big Lots advertized them and I bought every jar I could find at all the Big Lots stores.  But, sadly, they have been gone for a couple of years.  I look at every pickle counter in every store hoping to find them, but to no avail.  I have missed them so much and never thought of shopping on amazon. I just thought they were gone forever. My mouth is watering right now, just in anticipation of eating one.  PS:  I like mine better at room temperature, but you have to put them in the fridge after a couple of days.  OMG they do make the potato salad.  I just can\\'t wait until I get my jars.\"\\n',\n",
       " '1.0,Dental risk,\"I just spent $1,400 on dental work for my two dogs, both of whom broke multiple teeth on these bones.  The Bones do prevent tartar build-up but at an unacceptable cost.  I believe this product should carry safety warnings because the vet told us that this is a common problem with the hard bones.\"\\n',\n",
       " '5.0,senseo,this product was priced reasonably and transaction was very easy and received as promised.  I would highly recommend doing business to purchase this product.\\n',\n",
       " '1.0,flour,\"you can buy this at any grocer for about $1, sometimes it\\'s on sale for .69 cents. This seller must be retarded.\"\\n',\n",
       " '5.0,Love these bottles,\"I keep switching back and forth between this and the organic ketchup at Trader Joe\\'s. I keep coming back to these ones because they\\'re easier for me to hold and squeeze, even with arthritis in my hands, and easier for my preschool daughter to use (unlike longer necked ones that she tends to have less control of, squirting ketchup everywhere!).  As far as the ketchup itself goes, it\\'s ketchup. I\\'m guessing you\\'ve had it before. (If not, go to a fast food pace to get a packet to try it out. It\\'s the same stuff.)\"\\n',\n",
       " '5.0,Blueberry covered in dark Chocolate,\"We couldn\\'t decide which we loved more,  pomeganates or blueberries covered in dark chocolate....so we always buy BOTH!  Anti-oxidants and the heart health snack of one ounce of dark chocolate each day.  These are WONDERFUL!\"\\n',\n",
       " '5.0,\"Light flavored, earthy and refreshing!\",\"I have always loved Lipton Superfruit teas, however this one is my new favorite. The light scents of black currant and vanilla make it one of the most earthy and refreshing teas I have ever had.\"\\n',\n",
       " \"1.0,My Bad,Can't believe I chose the single box I thought I was getting a two pack! Geez double the price! Pay attention to what you order!\\n\",\n",
       " '1.0,AWFUL,\"These Olive Oil Potato Chips with Rosemary were SO GOOD at one time when produced under the name of SOLEA. I bought them frequently, first at Whole Foods then online.  They were large heavy chips that one could easily tell were cooked in Olive Oil with just enough Rosemary on them to give a great distinctive taste. Now they have been RUINED. The chips are smaller, lighter with less Olive Oil and the Rosemary is piled up at the bottom of the bag(instead of on the chips)! Oh, did I mention they are virtually TASTELESS as well?  And I have a box of 12 bags!  UGH!! David Washington, DC\"\\n',\n",
       " '1.0,Product was damaged,\"When I received this package, cocoa power was spilling out of the box.  Upon opening the box, 3 of the pods were cracked open and useless.\"\\n',\n",
       " \"5.0,Best cookies ever!,After dinner I always tell my wife that I need a 'light cookie snack'.  These are the perfect solution to that request!  Simply delicious; very flavorful and highly recommended.\\n\",\n",
       " '5.0,BEST COFFEE,No more visits to the espresso stands.  Add a little milk to the Senseo dark roast coffee and you have the BEST latte ever. (and WAAAAY cheaper and more convenient!)  Receive great raves from everyone I serve it to.\\n',\n",
       " '5.0,best granola,\"Purely Elizabeth granolas are by far my favorite granola.  It is not too sweet, stays crunchie even in milk and I think it is the healthiest granola out there.\"\\n',\n",
       " '1.0,unsanitary packaging,\"25 lbs. of hard licorice pieces were dumped into kitchen trash bags, unsealed, then put into a cardboard box.  The most disgusting, unsanitary packaging I\\'ve ever seen.  I tossed the entire thing in the trash. To top it off, the first ingredient in the whole thing was corn syrup.  Yuk. Avoid like the plague.\"\\n',\n",
       " '1.0,Greasy,\"This salami was so greasy when opened it, it literary poured out grease. I tried eating on two separate occasions and gave me the runs and cramps so bad, I couldn\\'t even go to sleep. I threw 5 and 3/4 of the salami away. The 3/4 portion I left out for the animals which roam around the neighborhood, they wouldn\\'t even eat it. Save your money don\\'t buy this salami.\"\\n',\n",
       " '5.0,Delicious!,\"I saw a package of these STRAWBERRIED PEANUT BUTTER M&M\\'s in the check-out line of a local grocery and decided to give them a try. I love strawberries and though I enjoy the taste now and again, I\\'m not a huge fan of peanut butter. The taste was delicious! They are quite high in both calories and fat, but with something this scrumptious that\\'s to be expected.  Just don\\'t eat too many at one time. These are supposed to be a limited time candy, but I hope Mars reconsiders and adds them as a regular candy.\"\\n',\n",
       " '1.0,Not worth it,\"I have tried several coffee k-cups. From Starbucks to Moonlight coffee...virtually every kcup This coffee tastes more like chemicals. No wonder the price is so low.  Do not buy this Coffee -- sorry to say !!!  The worst coffee i ever bought and the biggest mistake i did that I bought several ones.... If anyone needs the chemical coffee , i am willing to sell it out for 50% less price\"\\n',\n",
       " '5.0,GREAT trail mix!,\"I\\'ve read some reviews that say \"\"a trail mix is a trail mix\"\"...I don\\'t think that\\'s true.  This is a perfect balance of nuts, seeds (sunflower seeds), raisins and candy  coated chocolate pieces.  It is absolutely delicious and filling which comes in very handy, whether you\\'ve had to skip lunch or just want a snack...or even dessert.  That said, this trail mix is not too sweet; it\\'s just sweet enough.  I also love the fact that there is a very light sprinkling of salt in there; it gets on the raisins and that adds tremendously to the flavor.  This isn\\'t exactly low calorie but you get a lot of bang for your calorie \"\"buck\"\".  5 grams of protein per serving.  It arrived fresh and during a horrible heat wave and the chocolate was perfect.  Nothing melted.  If you get \"\"subscribe and save\"\" from Amazon you won\\'t find better pricing anywhere (and the way I mow through these, that is a very good thing!).  I can\\'t recommend this trail mix highly enough.\"\\n',\n",
       " '1.0,Who drinks decaf????,\"Never really had a problem purchasing k cups, However, I decided I wanted more of a variety, so I went with this product. My wife and I were extremelyl disappointed to say the least. 3/4 of the k cups were different kinds of decaf coffee. I don\\'t know about the rest of you, but I mostly drink coffee as a wake me up in the morning, not for the taste. (which I find bland). Decaf flavors should be sprinkled in here or there, not dominate the entire package.\"\\n',\n",
       " '5.0,Most flavorful teas,\"A friend bragged about these teas so I decided to give this variety pack a try.  I absolutely love them, they are packed with flavor and have excellent delicate taste!  And the presentation is so beautiful!\"\\n',\n",
       " '1.0,CRAPTASTIC!  WORST EVER! BRING BACK ORIGINAL NOW!,\"Loved the original!  Hate this new recipe.  It was fine to have alternative recipes - weight control (BS BTW), less sugar.  But, to make the alternative the only option a consumer can buy??? Horrible decision and even worse product.  I could not even eat one bowl of this mess.  it is so far off the mark that I would rather go hungry than attempt to eat this crap!  My dog could make a better batch of oatmeal with some kibbles and her butt!  This product is a disgrace and should be taken off the store shelves - never allowed to return!\"\\n',\n",
       " '1.0,Awful,\"I highly recommend passing on this stuff--super saccharine taste plus the additional \"\"benefit\"\" of that awful artificial sweetener after taste.  Now what am I going to do with the remaining 23 cups?\"\\n',\n",
       " '1.0,Disappointed.,\"I received these as a Xmas gift. I was so anticipating these pistachios since I had tried \"\"Wonderful\"\" before and they were delicious. The bag that I received appeared to be over-roasted and the nuts did not taste good at all. I notified the company but as of this date I have received no response. These were a waste of money.\"\\n',\n",
       " '1.0,Bad deoderant sweaty guys,\"If you\\'re a sweaty guy this Is not the deoderant for you, i sweat in my armpits a fair amount and over a few hours this wreaks of horrid sweat and rotten deoderant, though the deoderant smells good it just stinks like rotting deoderant sweat after a couple hours.\"\\n',\n",
       " '1.0,A bagel shape does not a bagel make,\"Since all the good reviews here seem to be \"\"Buzz Agents\"\" I thought I\\'d add my non-buzz review. These are terrible. The only resemblence to a bagel is the shape. They\\'re basically like the heel end of a loaf of white bread with a hole cut out. The texture isn\\'t chewy like a bagel should be (they obviously aren\\'t boiled or steamed). Lame, lame marketing scam.\"\\n',\n",
       " '1.0,\"Bugs, gross\",I bought a bag of this at the health food store and when I opened it up there were small black insects all over it.  Needless to say I threw it away.  I don\\'t know if this is a problem with the product itself or how it was stored (although the bag was unopened and I didn\\'t see any holes). I don\\'t think I could ever purchase this product again.\\n',\n",
       " \"1.0,how come,how come this is listed at $88.40? how come its so small? how come i got the wrong flavor? my dog don't care but come on.\\n\",\n",
       " '1.0,Very Disappointed,\"We had some Fiesta Lemon Pepper that was salt free and we loved it.  Can\\'t find it here in Tulsa.  Saw this at Amazon and ordered some right away. Well, this stuff is NOT salt free.  There are no ingredients listed in the product information when we ordered it.  Not only does it have salt, but it also has MSG! Tried to return the stuff, but \"\"not elligible\"\" for return.  Will probably end up throwing it away. I wouldn\\'t even give it as a gift with MSG.\"\\n',\n",
       " \"5.0,Tasty way to increase milk!,First off these cookies are very tasty!  I like that you can store them in your freezer and just take one out as needed.  I think the only problem is just eating one a day!! Of course I did that but I thought about my next cookie lol!!  So the real question is did they work for me.  Let me give you a little back story.  I've been nursing for about 21 months and my supply was really dwindling.  My little one wasn't happy about that though.  So I gave them a try and I was impressed with the increase!  Definitely  noticeable after about 3 days.  This was an easy way to boost supply rather than taking many supplements and such.  I would highly recommend them to anyone who needed a boost.  **Disclaimer - I received a sample for review purposes.  As always my thoughts are my own.  You can read the full review on Astheygrowup.com (just search for Milkmakers in the search box)***\\n\",\n",
       " '1.0,Big Mess All Inside the Box,\"I can\\'t rate the imitation honey because it was spilled all over the inside of the box and the bottles when I received it. The lids were loose on all 12 bottles, and the security seals were not sealed. Since the security seals were broken, there is no way I would be willing to eat any of the honey. I requested a refund from Amazon because food products cannot be returned.\"\\n',\n",
       " '5.0,Vruit juice,\"My 3-year-old son loves this juice! It took a while to receive the product , but it was worth the wait.\"\\n',\n",
       " '1.0,\"Move along, nothing to see here.\",\"This is a very boring tea. I was mislead by the fact that it contains chamomile. Stash makes great products, but this one leaves a lot to be desired. It tastes bitter and faintly berry sweet.\"\\n',\n",
       " '1.0,Pellet gun would be a better option.,\"I purchased this as it said that it would help repel squirrels. After applying it all over the tree branches/fruit that hang over the patio that these pest sit, eat, drop fruit, defecate and urinate over (making our patio most undesirable to be around)it had absolutely no effect on repelling them. So unfortunately this item is totally useless on repelling the squirrels in our neighborhood = 1 star because there is a zero star option.\"\\n',\n",
       " '5.0,\"healty, good snack.\",\"Good Sense makes the perfect tropical trail mix; no extra ingredients that skew the taste buds ( like m&m\\'s for example).  If not convinced, I recommend trying other brands trop mix and judge: just not up to par. This the best on the market.  But just my opinion.\"\\n',\n",
       " '1.0,Returned - Chemicals in reservoir,\"I used my Beaba for the first time this week to make my 6 month old\\'s food. There were some annoyance issues with its functionality (no beeping or alert to let you know when steaming is finished, smaller capacity which meant that one large sweet potato needed to be split into two steaming batches, and the fact that you have to hold the dial continuously during the puree stage or it turns off).  While I could probably live with those factors, I became concerned when I read reviews from other parents regarding mold and other materials in the reservoir. I got out a flashlight and decided to look at the reservoir. Although I had followed the instructions to run the machine through three steam cycles before you begin using it, the reservoir contained brown liquid spots in the bottom. I used a paper towel to try and get out the spots. The liquid was some sort of chemical lubricant.  If you wish to use this product, please make sure that you check the reservoir with a flashlight before and after each use. It seems pointless to go through the effort of making organic food for your child when the food ends up contaminated with mold or chemicals due to the Beaba\\'s design.\"\\n',\n",
       " '1.0,Sad to say it didn\\'t work for me....,\"After my bad cholesterol hit a high of 167 my doc gave me 3 months to make some changes before we considered medications.  After some research and reading the reviews here I decided to give these chews a try.  I also cut out red meat, cheese, switched to non-fat milk and ate more produce.  I had 2 of these per day for the last 8 weeks, 1 after lunch and 1 after dinner.  I had my repeat blood work done two days ago and my bad cholesterol is now at 177....  :o(  Up 10 points in 3 months.  Glad it works for so many, but don\\'t assume they\\'ll work for you and don\\'t avoid follow-up appointments with your doctor thinking you have nothing to worry about.  You might just be one of the unlucky ones like me...\"\\n',\n",
       " '5.0,Tea at its finest,\"I have enjoyed pg tips since I lived in Bermuda 12 years ago.  When I found tips in the commissary about 4 years ago I was ecstatic! Unfortunately, they stopped carrying it.  I searched online and found the best deal on tips through amazon.  I am once again in tea heaven.  Thanks Amazon.\"\\n',\n",
       " '5.0,Trident is the best!,\"IMO Trident is the best gum. For me the bubblegum flavor is the best (not to sweet) and last the longest. I decided to buy it off amazon cause none of the stores in my area sell this flavor in bulk. I can find other flavors in packs of three at these stores but not the bubblegum flavor. Plus, it is cheaper to buy it in bulk than single packs or packs of three. I will definitely be getting more once my supply runs out!!\"\\n',\n",
       " '1.0,Guess I did not read the label,Clover honey with lavender flavor injected.  Not what I wanted.  I was disappointed.  This is not lavender honey.\\n',\n",
       " '1.0,\"Bitter, Acid, Cheap tasting\",\"I bought this, lured in by the price and organic nature of the product.  It is awful.  Very bitter taste, with a acid finish.  From first drop to last, it just isn\\'t good, even with cream and sugar added.  Look for Jeremiah\\'s coffee instead.  Much better.\"\\n',\n",
       " '5.0,What I thought I\\'d never find again,\"Amazon is amazing.  I love using this brown sugar.  I like the fact that it has no calories, but mostly I like it because it pours, is easy to use and stores forever.  I was so grateful to find it on Amazon because my old supply from years ago was running out. I assumed that Twin had stoped making it and I would never see it again; that I would have to deal with clumping, hard brown sugar when, like so many other hard to find things, I decided to check Amazon and there it was!  What a delight to be stocked again for those last minuted needs to pour the flavor of brown sugar on hot cereal, acorn squash and the like.  Please excuse my lack of spelling and accept my praise of Amazon and this product!\"\\n',\n",
       " '1.0,Bag arrived opened.,\"Delighted that the shipment arrived one day early, but disappointed when I opened the box and discovered the bag had arrived already opened. There was Farro all over the bottom of the box.  When I went to the Amazon website, I learned that this item is not eligible for return. There was no link to contact the shipper or the supplier for a replacement.  I am hoping this review will generate a response from someone. I will upgrade the review to five stars when this issue is resolved. I would like a new bag of Farro, please.\"\\n',\n",
       " '5.0,Great Taste and Nutrition in One Cereal,\"Have you tried those healthful cereals that taste like tree bark or cardboard, knowing that you were doing your body good, but still dreaming of giving your taste buds a treat?  Kashi Heart to Heart cereal will surprise your taste buds with a wonderful toasted oat cereal in adorable shapes of hearts and \"\"o\\'s.\"\"  With just enough honey-filled crunch and oodles of nutritional value, you won\\'t even realize you are eating a cereal that\\'s so good for you.  Providing high fiber, antioxidants and botanicals like grape seed extract and beta carotene, 100% daily value of Vitamin E, folic acid, Vitamins B6 and B12, this cereal is chock full of healthful ingredients.  And to boot, it\\'s low in fat and sodium.  What more can you ask for?  Ingredients listed: Whole Oat Flour, Oat Bran, Evaporated Cane Juice, Yellow Corn Meal, Corn Flour, Kashi Seven Whole Grains and Sesame Flour ( Whole: Oats, Long Grain Brown Rice, Rye, Hard Red Winter Wheat, Triticale, Buckwheat, Barley, Sesame Seeds), Oat Fiber, Wheat Germ, Honey, Salt, Sodium Bicarbonate, Natural Honey Flavor, Decaffeinated Green Tea Extract, Alpha Tocopherol, Ascorbic Acid, ActiVin Grape Seed Extract, Tomato Extract, Pyridoxine Hydrochloride, Ferrous Fumarate, Zinc Oxide, Tuermeric, Beta Carotene, Folic Acid, Vitamin B12  Kashi Heart to Heart cereal has been a delicious and nutritious mainstay of our breakfast regimen for several years, and will remain so for years to come.  - Victoria Austin\"\\n',\n",
       " '5.0,\"Great product from Brittany, France\",\"Most greatest French Chefs have been using this \"\"Fleur de sel finishing salt\"\" on their creations including on chocolate desserts. Sprinkle it on the dish just before serving. Enjoy!\"\\n',\n",
       " '5.0,Wonderfully nostalgic,\"My Mom and I used to eat this fruitcake together when I was a teenager; no one else in my family liked it.  It doesn\\'t contain fruit peel and has a lot of candied fruit, including huge cherries.  However, it\\'s expensive enough that I\\'m not sure I will order it again, wonderful as it was to have it once more.\"\\n',\n",
       " '5.0,Great flavor.,\"I found this is one of the easiest ways to shop for coffee. The Subsribe and Save program saves you money and you never wake up to an empty can of coffee. Maxwell House Original Ground Coffee, 42.5 oz is priced well and I prefer the original  better than the fancy coffee house brands. Trip to grocery store, $10 , one canister of coffee $16, plus tax and hassle. Have is delivered free without tax for $18. Without the hassle.  Maxwell House still has that GOOD TO THE LAST DROP taste and flavor. I recommend this product when you can find it sold through the Subscribe and Save program.\"\\n',\n",
       " '5.0,Great coffee,Wonderful flavor and provides the best coffee one can have in combination with Colombian seed. I would recommend using one part of Tanzanian pea bury with one part of Colombian coffee seed for a strong and flavored coffee.\\n',\n",
       " '5.0,Great Stuff - Using for years!,\"I have been using vege-sal since my early 20\\'s when I discovered at the High Falls, NY Food Coop.  That\\'s about 35 years, yikes.  It is very good on all foods - not as salty as table salt but extremely flavourful.  Ask my kids, they have it in their kitchens too.  It is hard to find these days but worth the effort to find it.  Happy Eating.\"\\n',\n",
       " '5.0,\"Shipping problem ,but I tried again\",\"It shipped Jan 19 and arrived Feb 1, so it took 12 days to arrive. I had to throw it away.Too bad because the first pizza I bought was really good and i intended to make it a steady purchase.But now I\\'m not so sure I trust this company again.  I wanted to come back and write a better review.Since I love all these pizzas,I ordered again (and then again) and now  I get my orders with no problems.I do not know what happened with the first order but this one arrived in good time and the pizzas were wonderful. I must say thses pizzas are so good they have spoiled me for eating any other pizzas.Even the ones in my home town.I have tried all the flavors Naan has and I love them all.I will continue to buy them <3\"\\n',\n",
       " '1.0,under rated,\"This product rarely works unless you get the seed packs and immediately plant them...Very expensive, and maybe 50% of the time,you may or may not get anything to grow.  I\\'ve had this for 3 years now and rarely had but a few things grow...Much easier to go to the garden shop and buy the plants and put them in your garden.  I\\'ve had tons of their kits sent to me, and only half of them seem to work...I\\'ll call customer service, and yes they will send more....but by then, the 3 that worked are growing big and you cannot start the new ones.  Sorry to say, this product is for \"\"rich people\"\" who have the time time play.  I\\'m only wanting to plant foods to eat and survive.\"\\n',\n",
       " '5.0,What I expected,\"I got the gels on time, the box was a little dented, but not a big deal. I got them within the time I was told. Happy customer.\"\\n',\n",
       " '5.0,They are good,\"My girlfriend recently purched them from a grocery store, and wow are they good. I was scared at first, frightened really, most healthy food I have tried in the past has been complete garbage, always tasting like plastic, or you know some orphans died because of what you just ate. But no sir, not these chips. I think these chips may possibly deserve an award, Nothing flashy like the Nobel peace prize but maybe a regional bowling participation ribbon. In this context a personal teleporter would be the nobel prize and the top food product, some sort of cheese and cow monstrosity that has no calories would be the congressional medal of honor. These definitely have their place and they will not budge. Fortunately I have an amazing  girlfriend who provides me with these astounding discoveries of healthy food.\"\\n',\n",
       " '1.0,Pretty But doesn\\'t have a taste,\"Got these for my son\\'s bday party, They are very pretty to look at, but I was disappointed that it has no real great taste...\"\\n',\n",
       " \"5.0,Tastes like Grandmothers Swedish Meatballs,Growing up New Years Day was at Grandmothers. The whole family was there and Grandmother did all the cooking. The main attraction was an extremely large pan of Swedish Meatballs (homemade of course..not mixes) and a large bowl of mashed potatoes. This mix is as close to her meatballs as you can get. Just add some creamy beef gravy and you have it all. It's excellent!!\\n\",\n",
       " '5.0,Awesome Coffee,\"While I am not a huge Coffee Connoisseur, I do greatly enjoy a GOOD cup of coffee.  The Keurig Coffee brewer, with this mix of coffee styles, gives some of the BEST cups of coffee I have ever had.  Especially considering the money saved by not getting the same cup from Star\"\"bucks\"\".  I would definitely recommend this combo pack to any one that is not obsessed with coffee, but would really enjoy a great cup of coffee.\"\\n',\n",
       " '1.0,You better believe it!,\"There is a disclamer on this product, stating that excess consumption may cause gastric distress. They are wrong........ a SMALL serving caused me to have gas, a regular serving (1/4th of a bag) caused me 4 hrs of diarrhea.\"\\n',\n",
       " '5.0,Great for when I can\\'t make food for baby,\"I saw these pouches at the store a few weeks before our baby was 6 months old, was intrigued by the concept, and picked up a few to try when the time came to introduce solids.  I make about half of our now-7 month old\\'s food at home but as a busy working mom I sometimes run out of frozen cubes and don\\'t have time to make more before she wants to eat, so we keep a small stock of commercial baby food on hand.  Organic food for our children is important to us, and we choose not to purchase Gerber products.  We like the Earth\\'s Best brand of jarred food but it is heavy, inconvenient, and potentially dangerous to haul glass jars around in a diaper bag for meals on the go.  Plum Organics is just now starting to be carried in local stores and we\\'re glad we tried the brand.  I\\'ve sampled from the pouches of Pears,  Plum Organics Just Fruit, Apples, 3.17-Ounce Pouches (Pack of 12) , and  Plum Organics Just Fruit, Mangos, 3.17-Ounce Pouches (Pack of 12)  and found all three fruits to have excellent fresh flavor.  Right now she eats about a half of a pouch mixed with some baby oatmeal.  It\\'s easy to squeeze the desired portion and then just close the pouch and put it in the fridge until the next day; there is no need to try to spoon food out into a bowl as with jarred baby food.  We are going on vacation when she\\'ll be 10 months old and plan to bring plenty of Plum Organics pouches to feed her while we\\'re gone, since we won\\'t have the ability to bring homemade food.\"\\n',\n",
       " '5.0,Love it,\"Gives you the taste and texture of fresh pasta.  Also, like the fact it cooks quick and doesn\\'t keeps its texture when reheated in the microwave the next day.\"\\n',\n",
       " '1.0,No indication how much you are buying,\"I am ordering black channa dal, but I see no indication on this product description of how much I would get for the price - no ounces, no indication how big the package is.\"\\n',\n",
       " '1.0,Nasty Pumpkin in a Can,\"I love making pumpkin pie, pumpkin bread, and pumpkin pudding during the autumn months.  I never tried Polar Pumpkin until last week.  I\\'ll never try it again.  I chose Polar because it\\'s cheaper than Libby\\'s, but I got what I paid for.  I noticed a strange chemical smell coming from the pumpkin as soon as I opened the can.  I tasted just a little and gagged.  Knowing what canned pumpkin should taste like, I threw out the cans of Polar Pumpkin.  Nasty!  I\\'ll stick with Libby\\'s - learned my lesson.\"\\n',\n",
       " '1.0,Quality Control Issues,\"I bought Bentley\\'s Oriental Treasure White Tea a couple of years ago and was amazed at the delicious flavor and subtle aroma.  I coveted my tin and only used a bag on occasion to make it last.  Then I found Bentley\\'s tea here on Amazon.  I enthusiastically ordered two tins!  I wish I hadn\\'t.  This is NOT the same tea I had previously.  I have to agree with the reviewer who noticed a terrible change in the tea\\'s quality along with a change in the label color.  This second batch of tea smelled like weeds, not tea.  The flavor is so aweful that it even ruins other teas if you blend them together.  Shame on you Bentley\\'s for allowing such a load of crap to leave your company disguised as tea in your pretty little tins.  I won\\'t buy Bentley\\'s tea again.\"\\n',\n",
       " '5.0,Mum Mums are great for young eaters,\"Great snack for young eaters.  These are tasty, and interesting, for my almost one year old, she loves to \"\"bite\"\" foods and is avoiding baby foods, but still loves MumMums.  Started giving them at about 4 months old, and never had any issues with choking.  A really great snack, that does NOT make a big mess.\"\\n',\n",
       " '5.0,INSOMNIA NO MORE...LOVE IT!!!!!!!!!!!!,\"OMG, since entering my 40\\'s I have had issues sleeping! I\\'ve been on every prescription pill out there and although they work, I didn\\'t want to be tied to the expense associated with them even after the insurance paid its portion. I am a tea drinker and I experiment with different teas tastes all of the time. I\\'d heard Dr. Oz mention Valerian Root before and how it helps with Insomnia. I saw this tea at my local grocery store and decided to give it a try, NOT EXPECTING anything major. WOWWWWWW, I brewed one cup and about an hour later I was really relaxed and able to fall right asleep. I have told all of my friends about it. I also tried melatonin and it gave me an awful headache each time I tried it. I love this tea and hope they never stop making it! I even like the taste! I look forward to my soothing cup each night at bedtime!\"\\n',\n",
       " '5.0,\"Pretty, Old Fashioned Candy\",Bye with confidence.  This is beautiful old time candy.  You will like it.  Just break it into smaller pieces and put in serving dish.\\n',\n",
       " '5.0,Tasty Wheat Pasta,\"As far as wheat pastas go this is the best, not rubbery or tough. Just be sure to cook it the recommended time.\"\\n',\n",
       " '1.0,Horrible Quality Control,\"Up until recently, I had been using his food exclusively, but after several disturbing incidents I have switched brands.  In the last few months have found cardboard, hair, and a bug in three separate varieties of Merrick dog and cat food. When I found the cardboard, I contacted the company with my findings and they apologized and mailed me a coupon. Since then, I have found hair in two varieties of dog food and the final straw last week was opening a can of cat food to find a dead fly right on the top of the food. There is no way that this food is being produced in a human facility. The quality is appalling -- especially at these prices. I have spent thousands on Merrick pet foods, but they have lost my business forever.\"\\n',\n",
       " \"5.0,Great product,A tasty organic and gluten free product at a solid price comparable with mainstream products. It's got a good amount of fiber too. Recommended\\n\",\n",
       " \"5.0,A must have,These are a MUST HAVE! My dog LOVES these and she would live on them if I let her. They are all natural nothing in them except real apple and real chicken. Try the banana ones too!! You & your dog won't be sorry.\\n\",\n",
       " '1.0,\"Terrible product! Expensive, tricked, distasteful and embarrassing\",\"I have never written a bad review in my life, but I felt this was way beyond what i could take. I had recently moved for work and my husband wanted to send me a surprise birthday gift that I could share with my co-workers. So, he spent over $50 and ordered mini cup cakes from this site and gave them the exact address and department that it needs to be sent to. However, the package did not have department address, just the main address, so it traveled all around the company and landed on my boss\\'s desk! She informed me and when I went to pick it up, I told her that it was cupcakes and she invited all my co-workers to share my birthday. Can you imagine the shock, when I opened the box and had to pass out 30 boxes of candy to my new co-workers instead of cup cakes? They tried to be a good sport and tasted it .... it was terrible ... it had all melted and stuck together in the heat like one big discolored, shapeless flat blob! I felt sick and was throwing up after it and so did couple of my co-workers. I was so embarrassed, I had made a fool of myself, made myself and new co-workers sick, wasted everyone\\'s precious time and my husband spent over $50 for this!!! I spent my birthday evening alone, crying and throwing up. I feel so embarrassed interacting with any of my co-workers who had to suffer from this experience. I am very disappointed with the product and service.\"\\n',\n",
       " '5.0,Yummy x 2,\"remember those great \"\"other\"\" chocolate chip cookies from your pre-celiac days? These cookies are just as good and as easy to make as that \"\"other\"\" kind....cookies were gone within 24 hours and people were begging for more!\"\\n',\n",
       " '5.0,\"Love, love, love it!\",\"My husband and I been using his Teriyaki marinade for years now and when I seen this on sale at Amazon I had to purchase to compare.  Just like expected, it\\'s delicious for half the cost.  We use it for BBQ, stir fry and much much more. I\\'m drooling just writing about it! Highly recommend...Enjoy!\"\\n',\n",
       " '5.0,BEST COFFEE EVER,\"BEEN TRYING EVERY COFFEE BRAND AND FLAVOR FOR OVER A YEAR NOW AND THIS IS IT.  I JUST LOVE THIS COFFEE.  YOU SHOULD TRY A SMALL BOX AND SEE IF YOU AGREE.  EVERYONE HAS A DIFFERENT TASTE FOR COFFEE SO YOU MAY NOT LIKE IT, BUT WORTH A TRY.  I ALWAYS SAY IF YOU DON\\'T BUY A LOTTO TICKET YOU WILL NEVER WIN.\"\\n',\n",
       " '1.0,Bitter lately,\"Not sure what happened but this tastes extremely bitter.  It used to be my favorite.  I will switch to another, more fresh brand next time.\"\\n',\n",
       " '1.0,bummed....,\"I was REALLY dissapointed in this product, and the fact that I had ordered so many boxes.  I like the Diet Green Tea, and was hoping I could exchange that...but I kind of doubt it.  I still have a bunch of boxes, and I don\\'t know what I will do with them...\"\\n',\n",
       " '5.0,My favorite base coffee for blending,\"There are many wonderful and complex flavors that good coffees can offer. This is my mainstay since it has great smooth and rich coffee flavor. It isn\\'t acidy or bitter at all. Actually I like a little acidity so my favorite is to blend this with the Smoked Coffee offered on Coffee Bean Direct\\'s website. Dark Sumatra makes the best base coffee for any blend that I\\'ve tried. Costa Rican Tarrazu won\\'t stand on its own but will add just the right amount of acidity to make it my second best choice to blend with Dark Sumatra. If you want to discover the flavorful world of rich coffees, Dark Sumatra is the starting point, then start playing with it.\"\\n',\n",
       " '5.0,Fresh and Tasty,\"When I opened the packaging I was surprise to find one of the best tasting cookie I have had in a while. Not only did it taste great, the texture was perfect and it was fresh.\"\\n',\n",
       " '5.0,\"Great Assortment, got to try out a ton of flavors\",\"I got to try a whole bunch of flavors which was really cool. Yes, the packaging is a little lame, if you\\'re giving this as a gift just wrap it in gift wrap. My K-cups all came in good shape which is really all I cared about.  The poster is there people....it\\'s rolled up in the tube :)\"\\n',\n",
       " '1.0,Older product,\"I\\'ve ordered the peanut butter and chocolate chip bars twice so far and it seems that the company is selling older product through amazon.  It tastes a little off, is dry,  and even the chocolate chips are starting to turn white which is common with age.  This is a big contrast when purchasing them at wholefoods. They are usually moist, the taste is great, and the chocolate is dark.  I won\\'t be ordering online again. I recommend buying it off of the shelf to ensure freshness.\"\\n',\n",
       " '1.0,Eww!!!,\"Okay. I have eaten other progresso soups that I have been extremely underwhelmed with in the past but this has to be the worst (and it was all I brought for lunch)! It looks nothing like it does on the front of the can. The actual soup is dark green and looks like it\\'s been pulled directly from a swamp. There are limp little hunks of spinach floating around in it and some weird, see-through pieces of celery. I have never eaten lentils before and I found the taste and consistency of the actual lentils wasn\\'t that bad but they were ruined by the green bog water they were hiding in. Even if you can get over the sight and smell of this soup, the taste leaves much to be desired. You have been warned. Time to go raid the vending machine so I can get this taste out of my mouth.\"\\n',\n",
       " '1.0,Delicious but made in China!?,\"I just tasted these chips in peach flavour. It\\'s delicious! However, I was astonished to see that this product was made in China. Organic food from China is an oxymoron. Why not make it in the US? I will not buy Organic food from China. I don\\'t trust their QA on food safety and quality. Even the people from China are trying to get healthy and organic food from outside China. If they don\\'t trust the Chinese food producers and government, why should we? NO ORGANIC FOOD FROM CHINA!\"\\n',\n",
       " '1.0,Unsatisfactory,I was not at all satisfied with the quality of the walnuts. The taste and particularly the texture were poor. I expected a better quality and was very disappointed with the product.\\n',\n",
       " '5.0,Cinnamon Heaven,\"Really great taste and simple ingredients. It reminds me of stuff my grandma would make, and since the cooking genes got lost somewhere along the way, Grama\\'s is a blessing. :) We are definitely going to be repeat customers!\"\\n',\n",
       " \"5.0,perfect for sweet tooth just coming off gluten,i just started the paleo diet and i love it! lost 4 lbs in like a week! anyway i was so glad to find out there are paleo cookies out there and thank goddess they're good!! i loved the original and when they sent me them i got a sample of tropical and i loved that too! so i ordered the tropical and got a sample of rainforest! at first they're good but if you read the ingredients u'll see there is cayenne pepper in it and im really sensitive to hot spices and i could SOOO feel it on my tong! it was like an after taste. but if u enjoy a little fire with ur sweet u'll like rainforest flavor! really wanna try the alpine flavored ones they're a lot darker in color so it should be interesting :) good job caveman bakery! I LOVE YOU!\\n\",\n",
       " '1.0,Yucky,\"If this is supposed to be Indian food, then I don\\'t like Indian cuisine.  The curry vegetable tasted like canned vegetable soup with curry in it.  The spinach and cottage cheese looked so bad that my husband wouldn\\'t even taste it.  It was like baby food spinach with chunks of tofu in it.  I ate it with lots of rice.  I don\\'t even want to open the others.  No thanks to these.\"\\n',\n",
       " '1.0,Pricing is out of line - 2X the price of buying them from Nespresso.,\"You can order the same products online from Nespresso for approx $25 AND you can specify exactly what you want to buy rather than taking a mixture of items, some of which you may not like.\"\\n',\n",
       " '5.0,The best tasting hot cocoa I have had!,I am very pleased with this selection.  I have not tried the other hot cocoa brands for Keurig but this one is awesome!  I bought the milk chocolate.\\n',\n",
       " '1.0,Waste of time,\"I bought this Item 3 Days ago , and i just checked it after I ve seen countless Yellow jackets and wasps and bees go by it without giving it the time of day .It was empty Not one creature in there at all .. so what basically is it suppose to trap?? my Imagination???? Dont bother\"\\n',\n",
       " '5.0,Wake up with a smile,This oh so yummy 2 calorie a k-cup coffee is light and delicious. Pair together with the Torani Sugar-Free Vanilla Sweetener and you can feel good about your morning cup (or in my case - several cups) of coffee. Yummy yummy yummy! Another Cup Please!\\n',\n",
       " '5.0,\"Very good tea, very good price!\",\"After cleaning out the grocery store of this tea multiple times, we though it was time to get serious and buy it in bulk. Tea was fresh, came fast, good price, free shipping.\"\\n',\n",
       " '5.0,amazing candy! amazing service!,\"I\\'m thrilled with Sweet Mona\\'s. My sea salt caramels were shipped to me packed with material to keep them from melting - it worked. And my wife raved about the chocolates. She commented every time she ate one, and kept them hidden from me until they were gone! It was the perfect Mother\\'s Day gift.\"\\n',\n",
       " '5.0,Good Product for people with Celiac Disease,\"Product tastes very similiar to Kix, but is gluten free.  My daughter is very happy with this product as a choice since her Celiac disease diagnosis.\"\\n',\n",
       " '1.0,didn\\'t recieve 6 boxes,\"HI, frustrated with amazon and arrowhead mills. Have only recieved 1 box. becareful. I am working on getting an exchange, amazon won\\'t refund my return. Arrowhead mills is not interested in helping because they are not the orginal supplier. Two years ago I received moldy bread from amazon and Ener-G took care of me. What a difference! My last order from amason of arrowhead mils products was wrong, too. They sent me whole wheat cookie mix instead of gluten free! Hmmm, someone is dropping the ball for arrowhead mills.\"\\n',\n",
       " '1.0,Terrible,\"I really wanted to like this. I was hoping to find some good, organic ESE espresso pods. I am using a Handpresso Wild to make the coffee, so perhaps that\\'s a factor. Other pod brands, however, have come out tasting fine. I\\'ve tried around 20 brands of pods, and this, unfortunately, is the worst of the bunch. Pretty foul.  The instructions even say to briefly wet the pod before use. I tried that - it didn\\'t help.\"\\n',\n",
       " '5.0,.33 cents each is a GREAT price!,\"Great price, awesome Dr. Pepper taste. Can\\'t be beat!! Any way you slice it .33 cents a can is a great price!\"\\n',\n",
       " '1.0,Crunchy n NASTY,\"These are the nastiest dried fruits I\\'ve ever tasted.  The picture on the bag shows pieces of fruit, not the nasty flakes inside the bag.  The papaya doesn\\'t taste anything like papaya.  Everyone in the house found it nasty tasting.  Yuck, $31.00 down the drain.  Gave it one star, because it was the lowest I could give.\"\\n',\n",
       " '1.0,sickly sweet,\"I\\'m used to the Tazo Chai concentrate. Tried this because the grocery store ran out of the Tazo mix. First of all, this stuff is way too sweet (even when using 1/4 mix with 3/4 milk). The spices are barely there (with 1/2 mix 1/2 milk). The tea did leave my mouth dry. Will not purchase again, wondering if I should dump the rest down the sink. I\\'m going back to Tazo.\"\\n',\n",
       " '1.0,Yuck,\"Like other reviewers have stated, the quality varies.  The first three boxes I received were great: smooth, creamy, delicious coconut milk.  The one I received most recently is thin, watery, tastes horrible, and has a layer of coconut oil on top.  If this company does not care about quality control, I will not be ordering anymore.  I\\'m going to start making my own coconut milk.\"\\n',\n",
       " '5.0,It works!,\"I bought this tea about a month and a half ago when my breast milk supply dropped, and it\\'s worked great! However, it tastes horrible.  My recommendation for taste? Buy a tea ball (it cuts down on extra powder escaping from the bag) and brew it with some other tea. I\\'ve been brewing mine with a bag of peppermint tea as well as MM tea, and I sweeten it with honey. It makes it drinkable, at least.\"\\n',\n",
       " '1.0,Something wrong with this mix,\"Delighted to have found a GF brownie mix - only it got us sick as you get with a typical gluten allergic reaction.  Ate a brownie at 10 am, was sick at 11, bloated, gut pain.  Didn\\'t realize it was the brownies - ate another and the same thing until i had a full blown colitis attack on top of the pain.  My husband who is NOT allergic to gluten had the same reaction.  There is something seriously wrong with this product.\"\\n',\n",
       " '1.0,Arrived broken,\"Hi there. I\\'ve ordered the hazelnut 3 pack of torani before-- it was fine. This order, the hazelnut and cinnamon arrived with the hazelnut 3 pack broken open and one of the bottles had leaked all over the place. The 3 pack of cinnamon was fine. The size of the box should have been smaller with more packing material. Its obvious that there was way too much room for these heavy objects to move around and cause damage. It was a real sticky mess. Smaller box, more effective padding would have made a big difference. Thanks Deanna miller.\"\\n',\n",
       " '1.0,\"Weird taste, inedible\",\"I threw my dinner away after tasting one bite. The sauce tasted so weird, so off, that I spit it out. Hated it.\"\\n',\n",
       " \"5.0,Gluten Free Cones,This item is delicious and I would recommend buying. It is on the expensive side here but if you can't find cheaper they really are good.\\n\",\n",
       " '5.0,This tastes amazing!,\"Phenomenal stuff!  It came in a dark bottle, but the liquid itself is still clear as advertised.  I haven\\'t tasted a better single-root beer.\"\\n',\n",
       " '1.0,Excellent Product / Bad Price,\"This is our favorite Crystal Light flavor! While we down gallons of it during the summer, we also drink it year-round as a flavor enhancer for our nasty-tasting tap water. However, the Amazon.com price of $22 (for 4 pkgs) is WAY more (almost twice as much!) than the $2.79 per pkg that I pay in the grocery store. Would love to buy it in bulk on Amazon.com, but it has to be a better buy!\"\\n',\n",
       " '1.0,Please avoid!!,\"Please do your research on pet foods and what is actually good for your cats.  Hills science diet is a horrible food filled with horrible ingredients.  They charge an outrageous price because it\\'s the #1 vet recommended food.  This is a joke and the only reason why it\\'s rated #1 buy vets is because Hills gives money to soon to be vets to help them go through school.  Then they sell the cat food to them cheap so they can jack up the price and make a nice profit off of your marketing foolishness.  Read the back of the labels of Hills brand and you will see that most of the top ingredients are grains or cheap meat by products which are the feathers, bones, unwanted organs from animals, basically all of the stuff we wouldn\\'t eat. try something like orijen or evo.\"\\n',\n",
       " '5.0,Delicious!,\"I ordered these based on the reviews. I\\'m glad I did. My daughter (and I) love them. They are delicious and not overly sweet. I have only tried the Vanilla, but will happily order other flavors.\"\\n',\n",
       " '1.0,Good Tea but inaccurate listing!!,\"This box of green tea has the tea bags packaged 4 per wrapper. So unless you plan on brewing a whole pot at a time, do not buy this! Nowhere in the item description does it say anything about being packaged that way and this is a NON-RETURNABLE item!\"\\n',\n",
       " '5.0,Herring in Mustard Sauce,\"This is good herring, and I like the sauce. The sauce is a little vinegary, but I like vinegar. A nice meal when I\\'m on the run. It is even better if you heat it. As it says these are just herring fillets, not kippers (they\\'re not smoked).\"\\n',\n",
       " '1.0,\"High Risk, don\\'t buy!\",One of the vials was broken when we received this product... but you can\\'t return the product or get a refund.  What a rip off.\\n',\n",
       " '1.0,Awful.,\"I am recently pregnant and have just switched to decaf coffee.  These appealed to me because of the earth-friendly design and mostly positive reviews.  They brewed fine in my Keurig.  Might not be a \"\"standard\"\" k-cup, but they work just as well, with less trash.  Great.  But the taste.  oh my god.  The taste is horrendous.  It\\'s bitter, gritty, strong, but not strong in a good way.  The smell is just as bad.  I drink my coffee black, so it\\'s not like I could even mask the taste with cream and sugar.  I know Amazon doesn\\'t accept returns on grocery items, for health reasons, but I requested a refund anyway and it was granted.  These went straight in the trash, where they belong.  I did try the  Donut House Collection Donut House Decaf, K-Cup Portion Pack for Keurig K-Cup Brewers, 24-Count  and it is delicious!  That will be my go-to decaf for the next few months.\"\\n',\n",
       " '1.0,Is AMAZON SCAMMING safflwer oil endorsement of Dr. Oz?,\"This bottle looked exactly like the front label that is on a current bottle of Hollywood safflower oil I have. They do not show you the back label where it states amt. of polyunsaturated fat (only 2 when needed 7+), or any other info. In my opinion, this is deceitful. Are they trying to taking advantage of those looking for the safflower oil that Dr. Oz refers to on his show. I believe it is why they don\\'t show the back label, but just the front. Amazon and all vendors of this and any other food product should show all the information, front and back labels. I am so disappointed in Amazon that I can\\'t say I would purchase from them again. I now have three bottles of safflower oil that will not be used and I am out $20+ because it cannot be returned. ANYONE LOOKING FOR THIS PRODUCT GET THE CLA FROM COSTCO made by Trunature. IT IS MADE WITH PURE SAFFLOWER OIL. I HAVE BEEN USING IT AND IT WORKS. It is about $20 for a bottle of 160 or 180 softgels. I just thought I could get something a little cheaper. I wouldn\\'t buy CLA on Amazon. It is more expensive.[...] is the place to go if you have an account. Otherwise, try Truenature.com I hope others weren\\'t suckered like I was. I guess I should have inquired before purchase, if that is possible.\"\\n',\n",
       " '5.0,Outstandingly good,\"Tried a lot of different k-cups in search for a bold, expresso type of coffee. This one fits the bill all right. Strong but not bitter. Am able to make a large and medium cup out of one k-cup. Truly worth a few cents more per cup. Would absolutely recommend this to anyone who wants a \"\"real\"\"\"\" cup of coffee.\"\\n',\n",
       " \"5.0,french roast coffee,This coffee tastes better than the coffee at the restaurant where I work!  I first learned about eight o'clock coffee up north when I was little.  The french roast is very good!  Thanx.\\n\",\n",
       " '5.0,Best Peanut Butter Value - Bar None,\"We go through a lot of Skippy in my house so I signed up for the subscription. The sunscription price, right now, is 9 cents per ounce (its up to 10 cents/oz as I write this). Thats way better than any sale I could find in Walmart, Target, Kroger, or any other store in the area. I will buy with the subscription as long as they can beat the store prices.\"\\n',\n",
       " \"1.0,DO NOT BUY! Boxes arrived full of GRAIN WEEVILS!,I was excited to try this pasta (along with a few other products from the same brand). I opened the box and out came about a dozen grain weevils along with the pasta! DISGUSTING! I don't know where these products are being shipped from but the warehouse must have a pretty serious infestation. I don't think I'll be buying dry food online ever again.\\n\",\n",
       " '1.0,\"disappointing, to put it mildly\",\"My friend and I, both of whom buy Kashi products and enjoy them, opened my package for review together -- with anticipation of a treat.  What we got was bars that were overcooked to the point of turning black.  (Was your quality control on vacation, Kashi???)  In what I could force myself to try, there was one tiny chocolate chip almost too tiny to notice -- and he got none.  The bars were dry and unpleasant.  They tasted strongly of pumpkin, NOT banana or chocolate.  There were large chips of peanut leading me to think they should have contained peanut in the title.  When I told my friend that I could barely give this product two stars, he said he wouldn\\'t even give it one.  If this is Kashi\\'s \"\"new\"\" approach to food, I think it will cost them customers.  The poor quality control alone will make me wonder whether the products I already use will continue to be up to snuff.  Both of us deplore wasting food, but even the garbage can seemed reluctant to accept these bars!\"\\n',\n",
       " '5.0,FINALLY the miso soup i have been looking for,\"I have been on the quest for an instant miso VEGAN soup. I thought it did not exist. I have made miso soup many times from scratch but I am lazy sometimes and would like it to be quick and pre-made. I have looked high and low on amazon and all the brands included some sort of fish product. Now many packages do not right out say it includes fish, but ingredients such as bonito flakes are indeed fish. Any vegan should go get themselves a source book because some animal ingredients are not so obvious.   Well you can imagine how excited I was when I read the ingredients to find them ok to eat. I ordered right away. I got the package two days ago. I just tried the soup right now. I made it per the directions. I heated up 12oz of water (directions say 8oz) in my large coffee mug in the microwave for 3:30. After it was piping hot I added the first packet which has the miso in it. Stirred it around then added the second packet which has the tofu and seaweed. Give it 20 seconds to all mix together and took a sip.   The taste is absolutely amazing. I was not expecting it to taste so good. I highly highly recommend this soup. Plus the price is fantastic. I have it auto-shiped so I saved the extra 15%. The kicker on top of everything is that the miso is organic. I try to buy at least 70% of all my food organic. This is perfect. Vegan, Organic, Great Price. Please give this soup a try.\"\\n',\n",
       " '1.0,\"Horrible, Instant coffee, Hydrogenated oil inside, health hazard!!!\",\"Read the label carefully, it\\'s instant coffee, not the ground coffee as the other brands, no filter inside, and had partially hydrogenated oil in it, I returned it as hydrogenated oil is harmful and the coffee itself is kind of gas station quality.\"\\n',\n",
       " '1.0,Cost Jump?,\"Good product, but the price has gone up by $15 in the last month - no longer a good value.  Any reason for the huge increase?\"\\n',\n",
       " '5.0,Deliciously healthy!,\"Found these at a local superstore and they were so delicious! Went back to buy more and, true to form, Wmt no longer stocks them. Hope Amazon gets them back in stock, they are perfect for snacks, car trips with the kids, or a hasty getaway in the morning when leaving the house on time is essential! Loaded with natural ingredients, they can be warmed in the microwave or eaten straight from the pack. Tasty and healthy! Each bar is 1.48 oz (42 grams), 140 calories, only 3.5g total fat(no trans fat, only .5g satur. fat), 6g protein, 5g fiber, 140mg sodium, low in cholesterol and sugar, high in vitamins boasting 20% daily value of 5 B vitamins. 6/12 Update: found at W**m**t 4 $2.18-2.36 each box.\"\\n',\n",
       " \"5.0,You will like this!,Awesome candy. Good flavor and ever so slightly fizzy. Makes an entertaining and unique gift. Only wish it weren't so expensive.\\n\",\n",
       " '5.0,Great Yeast For Me!,\"I am a Home Economist and I owned a bakery many years ago.  Recently I decided to start making bread again at home.  I bought some yeast at the grocery store and was not pleased with it, so I went on-line and looked for the saf-instant yeast that we always used in our bakery.  I was so happy to find it and for such a reasonable price.  It works quickly and just as well as I remembered.  I highly recommend it!\"\\n',\n",
       " '5.0,Metromint water,\"This is a totally extravagant and unnecessary purchase, but the water is wonderful, and I suppose there are more harmful products to consume!  The box arrived in TWO days, and even with a case discount at my local Thriftway, was cheaper via Amazon.\"\\n',\n",
       " \"5.0,small swirled lollipops,comical that this is considered a 'toy'.  I bought these as a decoration for a circus themed baby shower and they arrived in perfect condition. I used them in vases surrounded by colored crinkle cut paper and used as centerpieces on the buffet table.  Lots of compliments.  I have kept them and plan to use again for future parties.  these will  not be consumed so no idea how they taste...\\n\",\n",
       " '1.0,Yuck,\"Twinkies were once great but once they sold out to the big corporation, the quality went down the drain. It\\'s too artificial tasting to be considered food. There are a ton of chemicals and additives added. You call this cake?\"\\n',\n",
       " '1.0,flavored liquid thats it.,\"well this is a bummer. I was hoping it would be like the hard candy. but its NOT.  its not sour at all, and it tastes bad to me. its just flavored liquid :(\"\\n',\n",
       " \"1.0,Be sure to check the size,It is my own fault that I didn't realize I always buy the 18.8 ounce and this is only 10.75 ounce cans. (I've never even seen them in this small of a size). I only buy them on sale so the price per can for the 10.75 ounce is more than I normally buy the 18.8 ounce for.  Amazon will not allow you to return food even though this is cans and was still in the plastic wrap.\\n\",\n",
       " '1.0,SURPRISED! YET VERY SATISFIED!!,ERROR MADE ON INITIAL ORDER BUT SELLER VERY CONCERNED ABOUT CUSTOMER SATISFACTION AND MADE QUICK CORRECTIONS.  GOOD PRODUCT AND WILL BUY FROM AGAIN.\\n',\n",
       " '1.0,\"Good product, badly packaged.\",Ronzoni makes good pasta. Unfortunately I recieved 6 slightly crushed boxes of broken up pasta. They\\'re in my garage. The price was great!\\n',\n",
       " '1.0,Beware: Made in China,\"I was pouring this expensive bag of premium cat litter into the pan, when I noticed the \"\"MADE IN CHINA\"\" label on the bottom. All I can say is SCARY!  It is hard telling what kind of chemicals are in that stuff coming from China.  I will not purchase this litter again.\"\\n',\n",
       " '5.0,My dog loves this,\"I have been using these mini chunks for several years and Coco, my almost 7 year old Chihuahua has a beautiful coat, less stool and is very active.  Used to use another brand, but was sent a sample of Iams and been a customer ever since.\"\\n',\n",
       " '5.0,Great Buy!,\"I was worried after reading some of the reviews saying the exp. date on this coffee was bad, but I ordered anyway because it\\'s such a fantastic deal. When I got mine it says it doesn\\'t expire for another year! I mean make sure when you order it\\'s from Starbucks and I\\'d say your good. It\\'s such a great buy and comes in a very nice pop open box thing that makes it simple to grab a ready brew in the mornings and pop it open and pour it into my hot water. I own a Keurig so I just make it brew hot water and then I use these, it\\'s so much cheaper than k-cups and the taste is the same great Starbucks taste I get at their stores! The colombia blend is my favorite blend at Starbucks, it offers a nice bold flavor but it\\'s not too strong and the finish is just fantastic, I recommend Baileys Caramel Creamer to add to your cup of coffee of Colombia, you will have to buy the creamer at your local grocery store though since it needs to be refrigerated. I can\\'t say enough about how great of a buy this is, the only thing I would change is making it a Amazon Prime item, I am a Prime member and love the free 2 day shipping, but had to pay shipping on this since it wasn\\'t prime, other than that, this is my new favorite must have here on Amazon!\"\\n',\n",
       " '5.0,Great Colors,\"I had never used this brand of coloring. They are very true colors, and not messy to use.\"\\n',\n",
       " '5.0,She loves it,\"Since starting Wellness wet food, not only does my cat love it, but certain problems she has had cleared up - throwing up, and chronic watery eyes have disappeared. One thing - she gets finicky about eating it when it\\'s cold. At room temp she devours it!\"\\n',\n",
       " '5.0,JAFFA,my son thought it was awesome but i think it was okay .. but i would definitely order again since my son really love it\\n',\n",
       " \"5.0,What a treat!,I've been buying and loving this rice for years then suddenly I couldn't get it in my area anymore. Finally broke down and ordered the whole case. Can't believe I did without it for so long. I've been making it with chicken forever but I think I'll give pork a try with the next box. Wish I could rate it 10 stars!\\n\",\n",
       " '5.0,Spicy Goodness,\"The best burst of spicy flavor you can get in a sweet candy. I first saw these in Nova Scotia and have been looking for them ever since.  If you love something with a bit of a bite, then this is the perfect item.  The metal box is ideal for travel and storage.\"\\n',\n",
       " '5.0,Love them,I stay away from white flour and these are the only crackers I eat. They are healthy and delicious. My local store is selling them for 2 bucks per box and another more expensive store still sells them for only $2.40 per box.\\n',\n",
       " '1.0,Terrible All Around!!!,\"i was expecting something like a bunch of bully sticks but these are gone in literally 4 bites! even with my 14 week old aussie! it seems like a bargain but it\\'s seriously not much at all when the dogs devour a stick in like a min.  they smell like they where dipped in motor oil or something awful. it get a bit better when you rinse them but still stinky and i feel reluctant to feed them to my dogs. my cattle dog mix turns his head when i try t give him these! awful treats, don\\'t recommend to anyone!!! (i bought the beef basted)\"\\n',\n",
       " '1.0,Terrible!,\"This is instant coffee.  It tastes terrible.  If you don\\'t use it shortly after you get it, the cups get hard and stuck together and doesn\\'t work properly.  I won\\'t buy again!\"\\n',\n",
       " '5.0,Great Garbanzos,\"Upon receiving the product, I started a batch soaking to get them ready to cook. I soaked the beans overnight and cooked them up in the pressure cooker (after watching Good Eats episode on garbanzos/chickpeas). I am very happy with the quality of the beans. The cooked up tender and tasty. I used some in a soup, added some to a couple of salads and blended the rest up to make hummus. Each time I reflected on how much better I liked them over canned beans (even when cooked unsalted) and the last batch of dried chick peas I bought in the store. The burlap bag is kind of cool and the beans are in a plastic bag inside of that. Out of four cups of measured uncooked beans, I only encountered two beans that did not cook up soft. I will buy these again.\"\\n',\n",
       " \"1.0,Barking Mad,When I was a little kid my sister gave me a dollar to eat one our dog's biscuits.  I was brought back to that moment in time today when I ate one of these Doctor Kracker Pumpkin Cheddar Flatbreads. I'm not proud of what I did to receive that dollar when I was a little kid. But you should save your dollars and buy something that tastes good.\\n\",\n",
       " '1.0,Make your own,\"Yuck! Melting cheese is not that hard, just make your own. There are good recipes everywhere. Try 1/2 pound gruyere, grated, 1/2 pound emmenthaler grated, tossed w/2 tbsp of corn starch. Simmer 1 cup wine, slowly add the grated cheese, stirring in a figure 8, adding more when the last batch is incorperated. Add 2 tbsp Kirsch. Not hard!  And yes, I have tried this specific fondue, it does not taste right.\"\\n',\n",
       " \"1.0,Oral Hygiene Chews,I bought this for my cat.  She has bad breath and I thought this would help her.  She won't eat them!  Just smells it and walks away. Anyone want a free bag of chews?\\n\",\n",
       " '1.0,THESE HAVE CHANGED....AND NOT FOR THE BETTER!,\"Let me start by saying that I have purchased Popchips for several years. I was even on Amazon autoship for 2 boxes every 2 months because we enjoyed them so much. That being said, I have been very disappointed with the last 2 shipments received. The barbeque had little to no seasoning on both boxes of both shipments. Not to.mention that the bags are now half filled with air. The bad thing about this is that both shipments came from different plants. I was so dissapointed with this last batch that I attempted to return them, but Amazon does not accept food returns. I have canceled both autoships and I won\\'t buy them again until I am assured that this problem has been corrected. LISTEN UP POPCHIPS: YOUR LOYAL CUSTOMERS WANT THE PRODUCT THAT WE ARE ACCUSTOMED TO CONSUMMING. IF I WANTED ORIGINAL FLAVOR CHIPS I WOULD HAVE ORDERED THEM. I WANT MY BARBEQUE CHIPS TO TASTE LIKE BARBEQUE. YOU HAVE LOST A VERY LOYAL CUSTOMER WITH YOUR COST CUTTING EFFORTS :(\"\\n',\n",
       " \"5.0,Where can you buy this product,I love Lefty's seasoning for chicken and seafood.  But I can't find it anywhere.  I have gone to all the grocery stores in my area and can;t find it anywhere.  I originally got it from a sample and I can't remember where that was.  Does' anyone know where this product can be purchased/\\n\",\n",
       " '5.0,awesomes service,very good service recieved it alot earlier than expected I ordered right before christmas kinda late but recieved it in enough time for christmas  thank you great service\\n',\n",
       " \"1.0,Tastes Awful,I was skeptical for good reason.  How can a mix with 0 calories be any good....well it isn't.  I wasn't expecting the taste to be as good as the real thing but it's absolutely awful. It's un-drinkable. I let 4 other people try it and overtime the same thing.... sip....1 second delay ..then the I really tasted something bad face.  One person even spit it out into the sink.  This stuff is gross.  Its basically green colored splenda water.  Don't waste your money.\\n\",\n",
       " '5.0,Delicious!  Can\\'t even tell this is sugar free!!,\"King\\'s Cupboard Sugar Free Chocolate Chunk Hot Chocolate - where have you been all my life?  Whether you want a sugar free product or not, this mix is delicious.  This product sincerely tastes like melted chocolate pieces in your coffee mug.  You would have to do a triple-take to the container to believe it is sugar free.  I originally was looking for Carnation Sugar Free Hot Chocolate mix, but could not find it with Amazon Prime shipping -- I found King\\'s instead and am so glad I did.\"\\n',\n",
       " '5.0,No Sugar - No Difference,\"My favorite chocolate milk powder since i was a kid, this non-sugar version tastes just as good as when it has sugar. Definitely a good way to save your teeth, especially when you can drink a whole gallon of milk and maybe more on a hot day with Nesquik at your side.  i remember buying the bunny shaped bins of this years ago, i wish they still had them(at least they don\\'t here not sure of other areas). The bins(even if they are not bunny shaped) are recycle friendly you can give one or two of them to your kids to put their crayons or \\'\\'Treasures\\'\\' in, and you can blue bin them which is another plus.\"\\n',\n",
       " '1.0,\"Even the dog won\\'t eat this, seriously!\",\"I read all of the good reviews of this popcorn and was hoping that it would be at least halfway decent.  I like food to be more salty than most, but this was far too salty.  There is also almost no cheese taste and it has kind of a bad after taste too.  After eating about 1/8 of a bag I just couldn\\'t eat anymore.  I dumped the rest into the dog\\'s dish because she eats anything, even veggies.  She wolfed down several bites but then refused to eat anymore of it and I had to throw the rest out.  I think I\\'ll leave the remaining bags by the microwave at work and donate the unopened boxes to a food shelf.  Avoid this stuff at all costs!\"\\n',\n",
       " '5.0,The Blue Drink,\"Can you believe that there are people out there who can\\'t tell the difference between Pepsi and Coke?  And if they can, some people can\\'t put the tang/taste to the label?  Strange.  Long story short, I didn\\'t drink too much soda while growing up.  I hit high school, and while many of my middle school friends discovered cigarettes, pot, and possibly armagnac (The Amber Drink), I found Pepsi.  I became addicted to Pepsi.  I drank about three to five cans a day, with a Josta every 2 pm during my Physics class in 1996.  Crystal was a dream come true.  * Pepsi is sweeter than Coke * Even when served at the recommended 40 F, Pepsi becomes flat faster than Coke.  At sea level, Pepsi, in my opinion, is practically non-consumable. * Pepsi contains 39mg of caffeine as opposed to Coke\\'s 45mg * Pepsi rivals Coke with their strange, alternative soda releases, such as Crystal Pepsi, Crystal with Citrus, Josta, Pepsi Blue, and Pepsi Holiday Spice.  None of these lasted, unfortunately (or were limited productions).  Popular flavors of this soda that continue to last are Wild Cherry Pepsi, Pepsi Twist and Pepsi Vanilla. * Pepsi is less expensive than Coke * Where Coke\\'s holiday marketing is comprised mainly of St. Nicholas, Pepsi\\'s is more apropos with their blue color: ice, winterscapes, snowflakes, and cartoony reindeer characters  I always feel, because of Pepsi\\'s modern (and vertical) logo on the can, like I am drinking a container of potential energy.  Like I was holding a 12 oz. consumable battery.  This sleek logo (recently aligned with a 3D-shaded red-white-blue sphere) may be an additional reason for Pepsi being America\\'s second-favorite cola.  It is not as nostalgic as Coca-Cola\\'s cursive logo, which hearkens back to the halcyon days of our older generation (and potential customers).\"\\n',\n",
       " '5.0,Best Curry Powder in the World.,\"My title says it all. I like to start with a basic roux (ghee, flour, and chicken stock to constitute), then add a bunch of this heavenly curry powder, finally I add a couple cans of coconut milk.  Serve over chicken, mushrooms, and rice (or whatever\\'s your pleasure)  The only problem with this is that it tastes so amazingly good, it\\'s extremely difficult to stop eating after you\\'re already full!\"\\n',\n",
       " '5.0,\"Excellent Cookie, Very Addicting\",\"Before becoming a Celiac and switching to a gluten free diet, I used to love Trader Joe\\'s Vanilla Joe Joe\\'s. I found these on sale at the Grocery Outlet the other day and decided to give these a try. These were so much better than the Trader Joe\\'s Vanilla Joe Joe\\'s and significantly better than Vanilla Oreo\\'s. Even my gluten eating friends said they were addicting. They are great dipped in hot chocolate, milk or tea but are even better on their own. Will definitely buy again.\"\\n',\n",
       " '1.0,MADE IN CHINA,\"The bagged product from Smokehouse proudly states it is made in the USA. I naively assumed all Smokehouse products were the same. NOT! I only noticed this 20 oz tub is from China when I went to reorder it. I am not happy at the company misleading its customers this way! I will keep purchasing the bagged product from the company because they are my dog\\'s favorite treats and moderately priced, but I lost some confidence in them.\"\\n',\n",
       " '5.0,best unsalted low-fat chips,I really enjoy the Guiltless Gourmet unsalted baked tortilla chips.  It is so difficult to find products that are both low-salt and low-fat.  These chips are my favorite crunchy snack.\\n',\n",
       " '1.0,Another terrible dog food hits the market,\"Just because your dog likes it doesn\\'t mean it is good for you. I love In and Out burger but I know better then to make a regular diet of it.  Meat by products is high on the ingredient list and is a terrible ingredient. If a manufacturer had nothing to hide, they would list the specific animal that makes up the meat content. Plus, the meat is marked \"\"by-products\"\", which is throwaway parts unusable for anything else and of the lowest quality in nutrients. Wheat, corn, and soy are also part of the ingredient list and among the worst offenders when it comes to allergies in dogs. They are among the most difficult things for dogs to digest. Please do yourself and your dog a favor by feeding them a higher quality product. Review the ingredient list and doing a little research on ingredients will go a long way towards a longer and healther life for your dog.\"\\n',\n",
       " '1.0,Disappointed,\"My review is \\'don\\'t bother.\\'  I put this on my wish list after seeing it on (I think) the \\'Cool Tools\\' website. I wish I would have read Joseph Rukaj\\'s review so I would not have received the \\'almost right\\' size as I prefer the Trader Joe\\'s PB. Regardless, I have sufficient hand strength to hold it securely during use but, I still need to finish mixing the PB with a knife, spoon, spatula, whatever, like before because the peanut butter is merely \\'stirred,\\' not really mixed.  What use is a tool that requires you to finish the job with the tool you bought the first tool to replace? Clever doesn\\'t count for much if it doesn\\'t solve the problem. I\\'d return it if I could.\"\\n',\n",
       " '5.0,Loved the taste and had great energy!,I tried a sample packet of this and loved it! I mixed it with unsweetened vanilla almond milk and it was very creamy with a slight chai and vanilla flavor. Very drinkable and not spicy. I went to a power yoga class shortly after and had noticably more energy and strength!\\n',\n",
       " '1.0,francisco is trying to rip you off,\"update 2/18/2012:  I GOT MY MONEY BACK about 1/17/2012. If you truly want ceylon/mexican cinnamon, use this link instead  http://www.amazon.com/gp/product/B001SAU1F0?ie=UTF8&force-full-site=1  DO NOT ORDER FROM LATIN PRODUCTS!! I received the wrong type of cinnamon poorly packaged. It looked like it was done at someone\\'s house and they used twist ties to seal it in thin plastic bags. I complained twice (first Richard, then Lance) before anything was done. francisco (lowercase on purpose) came to the phone with a nasty disposition. When I did attempt to talk, he kept talking over top of me, being irate because it was not an error, his bait and switch of the product was deliberate. He said \"\"I don\\'t care about your business, I\\'m the owner\"\".  After being threatened with legal action, he emailed me a label to ship it back, \"\"I\\'m going to weigh it and if any is missing you won\\'t get a refund\"\". What reputable business comes to the phone with a combatative demeanor and attitude?  This operation is a team of con men in my opinion. Clearly he told the truth when he said he didn\\'t care about my business and I\\'m sure he will against the law, put this merchandise back in stock.  There are several addresses floating around for this \\'business\\'.  Save yourself the hassle by ordering from someone else!\"\\n',\n",
       " '1.0,Shameful!,\"I ordered this item and was told it would ship immediately. When it was getting closer to Christmas and still no item and no idea of when it would ship I tried to cancel the item. The shipper said it couldn\\'t locate my item from amazon. SO when i sent them a second email showing my order \"\"miraculously\"\" they said it was already shipped and couldn\\'t cancel. So sad. I will never order from them again.\"\\n',\n",
       " '1.0,ABSOLUTELY HORRIBLE!,\"I have made many BareFruit purchases and always been happy with them.  The items are crisp yet fresh and tasty.  These pears came in WET, BLACK and smell like rancid raisins.  There is no crisp to them.  They don\\'t even resemble pears nor the photo of the product.  They are inedible.  The two other BareFruit purchases that I made that shipped in the same package are perfect and delivered as expected.  Save yourself the money and do not purchase the pears.  Absolutely GROSS and a waste of money.\"\\n',\n",
       " '5.0,Kitty is ADDICTED,\"My cat is so finicky- there are no treats that she enjoys.  I bought Kitty Kaviar a few months ago after the urging of a friend.  Since then, not an hour that i\\'m home goes by without my cat begging for it- i know that she\\'s begging for it because any time i get near the kitchen, she\\'s under my feet going crazy.  when it\\'s feeding time, she has no interest in her other foods, just wants the kitty kaviar.  it\\'s at the point where she\\'s a maniac if she doesn\\'t get it.  i\\'m hoping it\\'s good for her, because she gets numerous servings per day...\"\\n',\n",
       " '5.0,\"Less expensive than the big box store, and delivered to my door!\",\"That about says it all.  We give our 3 Maine coons a little wet food in the morning for a treat.  I hated having to drive to the pet food store (much cheaper than the grocery store).  Now that it comes to my front door, I couldn\\'t be happier - and so are the kitties!\"\\n',\n",
       " \"1.0,Disgusting,This stuff does not taste good at all.  I thought that maybe it had gone bad or something but it's not close to expiring.  Definitely the worst tasting creamer I've had yet.\\n\",\n",
       " '1.0,Quite Possibly The Worst Drink I\\'ver Ever Had,\"I\\'m still having shivers of revulsions from my two sips of Sanbitter. What a pretty little bottle. Looks can be deceiving! Let me clarify that I like bitter flavors- I love radicchio in my salad, drink goldenseal tea, and love Angostora bitters on a sugar cube for a pick-me-up. Therefore, when I spotted Sanbitter at an Italian grocer I had to try it. I think this is what I sputtered out after the first sip: \"\"Dear God, that is the worst tasting thing I\\'ve ever had\"\" and \"\"I never thought I\\'d taste that cherry fluoride the dental students painted on my teeth again.\"\" Enough said. I foolishly tried another sip to clarify my perceptions. They were confirmed. For those who love this, all the more power to you. I will not be partaking again.\"\\n',\n",
       " '5.0,Excellent product!,\"This truffle sea salt is excellent! For me, more flavor is released if the truffle salt is adding during cooking. The dried truffle needs the heat to reach it\\'s full potential. Added to warm EVOO or butter, the flavor can be easily infused throughout a dish.\"\\n',\n",
       " '1.0,\"weak, not good for espresso\",\"First of all, on opening the bag, the beans were light brown and dry, no great aromas.  I have tried to like it, but it makes horrible espresso drinks (no crema, tastes like weak cheap coffee).  I will go back to San Francisco dark roast for my daily espresso drinks fix. Even though I paid over $20 for the bag, I cannot drink it.\"\\n',\n",
       " '5.0,Best Garlic Blend Ever!!,\"Of all the garlic blends I\\'ve tried, this is the best! But I haven\\'t found it in stores for forever, so I\\'m so glad Amazon has it. I wish they had the giant size. This is way better than McCormick\\'s \"\"Perfect Pinch\"\" garlic blend.\"\\n',\n",
       " '1.0,Most disgusting product ever!,When this arrived there were no whole dog treats in the bag. The bag was filled with what looked like coffee grounds except it was moving -with dozens of live maggots! This was the worst Amazon purchase ever. DO NOT BUY THIS PRODUCT!\\n',\n",
       " '1.0,Not So Good,\"I am a bar-b-que snack lover.  This product does have a very slight bar-b-que flavor, but not enough that I would consider purchasing again.  The nuts which are quite large and nice and crunchy are good but I was sorely displeased with the flavor.  Still have three unopened containers left if anyone wants them.\"\\n',\n",
       " '5.0,dayyyyyem good,\"This is a delightful addition to my low carb eating plan which includes steaks, chicken, shrimp, and hamburger patties. I have a bottle on my nightstand for a quick nip during the night.....joke. I love it, thanks. Jim/Anaheim\"\\n',\n",
       " '5.0,Amazon is the only place I can buy this product,\"Ghirardelli Triple Chocolate chocolate chip brownie Mix (120) ounces (6 regular boxes of brownie mix). My grandchildren love the brownies...I can\\'t make enough.  I\\'ll be sad when I can no longer find the triple brownie mix because Girardelli has discontnued this product for some reason.  Ghirardelli Triple Chocolate Chip Brownie Mix, 120-Ounce\"\\n',\n",
       " '5.0,Great Marinade,\"I tried this special sauce on grilled salmon and grilled chicken. It is simply awesome, though not cheap, and I can\\'t find anything better.  Yummy.  RH St. Louis, MO\"\\n',\n",
       " '1.0,changed the recipe,\"I ordered this for my daughter to take for lunch, as this was her favorite...however, Campbell\\'s has changed the pasta to ditalini (not as pictured)and something else seems different, too.  Donated the case to the food pantry.\"\\n',\n",
       " '1.0,NO WAY!!!!,\"I promise that this oil smells like bacon. I just received my order today and opened it to use, I put a small drop in my palm and began to rub them together to apply it to my face and NO WAY....NO HOW....it smelled like bacon. I buy coconut oil all the time and it NEVER smells like this! I am soooo very disappointed in the quality of this product....I WANT A REFUND!!!!\"\\n',\n",
       " '1.0,Itchy and irritating - strong allergic reaction,\"I have used the regular Degree anti-perspirant without any problems. I bought the new Degree Silver Ion and after the first I experienced the same as the previous reviewers. It left ft my arm pits itching severally for several days, very irritating. It caused a lot of redness also... Do not take a chance on this one\"\\n',\n",
       " '5.0,\"Fresh, yummy\",\"Packaged nicely.  Arrived at my California home fresh.  Tasty, just as I remember when I lived in Maryland and could buy them at the supermarket.\"\\n',\n",
       " '5.0,Handy Xylichew packets,\"Xylichew is the only gum I use. It tastes better than any other gum I\\'ve ever had. And then, there is the added benefit of xylitol which is good for teeth.  And these packets are perfect for carrying Xylichew with you on the go!\"\\n',\n",
       " '5.0,My cats rate this flavor 5 stars,\"My two house cats, Sami & Airy, and our feral cat, Grey, all seem to enjoy the Seafood Feast flavor.  As those of you who have cats well know, what they enjoy one day, they may walk away from another day.  Today\\'s review by them gives Fancy Feast Seafood Feast five (5) stars.\"\\n',\n",
       " '5.0,Great Coffee,This product is a winner for its consistent product quality.  Amazon is a winner for developing a distribution system that consistently delights the customer with performance that beats advertising.\\n',\n",
       " '1.0,WORST QUALITY OF  BRAZILIAN NUTS EVER..,\"I usually buy Brazilian Nuts from amazon.com,this time my wife decided to give me this 5 pounds for my birthday. The shipping and delivery time was wonderful, but he quality of these nuts are the worst ones that I ever got, some those nuts are stale and 99% of bags are composed with nuts cut in half. I don\\'t recommend this product to anybody.\"\\n',\n",
       " '5.0,Some of the Best Pizza Dough Ever!,\"I like making pizza at home for several reasons, one of the main reasons being i think its better for you than some of the greasy slices you can buy and for another homemade pizza tends to taste better as well... I\\'ve always had a difficult time finding a good pizza dough recipe though, and lets face it, if the dough tastes gross, its kinda downhill from there :P at least for me it is. A friend of mine recommended this dough, she can\\'t eat things with gluten in it. I asked her if the taste of the dough was affected by it being gluten free? she assured me it was amazing and I would not taste a difference. She was right, not only is this dough gluten free, it tastes AMAZING!! It was easy to make as well, just needed water, eggs and oil. The directions were easy to understand and follow also. Each 16oz bag i found out makes at least 6-7 nice sized pizzas (its more of a medium size) To roll it out all i did was keep my hand wet and smooth out the door, it was fast and actually fun to do! My husband loves it and I do as well, it cooks up great without any issues, and you can make a good couple pizzas- definitely great value and a good price. We went to the actual site and it was MUCH more expensive than amazon. the dough is alittle sticky, hence why you want to keep your hand wet when shaping the dough out for the pizza, you cook it about 6-7 mins before you put the ingredients on... HOWEVER if you do forget to cook it first alittle beforehand it really doesnt affect it much, my friend and I have both done this by accident a couple times but it still turned out good :P Its alot of pizza for your buck, How many pizza joints do you know that for 12 bucks you can get around 28 pizzas from? We will be buying more of this soon, Its great if you are doing a kids party and need alot of pizzas, like i said one bag usually makes for us 6 med sized pizzas. Overall i gotta give this product 5 stars!!\"\\n',\n",
       " '5.0,Excellent dog food.,\"We\\'ve been feeding Avoderm for about 8 months and our Aussie is doing beautifully.  Lots of energy, shiny coat.  The formula is absolutely as good as Blue, and some of the other more expensive brands.  I would highly recommend it.  Fast delivery, too!\"\\n',\n",
       " '5.0,Vicki,\"This is the BEST low calorie popcorn I have ever had.  It\\'s definitely worth trying.  You\\'ll love it.  It almost has that \"\"movie theater\"\" popcorn taste.  Yum!\"\\n',\n",
       " '1.0,Tasteless coffee,\"I think I must have gotten 3 shipments thus far. I canceled it today. Coffee is tasteless, intensity is not consistent and moreover 25% of the pods are duds. They produce nothing but light watery coffee. Instead I would recommend coffee pods by Senseo.\"\\n',\n",
       " '1.0,\"FYI this mix \"\"may contain traces of soy.\"\"\",\"I was very excited to see this product on amazon, and it was prime eligible! Many of my family members have a severe gluten allergy and I was excited that this Christmas we could sit down and celebrate with cookies/cakes/pies/etc. However, when the boxes arrived I saw on the bottom, in bold, \"\"may contain traces of soy.\"\" This was not mentioned anywhere on the product description or nutrition facts. Many of my family members also have a sever soy allergy, and this \"\"may\"\" prevented us from being able to use the mix and therefore I have 6 unopened boxes that Amazon will not let me return.  If the Gluten-Free Pantry bills itself as caring about food allergies, perhaps they should make sure they list every single ingredient on their product page so we can make a clear, educated choice when buying.\"\\n',\n",
       " '5.0,Chai - Green Tea,I love this tea - it is my favorite. I drink it at least twice a day. It has just the right amount of flavor and I have no need for sugar with it.\\n',\n",
       " '1.0,Really bad!,\"I was making peppermint bark for the holidays and I ran out of the white chocolate melts I had been using. I\\'d already made one tray using another brand of white chocolate, but I still needed to make another tray so I ran to the store and all they had in stock were these Ghirardelli white chocolate chips. I figured for the price they\\'d be alright to use, and it is Ghirardelli, they talk themselves up a lot and sell themselves as a fine chocolatier so I figured these would be at least decent.  I was so so wrong.  These were disgusting, first of all. They have a very plain, flat taste. Also, there\\'s a gross after taste that accompanies these. Compared to the other white chocolate I was using, these may as well be classified as inedible. Regardless, I went ahead and attempted to use them. They melt terribly. Actually, they don\\'t melt at all! They became a big, nasty dry mess of powdery white chocolate imitation. No, my chocolate didn\\'t seize, these really are just that bad.  I wasn\\'t expecting these to be great, but I was expecting they would be at least usable. They were not. After trying and failing to use one bag, I have decided I\\'m just going to use the one tray of peppermint bark I already have made and just make some cookies or something instead. These were a massive disappointment.\"\\n',\n",
       " '5.0,The best cookies,\"These shortbread cookies are the best cookies you\\'ll ever eat!  Four different cookies, with 12 containers in each tin ( 3 packets  each of all the 4 cookies) .  A great gift for anyone who loves cookies, especially shortbread.\"\\n',\n",
       " '1.0,\"Terrible Ingredient, Again--Don\\'t Buy!\",\"I wrote a review just yesterday regarding Diamond\\'s so-called Natural \"\"Lite\"\" Lamb and Rice Dog Food.  I was shocked to read that \"\"powdered cellulose\"\" was one of the top ingredients.  Well, guess what?  \"\"Powdered cellulose\"\" is in this \"\"natural\"\" cat product, as well.  Why would any caring cat owner feed his or her beloved pet powdered cellulose?  I guess Diamond has to use some kind of filler, in order to reduce the amount of \"\"real\"\" food.  Powdered cellulose is certainly cheaper than chicken; and, after all, it\\'s all about the money.  Moreover, the 18 lb. bag arrived in a cardboard box that looked as if it had been dropped from an aircraft, AND the bag itself was split!  Approximately a pound of food was loose and leaking from the box.  Shame on Diamond for its awful ingredient and on Amazon for its crummy packaging and shipping.  I\\'m stuck with a split bag of awful food and the bill for it, as well.  Don\\'t make the same mistake as I did.\"\\n',\n",
       " '5.0,\"Love this tea, great over ice or hot\",\"This is great tea, really good over ice or hot, the stevia gives it a nice sweet flavor with NO CALORIES!!\"\\n',\n",
       " '1.0,Has MSG.,\"Did not use.  Description said no MSG.  Read label when received, contains MSG, all four. Not worth getting a migraine, will give to someone who is not bothered by the MSG.\"\\n',\n",
       " '5.0,Review on TASTE,\"I\\'m writing this review, because it\\'s exactly the kind of review I was looking for before I bought this product, but could not find anywhere.  When I first started using Natural Calm I bought it in the Raspberry-Lemon flavor, thinking it sounded the best and used it with water (usually just put it inside a water bottle and shook it up to mix it and drank it that way). Both me and my husband used it and HE really liked the taste, but for me this stuff tasted BAD. I don\\'t know why, but I did not like the taste at all. I guess some people do (obviously my husband did or at least didn\\'t mind it) but I definitely did not. It made drinking it everyday a CHORE.  So, this next time I decided to try the one that isn\\'t flavored and I like it SO MUCH better, like a million times better. I just mix it in with my blueberry-pomegranate juice and it\\'s great! It is virtually tasteless and just adds a little \\'fizz\\' to the juice that I actually LIKE. I also put it in teas as well.  I wanted to write this review just to let people know that not everyone loves the raspberry-leomon flavor (and I didn\\'t think I\\'d like the orange to begin with, but haven\\'t tried it yet and probably never will). There are a lot of reviews claiming it tastes great... but for me not so much. I recommend the flavor-less one.  Also, be careful when starting out to use the recommendation on the bottle and start with 1/2 a teaspoon a day and then work up from there. :-) I never had any negative side effects, but I guess some people get diarrhia if they take too much in the beginning.  This stuff really is amazing and will help you feel GREAT! :-) If you\\'re thinking about trying it don\\'t hesitate. It has many, many benefits. You might just be using it to help with mood or to help with ADHD/concentration, or just for a natural way to keep from becoming constipated... There are MANY benefits. But no matter what you\\'re using it for, it\\'s bound to help out your body and mood in other ways as well! :-) Can\\'t say enough good things about this product! Just try to get the flavor-less one first, it\\'s so much better!! I hated having to drink it when we had the raspberry-lemon one. But now I definitely don\\'t, and like the little fizz it gives my blueberry-pomegranate juice & teas! :-) Drinking it right now and loving it! And loving the way it makes me feel and the concentration it gives me!\"\\n',\n",
       " '5.0,My Akita loves these beefy sticks!,\"My 7 month old Akita loves these special treats!  And, they are just that..treats.  Not bully sticks or rawhide bones.  And, they are healthy for her which I like.  5/4/2012 Update, I am still buying these beef sticks for my now 90 lb Akita.  She loves these special treats and they help keep her teeth clean.  When the package arrives from Amazon she can smell them through the box and can hardly wait for me to open the box.  We even share them with the neighbor\\'s dog and he loves them too!  These beef sticks are safe as they are easily chewable and I don\\'t fear her choking on large gummy pieces like rawhide bones.  We highly recommend!\"\\n',\n",
       " '5.0,\"Great taste, great value. Try it!\",\"I\\'ve just begun drinking coconut water, and this is my favorite so far both in value and in taste. It is the sweetest I\\'ve found that doesn\\'t contain any added sugar (like some brands of \"\"coconut juice\"\"). If you\\'ve tried Zico and have been disgusted by its lack of flavor, give this one a try. It\\'s cheaper, and muuuuuch tastier. And it\\'s good for you! Only 76 calories in a can: much healthier than a can of soda.  As to the packaging, mine arrived with perhaps 5 cans slightly dented and all others perfectly intact. I can\\'t complain about that, considering that it\\'s an imported product. And mine arrived nicely chilled, so I could enjoy a can right away! That may be the product of the colder weather, but it was a nice surprise.  The one thing to note is that this brand comes without coconut pulp. I rather enjoy having bits of coconut to chew on, but it isn\\'t a deal breaker for me.  I used the subscribe-and-save option just to get the better price the first time around, but this product won me over. I plan on keeping my subscription.\"\\n',\n",
       " '1.0,My beautician asked me why my hair was shedding so much! I ended up with a bald spot!,\"My review below is very detailed, but if you are having issues with your hair because of this shampoo your FIRST step is to get it out of your hair.  Wash your hair with a moisturizing shampoo, follow with a moisturizing conditioner, and then use Apple Cider Vinegar or another vinegar to strip this shampoo and reminents out of your hair.  THEN do a hot oil treatment.  After the hot oil treatment wash and condition again and your hair should stop shedding. =============================  My review:  I don\\'t know if this shampoo is damaging my hair, but I noticed that I can just touch my hair after using this shampoo and it sheds. My hair sheds a lot anyway so I definitely would not use a shampoo that causes it to shed even more. The shampoo smells good and is creamy.  From reading the other reviews, apparently YOU HAVE TO USE the conditioner or you will mess up your hair.  I would NEVER use a shampoo that strips the hair just so you can use a special conditioner to re-soften it.  UPdate: I am downgrading to a ONE (1*).  I have NEVER had a bald spot in my life.  It has been 3 weeks now and my hair feels like straw (in spite of several deep conditionings at home and the salon).  Today, I look in the mirror and I now have a bald spot (IN THE FRONT OF MY HEAD) from all the breakage and shedding.  It is CLEAR this shampoo has a protein in it which is a NO-NO for damaged hair UNLESS you use a certain type of conditioner to bring back the softness.  Once I discovered the bald spot, I began to panic and I went and bought the CLEAR conditioner trying to get the dryness to leave and it still didn\\'t leave.  I am sitting here now with my regular conditioner trying to get the softness back.  I am afraid it will not come back and I will have to wait for my hair to grow out.  This shampoo is HORRIBLE.  Update #2: This is all I had to do to stop my hair from falling out.  I had to do a clarifier.  First, I used a mixture of baking soda and water.  This soften the hair immediately, but the shedding didn\\'t stop so I slept in a plastic cap with an oil [I used mustard oil, but any oil likely will do]).  I woke up this morning and the hair was definitely in better condition.  I then went to my refrigerator and used Apple Cidar Vinegar, more oil, and my Creme of Nature Shampoo and Conditioner.  The hair is FINALLY back to its original condition (except for the bald spot).\"\\n',\n",
       " '5.0,great coffee cake,Drakes coffee cake is the best. The date was good. It keeps well in the fridge. Recommend this to anyone who drinks coffee.\\n',\n",
       " \"1.0,Return Policy--No Returns!,Never even heard of 'Tassimo Professional (Foodservice) Coffeemakers'. so was innocent mistake to buy for my home machine. discs do not work at all. like barcode-reader hasn't a clue. Return policy sucks. One more example of price too good to be true.\\n\",\n",
       " '5.0,Fantastic Beverage,What a refreshing tasting beverage...Unlike anything I have tasted before....The juice and carbonation mix great together...\\n',\n",
       " '1.0,My cat doesn\\'tlike anything about this,\"except the sauce! Who knows when you are dealing with a gourmet cat? I keep coming back to it after a few cans of other kinds, but she is on to me... now where to get rid of half a case of cat food?\"\\n',\n",
       " '5.0,These are great!,\"Both my boxer\\'s favorite treat.  It\\'s healthy, they love it, and it smells good enough for me to try!  (I haven\\'t..yet, for the record).  Wellness continues to impress me with their wholesome products.\"\\n',\n",
       " \"1.0,Innova Adult Formula change,I've used Innova Dry Adult Food Large bites for years and my four dogs all did well on the food. The company was bought out in the last year or so by a larger company.  They just recently changed the formula to include a bunch of new items and my dogs can no longer eat it.  Two of the four of them immediately developed a lot of gas and then started to itch within days of giving them the new bag of food.  One literally tore her neck to shreds scratching and we now have a vet bill.  I'm sorry to say we will no longer be using this product! Very disappointed in their decision to change the formula so much at one time.  They had a great product the way it was!\\n\",\n",
       " '1.0,Zero is not an option! [unfortunately],\"Dil\\'s Royal Tea is certainly not fit for royalty. Seriously, this stuff is rank...it truly rots! When I placed the order, I was somewhat hesitant, given that it was not yet rated. But, then I thought, \"\"It\\'s English tea...how bad can it possibly be?\"\" As it turned out, this was faulty logic, indeed.  After brewing for the prescribed time, the resulting liquid neither smelled nor tasted like tea, or raspberries, for that matter. It had a sickly sweet and decidedly chemical aftertaste. Needless to say, I would never purchase another product from this supplier. \"\"Caveat Emptor!\"\"\"\\n',\n",
       " \"1.0,vile,Just think of a Margarita that has been sitting overnight on a bar and you will have a pretty good idea of what the Margarita tastes like.Not good.I made a pitcher of the stuff and no one in the house would drink it. The apple flavor is ok.Something different and though I can't say I enjoy it I do intend to use it up. I haven't tried the Mojito yet but I am not very hopeful.\\n\",\n",
       " \"1.0,deceiving,I wish I would have read the reviews before I purchased this RIPOFF!!!!  I had to by another gift to go with it so I don't look like a cheapskate!!!\\n\",\n",
       " '1.0,BEWARE,\"We\\'ve had several nylabones for our dogs.  They loved chewing on them and the bones seemed to hold up very well--until a piece broke off and lodged in the small intestine of my dachsund.  Since it\\'s plastic, it doesn\\'t show up in x-rays and the blockage wasn\\'t identified until it was too late.  Always supervise your pet when they are chewing anything that can be chewed up!\"\\n',\n",
       " '1.0,Won\\'t order again,\"I have seen bags and bags of the \"\"flops\"\" you can get at the factory so I ordered a bag thinking that I would be getting close to the smaething. NO, mostly all one color not the varity I expected. I feel they ship out the ones that won\\'t visually sell at the factory in their gift shop. I was very disappointed as I had to through the bag out because they were inedible. I won\\'t buy again through the mail.\"\\n',\n",
       " \"1.0,horrible,This jelly is absolutely impossible to spread.  It takes 4-5 packs just for 1 slice of bread and it is globby because you can't spread it.  I won't be buying this ever again and hopefully you won't either.\\n\",\n",
       " \"1.0,PLANTER'S BLACK WALNUTS,Cannot give this product even 1 star.  Sour tasting....ruined efforts at making Black Walnut-Buttermilk Bread.  A wasted order.\\n\",\n",
       " '1.0,Artificial taste,\"These cups are artifically sweetened with sucralose - I didn\\'t realize until I tried one, and ended up with a little bit of a headache, which made me check the ingredient list - it isn\\'t noted on the front of the box.  They definitely have an artificial taste, I would not buy them again.\"\\n',\n",
       " '1.0,Unhappy with this product,I was very disappointed with the quality of these Juniper Berries. They dry and hard and had no aroma or taste.\\n',\n",
       " '5.0,\"Forget the Everlasting treats, just put regular treats inside\",\"I originally bought this product to use with the Everlasting treats.  My powerful American Bulldog/pit mix popped the Everlasting treats out and consumed them in no time, so I originally chalked this toy up as a failure.  But then I realized I could put regular treats inside it, and, used in that manner, it excels.  I\\'ve gone through several different treat-dispensing toys, trying to find one that both held up to my tough dogs\\' determined chewing, and also delivered the treats at just the right \"\"not-too-fast, not-too-slow\"\" rate.  Most of the toys I\\'ve tried deliver the treats too quickly, which defeats the purpose of keeping a \\'home alone\\' dog occupied for hours.  The Buster Cube delivers treats at a nice rate, but the hard plastic construction makes it so incredibly loud that the noise not only makes it less enjoyable for the dog that\\'s using it, but it also agitates my other dogs that have to listen to it.  This toy is very quiet, and VERY durable.  My dog is a powerful, determined chewer (he once ate a hard plastic floor tray designed to set dog bowls on)and he has been using this toy daily for months, and it shows very little wear.  I fill it about 1/3 full with the low calorie Trader Joe\\'s dog treats, and it keeps my boy happy and focused for hours.  So, if your dog is a determined chewer, skip the Everlasting treats and just buy the ball and use it for your own treats.  I guess the only challenge might be finding treats that are just the right size, if you don\\'t have access to the Trader Joe\\'s treats, but I\\'m sure Petsmart and Petco carry something that will work.  A treat that is about dime-sized works great. Something the size of dog food kibble would fall out too quickly, but it could be used to deliver a meal to a dog that tends to eat too fast.  It might not be apparent from the photo, but the x-shaped treat-dispensing slots are inset from the outer edge of the ball quite a bit, making it very difficult for the dog to chew on that portion of the ball directly, which, along with the material the ball is made of, contributes a lot to its durability.  Here\\'s a link to the treats I use in this ball:   Trader Joe\\'s Charlee Bear Treats   www.amazon.com/Charlee-Bear-Treat-16-Ounce-Liver/dp/B0002XAFTG/ref=sr_1_cc_1\"\\n',\n",
       " '5.0,My boxer loves it!,\"I have a 4 year old boxer who has always had an issue chewing dry dog food. Sometimes she\\'d vomit up whole food because she couldn\\'t chew properly due to her boxer underbite. I decided to try out this boxer blend on a whim, and wow what a difference it has made! This food is shaped to force boxers to chew. My girl has not had any issues of vomiting since we\\'ve switched over a few months ago.  My dog also gobbles it right up! She loves it! She used to pick at her food all day, but with this food once I fill up her dish she eats it right up! My girl seems to have lots of energy and I\\'m so happy we found this food at such a great price on amazon.\"\\n',\n",
       " '5.0,YUMMY!,\"Tart - then sweet - candy that tastes GREAT.  Nice to find this CHERRY flavored treat!  Low on calories, too...can\\'t beat that!\"\\n',\n",
       " '1.0,Disgusting flavor and after-taste,\"How a supposed Swiss company can create and call this \"\"coffee\"\" is inconceivable to me.  Gevalia\\'s Cafe Crema is acceptable, but this stuff doesn\\'t even qualify as coffee in my book.  Even with milk this tastes like burnt metal.  I\\'ve had better coffee out of an army ration.  Anyone who rates this higher than one star has either never had real coffee, or drinks their coffee while smoking a cigarette.  Disgusting.\"\\n',\n",
       " '5.0,Product is VERY good,\"the problem I had was in the shipping. Amazon bundled them up so tightly together that the chocolate inside the packages all melted. If they could ship and pack them better problem solved. As for the product, it is AWESOME! I am just bummed out that you can no longer get these locally (unless you live in Minnesota).\"\\n',\n",
       " '5.0,Great chocolate fix,They are so soft and great chocolate taste. They are made with whole grains but no one will ever know.\\n',\n",
       " \"5.0,Love at First Sip,I have never loved tea (without a pile of sugar and cream) until this one. I'm addicted and pace nervously when my tin runs low. Order the 50 pack. You will not regret it.\\n\",\n",
       " '5.0,Fantastic!,\"Pretty sure I just found my new favorite drink. Not only is it affordable, but it\\'s truly tasty. You\\'re going to love it!\"\\n',\n",
       " '1.0,Not very good,\"I was excited to try these, as they get rave reviews.  I\\'ve not had a sandwich cookie since I went gluten-free 10 years ago.  Sadly, I was unimpressed.  This surprised me, as other Kinnikinnick products are really good.  Right away I noticed that they do not look like the image on the package--golden and rich.  Instead, they appear pale and not particularly creamy.  Looks did not deceive.  They don\\'t have a vanilla flavor at all.  In fact, there is no flavor, just overwhelming sweetness.  The cookies are OK, though they are very crumbly.  They have the barest hint of vanilla.  The filling has pretty much no flavor, is gritty, and leaves a powdery residue.  They are way too sweet and come off tasting synthetic. I scraped the filling out and just ate the cookies.  Despite my craving for a sandwich cookie, I would never buy these again.  The search goes on.\"\\n',\n",
       " '1.0,Breathies are made in China,\"These used to be the only treats my dog would eat.  He loved them, and would not eat anything else.  I saw a news report about the FDA warning on china imported jerky treats, and thought no way could that be reason my dog has been having health problems, they sell them at Whole Foods and advertise the chicken as organic and free-range, words which just aren\\'t used in china imported meat.  I took a close look, and there it is, made in china in TINY print.  I stopped feeding them and slowly my dog has stopped throwing up all the time, has his energy back, and just obviously is feeling like himself again.  Please don\\'t play roulette with your dogs life.  Check all packaging closely, and tell this company to stop importing from china!  Dogswell, btw, will not respond, and has banned and blocked and deleted my inquiries on their facebook page.  They do not care about your or my dogs health.\"\\n',\n",
       " '5.0,Great mix- fun to play with,\"I love this mix, and because it is plain it is fun to play with.  So far I\\'ve added chocolate chips to it; that was good, and chopped up dried apricots with about 1/4 cup of almond meal plus about one more TBS milk (delicious), and chopped dates and walnuts (wonderful- served them with honey), and a mix of dried berries (blueberries and strawberries)- marvelous.  All these iterations took at the most about 5 minutes to prepare :-)  I find I don\\'t have to bake them quite as long as the package says- but I make small scones- and perhaps my oven is erratic.  At any rate, keep an eye on your first batch to get a good idea for baking time.  I\\'m looking forward to trying savory additions next.  I\\'m sure they will be good too.  This mix is fantastic alone, also- but it\\'s so much fun to add things I find it hard to stop.  The mix is excellent quality, and I was very pleased to find the sell by date is a long way off (Nov 17 2011, for my two orders).  I\\'ve ordered all the Garvey\\'s mixes, since my family has so enjoyed this one and the coffee cake.  This is a truly exceptional company.  How lovely to have found them.  Edit:  Have now made the fresh blueberry scones (as you see on the side of the package- it was great!  I topped it with some glaze and the blueberry sugar that Amazon sells.  I also made a rosemary ham, shredded cheese and green onion scone (2 slices thing ham, minced, 1 cup shredded Mexican blend cheese, and one finely diced green onion)- these were really really good.  And finely, I created a Parmesan, orange peel and white pepper scone that was the best of the lot.  I grated the peel off two organic blood oranges, added about 1/3 cup shaved parmesan, and 1/2 tsp white pepper.  The taste was absolutely out of this world.\"\\n',\n",
       " '5.0,Dog\\'s love em!,\"We switched to these after my vet said my dog had high cholesterol & wanted to put him on medication.  These are little soft chews that my dog loves.  We stuff them in his kong ball and he will chew forever to get it out.  After being on this and diet dog food for a few months, our dog\\'s cholesterol was closer to normal.  My neighbor tried them with her dog and it loved them so much, she asked me to get her some the next time I was at the vet\\'s office, so I came online and ordered a case for us and everyone we know that has a dog.  I am sure they will get eaten very quickly!\"\\n',\n",
       " '1.0,Terrible... the absolute worst!,\"I love pretzels, but these were the absolute foulest things that ever entered my mouth... and trust me, I\\'ve eaten in foreign countries where everything is eaten.  I can not express enough how bad these are.  I ate one (or should I say chewed and spit out) and immediately threw out the entire 2.5lb bag.\"\\n',\n",
       " '5.0,Navitas naturals maca powder,It  help me with work out for extra kick  and extra boost for  sex drive a plus and it all natural product.\\n',\n",
       " '5.0,get up & GO !!!,\"This stuff is fantastic. I agree with the other complimentry reviews. might i suggest mixing a small amount of this powder with a shot of olive oil?! I actually think it may lengthen the effect even mnore by doing this and it is a fat soluble so it\\'s a lot easier to get down. Because of the chemistry of this molecule, it is bitter and never tastes good. If it really bothers you, it\\'s possible to order some gelatin capsules and make your own guarana capsules! That way you can swallow them and will not have to deal with the taste:)\"\\n',\n",
       " '1.0,horrible,\"i just received the ajvar today, it is so horrible. i cannot believe this is what they sell as ajvar. i am from Macedonia and the ajvar over there is nothink like this one. do not buy this if you think thats ajvar, because is not. the smell is pretty bad, and you will not want to taste that. pretty disappointed, i paied $14 for it to be that bad. i do not recomend it to noone.\"\\n',\n",
       " '1.0,Packaging quality problem,\"\"\"Both\"\" of Gloria Jean\\'s \"\"Hazelnut\"\" and \"\"Vanilla\"\" packs of 50 contained only \"\"49.\"\"  Does Gloria Jean\\'s have a fundamental packaging problem ??\"\\n',\n",
       " '1.0,Cancelled my monthly order after trying it.,\"We are a dairy free family who use coconut milk as a substitute, so I am pretty familiar with coconut milk.  I had purchased several cans of Native Forest from a retail store and liked it - I use it in my coffee as a creamer.  However, the stuff that was delivered to me through Amazon was completely different that the cans I bought at the store.  The milk is very thin (which I don\\'t mind) and incredibly oily.  I shook the cans thoroughly before I opened them, but you can see the oily floating at the top.  The milk separates when in the fridge with the coconut oil forming a thick layer on top.  There is an odd flavor to the milk, too.  I am so bummed I have to go through 12 cans of this before I can order some Thai Kitchen.\"\\n',\n",
       " '1.0,Quality control needed ASAP!,\"Just left packaging feedback, but upon review, the issue appears to be quality control.  I ordered 2 boxes, 50 count each.  In both boxes, the foil lids were not positioned correctly and the seal was not 100%, causing coffee grounds to coat every K-Cup, the frustration free boxes and the box they were shipped in.  Worse, about 20% of the K-Cups no longer have the full amount of coffee in them.  Additionally, I am not sure that these loose grounds won\\'t impact the Keurig.  I hope the folk at Coffee People can rectify this situation, as this is my favorite coffee, but I will not order this product again without some resolve on their side.\"\\n',\n",
       " \"1.0,Does Not Compare To Other Nana's Cookies,These were a sore disappointment to the Nana's brand. I love the Chocolate Chip and Peanut Butter but these were way to dry and powdery. The flavor was good but the texture made my stomach turn.\\n\",\n",
       " '1.0,Pleaes bring back the old formula,\"I have purchased Rich, chocolate Ovaltine since my now 15 year old was old enough to drink milk, but wouldn\\'t because of the taste. Doctor said to add chocolate. Since Ovaltine has more vitamins than the others, we started using it. Now I have 4 children all considered under weight and loved that Ovaltine made their milk palatable. My youngest and most underweight refuses to drink milk without it. Bought the new recipe a few weeks ago. Kids opened it up and the smell was horrendous! I thought it went bad. The taste was not the same either (sort of like egg nog that\\'s gone bad). Then I noticed the \"\"New Improved recipe\"\". Who\\'s the marketing genius behind this one. Yes I see less calories, sugar and sodium in the new recipe, but if I was worried about that I wouldn\\'t be adding chocolate to my milk in the first place! PLEASE BRING BACK THE OLD RECIPE. My underweight children need it!!\"\\n',\n",
       " '1.0,\"I\\'m not a picky eater, and this is the grossest thing i\\'ve ever put in my mouth\",\"I bought these noodles because of all the stellar reviews I read. I am not a picky eater. I eat sugar free, low-carb, low sodium, fake cheese, cardboard-like things all the time and like them. In fact, there is no food that I absolutely don\\'t like or won\\'t eat until now.  When I opened the package, the first thing I noticed was the terrible smell. I couldn\\'t quite put my finger on it, but it\\'s kind of like joint compound or drywall spackle, or something that is definitely NOT food. I figured it might be the packaging, so I spent a little extra time rinsing the noodles than the directions called for. Smelling them again, I knew it was the noodles, but stayed hopeful that parboiling and sauce would fix everything. I followed the directions, and since I love asian noodles decided to dress my Miracle Noodles with good ole soy sauce. The noodles tasted just like they smelled, AWFUL. However, being the daughter of someone who grew up very poor with little food, I couldn\\'t waste them, so I took another bite. The taste and smell mixed with the texture of rubber bands started to gross me out and make my throat clench. I took a breath and looked into my bowl. I own two cats and thought there was a cat hair in my pasta, so like any other time, I plucked it out; no problem. I took another bite, and noticed another \"\"hair.\"\" I picked it up and found that it was attached to a noodle. I poked around the bowl with my fork and discovered these strings everywhere. In fact, you know when you clean your hairbrush and you pull out hair balls with spider-like hair legs? Well, I found a \"\"miracle\"\" hairball happily squatting in my bowl. That was my last straw and I had to stop eating. This wasn\\'t the worst food experience of my life, but it ranks up there. Zero gluten and zero calories is just too good to be true. Don\\'t waste your money.\"\\n',\n",
       " '1.0,Seriously?,\"Ok, we love HOT sauces, but this is rediculous! We thought that like a good hot sauce, this would go good on tacos, nachos etc with some nice heat, but this stuff is stupid hot! I bought a three pack and regreted it the moment we tried it. This is their standard insanity sauce (not the hotter one\\'s that Dave\\'s sells) and we cannot even tolerate a few dashes on our tacos. I\\'m good.\"\\n',\n",
       " '5.0,\"Available elsewhere for much, much less\",\"First, with 0mg of cholesterol, this is a great alternative to butter.  It really enhances the taste of popcorn without the health worries.  Second, it is grossly over-priced on Amazon. Just go to your local Walmart and get it for less than three dollars for a 16oz bottle.\"\\n',\n",
       " '5.0,\"Moist, Tasty, & Just Like The Real Thing\",I first had this mix as a cupcake at my baby shower. My sister knew I needed something gluten free and could not locate a bakery that could make a cake...so she decided to make some fun cupcakes for me to eat in addition to the fancy cake she purchased.  THEY WERE SOOOO AWESOME! Thank God I am pregnant and nobody questioned my eating 3 cupcakes! They were SUPER moist and light. The flavor had JUST the right amount of chocolate.  I know I should try making a cake with this mix but I must admit the cupcakes were soooo good that we made a batch for just the 2 of us the other day! And AGAIN they are GREAT!\\n',\n",
       " '5.0,Dogs Love Them!,My Maltese and Cavalier King Charles love these treats!  I feel good about feeding them a healthier treat. Not made in China!\\n',\n",
       " '5.0,My Cat Loves it!,I have used this product for many months and my cat never got tired of it...he loves the taste and eats it like a treat.\\n',\n",
       " '1.0,Great item WRONG DESCRIPTION,I ordered 4 boxes of 8 nutri grain bars and amazon only shipped 2. I contacted customer support and was told that they would credit the order amount as a one time exception. I am livid. Amazon screwed this up and in order for me to SAVE THEM MONEY I do not ask for the item to be reshipped. IT would cost them 8-12 dolllars to ship this ONLY BECAUSE AMAZON SCREWED UP. I told them to cancel the order and not reship and they are doing me a favor?? THIS is a exception with the exception should be DO NOT ORDER THIS ITEM YOU WILL BE SHORTED 2 boxes.\\n',\n",
       " '1.0,delivery system is horrible,\"The plastic connector kept popping off my hose - I was completely soaked in less that 10 minutes. I had to keep crimping the hose and re-connecting, only for it to pop out of place again. When I turned the white dial to the \"\"on\"\" position, IT kept popping off as well allowing water to jet out everywhere. water with pesticide. all over me. not fun at all.  cheap plastic parts all the way around that fail. I would never buy this product again\"\\n',\n",
       " '5.0,Great shipping,\"I sent Kellogg\\'s Cerael out to our troop\\'s. The individual box\\'s of Kellogg\\'s cereal with stood the the travel over sea in great shape. Haveing Kellogg\\'s in the morning is just a little way to say thank you for all that you do. The individual box\\'s was the best way to go, that way everyone could have the kind they liked. Thank you Kellogg\\'s\"\\n',\n",
       " '1.0,TOO MUCH SALT/SODIUM = DANGEROUS TO YOUR HEALTH,\"760mg SODIUM/SALT PER \"\"6\"\" PIECES  =  DEADLY/DANGEROUS TO YOUR HEALTH ; TOO MUCH \"\"SALT/SODIUM\"\"  IS  \"\"KNOWN\"\"  TO  CAUSE  \"\"ALL KINDS OF  DEGENERATIVE DISEASES\"\"  &  \"\"PREMATURE AGING\"\"  ;  HOW DO PEOPLE  EAT  THIS  \"\"DEADLY FOOD\"\"  ???? KNOWING ITS GOING TO  \"\"DAMAGE\"\" THEIR  BODY  ?????\"\\n',\n",
       " '5.0,Big win with our Pride.,\"I have five totally indoor cats, which means that they have zero access to fresh greens.  One of them, aptly named Monster, will eat anything that looks remotely like a plant; green fabric, faux flowers, my floral purse.  Thus far we have tried approximately 5 other brands of cat grass and this one is the biggest hit.  The cats all love this stuff, and we are also snipping bits off for our chinchilla and box turtle. The packaging is nice and sturdy so the cats cant destroy it while munching. Greens are thicker and healthier looking than most of the other brands we\\'ve tried. Directions are easy to follow. I like that its USDA certified and provides batch information for each bag, including contents, date tested, and type of wheat. Unlike many other brands of pet greens that only target cats, this is marketed towards a variety of animals and includes suggested methods for feeding each.  I am the inventory mgr at a petstore and this allows us to reach more customers with the product! The company, Bellrock Growers, supports animal rescue, adoption and shelter programs, which is an added bonus to an avid animal lover! The only downside is that I have to hide the container while the grass is regrowing!  The cats will go to great lengths to find and munch on it.  I highly recommend this brand of pet grass!\"\\n',\n",
       " '1.0,defective pumps,\"Do not purchase..........I bought the 3 pack. In about 1 week, 2 of the 3 don\\'t pump anymore. The 3rd has only been used by (a friend)twice.\"\\n',\n",
       " '5.0,loved it,\"I have the most picky dog in the world.  She\\'s a big dog, which usually means they\\'ll eat anything, but not my dog, so when I got her the Likety Stik, I honestly didn\\'t think she\\'d like it, but she loved it!  And what a great training tool.  Rather than fill your pocket with treats,(that usually go through the wash) you have a neat, no fuss way to reward them.  I did have to squeeze it to get the liquid moving along after she\\'d licked it, and it dripped onto her pure white, newly bathed ruff, but it came off with just water, so no worries.  I then took the Stik over to my in-laws to give to their obese King Charles spaniel, and he of course loved it, because he eats anything.  What they liked was being able to give him treats that didn\\'t add to his weight problem.  Lickety Stik is a great new way of treating your dog.  Whoever came up with it is a genius.  I\\'m going to buy every flavor for my dog, and one for my in-laws dog.\"\\n',\n",
       " \"5.0,Absolute Best Pep Stick For The Money,I've been eating these since the early 80s. They are my favorite brand of all time. It seems they are getting impossible to find even from Oh Boy Oberta. My package arrived today and they are as fresh as the day from the factory...meaning well preserved and soft. I hope I can find more.\\n\",\n",
       " \"1.0,awful,I have no idea how there is anyone who actually likes this stuff - it is AWFUL!!!! I like regular Hawaiian punch so I got these but I wish I hadn't.  It is so bad.\\n\",\n",
       " \"5.0,love them,I love these because they are small. They don't have an odor. They were also cheaper than the brand I used before.\\n\",\n",
       " '1.0,Did not grow...,\"Ok first of all right when I opened the package which came in two days since I used two day shipping, The can was dented all around and literally punctured in some spots. I have the can in the right temperature and follow the directions, It has been exactly two weeks and not even a sprout is showing. I cannot contact seller for some reason because the option is not there, so this smells kind of fishy. I demand a refund or another NON DENTED/WORKING can.\"\\n',\n",
       " \"1.0,These are terrible,I was so excited to get these.  I figure they would taste along the lines of the dehydrated strawberries you find in cereal.  I was completely wrong.  When I opened the package it smell terrible and tasted even worse.  It didn't even taste like strawberries.\\n\",\n",
       " '1.0,It has ASPARTAME in it.,\"If you knew the dangers of aspartame you would not be consuming this drink with this artificial sweetener in it.  I would recommend to do some homework on the dangers of artificial sweeteners and you will know what I am saying.  There is plenty of information on the subject.  If you have any kind of health problem,  suffer from any kind of malady and have no clue what is causing it and you consume any beverage or food that has aspartame,  nutrasweet,  splenda, sucralose any artificial sweeteners a like I would recommend stop consuming the foods and drink immediately.  I personally do not like the taste of artificially sweetened foods and drink.  I have a strong sense of taste and can tell immediately if something is sweetened with this crap.  I have inadvertently consumed foods and drink that has artificial sweetener in it without my knowing and I could tell immediately by the horrible after taste it leaves me.  But besides the taste the dangers of this rubbish is what deters me from consuming it along with MSG (monosodium glutamate.\"\\n',\n",
       " '1.0,awful,\"My dog loved this bone, but within 1 week he had 3 broken teeth.  This items not worth the hundreds it will cost in vet bills.\"\\n',\n",
       " '5.0,Great flavor and just the right strength.,\"I never go to Starbucks for my coffee fix, but was curious about the Clover machine they had at a few select locations.  I tried the Blue Java and was very impressed with the quality and complexity of the coffee.  This and Blue Bottle Coffee are the beans I use for my drip at home.  My fuel!\"\\n',\n",
       " '1.0,Just Gross,\"I did not like this at all, worse than the gas station cappiccino, which I do like. The grove square french vanilla is just nasty really and it leaves a bad after taste. oh and you have to run a hot water cycle after using it to clean the machine, nothing lefted in the k-cup either, well just a little bit of water to leak from the k-cup when throwing away. I will not buy this again at any price. The only reason for the one star rating was because the shipping and packaging of the products was nicely done, free super saving shipping is great. I just wish the contents of said packaging had been on par. anyone know of a good cappuccino for the keurig?\"\\n',\n",
       " '5.0,Best Coconut Flour,\"I have tried several brands of coconut flour.  This one is clearly the best in flavor, texture, and ease of use.  I love the convenient one-pound packages(I usually buy in groups of six and refrigerate all of them). The packages are not so easy to access on a daily basis, so I open one and pour the entire bag into an airtight container which I store in the refrigerator. Works great!!\"\\n',\n",
       " '1.0,Taste is awful!,\"The product is reasonable in price but it tastes awful. Label states to improve taste mix in with almond milk however, doing so made it taste worse! It is very thick and does not blend well. a good amount of protein powder sinks to bottom so you have to keep mixing just to get most of the product digested.\"\\n',\n",
       " '1.0,\"I know it\\'s a cookie, but...\",\"Quaker advertises their Soft Baked Oatmeal Cookies as made of whole grain oats and a good source of fiber. It says so on the box. It also contains enough oils, fats, and butter to have one cookie make up 8 grams, or 12 %, of your daily recommended intake for total fat. One cookie. And it says so on the box.  They are soft and come separately packaged for lunch boxes. I think the separate packaging is to prevent the cookies from falling apart.  The box also says they contain chocolate and almond. I think out of the 2 cookies I tasted, there was a hint of chocolate with the taste of almond. To me, they are bland, chalky and not very palatable.  I know it\\'s a cookie, but it doesn\\'t taste like one and the high fat content with low quality flavor will prevent me from purchasing them in the future.\"\\n',\n",
       " '1.0,Gross,These were gross. It was like chomping down on a chunk of salt. I regret wasting my money and will not purchase in the future\\n',\n",
       " '5.0,Authentic taste,\"So I made semi-traditional masaman (potatoes, onions and peanuts with the cocount milk) but used seitan, broccoli and peppers as I had those in the house and it was awesome.  It really tasted so much like my favorite thai restaurant it was eeire, so worth it. Also its super easy to make vegan.\"\\n',\n",
       " '1.0,Nasty! Greasy! Plasticy taste!,\"We picked this up on a whim, thinking it would be nice to not have to dirty a bowl on the occasions that we pop popcorn. In my house, one less dirty bowl is a wonderful thing!  This stuff is the most greasy popcorn I\\'ve ever had! Not only that, but the big is a pain to open as another reviewer mentioned. You have to hold it at the bottom of the side, then pull the plastic cover off, and even then you only have about a 50/50 shot of it coming off in one piece. Then once you actually get it open, the popcorn has a hint of plastic to it. The top and bottom of the \"\"bowl\"\" aren\\'t paper like a regular bag of microwave popcorn - they\\'re thin sheets of plastic - and that taste comes through in the popcorn.  All that said, the popcorn is edible, but it\\'s not as good as regular microwave popcorn. We\\'ll eat this pack, but when it\\'s gone, we\\'ll be back to the standard microwave popcorn!\"\\n',\n",
       " '5.0,BiAglut Gluten Free Pasta from Amazon,\"I am allergic to yeast, milk, eggs, yogurt,gluten, wheat & soy.  This is really the first pasta that really taste like pasta I use to eat.  I love it and look forward to other products from this company.I am thrilled that Amazon now carries it.\"\\n',\n",
       " '1.0,Funny Taste & Broken Cookies!,\"I was disappointed by these cookies, and would never get them again.  Here\\'s what went wrong.  1. The cookies themselves are not \"\"engineered\"\" to withstand any kind of travel or transport.  Upon opening the package, over 60% of the cookies were broken, with piles of crumbs at the bottom of each tray well.  Those cookies that were spared would practically disintegrate when I picked them up.  This made for difficult eating.  2. The cookies have a very strange chemical flavor to them that I couldn\\'t explain.  it\\'s most noticeable in the aftertaste, but both my wife and I found it extremely unappealing.  They\\'re also far sweeter than normal chips ahoy! cookies.  3. The cookies are small.  Meaning, if you want to feel like you really satisfied your sweet tooth, you\\'ll have to eat far more than the recommended serving size of ...two cookies (150 cal, 7g fat, 3.5 sat. fat, 13g sugar). If you can get past the aftertaste, you\\'ll want at least 4 to feel satisfied.\"\\n',\n",
       " '1.0,Beyond stale,\"As a kid i absolutely loved the green frogs and when i saw these on sale i jumped on the deal.  Much to my disappointment i am not able to actually taste these because they are so stale.  I might as well have bought a bag of pebbles... I guess that will teach me to buy candy online, lesson learned.\"\\n',\n",
       " '5.0,High Quality,\"I have enjoyed many PR\\'s up to 30-40 dollars a pound and have a very good sense of quality. This is about an 18 month as stated. It is on the mild side which is quite special in itself. It has a fresh wonderful buttery taste of a fresh PR. There is individual merit for the various ages up to 36 months. I personally do not like the 36 months variety.  This is a bargain and to be well appreciated.  Pay the next day during the hot months.  Mt second order 2 weeks later was not fresh, dried out not the young freshness and tenderness of a 18 month - did not taste good. Why!?  We really like these cheese. The third shipment was perfect.\"\\n',\n",
       " '1.0,Terrible shipping time,\"Product was distilled water so it was fine, but it took almost a month to arrive.  Will not purchase from this supplier ever again.\"\\n',\n",
       " '1.0,not able to rate....item returned to sender,\"This product was returned since I intended to order canned mango, which was and has not been available, but still appearing on the web site.  I have not yet received a refund for the papaya yet, and am wondering when that will occur.\"\\n',\n",
       " \"1.0,Basically coffee mate,This stuff in not NON DAIRY as it says in the description.  I bought this to replace the one I was using for my CBTL milk frother. It is disgusting.  I wouldn't even want it with a smoothie.  It tastes like powder coffee mate and the sad thing is I think the coffee mate brand tastes better!\\n\",\n",
       " '1.0,Go Organic Dark Chocolate Bars,This is an excellent product IF fresh but the boxes I received were shipped on/past the expiration date.  Bars were stale and discolored.\\n',\n",
       " '1.0,Grove Square Hot Cocoa,\"The product Grove Square Hot Cocoa Cups arrived with an expired date of July 2012. I wanted to call or email but my husband advised to just toss it out which I did as I had bought the cocoa for our grandkids.  Sincerely, Belinda Gonzalez\"\\n',\n",
       " '5.0,Good soup,\"This is perhaps one of the best soups I have ever tasted and I got good taste buds. Actually , when I say something is delicious, other people will absolutely love it, whatever it maybe. Very good and real flavors in this soup. Trust me!\"\\n',\n",
       " '5.0,Organic coconut oil what more to say,\"This is good quality coconut oil, i use it mostly for my hair as a hot oil treatment and it is wonderful. The jar is plastic which would be better if it was glass, but not a huge problem that you can\\'t deal with. You can use this for cooking as well and it has a nice strong coconut smell. Just good product overall, really doesn\\'t have much to say.\"\\n',\n",
       " '1.0,Can you as a treat ...,\"So thought that I read the reviews, and bought a box (small size) and chicken treats.  Small size dogs cannot eat... they\\'re hard.  No smell without a taste.  Have two small dogs cannot left the floor.\"\\n',\n",
       " '1.0,why so expensive?,this water is supposed to sell for $2.49. why is it so expensive on this site? the one star is for the price.\\n',\n",
       " '5.0,best green tea,LOVE IT!!!  very tasty.  Tried many green teas and found them bland at best.  The mint and lemongrass in this one is reeeeally good.\\n',\n",
       " '5.0,YUM,\"This is a great multi-use sauce.  Great for using as a baste when grilling - fish, chicken, shrimp, pork, etc.\"\\n',\n",
       " '5.0,much better than store brand,\"i think that\\'s the best ground coffee in a bag can do. much better than the store brands like Maxwell House or Folgers or Wegmans, etc. when it\\'s on sale they are actually about the same price. would definitely try this brand again!  This flavor is on the strong and bold side, which I like.\"\\n',\n",
       " \"5.0,Best,The best after meal digestives EVER!  I can't keep these in my home since I munch on them all the time!  DELISH!\\n\",\n",
       " '1.0,Gave my baby a rash,\"I bought these for my 10 month old daughter thinking they would be great for teething and snacking. These cookies gave my baby a terrible rash and the runs. She normally never has these kinds of reactions to food. Never again Gerber, never again.\"\\n',\n",
       " '1.0,I wouldn\\'t buy any dog food made by Diamond (chicken soup is only one of many),\"Let me preface this by saying I LOVE AMAZON. They are an amazing company and I will always shop online with them.  I had been feeding my older dogs Chicken Soup for the Dog Lover\\'s Soul (Senior) for about a year. And about two weeks before the \"\"voluntary\"\" recall came out in April of 2012, my dogs were both extremely violently ill (vomiting, diarreah and no appetite that lasted a week - until I got them help). Both had to be seen by the vet and both were perscribed antibiotics. Shortly after these bouts of illness I learned about the salmonella tainted food in the South Carolina plant. Diamond Dog Food (the manufacturer of many foods including Chicken Soup for the Dog Lover\\'s Soul) had denied that any dogs were sickened by this food but I am 2000% positive that they were. They said they would not accept responsibility unless I could prove it. But I couldn\\'t because I didn\\'t save any of their poop to have it tested (my vet\\'s assessment was not enough for them to accept responsibility.) Also be aware that they were also involved in a recall back in 2005 (I think that\\'s the year) that killed several dogs due to their neglegence. So this isn\\'t the first time Diamond has harmed dogs. I personally will not forgive what they did to my dogs and to me. I also know that my dogs were not the only dogs sickened. They currently have a class action lawsuit against them for sickening HUMANS, but sadly there are no attorneys willing to represent animals in this matter.  What I find even sneakier on the part of Diamond was the timing of their recall. I actually purchased the tainted food in February 2012 and didn\\'t begin feeding it to my dogs until April because I had a previous bag of the same food that was already open. So they knew the timing of this dog food recall was well beyond anybody being able to prove their dogs were poisoned. (They also told me that once the bag was opened, I couldn\\'t prove it was poisoned because the bag could become poisoned/contaminated through \"\"other\"\" means...meaning they would accuse me of poisining my food and my own dogs. I had a 35 lb bag of that tainted food of which maybe only 5 lbs. was eaten.) This company is SCUM. People, if it\\'s made by Diamond...RUN don\\'t walk in the opposite direction!!!!  If I could give them a ZERO rating - I would...In fact I would WARN anyone who loves their animals to avoid this manufacturer once and for all.\"\\n',\n",
       " '5.0,Perfect Sun Dried Tomatoes,\"I had the extraordinary pleasure to spend a week at Villa Cappelli in Terlizzi, Italy, this past May. The ancient villa on an unpaved section of the Appian Way has been restored by Paul Cappelli. It is a working home with olive groves surrounding the villa. All products are made by Paul and his \\'Villa people.\\' Spices grow in his gardens. Vegetables sit in the Italian sun and are dried by nature. The cellar is filled with the olive oil vats. The lemons from his trees become limoncello. HIs sun-dried tomatoes are in his own EVO and are delicious. His red onion conserve is like none that I\\'ve ever had.\"\\n',\n",
       " '5.0,love this product!,\"glad to find this product in quantity, arrived promptly, as described. would purchase again. Love agave, have been using it for years, would never go back to white sugar!!\"\\n',\n",
       " '1.0,Awful!,\"I hate to post negative comments about this coffee because I read a good review about the Regular blend in Consumer\\'s Reports. In fact, it was that review that made me interested in trying this flavor. What a mistake! This \"\"vanilla\"\" flavor tastes artificial and there is a harsh, bitter aftertaste after each sip. I tried this coffee for three days to give it a chance then I threw out what was left. This was one of the worst cups of coffee I\\'ve tasted in long time.\"\\n',\n",
       " '5.0,Good product,Straight forward good product.  It work for its purpose.  The price is a little steep but you will get over it.\\n',\n",
       " '1.0,Warning - contains GMO soy,\"This product contains non-organic MonSatan soy lecithin (banned in Europe, causes cancer and organ failure in lab rats). Organic sources of soy lecithin are presently available - no good reason to use this poison. Most of the companies that use it have been bought out by the same mega-corps that make junk food, etc. USDA organic products are allowed to contain 5% GMOs.\"\\n',\n",
       " '1.0,False advertising!,The label is misleading. Cento actually sells two kind of San Marzano with the same label other than one that says D.O.P. certified. You will receive the one w/o the D.O.P. if you order from Amazon. I have made the mistake in the grocery store not realizing Cento sells ones are D.O.P and ones that are not and did not realize till it was too late. The true D.O.P. ones I have to say make the best sauce! You can taste the difference.\\n',\n",
       " '5.0,Excellent but not for kids,\"This tastes like real licorice candy, with a pleasant dash of real pomegranate. It has the right texture, starting out chewy and slowly melting and releasing flavor. While it is candy, not health food, the ingredients are more food and less junk than most candy.  My kids didn\\'t like it and I suspect yours won\\'t either. It does not have the intense artificial flavors of more processed candy, and the complex textures are more appealing to adult tastes. No one will pig out on a whole package of these, they are candies to savor. You could serve them after a good dinner with fruit, cheese, nuts and dessert wine without shame (unless your guests see the package, I suggest cutting the sticks into shorter pieces for additional deception).  Since I no longer take chocolate GORP on my hikes for health reasons, I tried short pieces of various flavors of this with raw almonds instead. I won\\'t say it delivers the ecstasy of the original, it satisfies both tongue and stomach.\"\\n',\n",
       " \"5.0,I can't believe they discontinued this!!!!,This muffin mix was a miracle maker - it made ME into a baker.  My teenage sons raved about them (they were amazing!)  Now I can't find the mix anywhere.  BJ's says Betty Crocker has discontiued them.  I'm SO DISTRESSED!!!!\\n\",\n",
       " '1.0,Don\\'t buy from this company,\"Don\\'t buy from this company. There was hardly any tea in the tins (they were small to begin with, and half-empty), and I\\'m not even sure they are Dammann teas The tea is repackaged and put into summit tea containers I feel like I just wasted $30.\"\\n',\n",
       " '1.0,Grains won\\'t multiply,\"I have tried to recover the grains with raw milk over 2 weeks, and the grains still remain yellow/orange and would not grow, but they could still ferment milk.\"\\n',\n",
       " '1.0,Do Not Buy,\"Please do not use this stuff. The Xyiltol can be fatal to dogs, goats and a few other animals. Please Google dogs+Xylitol. This stuff should be pulled.\"\\n',\n",
       " '5.0,Marvelous tea - use it in your Keurig too,\"A wonderful brew, but I won\\'t repeat what everyone else has said.  What I will say is if you use the 2 attached teabags in a Keurig (just put the 2 bags all by themselves in the same place you\\'d put a k-cup), you get a perfect cup of tea which is equal to the K-cups for 27.9 cents a cup vs. 68.9 cents per cup for the k-cup and just as easy.  Enjoy.\"\\n',\n",
       " '5.0,Nice Finish,\"I have purchased this tea several times now and I think it is one of the better ones I have tried.  I am a Dragonwell girl.  It hits most of the high notes of a Dragonwell tea, and this is probably the only one that I have found to be nice hot or iced, the others usually tasting best only hot.  It\\'s not \"\"too\"\" anything, doesn\\'t seem high in tannins as some other Dragonwells, yet not weak flavored either, just more down the middle, and it is a bonus to know it is organic, although that is not always a guarantee for high quality.  Teas vary in flavor according to climate variability that particular season.  Bottom line:  whether organic or not, I will pick the Dragonwell that best represents its signature qualities.  This one does, in my opinion.\"\\n',\n",
       " '5.0,good food recieved on time!,\"i\\'m a vegan and always missed ramen from my non vegan days over a decade ago. These are vegan and a great subsitute for regular ramen. I think they are healthier although they probably contain as much sodium but the flavors are fantastic. I mixed in fresh mushrooms while the ramen was cooking and it made it even more delicious! a great buy, and it arrived on time, great packaging too! (the ramen packages were 99% whole!)\"\\n',\n",
       " '5.0,skinny water citrus,The power citrus berry is the best flavor of all.  It is so hard to find.  I just want to be able to find enough to keep me supplied at all times for 2 bottles a day.\\n',\n",
       " '1.0,\"I received \"\"Concentrated Date Juice, Sugar...\"\" ... tried again, got syrup\",\"I was so excited to receive my order, considering the rave reviews. And I was so sad to read the labels on my jars -- which stated the ingredients as Concentrated Date Juice, Sugar, Water, Citric Acid.\"\" The web photo of the label says only \"\"DATE.\"\" Apparently, the maker is sending Amazon a different product to substitute for the \"\"pure natural\"\" all-date one. This substitute is just a syrup. Other reviewers seem to love it, but I wanted pure date molasses. UPDATE: Since the customers who got lucky and got the all-date product loved it, I tried again. Sadly, this time, the \"\"date molasses\"\" didn\\'t even taste like dates; compared to my first order, this batch looked light in color, had a more watered-down consistency, tasted to me like HFCS mixed with honey, and tasted to another person like pancake syrup. I wish the manufacturer would make a pure date molasses. They make a carob molasses, but I\\'m afraid to try it based on this experience.\"\\n',\n",
       " \"1.0,not for me,I thought this sounded interesting - and healthy. But the taste was  - is - so awful that I just couldn't drink it. I am glad I didn't buy a larger amount. Now I am stuck with 10 packages I won't use.\\n\",\n",
       " '5.0,Great belts with a sour kick!,\"These are a great deal - they\\'re individually wrapped, so they don\\'t get all sticky.  They\\'re a bit thicker than the kind you\\'d find at a old-fashioned candy store, but they\\'re pretty great nonetheless. There\\'s a really strong sour kick right at the start that\\'s great!\"\\n',\n",
       " '5.0,Arrowhead Mills Spelt Flakes,\"I\\'ve been buying this cereal since I became sensative to wheat and I absolutely love it. I drizzle a little honey on them and sometimes add banana, but they are marvelous without either.\"\\n',\n",
       " '1.0,worst first expierence,This product completely dissapointed me. Im doing the lemonade diet and i was looking so foward to this maple syrup sweeting my lemonade but boy was i wrong. as soon as i tried it tasted horrible. you get such a nasty after taste. i would never buy this again\\n',\n",
       " '5.0,This stuff is great,\"I ate this stuff before going vegetarian a few years ago,and I eat it a bunch now. Low fat,packed with protein,super versatile in cooking and tastes great. Highly recommended!\"\\n',\n",
       " '5.0,This is the best tea for iced tea,I use these bags exclusively to make iced tea with either an iced tea pot or hot water in a reusuable bottle.  It has the best flavor of any tea on the market and amazon has the best price and quick shipping.  This is a great item for a subscription if you use as much iced tea as I do.\\n',\n",
       " '1.0,\"Great Product, but item near expiration\",\"Received the items today (05/12/2012) and all 24 cans of food are set to expire (5/15/2012). Since we feed our cat a can of wet food once a day, there\\'s no way that our 8 pound cat can finish more than 2 of the 24 cans in the allotted expiration date. Our cat loved the Beef flavor Instinct food when we purchased it from PetCo, so we seeked a better deal online and now we know exactly why it was so cheap...because you can\\'t use it!\"\\n',\n",
       " '1.0,Garbage,\"Not only does my dog not like this, but it also gives her diarrhea.  Avoid giving your dog this food if at all possible!  There are too many bad allergens in it.  Such a shame Rachael Ray put her name on this awful product.\"\\n',\n",
       " '5.0,Excellent product,\"I use organic cocoa in shakes every morning and like to control amount of sweetening I add.  This is an excellent, healthy product sold at a great price.\"\\n',\n",
       " '5.0,Bought these on bade in Texas,\"These are amazing and I am starting to worry that I may have a hard time finding them again.  They are flavorful, crispy, and addictive.  I came here to buy these on Amazon and am sad that I can\\'t.  I hope they are available soon.\"\\n',\n",
       " '5.0,Family really likes this.,\"I don\\'t know if the taste is identical to the sauce used to make the Bang-Bang Shrimp at Bonefish but it doesn\\'t matter.  This sauce has good heat and flavor.  I can make my own but now that we\\'ve found this, why bother.\"\\n',\n",
       " '1.0,Very Disappointed,\"I received this plant for Mother\\'s Day from my daughter.  There were no flowers and looked nothing like the picture.  Like several other reviews, the plant was dead within the month, although I followed the instructions.  When watering the plant, because the DIRT was so hard, the water just ran right off, rather than soaking in.  Finally, I kept it sitting in a pan of water in addition to the regular watering.  Unfortunately, by then it was too late.  Instead of the package being addressed to me, it was addressed with my daughter\\'s name and my address.  I do not recommend buying this plant.\"\\n',\n",
       " \"1.0,too acidic,My 5 month old does not like these at all.  They make her twinge and cringe.  I tasted them and they don't taste like bananas at all.  I do like Earth's best jar food and thought that this was a good deal.  But I think that these jars have been hanging out in a sweltering warehouse somewhere... they are not good at all.\\n\",\n",
       " '1.0,HORRIBLE. please save your money for something else.,\"I read the rave reviews ad thought this could be a good snack.. WRONG. if you are reading this and debating whether to buy this or not, please do yourself a favor and DO NOT PURCHASE this. the fries came soggy and very weird-flavored. i almost thought they were wet or just super super moist. it was gross. simply inedible. i really regret not thinking twice before buying this, and I hope no one else falls into this trap.\"\\n',\n",
       " '1.0,\"RECEIVE 12, PAY FOR 36!!! WATCH OUT!\",\"*****BE CAREFUL!  YOU GET ONLY 12 BARS IN YOUR ORDER*****, although the item description specifically states:    \"\" * MULTI VALUE PACK! You are buying 3 packs. Each pack contains 12 units. You will receive a TOTAL PACKAGE QUANTITY of 36 combined units of Macro Grn Bar, Apple Lemon, 42 gr   * Quantity: BULK PACK OF 3 packs. Each pack contains 12 units. Multi-Pack Package Quantity 36 UNITS Description: MACRO GRN BAR,APPLE LEMON . (In case of confusion on contents of this multi-pack - please email seller).   * Attributes: Dairy Free, Gluten Free, (Please check the manufacturer\\'s details for contents as we are unable to guarantee ingredient details and they may change without notice). \"\"  ALSO, RETURNS ARE NOT ACCEPTED!  UNLESS YOU WANT TO SPEND OVER $3.00 PER BAR, STAY AWAY FROM THIS ITEM!!! :(\"\\n',\n",
       " \"1.0,Damaged and full of maggots,We've ordered this item via subscribe and save for a couple of months and it has always arrived damaged (usually one or two cans are opened; nothing more to report). This month the package contained a number of open cans that contained families of maggots that paraded across our bathroom floor.  Not the bonus you're hoping to get with your online cat food order.\\n\",\n",
       " '5.0,\"Very pleased, but bought it in store\",The flavor is very good. Works great for baking and frying. Also a good skin moisturizer. Buy it at Costco if you can though. They sell it for $15.\\n',\n",
       " '5.0,SALT OF THE EARTH!,\"If you think that salt is merely salt, listen up! This salt gives a flavor to food that you would have never imagined. Salt is a flavor enhancer, but this salt tastes like the Rolls Royce of them all. If you want to savor your cooking and kick it up a notch or two, I recommend sprinkling this salt on just about anything you can put in your mouth. BRAVO!\"\\n',\n",
       " '5.0,great coffee for a great price,\"Love the large size Gevalia morning roast.  It makes about 1 1/2 mugs of coffee.  Just enough to keep you going through the morning.  The flavor is perfect, not too strong and not bitter.  The three pack is a great value.  This price is way better than buying from the grocery store or department stores.  A wonderful way to start your day.\"\\n',\n",
       " '5.0,it works,\"I am not the kind of person who hears about a miracle cure and rushes out and buys it. The tops of my feet and ankles were starting to hurt, I am a UPS driver and it had been a rough peak season and every year I am getting older and every peak seems to be getting harder. At first I thought I was getting gout , although the symptoms didn\\'t quite match up. I looked up remedies online ( I hate taking prescription drugs needlessly, sometimes the cure is worse than the problem) Tart cherry juice was supposed to flush Uric acid from your system. I didn\\'t have gout but the tops of my feet and ankles stopped hurting in about three days of using the juice. I bought tart cherry pills from Whole Foods they work but not as well as the juice. Hey it worked for me , I\\'ll continue using it\"\\n',\n",
       " '5.0,Cant find this at my local martins of walmart,I was glad to find this tea as for some reason my local stores quit carrying this flavor. Came with a great price and now Im stocked up.  Only issue is that the box it came in looked like it had been thrown from a plane at 1500 feet.  I know this is more of a UPS error though so no stars deducted for that.\\n',\n",
       " '1.0,Over-priced,Ordered this item and to my surprise paid more for shipping than the item itself.  Was very disappointed and will not order from this company again.\\n',\n",
       " '5.0,Great Gluten Free Instant Oatmeal,\"I have been gluten free for a few years and have found this instant oatmeal to be very good.  Actually, the best one I\\'ve tried so far.  I highly recommend.\"\\n',\n",
       " '1.0,nasty taste never buy again,bought these thinking they were going to be good but was I wrong.  Had a very artificial taste to it just going to stick to plain water.\\n',\n",
       " '1.0,Comes in a plain brown paper bag!!!!,\"Comes in a plain brown paper bag!!!! I was shocked and disappointed that this was packaged in a plain brown paper bag, no box, nothing but a plain brown paper bag..\"\\n',\n",
       " '1.0,Nescafe a joke!,\"I woke up today, Sunday, to find my Sunday newspaper for the Chicago Tribune wrapped in a plastic bag with the words, \"\"our instant tastes rich not expensive (sorry Starbucks)\"\"  Naturally, I decided to put your Taster\\'s Choice packet to the test.  Could you please define the word \"\"rich\"\" according to your dictionary.  To the rest of the world, rich implies full-bodied in a drink.  Nothing about your instant coffee is rich.  It is quite the opposite actually.  The finished product with 6oz of water look exactly like that, dirty water.  Looks like something that would come out of my rain gutter, not my coffee pot.  It\\'s tastes is repulsive.  In fact, if I liked drinking hot water, you might have a market.  I would reason that the fact your coffee costs \"\"4x less than Starbucks Via\"\" is because it is made with 4x less quality.  The taste is in the cup.  You should be embarrassed that you call yourself \"\"Taster\\'s Choice\"\"  Who\\'s choice?  A zombie?  Also, how low can you go?  Your text font on your bag is exactly as Starbucks VIA in their stores.  Come on!  Be original!  Don\\'t sit on the defensive side and use the same ideas as others.  It sounds like someone is losing business on a product that has been horrible from the beginning and is facing real competition.  Maybe you should spend less money on the marketing of the same recipe of Taster\\'s Choice and more money on the development of something that actually is able to compete with VIA.  Back to the drawing board Nescafe.  Your product is horrible and the taste is in the package.  I wouldn\\'t recommend this product to anyone.  In fact, as a coffee lover, I will make sure everyone I know makes \"\"the smart choice\"\" and chooses anything BUT Taster\\'s Choice!\"\\n',\n",
       " '1.0,Was YUMMY crispy!! but not for me...,\"I can taste the cinnamon, I think I taste clove. both Nana\\'s And Pamela\\'s has salt. O.K for me, I don\\'t have a lot I\\'m not allergic to eggs if I am then I NEED to get a different kinda Flu shot! This reminds me of Nabisco\\'s Ginger Snaps  Ginger Snaps, 16-Ounce Boxes (Pack of 6)  Use to eat when I was a kid :D AHH another food that calls me!! YING-YANG  Found out It caused GI problems for me :..( going to stay with Nana\\'s Bites :D  Nana\\'s No Gluten Lemon Dreams Cookie Bites, 5-Ounce Boxes (Pack of 12)  &  Nana\\'s No Gluten Ginger Spice Cookie Bites, 5-Ounce Boxes (Pack of 12) \"\\n',\n",
       " '1.0,Horrible!,\"Not only was the taffy too hot to eat (and I love Cinnamon Salt Water Taffy normally) the customer service was even worse.  Despite what Amazon said would happen, it didn\\'t even SHIP for 8 days.  I tried to contact them twice to find out why so long.  They couldn\\'t be bothered to reply.  I ended up throwing out the candy.  It was a total waste of my money!\"\\n',\n",
       " '1.0,SPONGY!!,\"Sorry Tommy Maloney - I guess I am just used to eating Scottish black pudding.  I found the allspice in this product overpowering - way too strong, and the texture was spongy, kind of like sausage.\"\\n',\n",
       " '5.0,truffle oil,The oil is excellent for cooking almost anything that requires oil of any kind. It almost tastes good enough to eat all by itself\\n',\n",
       " '1.0,Expired,\"Expired and broke my daughters braces, She should not have been eating it in the first place lol but they were as stale as a rock!!\"\\n',\n",
       " '5.0,babys only is the best formula on the market hands down!,\"I did so much research as to what formula will be best for our child. We wanted to choose organic definately and was willing to pay the cost. Then we came across this brand and instantly fell in love. I love the fact that they support breast feeding and insist babies be fed just that for first year but ofcourse we all know it is not always as easy as it sounds. I breast fed my baby for first 6 months exclusively and pumped exclusively as she would never latch. When I weaned him off breast milk, we started him on babys only organic formula. our son love it! He has never had any problems with it. No constipation at all infact he goes x2-x3 daily. I have also read some bad stuff on internet such as the recent study  condeming this formula and yet I still stand by it and will continue using it. I would say to the company, keep on making good formula for little ones but if at any chance you are thinking or doing any harm to our little ones, you must stop immediately as we all have faith in you. i bought my formula on amazon it is definately much cheaper than other places\"\\n',\n",
       " '1.0,MY DOGS DIDN\\'T LIKE THIS AT ALL!!,\"I tried this product on my dogs 3 times and each time, they would not touch it!  Admittedly, my dogs are picky, but no even one of them would try it.  They would walk up and sniff it, but they would not even taste it.  My dogs (3) are all small dogs and don\\'t eat a lot of food.  Maybe if your dog is larger or less picky, it would appeal, but I can\\'t say I would recommend this product.\"\\n',\n",
       " \"5.0,Dog Loves this!,I have many different chews for my sweet 6 month old puppy Bella and this is one of the 2 she will eat in it's entirety! Thank You for such a great product!\\n\",\n",
       " '1.0,Only got 1 sprout,\"I used these in an automatic sprouter, Its on a timer and mists the sprouts as set. These did nothing, all the other sprouts did beautiul (mung, garbanzo, split pea, wheatgrass, lots others). The baby black sunflowers in the shell did great also. These were just gross. They got a slimy film on them and only 1 little seed sprouted. I would not recommend these for sprouting, however they make a great salad topper\"\\n',\n",
       " '5.0,Tasty Product unavailable in area,\"The best tasting Garlic Rye chips.  Used to be carried by Wal-Mart, but they stopped carryng them.  Found them on Amazon and immediately purchased them.  Great price, fast delivery.\"\\n',\n",
       " \"5.0,My 4 cats love them!,I've been buying these since they first came out and my cats love them.  The oldest is 11 years and they obviously helped his teeth because the vet was suprised they looked so good for his age.\\n\",\n",
       " '1.0,Bring Back the Old Recipe!,\"This is one of my favorite Campbell\\'s soups. I bought a can recently at the market and found that they\\'ve changed the recipe to include carrots and other vegetables and got rid of the spinach. The flavor is different. I don\\'t like the change at all. The old recipe was tasty and the spinach a nice touch.  Campbell\\'s, please bring back the old recipe!\"\\n',\n",
       " '5.0,Jello Custard Mix,I was so happy to find  this Jello Custard Mix.  I grew up on it and was dissappointed when all the local grocery stores stopped carring the product.  The product is very is to make and still tastes great!\\n',\n",
       " '1.0,Keebler Pecan Sandies,\"When I was growing up,  my mother used to buy these cookies for us.  They were crunchy, light and had a great flavor.  I have recently bought a bag of thes cookies and they are absolutely terrible.  How disappointing!!  They are tasteless, greasy and dense.  I will not buy again!!!!!!\"\\n',\n",
       " \"1.0,Not for me,I rated this a 1 just because I didn't care for the taste at all.  I have never purchased any raw seeds before and this might just be what it's supposed to taste like but it has a weird aftertaste and I can't get rid of these bags now :(  No one wants to take them off of my hands....\\n\",\n",
       " \"1.0,horrible advertising... no box count,this ad is meant to deceive how much boxes for 19.99... outrageously expensive if it's 3 as pictured. would never purchase from such a buyer.\\n\",\n",
       " '5.0,My Favorite Tea!,\"I don\\'t drink caffine, and I don\\'t generally favor Bigalow. I was introduced to this tea at a Christmas Tree Stand. It is my alltime favorite tea. Something about the smokey background flavor. Not too spicy or strong ( I like strong, but not too strong). Just really good! It is now usually my first cup in the morning. I can\\'t find it anywhere but Amazon.\"\\n',\n",
       " '1.0,\"Way less than advertised selection, even when counting decaf as a seperate flavor.\",\"I was hoping when ordering this that it would come with many unique flavors to try, the main reason I bought the Keurig over other competing products was the selection of coffee flavors. This package does not deliver on the variety it promises. When counting each flavor without duplicates there was 21 selections, however three of these were decaf versions of the same flavor from the same company. The majority of the selections were either hazelnut or french vanilla from different companies, if you remove the decafs and choose only one of hazelnut and french vanilla from all companies there are only 10 different flavors of coffee, much less than the advertized 27. I will not be buying this selection of k cups again nor will I be buying any of \"\"crazy cups\"\" mixed packs.\"\\n',\n",
       " '5.0,Tasty stuff,\"I like that you can brew it in cold water, although it\\'s stronger in hot.  I also liked that it\\'s unsmoked - I was reading that some of the rumors/small studies that show mate might be mildly carcinogenic were done on smoked mate, which caused me to look for unsmoked and find this.  It doesn\\'t taste the same as smoked, understandably, but it tastes good.\"\\n',\n",
       " '5.0,Vitacost Coconut Oil Review,\"It was way early in being delivered.I can honestly say after taking it everyday for the last two weeks,that I have more energy but the most amazing discovery is I have a better memory.All thanks 2 Vitacost coconut oil.And all thanks to Amazon 4 making it so I can afford it on a budget.Thanks Amazon.\"\\n',\n",
       " '1.0,Urine & Gasoline Water,\"This is a product idea that has gone horribly wrong. I\\'m just spit balling here; perhaps this was a way to get the Arizona brand into the lucrative super water market. Something meant to be simple, but ended up being needlessly overcomplicated. It\\'s so bad.  The tea + fruit +   combo comes out tasting like urine + gasoline + complex vitamins in a bottle with a pretty, but busy label.  If you were looking for another option to Lifewater or Hint (or even Gatorade) this isn\\'t it.  If you are looking to have something in your house until the Zombie Apocalypse forces this to be the last beverage in your house (because no one will drink it until there are no alternatives remaining) like me, this is it.  Take this one back to the drawing board. Or just sell it to people looking for Zombie Apocalypse guaranteed to be there water.\"\\n',\n",
       " '5.0,Nigel is gonna be sad - we\\'re out of chicken pot pie,\"My cat Nigel is very into food. When I opened the first can of Petite Cuisine, he thought he\\'d died and went to heaven. This was bits of chicken breast, broth and a few very finely chopped vegetables. The chicken pot pie had a more watery broth - the sesame chicken was in a more gravy-like sauce - but both flavors were devoured.  My cats are big, outdoorsy cats. They were all once feral. They still frequently bring home a snake, vole or squirrel for entertainment - or supper. I have six: 4 big guys (14-17 pounds) and two slightly smaller girls (11 and 12 pounds).) They appreciate fancy little tidbits of food on a saucer. They especially liked Petite Cuisine.  They have free access throughout the day to dry kibble: Purina One Chicken&Rice and Purina Indoor  mixed half and half. We have 3 small  Petmate Le Bistro Feeders  which they love. Then in the evening I feed them 3 ounces each (1/2 can) of Friskies Salmon&Chicken Dinner Shredded. Because the Petite Cuisine cans were so small (3 ounces) I first gave them one can per cat, but that was too much. I split 4 of these tiny cans between six cats and that was just right: no leftovers. They liked the Petite Cuisine better than Fancy Feast or Purina Selects.  This package contains 24 cans. 12 cans are pot pie - 12 sesame. The price is comparable to Purina Selects, Fancy Feast or Sheba from the grocery store - but I think the quality is higher. This looks and smells like chicken my Moma cooks! At the end of one week of feeding Petite Cuisine, all of six of them - their fur just glistened.  Nigel is plotting: How to work computer and get Petite Cuisine on auto-subscribe shipment from Amazon? Hmmmmm? Bodhi just wants the A-4 Smiley Box* it comes in!  * A-4 Smiley Box - the new cat sleeping container that is delivered almost weekly by the man wearing brown. A sleeping cat\\'s smile is on the side.\"\\n',\n",
       " '5.0,This oolong tea has perfect flavor,\"There is an Asian restaurant in town that serves the most wonderful oolong tea.  I began my search for oolong tea so I could have this decadent drink at home.  After searching all the grocery and specialty stores in town, I quickly learned no one sells oolong tea!  I was pleasantly surprised to find it on Amazon and at such a great price.  This tea has \\'perfect\\' flavor--not grainy/grassy like some green teas; and not as strong as a black tea . . . .it has that wonderful oolong tea flavor you\\'ve experienced in your favorite oriental restaurant.  I\\'m ordering my second round of 2 boxes.  The hard core green tea drinkers have quickly adopted this as their favorite!\"\\n',\n",
       " '1.0,Poor customer service,\"Sticker on invoice: \"\"We care about your satisfaction with our products and service. If you have any concerns or questions about your shipment, please call us toll free at...\"\"  Who would think that getting coffee could be so difficult?! We had a problem and it had been arranged that the coffee would be exchanged. They sent a Fed Ex label and off it went. After 2 weeks, a call was placed to check status. Emma (Pres) relayed the shipment would go out immediately and apologized for the delay. Thought it was done...  A few moments later, Anna calls back and goes into some diatribe with my wife not knowing what coffee is.  If the president of the company resolved the issue, why is someone else from the company calling to stir it up?!  Another call back to speak with Emma and she apologized for the actions of Anna. The coffee and a \"\"for your trouble\"\" gesture would be sent along that day. They are located cross town about 10 miles away and most shipment are next day...nothing came.  A week passed and still nothing. Another call. Emma relays that it should have been taken care of and will call me back next day to confirm. Next day came, went...nothing. We are quite disappointed by this company. They got the $$ and we received empty words.\"\\n',\n",
       " '5.0,Chocolate with a PUNCH,These chocolates are the most perfect container for the most tasty brandy I have ever had.  They are a wonderful sleeping pill at night or an evil after dinner treat.  My mouth is watering.\\n',\n",
       " \"5.0,100 calories,These chips are so flavorful. They taste close to potato chips but they are 100 calories and about 3g fat. Much healthier. They have a great crunch and are nice and salty for when that's what you're looking for. My favorite is the BBQ a few of the others taste a little weird to me.\\n\",\n",
       " '5.0,Yummy,\"Sometimes it\\'s hard to find just that special drink that brings the warm cozy feelings but this item does the trick. Smooth and a great price, easy to make sure all the family gets to share in all those feelings.\"\\n',\n",
       " '5.0,Somebody pinch me!!!,\"I must be dreaming!!  This dip, along with the Chocolate Syrup, is saving me from wanting to cheat on a weight loss program I started a month ago!  A few tablespoons a day of this stuff (or swigs of the syrup), and I\\'m good to go.  I admit, it has a bit of an after taste, but it doesn\\'t take away from the initial chocolate burst at all.  The dip is a lot like pudding, especially after being in the fridge for a while--it gets really thick and cold.  I absolutely LOVE this stuff!  HIGHLY recommended (but don\\'t bother with the salad dressings--uh uh...)...\"\\n',\n",
       " '1.0,No it is overpriced,\"Kroger sells one for $12.00, and Wal-mart sells one for $9.99. So how is two for $41.00 a deal or ever a good price?\"\\n',\n",
       " '1.0,This milk makes our baby really sick!! :(,\"Sorry to give this 1 star. but this milk really makes our baby really sick!! :(, literally!! if your baby can take it, I guess it\\'s a good one but for us, we had the worst experience with it.  Here is our story. My baby had been solely breastfed. After 9 months my wife was running short of her milk. She didn\\'t have enough breastmilk for the baby and he didn\\'t take as much solid food as we would want him to. We gave him Similac Advance, it was recommended by the hospital. First Similac Advance Liquid, he threw up 9 times within 2 hours after half an hour of feeding. That happened twice. A few days later, we tried Similac Advance power, he threw up again! This time 5 times plus serious diarrhea for 5 days. He has lost 5% of his weight within 2 days. That\\'s really bad.  We were desperate. We took him to the hospital twice that week. The doctor though it was stomach flu. However, I didn\\'t quit agree with him. What a coincident that 2 different formula milk feeding incidents would throw my baby off balance. I\\'m a computer engineer and dealing with solving and debugging problems all the time. I was firm with the doctor that this was not a coincident. I thought it might have something to do with the protein in the formula that my baby couldn\\'t digest. We decided to try Lactose free formula (Nutramigen from Enflora). It smell and taste really awful (my wife tried it and she gagged. As we thought, my baby rejected to drink it. Then I tried Good Start soy. Same story, smell bad but not as bad as Nutromigen. My baby also rejected to drink it.  Now we were really desperate, not enough milk for him and he doesn\\'t like to eat solid food!! He would throw up + diarrhea if he gave him normal formula milk. Phone call to 4 advise nurses, no luck! I finally search on the internet and found a lot of similar story to what we experienced (including this on Amazon reviews). I decided to give it a final try, crossing our fingers really tight. Good Start Gentle Plus is our last hope or my baby would not have any more milk to drink. He\\'s losing weight!!  And then miracle happened!!! This milk works wonderfully for him. The only complain I would have is that it doesn\\'t smell as good as the normal cow milk-based formula, however, doesn\\'t smell or taste awful like the other two.  My baby didn\\'t quite used to the tasted in the beginning and didn\\'t really want to drink it at first. So we tried mixed it with breastmilk for a few days.  Now he is a happy baby, gaining weight, doesn\\'t throw up and used to the taste of it. My wife and I are now happy again :)\"\\n',\n",
       " '1.0,Not happy with my space stickS,I was under the impression that  STICKS was plural. I would not have paid $12 for one space STICK.  Thank You Very Much\\n',\n",
       " '5.0,T-disc latte,I love the iced latte I can make with my Tassimo one-cup.  Buying the 2 items necessary (espresso and the milk)separately makes it much cheaper.\\n',\n",
       " '5.0,Quick and easy brown rice.,\"GoGo brown rice  is great!  It takes 90 seconds to cook, tastes terrific,  and makes using brown rice so easy.  A must have staple for the pantry.\"\\n',\n",
       " '1.0,Light roast not Regular!!!!!,\"This is NOT the regular roast Green Mountain Hazelnut coffee that came along with your Keurig Coffee maker, but a much lighter roast. The picture is misleading and shows the k cup that matches the regular roast. The light roast has the word Noisette written under it. I ordered two boxes and received this lighter roast, I noticed the word light roast on the box as well. I complained and was told that they would send me the regular roast, but to my dismay they once again sent me the light roast. I find the light roast taste similar to run thru coffee and has a weak hazelnut flavor. I am very disappointed in this whole transaction and will order straight from the wholesaler next time. Sorry, Amazon I really love shopping with you, but ya\\'ll drop the ball on this one.\"\\n',\n",
       " '5.0,Unbelievably delicious freeze dried apples,\"I usually don\\'t care for freeze dried fruit, but these are in a class by themselves.  They are cored and PEALED, and melt in your mouth delicious.  The same company makes the same product in separately decorated bags.  Mickey Mouse Clubhouse for Kids and Crisps for adults.  They are the exact same product, so if one is unavailable, you can purchase the other.  My favorite is Apple.  If you do purchase these, buy them through Amazon, as they sell them cheaper than the grocery store. These are really yummy and good for you too.  I am a grandmother, and this wonderful treat was introduced to me by my grand daughter.\"\\n',\n",
       " '5.0,\"It\\'s pasta, plain and simple\",\"I decided to give the whole online grocery shopping a try, as I had recently wrecked my car. I can\\'t remember how much these are at the local walmart, but they aren\\'t a bad price on here. Shipping was good, and its pasta.\"\\n',\n",
       " '5.0,\"A \"\"must have\"\" on the spice rack\",\"On Salad, fish, poultry, beef, soup or steamed veggies, Zatarain\\'s Creole Seasoning enhances virtually any culinary creation. It has a lot of flavor and a nice little \"\"zip\"\" but not what one would describe as \"\"hot\"\" like Tobasco Sauce or Jalapenos. Dinner guests always want to know what that wonderful seasoning is in my food, most of the time it\\'s the Zatarain\\'s.\"\\n',\n",
       " '1.0,Really?,\"I bought this because my son loves Bacon and always asks for \"\"double on the Mayo\"\".  He will eat pretty much anything, but this he couldn\\'t stomach.  It was so gross!  He gave it away, and even his friend who will eat anything can\\'t stand it.  Pretty nasty stuff, made from 2 things most people like.  Beware before you buy it.\"\\n',\n",
       " \"5.0,Amazing Gum,It tastes just like Mint Chocolate Chip ice cream. Since that's my favorite ice cream flavor; I love this gum!\\n\",\n",
       " '5.0,very pleased with prompt delivery,I found the coffee a bit pricey but worth the cost- I was very pleased to get such prompt and efficent service. I was a bit suprised because of the shipping from a surgical supply firm - but had no problem at all.\\n',\n",
       " '1.0,Not quite was depicted,\"For starters, it comes in a clear plastic bottle, not the dark glass in the picture.  Then there\\'s the ingredient list:  Water, PROPYLENE GLYCOL, natural and artificial flavors, Phosphoric Acid.  Doing a bit of research, I find that while propylene glycol is what goes into modern antifreeze and hand sanitizers, the US FDA has determined that it is \"\"generally considered safe.  According to the rest of the reading, it would take a LOT to cause a problem.  But my question is: Why are we using it at all?  Is there nothing else that will do the job?  Theoretically, it\\'s an alcohol, but then again wood alcohol makes people go blind, so...  Lots of questions, no conclusive answers.  I\\'ll likely try a drop or two, but I wish Amazon had revealed this in the first place.  At $8.xx, it\\'s not responsible to the carbon footprint to ship it back... but that doesn\\'t mean I\\'ve go to like it.  EDIT: put a couple drops into some oil... it doesn\\'t mix.  Not even a little bit.  So it is being returned.  Not worth buying, IMO.\"\\n',\n",
       " '5.0,Coffee Pods,I have been a devout believer and drinker of the Senseo Coffee Maker and coffee pods for years. I have given the coffee maker as gifts and regularly hear from friends whom I serve the coffee to state that it is by far the BEST tasting cup of coffee they have had from a home brewer.\\n',\n",
       " '1.0,Not a complete package!,\"I purchased this wine making kit because it was advertised as having everything you need.  The contents was a mix and corks.  When I purchased this product, I thought I was getting everything I needed to make wine like the beer making kit I recently purchased.  Boy was I wrong.  Therefore I gave this product one star because I still need to buy everything else.\"\\n',\n",
       " '5.0,\"Good treats, good price - popular with my dogs - see video review\", These are good treats with a good crunch and apparently a good flavor.  You can see my dogs enjoying them in the video.\\n',\n",
       " '1.0,disappointing,\"Just didn\\'t like these - seemed like a cookie (fig newton, but blueberry) with jam in it.  Wish I could find someone that liked them so I could ditch them.\"\\n',\n",
       " '5.0,Duncan Hines Orange Cake Mix,This item is impossible to find in CT...I use it for Harvey Wallbanger Cupcakes (Modified recipe from THE CAKE DOCTOR by Anne Bynes). Came quickly! Will order more!\\n',\n",
       " '5.0,Fanfrikkintastic indeed!,\"If you like perfect spicy bloody Mary mix, you must try it! It will make you blush! Perfect addition to your summer brunch. The flavor is great!\"\\n',\n",
       " '5.0,Great product,My two Bassett Hounds love these things.  I wish they were slightly cheaper and I also wish the brushes on the toy were available for sell seperately.\\n',\n",
       " '5.0,My favorite coffeee,\"Just goes to show everyone has different tastes!  The other reviewer hated this coffee while it\\'s actually my favorite one!!  I have a subscription for it so that it\\'s delivered to me monthly.  It is smooth, tastes good and not too strong or overpowering...which is why I love it.\"\\n',\n",
       " '1.0,Poor Substitution,\"A Texas transplant to Maryland, it has been hard to find good chili mix at the grocery store.  For a brief and wonderful year, my local store carried my favorite, Wick Fowler\\'s 2-Alarm Chili Kit.  Then they restocked with this stuff.  While it appears to be made by the same folks, it\\'s AWFUL.  They\\'ve left out the onions, there\\'s almost no cayenne pepper (they say to make it hot add the whole package, I would have needed about a half dozen of their little packages to even touch hot!), and the herbs and spices are all mixed together so there\\'s not real sense of how much of anything you\\'re putting in.  No problem if it\\'s good, but since it\\'s not...  It appears that they\\'ve upped the chili powder quotient and backed off on everythign else.  If you like chili, don\\'t bother with this stuff!\"\\n',\n",
       " '5.0,This is the Best Wine for the Money,\"If you go into an Olive Garden Restaurant, and order a red dry wine, this is the top of the heap!  It is flavorful, correctly acid and has a wonderful finish.  After a visit to an Olive Garden near Hilton Head South Carolina, I was in love with this wine.  The Olive Garden claims that this wine is their wine and fermented exclusively for them.  Well I did the legwork and found the wine for much less of a price then offered at Olive Garden.  My find is your benefit... try it once and you\\'ll see what I mean.  Want to talk about this wine... email me at dagardenguy@yahoo.com.  Walt\"\\n',\n",
       " '5.0,Excellent product,\"My primary reason for buying this product was to help my digestive system.  I have iron deficiency anemia, but I could not tolerate any brand of iron supplement, and the shots were extremely painful. So I became extremely anemic and needed transfusions. Consequently, I couldn\\'t take a chance anymore on not using iron tablets and I had to find a way to take them without suffering. Because I use coconut oil and milk in my cooking and for skin/hair care, I\\'ve done research on the benefits of this amazing seed, and I thought that these capsules might help me to tolerate iron tablets.  Well they have, and I am now able to tolerate 3 daily doses of ferrous sulfate, so I\\'m in compliance with my doctors orders and my hemoglobin level is rising.\"\\n',\n",
       " '5.0,Great price and excellent customer service,\"I made 3 subscriptions to juicy juice: 2 for strawberry banana and 1 for apple.  I received only 1 of my orders and checked UPS to find out what happened.  The other 2 were unable to be delivered due to damage.  I contacted Amazon and they immediately sent out the next 2 boxes for next day delivery.  Well this time Fed Ex delivered and they did a crummy job as well.  The box was crushed on the bottom, damp on the inside.  The juicy juice box that holds the 4 packs were somewhat crushed, sticky and the bottoms of the boxes were soaked.  I immediately contacted customer service again and I have 2 more shipping out.  I did make a recommendation to Amazon about improving how they ship this item as the box was way too big for this product and was bouncing around. Otherwise, my children love juicy juice, it was a great price, and the customer service was awesome.\"\\n',\n",
       " '5.0,Really Yummy,\"Unfortunately, I just love the Ferero chocolates.  Crunchy on the outside and yummier on the inside. Generally I don\\'t eat dark chocolate, but Ferrero also comes in milk chocolate.  I do limit myself on these as my husband likes them, too.  We share.hmmmm\"\\n',\n",
       " \"1.0,Yuck.,This tea is not to my preference.  I am an avid tea drinker.  This tea is bitter and I would get a better brew by gathering the grass from outside that the gardeners blew over to the edge of the parking lot and throwing it into a pot of hot water.  I didn't taste any citrus in it.\\n\",\n",
       " '5.0,This makes that margarita that you have been looking for!,\"If you have ever had one of those \"\"to die for\"\" margaritas when out, then this is probably what was used.  This is one of the very best mixes I have tasted.  And being from Texas, I have drank some margaritas!  You can\\'t go wrong with this mix, just buy it!  You\\'ll see.\"\\n',\n",
       " '1.0,\"This \"\"treat\"\" almost killed my dog.\",\"I have a Shih Tzu/Poodle who loves these duck treats so we\\'ve been giving them to her for a few years.  About 6 weeks ago she developed a urinary problem.  She would lie down for a nap and suddenly stand up in a puddle of water. She also began wetting the bed and seemed to have no control over it.  We took her to the vet who immediately said no more food or treats from China and sent us to a specialist who tested her for just about everything (very uncomfortable for her, upsetting for us and very expensive).  We just got the final test results back and she has been diagnosed with Fanconi\\'s Syndrome.  There\\'s not too much we can do except pray that the kidney damage reverses itself.  We\\'re cautiously optimistic because since she hasn\\'t had one of these deadly duck strips she\\'s regained some control over her urination and hasn\\'t wet the bed in 6 nights. Please, please, please DO NOT give your precious pet anything made in China but most especially these horrible, deadly treats. PCI Quackers Duck Tenders, 2- 1lb. Containers \"\\n',\n",
       " '5.0,Taste treat for bowser,\"My little West Highland is such a princess. With this attitude comes one finicky eater.  She refuses to eat most kibble, and I have tried many, many brands.  But, since I\\'ve discovered Etta\\'s Liver Sprinkles, my pup has become a champion of almost anything that\\'s in her bowl.  With only a few shakes of the bottle, what was once so unappealing to my dog, Bugee, is now by all appearances, YUMMY. I use just three (3) shakes of the liver sprinkles on top of her kibble, and I have one happy pup who can\\'t wait to get to her food.  Paula Honey Meisner\"\\n',\n",
       " '1.0,Won\\'t Buy Again,\"I knew I was rolling the dice with this mixed grab bag.  Based on some of the positive reviews, I took a chance.  Couldn\\'t be more disappointed.  One third of the k cups are the cheap Grove Square  brand...some of which I immediately through away because they shook like a rattle with a dried up \"\"chunk\"\" of coffee in them.  The others sound like they have about a teaspoon of dried up indtant coffee grounds in them.  No comparison to any of the other k cup brands. Grove Square sells for approximately half the price of other k cup brands in retail stores. That is because it is instant coffee designed to look like a k cup.  Makes the purchase price of this mix really steep since one third of my k cups were these cheapies!  I tried them once before and to me they are absolutely undrinkable. Should note that the product picture and written description does not show or mention Grove Square as one of the possible brands in the mix.  I also got 4 teas, 4 decafs and about 10 flavored coffees.  Overall, a horrible mix that was not worth the price I paid.  Won\\'t risk it again. Unless you like the taste of instant coffee or are willing to overpay per cup to get to try some other actual k cup brands in different flavors...don\\'t buy this.\"\\n',\n",
       " '1.0,Unwanted Email,I bought some items from this company.  Somehow they got my email. Although I have asked them to remove my name from their email list they continue to send me emails. So -- do you want to order something from a company that will not respect your wishes with respect to email?\\n',\n",
       " '5.0,\"This cheese is so good geniune greek cheese,and is the best i have ever tasted.\",\"This authentic greek cheese assortment,contains some of the best cheeses,that i have ever tasted...The cheese is very fresh,and shipped in its own protective cooler,to preserve its freshness...An excellent buy for those who want the best.5 star rated...Great for the holidays...thank you stewart L.\"\\n',\n",
       " '1.0,Horrible,\"My dog was eating this food and has had bad gas, bloody and loose stools.  We have stopped giving this to him but we are still trying to get his tummy troubles under control.  All blood tests, stool tests, and urine tests have come back OK.\"\\n',\n",
       " '5.0,\"Great, portable snack\",\"I was already familiar with the Honey Maid crackers and always enjoyed them. The flavor is always consistently good. This option is better because the box contains six individually wrapped packages with about eight or ten crackers in each pack. It\\'s great because you don\\'t have to open the whole box with worry about the remainder of the crackers getting stale. The individually wrapped packs would also be good for snacking on the run. It\\'s easy to just grab a package of these and put them in your purse for later. The only drawback is that sometimes eight crackers is just more than desired for a snack and there is no way to really seal the bag to save them for later. But, overall, this cracker is a delicious snack choice, especially if you are on the go.\"\\n',\n",
       " '1.0,This Stuff Tastes Awful!!!!,\"It does not taste like chocolate, not even a little bit. It does taste fermented. And burned. If it were a good, carmelized kind of burned, that would be understandable. Everyone burns the sugar now and then. This just tastes BAD. Everything I have tried it in has had to be tossed, unsalvagable. My advice: Stay away.\"\\n',\n",
       " '5.0,TASTY!,\"You really dont know what oatmeal taste like till you try this. Throw your Quaker instant in the garbage; this stuff is 10x better!  Add a little butter (butter is NOT bad for you in small quantities), little brown sugar, little milk, banana pcs, lots of cinnamon (I love cinnamon) and you have a perfect b-fast or snack.  Annnnnnnnnd GLUTEN FREE! No bubble-guts from this guy!\"\\n',\n",
       " '1.0,Its not what I ordered!!!,\"I have shopped many different vendors for this type of coffee.  Liquid Nation had this coffee too according to the photo displayed and discreption mentioned.  It took a long time to recieve the coffee, and sure enough, the WRONG COFFEE type shipped.  They have shipped EXTRA BOLD, and i specifically did not want extra bold coffee.  Their return policy has very shady procedures.  WILL NEVER SHOP THERE AND HOPE no one else does.\"\\n',\n",
       " '1.0,20 percent destroyed.,\"This was a good deal,  it 20 percent of the packages were opened and dumped in the box. It came quickly, but I do not like not being able to use everything I order. What a waste!!\"\\n',\n",
       " '5.0,The best carne asada,\"Hello everyone, I use this product and is the best ever. Just rub and cook, that easy. You can buy it at Food 4 Less or Albertson\\'s. I also recomend the Chicken Seasoning\"\\n',\n",
       " '1.0,\"American \"\"false\"\" advertising in action!\",\"If you want 100% olive oil in your mayonnaise, you\\'ll have to make it yourself OR order it from Spain or Italy.  You can buy imported mayonnaise with 100% olive oil, but if you buy it from Kraft or obviously this brand, you are going to get the almighty SOYBEAN.\"\\n',\n",
       " '1.0,Instant Coffee,\"Defeats the purpose of K-cups. It just instant coffee, and much more expensive than normal instant coffee. Either get instant coffee cheaper, K-cups that have real coffee in them for more money or just brew regular coffee.\"\\n',\n",
       " \"5.0,great service,I can't always find this product in the stores and when I saw the new amazon gourmet  I did a search. Saw it and ordered 3 cases. Thanks for the great service. Would order again.\\n\",\n",
       " '5.0,Substantial and tasty,\"This is the Cadillac of the instant ramen soups- without a doubt. The noodles used by Nongshim are quality, thick, and provide decent bite. The instant soup component is flavorful, spicy, and tastes like a real broth- no artificial business here. Kimchi flavor is limited and slight, but the included bits of freeze-dried cabbage give the impression that an attempt was made.  As noted by other reviewers, the sodium is through the roof in this and other instant noodles soups. Though delicious, slurp down a bowl full of soup broth at your own peril.  As for preparation, I\\'ve found that cooking only requires adding hot water from an office water dispenser. Have not needed to use a microwave.\"\\n',\n",
       " '1.0,Misleading Description!!,The food is great and convenient to get it in an assorted pack but 18 pack means 9 PACKS OF 2. This is not a good deal and you can get these items for less as an individual purchase from almost any store.\\n',\n",
       " \"5.0,Sugar Plums!,This is the second year I've ordered these & they didn't disappoint. I have been giving these to my daughter in her Christmas stocking for years & then last year I couldn't find them anymore- Amazon to the rescue!\\n\",\n",
       " '1.0,\"THIS BRAND IS NORMALLY VERY GOOD, BUT....\",\"I have curry pastes from this company that are outstanding...but this particular product just isn\\'t good at all. My hubby loves Indian, too, and he is not a picky eater--but even he told me to find a new home for the boxes we bought of this stuff! I don\\'t know how to describe it...it\\'s kinda vinegary and sour and it has big hunks of banana peppers in it. It isn\\'t creamy and the texture is almost grainy. I tried to rescue it with coconut milk and it really didn\\'t help. The \"\"curry\"\" in it is very faint and it\\'s just...well...you might like it but we sure didn\\'t. As I said, we\\'ve bought many other items from Amazon in this brand of Indian foods, but this is just the opposite of the other items. It just isn\\'t good.\"\\n',\n",
       " \"5.0,Just Like Home!,I was delighted to find country ham as I enjoyed growing up in NC.  Living in CA you can't get good country ham or BBQ.\\n\",\n",
       " '1.0,Not a good one,\"Compared to other delicious fast noodle I had before, this one is one of the worst ever~! Little amount of mushroom and the soup was tasted like adding some artificial ingredients. I would definitely not recommend this one. You may want to try other kinds of flavors.\"\\n',\n",
       " '1.0,I was really disappointed in this product!,\"The label says it\\'s Watermelon and Strawberry but I did not taste either one of these flavors.  I did taste adulterated grape and apple and something \"\"musty like\"\".  There wasn\\'t really any carbonation either. With the lack of a great flavor and at 140 Calories for this tiny little can of 8.3 ounces with 36 grams of carbs and 35 grams of sugar (albeit natural fruit sugars), I\\'d rather have a glass of water.  It\\'s wonderful that they do not use any added sugars or corn syrup or preservatives but the flavor and calorie count of this drink just does not justify consuming it.  Then you have to consider the high cost to buy it.....  . NO....I will not be buying this drink EVER again!  The concept of it is marvelous but the follow through...not good!!\"\\n',\n",
       " \"1.0,Worst Tasting Syrup Ever,This was sugar free Cherry syrup which you can put on snow cone or shaved ice this was the worst tasting thing I ever tried. We pitched it don't waste your money.  The regular syrup is way better.\\n\",\n",
       " '1.0,\"Stale, unpleasant\",\"The sunflower seed kernels are stale and unpalatable; pumpkin seed kernels from the same supplier were not stale, but had little flavor.  Would not order again.\"\\n',\n",
       " '5.0,My favorite of the Vita Coco beverages is this one!,\"The Vita Coco Acai & Pomegranate is the best tasting of all the flavors. It\\'s light and tasty, the right balance between coconut water and fruit juice. I wish the 17 ounce Boxes were still available.\"\\n',\n",
       " '5.0,Fresh and tasty,\"We were disappointed when we could no longer obtain Violet Crumbles in the U.S. Then we discovered the Crunchie. Almost identical but better. These bars arrived on time and is perfect condition. None of the bars broken and no bloom. Nice, light, chocolate-covered sea foam in perfect condition.\"\\n',\n",
       " '5.0,great,Great product.  I have used it as a substitute for all-purpose wheat flour in several recipes with great results.\\n',\n",
       " '5.0,Great!,\"I just tried the Columbia Medium and I am in LOVE! I was pretty skeptical of an instant coffee but found it at the grocery market for $1 for the package of 3. At first, I thought it was going to be way too strong and bitter but I was pleasantly surprised. It was smooth and full of flavor as if I just bought it fresh at the cafe. I added Truvia to it also and couldn\\'t have had a better cup \\'o joe. I am hooked!\"\\n',\n",
       " \"5.0,Keeps mosquitos away,We've been using this product for years.  It really works.  doesnt harm the flowers.  lasts up to about 30 days per spraying. Even after a rainfall.\\n\",\n",
       " '5.0,I like them,\"I like them even though they are not too sweet.  I think that is what I like about them.  I like the fact that they are sugar free.  They do have a peanut taste to them.  A fresh roasted peanut taste.  Not all the time, just sometimes you will get some nice chunks of peanut in a bite and it will be really nice and nutty.  If they could capture that taste for the entire bar, they would be awesome.  I am not looking for a candy bar, just a protein bar to help when I can\\'t get a clean meal after workouts etc.  It does make me feel full and satisfied until my next meal.  Also, even though it doesn\\'t taste real sweet, it does satisfy any sweet craving I might have.  So I would definitely purchase these again.  They don\\'t taste great but are hardly the disgusting bar some say it is.  But tastes do differ.  So in order to know if you like them, you have to try them, unless of course you know for sure that you need a really sweet bar for satisfaction.  Good luck.\"\\n',\n",
       " '5.0,Great,\"This was a huge find for me. We stayed at the Hampton Inn one weekend and they serve this product there. The lady who makes it up told me the brand and I did a search to find it. Do yourself a favor, if you like Belgium Waffles, buy the 3 can order, you won\\'t regret it.\"\\n',\n",
       " '5.0,Great treat,\"These seem to be smaller, bite-size versions of the peppermint bark candy I remember having previously. They are individually wrapped. They taste great, and many people say they are one of their favorite treats. I bought this set of 3 for a party, and it worked out very well.\"\\n',\n",
       " '5.0,Low Calorie Chocolate--great with stevia!,\"If you love chocolate and want to eat more dark chocolate as nutritionists recommend, but are limiting calories, this special dark chocolate is delicious.  For about 10 calories a tablespoon, you can make tasty cocoa or I like to put it in iced coffee for a mocha iced coffee with a bit of sweetener.  A nutritionist recommended stevia as a natural sweetener which is calorie free and sweeter than sugar.  Just heat up some milk, add the cocoa and stevia and for about 110 calories, you have a great drink.\"\\n',\n",
       " '5.0,Keurig B145 Office Pro,\"I love it! Fast, easy and simple to use! This is one of the newer models I beleive. I was going to get the B60 because that\\'s the one I have at work and it\\'s good, but it was more money. This one is wonderful and I would def recommend!\"\\n',\n",
       " '1.0,\"Bitter, Weak and Thin\",\"I have a Nespresso C100 and use the Ristretto capsules. Ordered these as I like the concept of \\'ethical coffee.\\' Huge disappointment. I find the coffee is weak and not like espresso at all. Plus, the aftertaste has a bitter quality to it. The crema is thin with no richness. Overall, a poor substitute. If you like your Nespresso, you can try these but beware, you are not getting the same product.\"\\n',\n",
       " '1.0,lmfao WASTEFUL,these are at the dollar tree for less than a dollar you pll wasted ur money BIG TIME!!!!!!! PLUS THEY ARE NOT THAT SOUR\\n',\n",
       " '1.0,C.E.T. Enzymatic Oral chews,\"I am sorry to say that my chihuahua did not care for these chews at all.  The first time I gave her one she started chewing, but dropped it in a minute and never try it again.  Next day I gave her another one and she turned her nose up, didn\\'t even try it.  In all faireness I must say that she is very, very picky.\"\\n',\n",
       " '1.0,NOTHING like regular pasta,\"I agree with the other reviewer, the preparation alone with these noodles would cause me to give them fewer then five stars. However, if they tasted like regular pasta with only 40 calories a bag, I could deal. Unfortunately, they are disgusting. I am a big fan of the cookbook author/food blogger Hungry Girl, and she uses these all the time so I had to try them. Needless to say I was very disappointed. They were very chewy (she told her fans this, so I was prepared for it), smelled nauseating when I opened the bag (rotting vegetables or fish smell maybe?), and had a bizarre taste. Regular pasta just kind of works as a texture filler for dishes, but these noodles had a strong and weird, chalky flavor. I will NEVER, EVER buy them again and will just settle for eating pasta dishes made with whole wheat noodles only once in a while. If you still feel the need to try them, I\\'d recommend buying only one bag until you know whether or not they are for you.\"\\n',\n",
       " '5.0,Yum!!,\"After having a great experience with barley tea, I figured that I needed to find some bags to brew up my own tea. (It\\'d be cheaper, that\\'s for sure.) What initially drew me to this brand was that the instructions are in English, which is something that is not guaranteed with each brand out there on Amazon. If you are new to brewing, this is will be easy for you to understand.  The teabags are sealed up in foil packets, with many bags in one packet, so depending on how long you\\'ll go between usages you might want to put the remaining bags in the foil packet in a ziplock. (I know that some are especially sensitive to the difference in taste that comes from teabag containers being left open.) Each bag can be used to make 1 quart of tea.  This tastes pretty good and I loved how easy it was to make. You can either brew it with hot water or leave it in the refridgerator to brew in cold water. It\\'s rather fast when it comes to steeping, so I was able to enjoy the tea after a few hours in the fridge.  I\\'m absolutely going to purchase this again when I head back to my local Asian food market.\"\\n',\n",
       " '1.0,Dissapointed,\"This product is absolutely disgusting! It doesn\\'t even taste like chicken, its got this weird citrus flavor! Bleh, a total waste of money.\"\\n',\n",
       " '1.0,Smells and Taste like Fish,\"The picture is NOT the color of the salt. It smells and taste like fish.  It also has tiny rocks in it that will hurt or even chip your teeth. I only ordered it because of super saving shipping. NEVER AGAIN, I will stick with Premiere Pink Salt from Quantum Nutrition Labs WAY better.\"\\n',\n",
       " \"1.0,Where's the coffee?,I bought 1 box at the local grocery ($1.29 - 6ct. box) because it is much cheaper to try.  I like strong coffee and 1 pouch of this only = ~1 tsp.  It is so light that I can't even smell the coffee.  I had to use at least 3 pouches and still not much of strong coffee taste that I would like.  Stick to Starbucks via and you'll only need 1 pouch and turns out to be much cheaper to buy on Amazon.\\n\",\n",
       " '5.0,Excellent Healthy Cat Food,\"All three of my cats enjoy this healthy cat food.  Obviously the flavor is good.  It\\'s great to see companies producing grain free cat food (what moron thought it was a good idea to poison cats with grains in the first place?).  \"\"Nature Variety Instinct Chicken Formula\"\" claims to be 95% chicken, turkey and liver. There is no mention of \"\"meat by-products\"\".  The ingredients also include small amounts of eggs, peas, carrots, artichokes, cranberries, pumpkin, tomato, blueberries, broccoli, cabbage, kale and parsley.  I think my cats eat healthier than my son does!\"\\n',\n",
       " '1.0,For the Dogs,\"These are dog food. However, except for the name there is mention that they are animal treats at all. They sound like really healthy or gourmet human food. They are also harder than dog biscuits. Most dog biscuits will break when hit. These don\\'t even chip. I heve threw one onto a concrete floor and it didn\\'t drop a crumb. I wouldn\\'t feed them to my dog.\"\\n',\n",
       " '1.0,\"Such a dissappointment, really bad.\",\"It started raining this morning and I was feeling the hunger.  Hmm...Yes! Snow\\'s Authentic New England Style Clam Chowder.  Into my fave cast iron pot. Heated up and into a bowl.  Wait. What is this? So much for my clam chowder dance I did in the kitchen as it heated up.  Pretty thin. Not too thin, but not thick like an ACTUAL clam chowder.  Flavor: Bland. Very.  I ate the entire bowl nonetheless, (hate wasting food)  I kept thinking, where are the clams!!!!  I think I bit down on one. It looks NOTHING like the picture either.  Blech! The worst clam chowder I have ever had in a midwest diner beats this.  Very bummed.\"\\n',\n",
       " '5.0,Mommy Shopper,I love these way more than the Gerber brand because my son would eat three or four of the smaller ones. These are perfect size for a snack and are just as healthy!\\n',\n",
       " '5.0,A taste of home,\"Moving to Michigan from NYC meant a lot of changes.  It is like moving to another country and there were many things I missed.  I was thrilled to find Dr Brown Diet Cream Soda available!!!  I ordered a case and every time I open a can, I can close my eyes and feel like I\\'m sitting in Juniors with my friends.  Heaven!  For me this is a smooth and delicious treat after a tough day.\"\\n',\n",
       " '1.0,Gross!,\"This is one of the most disgusting Hamburger Helper Meals. The glaze was so sweet, it reminded me of lemon cookies. The pasta wasn\\'t good either. NO flavor what so ever of lemon and herb chicken. Overly sweet and lemony grossness is more like it. What a waste of $2.50 and not to mention my expensive chicken breasts.\"\\n',\n",
       " '1.0,Both dogs completely uninterested,\"I bought this bone for my 2 dogs- a greyhound who is an aggressive chewer, and a border collie who\\'s more interested in taste (he likes to just lick rawhide.) I had hoped this would prove a longer lasting alternative to rawhide for the greyhound, and if not, I thought at least the other dog would like it. Well I bought this weeks ago and so far I can\\'t convince either dog to be interested. As far as they\\'re concerned, it\\'s a flavorless hunk of plastic.\"\\n',\n",
       " '1.0,\"No cinnamon taste at all, tastes like plain mate\",I am very dissapointed in this Mate. It said it has cinnamon and other flavors however it doesn\\'t taste like any flavor at all compared to other mate blends I\\'ve tried. I was expecting at least a little flavor but it tastes bitter just like regular unflavored mate.\\n',\n",
       " '1.0,Should have read the reviews!,Ordered 3 boxes of purple; got 1 purple and 2 blue.  Sent back two and ordered replacements.  Got one purple and one blue!  Just read the reviews and see that this is a common problem!  Very disappointed!\\n',\n",
       " '1.0,Disappointing!,\"This does not at all taste like espresso. It is very weak in flavor, almost no flavor, and is light in color not like dark espresso roast. I wish I could return it. If you want something to taste like espresso do not buy this! I also bought the decaf espresso and had the same disappointing experience.\"\\n',\n",
       " '5.0,Why look any further?,\"I am reluctant to say anything about this product because I don\\'t want to share it with anyone.  I found a recipe for pizza crust that required semolina flour. Having never used semolina before, I searched amazon and found 12 pounds for $18. While at first it seemed like way too much flour, the 2-pound bags are easy to store in the pantry, fridge or freezer until you need them.  My pizza crust is now much improved, and I\\'ve made dinner rolls with semolina, too. Friends rave about my pizza, and the rolls were a big hit. \"\"How\\'d you get them so yellow and creamy?\"\" they ask. I smile and say it\\'s an Olde family recipe! (I\\'ve never met any of the Olde family, but I will praise them here, in print, just in case any of them are reading this!)  In the end, its flour, and it behaves as you would expect. It imparts a delicate aroma to your baked goods along with a yellow tint. It is not as finely-ground as all-purpose flour, nor is it as couarse as cornmeal - it\\'s texture is somewhere in between. And unlike cornmeal, it doesn\\'t burn when used on a hot baking stone. Sprinkling semolina on your peel and proofing your loaves makes it easy to transfer them onto the stone.  I have not used any other semolina flour, and I am unlikely to do so after discovering Spicy World.  Finally, I challenge you to find semolina for less than $1.50 a pound!\"\\n',\n",
       " '5.0,Awesome!,\"The tea sampler is the best. You get four of each flavor, and each one has been great tasting. I am just getting into the 3rd trimester, so this tea has been very helpful. Especially the heartburn and peaceful mama tea! Plus the price on Amazon is great!\"\\n',\n",
       " '1.0,Worst Valentines day gift ever,\"Unfortunately, basically everything in this box was horrible.  The yogurt pretzels were stale, the caramels tasted like chalk, and the popcorn was pretty bad too.  I liked the milk chocolate truffles, but there are only three in this box.  Save yourself some money and trouble and spend it better elsewhere!  (and being a foodstuff, this product cannot be returned!)\"\\n',\n",
       " '5.0,LOVE!,\"The dogs went wild for these treats!!  I was so happy to find a \"\"natural\"\" treat for the dogs since my younger dog was diagnosed with an autoimmune disorder and we did a major diet overall (along with extra vitamins and the such) -- the dogs are thrilled with these....great price and lasted quite a bit too!\"\\n',\n",
       " '5.0,This stuff is fricken awesome,\"My hubby got this because it was on sale. We made it as a snack while watching late night TV. I actually went online to make sure we followed the directions correctly. The cooking instructions on the packaging were difficult to read. The final product was soooo delicious. If one were to think that fiddle faddle is edible; this caramel corn ROCKS!! After cooking the popcorn, I would suggest doing the best you can to eliminate all of the kernels. Then cut the caramel into several pieces (we did 8) and then place them on top of the popcorn; which is in a microwave safe bowl. After about a minute more in the microwave, take out and mix well. Easy Peasy. Enjoy.\"\\n',\n",
       " '5.0,chocolatini mix,\"This drink mix is fabulous! Bought this at Home Goods on a whim..was having some girlfriends over..we loved it! They have been searching everywhere to buy it and keep it on hand..so happy to have found it on Amazon!!! So easy to make, and not overly sweet!\"\\n',\n",
       " '5.0,Best Fajita Marinade,This marinade makes the best fajitas ever. I have looked all over eastern US to find this product. I will always have a supply on hand.\\n',\n",
       " '1.0,Stripped the color right out of my hair,\"And thankfully I was on the tail end of the color cycle and almost time to schedule an appointment or I\\'d be seriously ticked. I\\'ve only used it twice and I\\'m practically back to my natural color and the gray is out in full force! The shampoo arrived in a padded envelope, but also wrapped in plastic. Mine hadn\\'t spilled over as others have mentioned, but there was a strong odor just opening up the envelope. The shampoo is very thick and gooey and doesn\\'t take much to get a good lather going. It seemed to clean well enough, but my hair felt dry and wanted conditioning - which it normally doesn\\'t need as I don\\'t blow dry much. I\\'m going to stick with the color safe shampoo I\\'ve been getting from the salon, and free or not, this product is headed for the dumpster.\"\\n',\n",
       " \"1.0,Dog doesn't use it at all,I thought this would be fantastic to keep my puppy busy but she just chewed the knob off the rope insert (ours was rubber) and that was that.  She won't play with it at all.  She is highly food motivated but this just doesn't do it for her.  Give her a Bully Stick and that's really something though!\\n\",\n",
       " '1.0,NOT HAPPY ABOUT THIS PURCHASE!!!,\"I am SO NOT happy about purchsing this item. It is NOT as described. What the description says is \"\"Italian Basil, Purple Basil, Chives, Dill, Mint, Parsley & Thyme,\"\" what I got was Genovese Basil, Thyme, Mint, Lemon Basil, Oregano, Dill, Global Basil. I\\'m EXTREMELY angry that I did not get what I ordered. If they were going to make a substition, they should have asked. If automatic substitions are their policy, they should state that in the description. If the description is wrong, THEY SHOULD FIX IT. This item has been listed with this description for MONTHS before I purchased it. If I had wanted 3 kinds of basil, I would have purchased the basil mix. I expressly wanted the chives and the parsley. Buyer beware.\"\\n',\n",
       " '1.0,No Longer a Good Deal,\"When I first signed up to buy this product through the subscribe and save program, it was a great deal averaging around $3.00 per box vs. $5.00 in the grocery store, but Amazon cancelled that subscription saying the product was no longer available through the subscribe and save program.  The price that\\'s listed here is ridiculously high.  Unless you are in an area with no grocery store, why would you pay this exorbitant price?\"\\n',\n",
       " '5.0,A Wonderful Treat,I buy at least a case of this tea every year so I have some all year long and for gift giving.  Most of the people who have received it say that they enjoy it too.\\n',\n",
       " '1.0,\"Try out one, before you buy a bunch.\",\"Our baby had a REALLY hard time adjusting to solid foods due to an overactive gag reflex.  In my desperation to make sure she got some protein in there, I ordered the large quantity of these. What a mistake. She hated these, and after I tried them, could see why.  The flavor was awful and the texture was really not beneficial to what i would consider Stage 3 foods.  We also saw a food specialist about our daughters issues and they mentioned that the \"\"Stage three\"\" foods are really not good for development.  They mentioned focusing on non-processed foods, and more foods that we would eat.  (not cooking something special every meal)  Unfortunately all of these went into the trash or were donated.  Would not recommend, buy again or give as a gift.\"\\n',\n",
       " \"5.0,Cherrio,I love cherrio my very favorite cereal morning noon or night even for snacks I don't know what else to say  but love it\\n\",\n",
       " '5.0,Delicious,\"The belts were fresh and tasty, just like the candy store used to have. The cases were cracked when they arrived in the shipping box so it seems from some of the other review its pretty common, but didn\\'t affect the quality. 1 order is 2 tubs, which last a long time. I do not recommend vaccum sealing to keep some fresh as the vaccum smashes the belts together and makes them hard to peel apart. Ziplock bags work much better.\"\\n',\n",
       " '1.0,BUYER BEWARE,\"Hero Black Cherry \"\"Preserve\"\" 12oz is what is displayed on the Amazon website.  However, what you will receive is Hero Black Cherry \"\"Fruit Spread\"\"  The Hero Preserve is made in Switzerland.  It is very good  The Hero Fruit Spread is made in Germany.  It is very Tart.  I have complained about this difference to Hero and their Quality Control was going to address the differences........but they haven\\'t!  I was unable to find the Hero \"\"Preserve\"\" in Texas so I ordered it on line only to find they supply the German \"\"Fruit Spread\"\"..........  It would be nice if Hero would get their act together and Amazon would change their web site to reflect what is sold.......\"\\n',\n",
       " '1.0,\"Made In China, Will Be Returned\",\"Unfortunately, I read a review here that states these treats are made in China. I was not aware of this before ordering. My policy is to never, never, never give your loved ones pet products (or any kind of food products IMO) from China. They don\\'t care about what goes into their junk. After the melamine and other scandals, they can\\'t be trusted!! Here\\'s more: [...].. I will return this as soon as it arrives. I should know that if it doesn\\'t say Made in the USA, it is likely from China and to be avoided. Search the literature yourselves if you wish.\"\\n',\n",
       " '1.0,Horrible taste.,\"I bought this for something new to try at work, as me and my coworkers usually take turns bringing in coffee and they don\\'t mind trying something new now and then. First, after making it, the whole office smelled of burnt chocolate and coffee. The smell was really nauseating. Most of my coworkers were brave enough to try it out despite the smell, and none of us enjoyed it. To me it tasted like hot water and a hint of burnt chocolate. Pretty much no coffee taste. Out of the 7 or 8 of my coworkers who tried it, I could not find one person who enjoyed it. I could not even give this coffee away, ended up tossing the whole canister. I definitely do not recommend this.\"\\n',\n",
       " '5.0,The Munchy My Dogs Love,\"My dogs, 5 of them all love the munchy csticks. They each get a couple after their meals, which gives them a little treat and helps to clean their teeth.\"\\n',\n",
       " '5.0,smooth and delicious,\"A smooth blend of black, green, and oolong.  Both healthy and delicious in one teabag.\"\\n',\n",
       " '1.0,Ingredients are not all-inclusive,\"First of all, the ingredients listed on Amazon are not nearly as complete as the ingredients listed on the actual bag. One of my dogs is allergic to peas and carrots, both of which are in the ingredient list on the bag, but not listed on the site.  Secondly, one large \"\"SmartBone\"\" takes my large breed dog no more than 5 minutes to devour. At three dollars a bone, this is way too expensive.\"\\n',\n",
       " \"1.0,Expires too soon,I just got this product and the expire date is for March 2012!  That's crazy.  Not to mention how long the product took to get to me.  I ordered several other things on the same day and this order came more than a week after everything else. Will not buy again!\\n\",\n",
       " '1.0,Not a fan,\"They were too dry and thin for my liking.  Although I did like the little bit of filling they provided, I wanted more, probably due to the amount of air pockets noticed.  I will not purchase in the future.\"\\n',\n",
       " '1.0,disappointed,\"this item molded 7 days after opening (stored in air tight container) I would give it -10 if I could, Tasted very much like cereal nothing like pepperoni\"\\n',\n",
       " '5.0,Will Never Buy At A Pet Store Again!!,\"Petco sells the same thing packaged in smaller packaging and labeled as cat treats at an insane amount of money! I was so pleased to find them here. This saves me money, time and driving. Couldn\\'t be more pleased!\"\\n',\n",
       " '1.0,Not worth it,\"This item was much smaller than I expected. It is a Christmas gift for someone else, so I cannot say what the quality of the chocolate itself is, but the quantity is definitely lacking for something that costs $22!\"\\n',\n",
       " '5.0,Great for cats too!,\"Since they don\\'t offer the beef flavor for cats, I bought these just on a whim.  Well, I can actually get 3 pills out of one pocket from these and not only does that make them more economical, the cat loves them too!  They look disgusting, if you can catch my drift, but once you get past that, they\\'re a great find.  Highly recommend!\"\\n',\n",
       " '1.0,Dont know,\"I dont know if they are good or bad because they are not here, its Thanksgiving day and I have had the other part of the order since last Friday and these where ordered at the same time, I tried to get a return lable but amazon said no returns, so not only did I have to make a trip to the store this morning I get screwed on a return, I really dont like some of the \"\"new\"\" amazons ways.\"\\n',\n",
       " '5.0,Delicious!,\"My Grandmother used to give this exact box of candy every Christmas.  I was so excited to see the familiar box on Amazon.com! The candy tastes exactly as I remember it, but the pieces are much smaller and the edible paper on the sides is much lighter.  It was still good enough for a great trip down memory lane!\"\\n',\n",
       " '1.0,Outrageous price increase,This product used to be affordable but with the price increase and for fewer boxes it is definitely not worth it.\\n',\n",
       " '5.0,Satisfying,\"It\\'s no chocolate milk, but for what it is, it has a decent taste & it\\'s very satisfying. I have one of these whenever I\\'m hungry and want to eat something light and healthy or when I come in from running & need to refuel fast. Definitely gona order some more of these!\"\\n',\n",
       " '1.0,seal was broken on arrival - powder all over in box,\"I really wanted to try this for my daughter.  Unfortunately it arrived with the seal broken and powder spilled out into the box.  I tried to process a return to get a new sealed container but this item is ineligible for returns.  I left packaging feedback about the issue and have not gotten a response.  I really hope I can get a replacement, this stuff is not cheap.  I gave this one star because we could not try it.  I will update if we get a replacement and can try it.  We have used the berry flavor.  I think it tastes terrible because it is very very sweet with an artificial sweet taste but my daughter will eat it mixed with plain unsweetened apple sauce.\"\\n',\n",
       " '1.0,Usually like these...not the last box though,\"The last box of these bars tasted \"\"off\"\"  I wasn\\'t sure why at first, but about half of the bars in the box were not sealed in their wrappers.  They may have simply been rancid.\"\\n',\n",
       " '5.0,Yum!!!,I really liked this dark chocolate combination with the Fleur de Sel.  If you like sweet & salty you will like this bar.  It does contain 19g sugar per serving (4 squares)...so eat in moderation.  I would suggest that people check their local grocery stores for it.  Mine had it for $2 a bar.  So I will not be buying this online.\\n',\n",
       " \"5.0,Great Sampler of Decaf,I recently purchased a keurig brewer and was looking to try some decaf choices. The brewer came with a sample starter pack but only had 2 decaf k-cups.  Amazon was the only place that I could find such a large sample pack of decaf. Overall I've only tried 3 of these kcups and they were all decent and about as good as decaf will get. Some reviews mentioned the box is unpleasant looking. Not in my case. The kcups came in a nicely printed sample pack that would be perfect to give to someone as a gift. Looks like they changed the packaging for the better.\\n\",\n",
       " '1.0,Lasted 5 minutes,\"We gave this to our 35 pound mutt who went after it with determination.  he really liked the texture of the product and seemed very happy with it.  however, he chewed off two clean corners in all of five minutes.  this is about the time it would take him to chew through a 5 dollar product.  we are very disappointed that this product, which is rated a 9 on the tuffy scale, and cost a good amount, did not last up to FIVE MINUTES of chewing.  dont waste your money.\"\\n',\n",
       " '1.0,Did not ever receive this order,\"Usually I get everything I order from Amazon in timely manner and in good quality. This item was debited from my account, but I never received it. Now I am in the midst of a \"\"WHERE\\'S MY STUFF\"\" situation. So sad.\"\\n',\n",
       " '5.0,Amazing stress relief,\"I have been dealing with stress every now and then. I went grocery shopping today looking for a new flavored tea to try and I came across Tension Tamer. I thought I would give this tea a shot since I really need something to help with my stress.. and it had some flavors in it that I love (lemon and peppermint) When I got home I decided to make a cup right away since I had a pretty stressful day.. As soon as I poured hot water on the tea bag and took a whiff of the scented steam, it had a nice very soothing lemony scent! When I took the first sip I was amazed! I slowly with each sip started to become relaxed, it\\'s incredible! This tea sure is a Tension Tamer! Although I don\\'t taste peppermint, or licorice.. (maybe I\\'m brewing it wrong?) But this tea is fantastic I must say! Highly recommend it to people that suffer with stress and love lemon chamomile flavored teas! Tastes Great with honey in it too! :) Although I don\\'t recommend this to cat owners since it has catnip in this tea, your cats may go crazy lol\"\\n',\n",
       " '1.0,Ruined,\"When did the rooster on the box get a cartoony face? Whatever happened to that wonderful abstraction? First they ruined Tony the Tiger, now this.  And where did all the high fructose corn syrup come from? Admittedly, it is a flake of corn but that is a nasty ingredient to be skipped at all costs.  It\\'s things like that which drive people to the formerly odd grains like spelt and kamut!\"\\n',\n",
       " '5.0,Fantastic and versatile!,\"I am a HUGE fan of Indian food, and have been testing out Indian convenience products for years.  This is BY FAR the best and most authentic!  As a nutritionist, I am pleased that the ingredients are compromised of \"\"whole foods\"\" - no nasty preservatives.  It is good prepared \"\"plain\"\", but I have experimented with putting in diced bell peppers or frozen spinach with a bit of red pepper - delicious!  The directions can be a little vague - bring the ingredients to a boil and then cover for 25 minutes.  I then put the lid on askew to let moisture out (but the mess in) over high heat for 5 minutes or more - this is crucial to the thickening of the sauce.  I especially love that the 30 minutes it takes to cook is conveniently the same amount of time it takes to book Basmati rice :)  I love this so much that I put it on my auto-order subscriptions on Amazon!  We make this at least every other week for a quick, delicious, healthy dinner.\"\\n',\n",
       " \"1.0,stale,I've gotten Yummy Chummies many times before for my dog who loves them.  This time I ordered them on line and paid quite a bit more for them including shipping.  When I received them I opened them to give one to my dog I found out they were very hard.  Not soft and chewy as they advertise and I'd found them in the past.  :-(  I'm not sure I'll order them on line again.\\n\",\n",
       " '1.0,too sweet,\"I guess I should have known that a \"\"brown sugar\"\" jerky would be sweet but thought I\\'d try it. Yep, turns out too sweet for my tastes.\"\\n',\n",
       " \"1.0,much too greasy,That pretty much says it all.  I couldn't even stand touching them.  I've bought pigs ears for decades and these are the most greasy I've ever tried.\\n\",\n",
       " '1.0,\"Just sweet, no flavor\",\"Had purchased this years ago and didn\\'t care for it, but thought now w/Splenda and the good reviews, it had to be good.  Wrong.  They get you to bite  w/the Kahlua on the label, but there is no comparison to Kahlua, doesn\\'t taste at all like Kahlua.  Actually it doesn\\'t really even taste like coffee.  It has just a sweet artificial flavor, but not a coffee flavor.  Very disappointing.\"\\n',\n",
       " '5.0,Great quality product,\"I am not a fan of pepper, never have been.  Salt has run my life for many years and in some ways still does, however given that my family has a history of maladies, I decided to get a little better with my diet, starting with the additives I put in my foods.  The first thing I looked at was trying alternatives to plain salt as I knew it wasn\\'t doing my body any good, but plain pepper just doesn\\'t do it for me.  This pepper was highly recommended by a number of people, and grinding one\\'s own pepper into a fine blend was the recommended method of spicing one\\'s food.  I use it with  Cuisinart SP-2 Stainless Steel Rechargeable Salt and Pepper Mills  (which have issues - see my review on that), and set to fine, the pepper has a unique taste to it, far superior to black pepper.  IT\\'s hard to describe, but it just tastes like a sweet peppery...something.  Not too strong, but enough to give you that different flavor you might crave.  Recommended if you\\'re a fan of grinding your own pepper or you just want to try something new.\"\\n',\n",
       " '1.0,Contains GMOs! We say NO!,\"Kellogg\\'s Corn Flakes cereal contains genetically modified organisms which have been patented by chemical companies that genetically engineered them in a lab and turned them into EPA registered pesticides. GMO Bt corn is an EPA registered pesticide and is one of the ingredients in this product. They are also made to be resistant to high levels of a chemical called glyphosate, an herbicide, which is linked to birth defects, cancer, organ damage and inflammatory bowel disease. It also has insecticidal properties and kills off beneficial gut flora. These GMOs have not been subjected to independent, long term, peer reviewed studies to prove that they are safe. These GMOs make my family sick. We do not pour pesticides on our food and we no longer eat anything that is an EPA registered pesticide.  GMOs are linked to organ damage, faulty insulin regulation and obesity, autoimmune disease, autism and a whole host of other health and environmental problems. Kellogg has contributed $632,500 to a propaganda campaign in California which is spreading lies to convince people that they should vote again GMO Labeling (prop. 37) in California on Nov. 6th because they don\\'t want you to know that Corn Flakes contain GMOs. Corn Flakes are NO LONGER G-R-RRREAT. 50 countries around the world require that GMOs be labeled. Kellogg does not use GMOs in these countries. We are boycotting all Kellogg\\'s products. Join GMO Free USA, a grassroots consumer email initiative that is contacting Kellogg en masse with emails to tell them to Just Label It or remove it. Americans have the right to know what\\'s in their food! [...]\"\\n',\n",
       " '1.0,2 week expiration,When I received these key lime snaps I noticed they were ready to expire.  There is no way we can eat 6 boxes of these in 2 weeks.  They are very good and have a great taste.  I am very upset about this product.  I have never had a problem with any products I have bought on Amazon.  I hope Amazon does something about this. A very upset and disappointed customer.\\n',\n",
       " '1.0,\"Doesn\\'t taste anything like apples, and did something to distort the taste of anything I ate with it\",\"My local market was selling this, and I figured I should try a box before buying it in bulk from amazon. Glad I did. I had a 1 tea bag of the stuff and now I\\'m wondering who I can pawn it off on. This doesn\\'t taste ANYTHING like apples, and the food I was eating tasted different AFTER I drank it than it had before. The tea did something wonky to my taste buds.\"\\n',\n",
       " '5.0,Excellent Tea,This is the first Oolong tea that I have tasted. I found it enjoyable with a mild and delicious flavor.\\n',\n",
       " '5.0,SMOOTH  Tasty  Coffee,\"I checked out the Peruvian from DIrect Coffee from Amazon then I purchased a lb of the  100 %  KONA.  Even  when I perc stronger by using less water. it is smooth and non acidic.  Also makes a great cop with a single serve Keurig.  The Peruvian has a slight  grassy after taste not objectionable just different.  I\\' like a  true medium roast which really works with the KONA. I\\'ll try the Jamaivan blend next and report  on it.  So far KONA leads in my taste test,  I like coffee that isn\\'t bitter. so both are good choices.  If on the road try the restaurant that has a little girl on the logo. It is also smooth even if it is darker than what I roast at home.\"\\n',\n",
       " '1.0,Lots of dogs getting sick from this product (including mine),\"Be sure to do your homework re: this product before purchasing.  I have three dogs, and they were all getting sick once Canidae changed their \"\"formula\"\" late summer to early fall.  Once I googled the product and read the many complaints, all with dogs with the same symptoms, I immediately took my dogs off of the food, and they\\'ve been healthy again since.  I\\'ll never trust this product again, and had been a loyal customer for 3+ years.\"\\n',\n",
       " '5.0,Fantastic truffle butter!,\"The ingredients are simple and natural: Wisconsin butter, Salt, Truffle Oil, White Truffles, & Natural Flavorings yet a little of this butter goes a long way to impart an earthly garlicky flavor in your food. Arrives tucked in cold packs and lasts a long time in the freezer. The butter is filled with bits of truffle you can see and taste. I think their secret is whipping truffle oil into the butter to enhance the flavoring. Regardless of the secret, it\\'s a potent and tasty truffle butter.\"\\n',\n",
       " '5.0,THE HIT OF THE LADIES GET TOGETHER,\"This Fruit Dip Peach Passion Mix is Awsome!!! It was the hit of the get together I had with my friends a few afternoons ago. Just mix with Sour Cream, or Sour Cream and Cream Cheese and serve with fruits in season. I used Strawberries, Peach and Nectarine Slices and Rasberries. Make certain that you mix it up and let it sit in the refrigerator at least an hour prior to serving so the flavors can mingle. It is that simple. Then you too can be the hostess of the hour!!!WOW. Am I glad I found this!!!  I put it together very quickly...it only took 5 or 10 minutes to find a fancy bowl and serving plate. Then, I mixed up the dip using half Sour Cream and half whipped cream cheese. It only took one cup of each. I made it up the night before because I wanted to be absolutely certain the flavors mingled and mixed as much as possible. I stored it overnight in Tupperware, then the next day popped the dip into a beautiful cut glass dish. I put that in the middle of a large decorative, serving plate and surrounded the cut glass dish with fruit. Every single person commented on how good this was.  It is quick, not expensive, and looks really pretty. If you are the artistic type, I imagine you could decorate or garnish this dip (the photo on the package shows it decorated with mint leaves) and make it look really smashing.  I have already ordered more and plan to keep this flavor, or some flavor appropriate to the season, on hand at all time. It has become an instant staple in my pantry. Give it a try and I think that you too, will become an instant \"\"star hostess\"\", and will keep it on your pantry shelves. This was an absolute blessing of a find. Hope you enjoy it nearly as much as I and my friends have!!!!!\"\\n',\n",
       " '1.0,Flavorless and like rubbery!,The product was stale and rubbery like. They were flavorless as well.  I would not recommend this specific product to anyone.\\n',\n",
       " '1.0,The unflavored ice milk of tea,\"As no one has reviewed this, I thought I\\'d take the plunge and be the first. I\\'d like to give it a bad review, but \"\"bad\"\" would imply it having some qualities to describe. This tea can no more be \"\"bad\"\" than distilled water can be bad--there is essentially nothing to like or dislike about it.  It was a bad sign when I opened the bad and smelled...nothing. But that doesn\\'t always mean much, so I brewed up a pot, using about a tablespoon for a 14-ounce mug. I tried it after a couple of minutes and it didn\\'t have much flavor, so I gave it another two or three minutes...still nothing. While it develops a lovely color and is composed of what open into large leaves, it has no aroma, no flavor, really no distinguishing characteristics at all. At work later on, I filled up the strainer in my three-cup Chantal teapot and gave it a good 10 minutes. It\\'s possible some flavor may have developed, I\\'m not sure. I could have been imagining it.  And now I\\'m stuck with 2.2 pounds of this stuff. I\\'d better develop a taste for a nice, hot, steaming cup of water, because that\\'s what I\\'ll be having for quite a while.  I previously purchased the Malden sencha; it\\'s more than adequate.  Fine Japanese Sencha. Premium Gourmet Loose leaf Green Tea. Net Wt: 1/2 lb.\"\\n',\n",
       " '1.0,Blech,\"I purchased based on reviews here and was very dissapointed. I had just finished a bulk order of Bigelow Earl Grey from here at amazon, and it was REALLY good. I just thought, oh, a boutique tea with good reviews ought to be better...NO. Save your money and go with the Bigelow (Bigelow Earl Grey Tea, 40-Count Boxes (Pack of 6)), no kidding.\"\\n',\n",
       " '5.0,Measures up well to my favorite Green Mountain coffee,\"I have been drinking Melitta\\'s Hazelnut Creme Brulee ground coffee for a bout a week.  I find it pleasant, complex, and fills the kitchen with a very pleasant smell.  The grounds have very fine grind, however I had no issues with it plugging up the filter. I have been experimenting with the amount of grounds I use for each cup, and I found that I like a heaving measuring cup.  So a little more than I use for my favorite Green Mountain Hazelnut coffee. If I use less the coffee is a little weaker than I like, if I follow the instructions on the package (2 teaspoons per 6 oz cup) I find it a little too strong.  I would recommend experimenting to find just the right strength for your own taste.  I love flavored coffees and Melitta measures up well to my favorite Green Mountain coffee, while being less expensive.  I will be ordering it again in the future.  Ali Julia review\"\\n',\n",
       " '1.0,Old marzipan,\"I had never tried marzipan, but had always wanted to.  While shopping on Amazon, this caught my eye, so decided to try it.  I hope this is not what marzipan is supposed to taste like.  I can taste the almonds, but have to get past the old, stale smell and taste first.  If marzipan has a \"\"best if used by\"\" date, the one I had was WAY past that date.\"\\n',\n",
       " '5.0,\"Tastes great, but price is way too high.\",\"These Glory brand beans with potatoes taste wonderful.  I don\\'t usually like green beans much, but the way these are seasoned makes them taste great.  (It\\'s a salty and bacon-y flavor that is hard to describe.)  I especially like to use them as an ingredient in shepherd\\'s pie.  The only problem I have with them here on Amazon is that the Amazon price is roughly 2 times higher than the price in my local grocery store.\"\\n',\n",
       " '1.0,One sip was enough,\"I was intrigued by the claim that this non-carbonated but caffeinated drink would actually burn calories although I wouldn\\'t quite know how to really prove or disprove that it does. But I found it interesting enough to order this \"\"dietary supplement\"\", as it says on the can. At the very least I figured it would be healthy (green tea and acai) and taste great given that it contains: No sugar, no Aspartame, no preservatives, very low sodium, no high fructose corn syrup and no artificial colors or flavors.  But I was in for a surprise - it tasted awful. Imagine a can of carbonated soda that was opened and then sat out on a table for a day and you get a pretty good idea of what this tastes like. Very flat and simply not good. Both my husband and I tossed it after just one sip. Even if it burned double the calories it claims to burn, I highly doubt I could down the entire 12 oz or even just a third of it. Maybe if it were carbonated that would help but honestly: Save yourself the money, this is NOT good.\"\\n',\n",
       " '5.0,Sprinkle on just about anything,\"If you compare the price of this to one of the bigger-name American spice producers like Durkee or Spice Island, prepare to be shocked. Especially when you consider that the big named ones have sat on the shelf longer than this one has. What makes me the voice of authority? I am a buyer at a small grocery store.  Price aside, this curry is far superior. Just smell it! Divine... Yes, it is a bit saltier than other curry powders out there; just keep in mind that you don\\'t need to add any more salt to a dish. A quick meal can be made by dumping a good measure of this curry powder in a pot with  Thai Kitchen Unsweetened First Pressing Coconut Milk (95% Organic),13.66 -Ounce Cans (Pack of 12)  and whatever veggies/tofu/meats you have on hand. Basically, you just stir, heat and eat. For a lip smacking snack, sprinkle the curry on sweet potato fries. Yummy! I\\'ve also tried a bit mixed into my egg salad, tuna salad and macaroni & cheese with wonderful results.\"\\n',\n",
       " '5.0,Sarah\\'s Tuscan Sea Salt,\"We enjoy this salt mixture on roasted vegetables, grilled meats, and whatever I think to put it on.  We originally got it in Oregon and when it was used up... I went looking and found it here.  What a relief... we are happily using it again and our food has perked up!\"\\n',\n",
       " \"1.0,Nasty tasting stuff!,Too bad I couldn't have ordered just one can. It tastes horrible. Hopefully someone at the food pantry will like to have the rest of the case.\\n\",\n",
       " '5.0,Popchips are the bomb!,\"I love these things!  Not only are they healthy, they\\'re sooooooo good!  I love potato chips with flavor, and these have flavor that pops!  Original flavor has just the right amount of salt (and I like salt), and all the other flavors are just spot on too!  But check out the nutritional information --- compared to regular potato chips, these are like eating spinach!  And if you\\'re like me and sometimes eat an entire bag, it\\'s only 360 calories!\"\\n',\n",
       " '5.0,\"Love the stuff! Great price, too.\",I have been using a the Senseo for several years now. Love the coffee. I just can not drink regular coffee out of a coffee pot anymore; it tastes gross to me now. This is a GREAT PRODUCT at a GREAT PRICE.\\n',\n",
       " '5.0,love this spice,I usually order the regular or original spice blend.  I actually ordered this cider one by mistake--but it is very good as well.\\n',\n",
       " '5.0,have a cup,\"The first time I tasted this tea was about a year ago, and since then it has become my favorite. Never bitter, very consistent.\"\\n',\n",
       " '1.0,Not at all what I was expecting! Smells and Tastes NASTY!,This tea is terrible.  I read other reviews before purchasing.  Other reviews compared it to the cheesecake factory mango iced tea.  This tea is NOTHING like it.  It has a fowl smell and tastes just like it smells. I doubt I will ever drink any mango flavored tea again after this.  There is no way I can drink it and it is not returnable.  I never write product reviews but was so disappointed I had to in this case.\\n',\n",
       " \"5.0,Great gum,Very tasty gum and the xylitol is wonderful.  My youngest daughter's dentist recommneds that she chew xylitol gum 3 to 4 times each day to help prevent cavities.  Her baby teeth had a cavity in every tooth along with three crowns!!!!  Her adult teeth seem to be much more cavity resistent and I believe the gum is helping prevent the cavities.\\n\",\n",
       " '1.0,don\\'t waste your money,\"Don\\'t waste your money on this product if you are looking for decent coffee flavor in an instant coffee...buy Starbucks instead. I used 2 packets in 8 oz. of water, double the amount called for, and still had a beverage that tasted nothing like coffee...more of a nutty flavor. I gave the remaining coffee to a 90 yr. old pal of mine who must drink half-strength coffee...perfect for her\"\\n',\n",
       " '5.0,Great product,\"My kitty is a little messy so I needed one of these. All the local pet supply stores do not carry these any more. I was happy I found this seller on Amazon.com. Mpw my rugs can continue to be saved.  Product is as advertized. Very durable, I even wash it in the washing machine on cold water. : )\"\\n',\n",
       " '5.0,Best donut shop coffee in a K Cup,\"This coffee blows all other donut shop coffees away. The medium roast, smooth taste, and energizing aroma are the three best features. Absolute best K-Cup coffee out there in the light to medium roast (& unflavored) category!\"\\n',\n",
       " '5.0,Yum!,\"Grove Square Single Serve Cappuccino Cups, French Vanilla, K-Cups for Keurig Brewers, 24-Count  I was concerned it would taste watered down, but I think this is delicious.  The caramel flavor in this brand is excellent, too.\"\\n',\n",
       " '1.0,waste of money  -- just didn\\'t work at all.,\"Repeating:  it was just a waste of money.  It didn\\'t work at all...and yes, it was set up according to the directions.  We have yet to trap the first mole....and there are mole tracks all over our yard.\"\\n',\n",
       " '1.0,Higher in sodium than company claims on their website,\"I\\'m only giving 1 star because I can\\'t use it! And also for the extremely bad customer service of the company it comes from. Before ordering I checked the nutritional information on their website, and they state that 1/2 a cube is 123 mgs. of sodium. I also checked another website that sells it and got the same info. I then decided to purchase through Amazon because the shipping rates were better. The only downside was, I had to buy 8 boxes--but I figured that would be ok because I would eventually use it. When it arrived, I noticed the sodium content on the box was 192 in half a cube. That\\'s a LOT of difference for someone like me who has to maintain an extremely low sodium diet. To use it for soup, even for 1 person, you\\'d need a whole cube. Adding in the natural sodium in vegetables, that would be soup I would not be able to eat. I contacted the company (maplegrovefoods.com) 3 times to ask why the discrepancy in sodium content between the label on the product and the website, and never talked to anyone that could answer any questions. The second person I talked to told me to take it up with Amazon. Now that\\'s BAD business!\"\\n',\n",
       " '1.0,Poor Packaging,\"Order was for six cans, due to the fact that this brand was no longer carried by our local supermarkets. While the goods were received on a timely basis, poor packaging resulted in all six cans being severely dented when received. Four of the six were discarded due to food safety concerns.  Overall, ir is unlikely that I will ever purchase canned goods, or any product requiring prtective packaging from this site again.\"\\n',\n",
       " '5.0,\"Tastes like real chicken gravy, fantastic meat substitute\",\"My husband is a vegetarian who has not eaten meat since he was 12 years old.  He does not even remember what meat tastes like.  It is very difficult for the two of us to find a meat substitute that I will enjoy as well, and even harder to find one that I am willing to use instead of the real thing.  Hain Gravy Mix is one of those rare gems that I am happy to use.  The flavor is authentic and great, and it is SOOO quick and easy to make.  Plus, it\\'s a lot healthier (which is worthwhile when you don\\'t have to trade in flavor).  This one gets an enthusiastic 5/5 stars.  Highly recommended!\"\\n',\n",
       " '5.0,Happy to find them.,I was having a hard time finding these hot dog treats since Walmart keeps discontinuing to carry items my dogs love. My dogs love these things so were happy to have found them on Amazon.\\n',\n",
       " '5.0,Best Ever brownies!,\"These are unbelievably good!  I am a baker myself and my brownies are good too, but these have a cocoa taste that I don\\'t know how to replicate.  They are rich and served with a scoop of ice cream should satisfy even the most discerning dessert buff.  Thanks Geoff & Drew!\"\\n',\n",
       " '5.0,bought it for the packaging - use it b/c it works,\"I\\'ll admit it, I initially bought these because of the packaging. The design indicated to me that the makers believe they have a product that is truly different, and I think they\\'re correct. I\\'ve tried all of them and ordered more. They all do what they say they do. Here\\'s how I use them. Have a Sonic with lunch, it puts the kibosh on the afternoon crash, which I experience as not being able to focus on work. It\\'s not buzzy -- it\\'s a lot like 5 Hour Energy only tastes like Knee-Hi Strawberry soda. Bliss is awesome. I don\\'t even know how to describe it. I\\'ve kept these at work, and when things get crazy and I want some \"\"me time\"\" I have one on ice. It\\'s wonderful. You just have to try it. Trim is nice to have at dinner if you\\'re a night-time snacker. Sleep is the one I\\'ve got the least use for, but have tried it after staying up too late on task. You know how sometimes you get wound up and find it difficult to sleep when you\\'ve been working, reading or just puttering around the house? It totally takes the edge off that. I\\'m far from being an insomniac, so ymmv.  I do have to get something cleared up -- on my second purchase they sent no Trim and twice as much Sonic. Not cool, Neuro. Hopefully we\\'ll get this taken care of.\"\\n',\n",
       " '5.0,FANTASTIC,\"The bottle promises improved strength in 7 days, but my hair felt infinitely better after just a single use. I have a great deal of very long, very fine, very straight hair, and generally I find that conditioners leave my hair feeling not conditioned enough (and sadly dry and static-y, particularly since I moved to the desert) or far too weighed down by product. This conditioner did neither -- it just left my hair feeling thick and shiny and smooth. I haven\\'t been using it long enough to see if it really reduces split ends -- I brush carefully, so I\\'m not particularly prone to them anyway -- but it\\'s worth the price even if that particular claim is bunk, because my hair has never in my life felt this healthy before.\"\\n',\n",
       " '5.0,\"Tastes good, like a pasta should\",\"My sister is allergic to gluten, so it was nice to be able to make a tasty pasta that didn\\'t feel like cardboard in your mouth. One package makes a good amount for a main meal for two, or for a side dish for 3-4. Good stuff!\"\\n',\n",
       " '1.0,Bitter!,\"I ordered these supposedly sweet peas from this seller and couldn\\'t wait to try them.  They sprouted well, but were bitter.  I originally thought I had done something wrong in the sprouting process, but I decided to try an unsprouted dry seed.  I rinsed it and it was bitter before I even started the sprouting process.  I contacted the seller directly to let them know they may have a bad batch.  The seller told me that some people rave about the sweetness of her peas and some say they are bitter.  I\\'ve gardened for years and the only time peas are bitter are when they are overripe.  The seller should be tasting and testing the batch before buying it.  She did not apologize at all.  The garbanzo bean sprouts I bought tasted fine so I think it\\'s this batch of peas.  I wanted to get a replacement, but was afraid it would be bitter as well.  The seller was nice enough to check the lot number for me and it was the same so I decided to go for a refund instead which I needed to do through Amazon.\"\\n',\n",
       " '5.0,Wasabi+Soy=AWESOME,\"The title says it all.  The wasabi+soy flavors combine to a deliciousness that is out of this world.  If you haven\\'t tried them yet, you\\'re missing out.\"\\n',\n",
       " '5.0,My fave coffee for the Keurig Vue,\"If you like strong, dark coffee, the Barista Italian roast for the Vue cup is excellent. I make it on the STRONG setting for 8oz and it\\'s perfect. In fact, it\\'s better than what I make in my regular pot unless I have very fresh coffee just ground from beans. The color is a rich, blackish brown, the roast is dark but not burnt-tasting and of all the coffees for the Vue I\\'ve tried, this one wins hands-down. I have the same blend in K-cups (for the office, where the K version sits) and they are not as good, for some reason. The Vue is not the most economical way to make coffee (that would probably be a plastic Melitta filter with a paper cone and a mug or a French Press) but the Keurig is fast and convenient. And I get the coffee the strength and temperature just the way I like it.\"\\n',\n",
       " '1.0,Look inside... These rolls are hollow!!,\"When you pick these retriever rolls up, and hold them in your hand, they feel very lightweight. I didn\\'t think much about it until today, when I decided to saw one in half so that my dog could have a quick chewy treat. The outside the roll looked perfect -- they appear to be densely rolled rawhides. But, upon looking inside the roll I discovered that THE ROLL WAS A HOLLOW TUBE!  These rolls are very deceptive. You could give hundreds of these to your dogs and not realize that there is very little rawhide in them.  Whoever rolled the hides simply rolled an external hide once around two thin strips of rawhides into the end of the rolls to make them look like a long length of hide had been rolled up tight (imagine a thin coil of rawhide neatly stuffed into each end of the roll). To make matters worse, there seems to be some kind of spray foam used as an adhesive to keep it all together.  Do yourself a favor and find a high quality US rawhide company that ships to your local pet store.\"\\n',\n",
       " \"1.0,grimy and dirty figlets,These Blue Ribbon Orchard Figlets are packed more dirty than anything I've ever bought. I am now opening up the 8oz. bags and spraying them down after soaking them to remove the grime and dirt.\\n\",\n",
       " '1.0,These are the small gumballs ...,\"Be aware these gumballs are the small ones. Half of the machines Amazon has matched to them are for the large gumballs. \\'TheNewMall\\' that sells these is aware of this fact, but will not issue a return once you order them. Until Amazon fixes the problem and finds a more honest vendor, be aware of what your getting. At the current price, even if your looking for the small ones, your not getting much for your money.\"\\n',\n",
       " '5.0,These are the bomb!,\"I used to go camping up near Traverse City and every year bought these cherries. Haven\\'t been able to go in a few years, so I was so happy to get them this way! This is even cheaper than in their retail store up there and they are just as wonderful! Love to eat them out of the bag or in my oatmeal!\"\\n',\n",
       " '1.0,No Cats Please!,\"The Turkey Sticks and Pepperoni , and the Hummis are wonderful. However, I feed stray cats every morning at the high school where I teach and they walked, no ran, away from the Salmon and Tuna. This was after I tried each one and decided I could not consume either. The eleven feral cats confirmed the shock to my taste buds.\"\\n',\n",
       " '1.0,Skip it!,\"Don\\'t waste your money and order directly from Nespresso!  Any Nespresso capsules sold on amazon (by various vendors) are marked WAY up, some by as much as 50%!  Don\\'t be fooled.\"\\n',\n",
       " '1.0,TERRIBLE RED LICORICE!!!,\"THOUGHT THESE RED LICORICE DOGS MIGHT BE GOOD SINCE THEY ARE A GOOD BRAND NAME,BUT ALAS THEY ARE LACKING IN ANY KIND OF FLAVOR.NO LICORICE FLAVOR AND NO CHERRY OR STRAWBERRY FLAVOR,JUST GUMMY DOG SHAPED CANDY WITH NO IDENTIFIABLE FLAVOR TO SPEAK OF.YOU WOULD DO JUST AS WELL BUYING SOME OF THAT \"\"GOD AWFUL\"\" RED COLORED TWIZZELERS AT THE GROCERY STORE.I WAS IN SEARCH OF SOME REALLY GOOD CHERRY LICORICE AND THIS PRODUCT WAS A REAL DISSAPPOINTMENT.THIS COMPANYS BLACK LICORICE HOWEVER \"\"IS\"\" VERY GOOD.\"\\n',\n",
       " '1.0,Not real Olive Oil,\"Just (probably) corn oil flavored like it.  I opened a *new* bottle and it was rancid, Olive Oil does not go rancid (full of anti-oxidants) unless it\\'s older than Greece.\"\\n',\n",
       " '5.0,Organic burger,We want to eat only organic food. This product helps us with our hamburger cravings. The subscribe and save helps us never run out.\\n',\n",
       " '1.0,Disappointed,\"I bought a couple of flavors from Halo\\'s, both were not a hit with my cats unfortunately. My cats would not touch it.\"\\n',\n",
       " '1.0,OLD COFFEE!,\"This coffee was 3 months old when I got it. Buying this coffee through Amazon is a mistake, not fresh! Subcribe and Save is a worse mistake. Great price for old, dried-up coffee beans is bad news. Do yourself a favor only buy this coffee directly from Coffee Bean Direct where it is freshly made!\"\\n',\n",
       " '5.0,wonderful!,\"Very chocolately, raspberry taste unlike some of the Van Houette k-cups (Spicy Mayan Chocolate, for example, which (to me) has little or no flavor and smells like wet, sweaty socks.)  Well, the chocolate raspberry truffle definitely does have plenty of flavor and smells as amazing as it tastes. Definitely worth the purchase! Also, the 24-count boxes are great for host/hostess/party gifts and much better than the ubiquitous bottle of wine that everyone brings, assuming, of course, that your host has a Keurig coffee machine.  Great product!\"\\n',\n",
       " '5.0,Good stuff in this bottle!!,\"I usually buy this product at Sams Club, but have not found it on the shelf for months.  I use it as a supplement to aid in cholesterol control. My check-ups and low fat diet are my main plan of attack, but pomegranate has been added for more control..\"\\n',\n",
       " '5.0,Good Health Kettle Chip with Sea Salt,\"The sea salt chips are simply outstanding, they have a fresh slighly salty taste and are crisp. Good Health chips have ZERO trans fat. Excellent buy!\"\\n',\n",
       " '5.0,Fantastic Taste!,\"Not only is the taste great, you can make great-tasting iced tea in less than 5 minutes!  Highly recommend!\"\\n',\n",
       " '1.0,HFCS is a gift of death to boost corporate profits,\"High Fructose Corn Syrup, just like GMO crap, is not food; it\\'s toxic, so avoid. Tasty is not healthy, as fast food and fat people obviously testify. This is made for marketing not people. Let\\'s see them drink 6 per day for one year and check their pulses.\"\\n',\n",
       " '5.0,Too Delicious.,\"I really wanted to try these. I love pomegranate and it is truly a very difficult flavor to nail. And I must admit that these do not exactly do the flavor justice. But what it does do right is that it has a linger flavor of pomegranate that seems very natural. Newman\\'s licorice does use concentrated pomegranate juice, and once you get it going, the flavor sneaks up ... and you suddenly find yourself wanting more, almost needing it. It is deceptively refreshing.\"\\n',\n",
       " '5.0,as a stocking stuffer,\"This is really a great idea - a package of 10 dried pineapple tidbits. You could use it for lunches or carry it with you when you need a little pick me up. I bought this to use as a stocking stuffer for my hubby\\'s stocking and he loved it. It\\'s also much cheaper and tastier than what is generally available in the grocery stores, Try it, you\\'ll like it\"\\n',\n",
       " '1.0,Yuck,\"I read all the reviews on this product and decided to try it. All I can say is Yuck. The three containers that arrive are really small. Which would be ok if this actually tasted like movie butter. It melts, looks and tastes like oil. I love movie popcorn. I even go to the movie theaters sometimes just to get the popcorn, and take it home :) Don\\'t waste your hard earned dollars. Not sure what other people are tasting but you might as well just pour wesson over your popcorn.\"\\n',\n",
       " '5.0,Delicious!,\"Well i was a little hesitant due to the price, and because i wasn\\'t sure if i wanted that many bottles in one go. Shouldn\\'t have worried though, as the taste makes the price worthwhile, and the amount is convenient since i keep drinking it non-stop.  Although it says it\\'s ok to leave the bottles out of the refrigerator if not opened, i stored mine in the fridge. Since it taste exactly the same way the first bottle i tried when i received them, i\\'m thinking it\\'s better this way.  This may be a little TMI, but they might be people like me who have the same trouble, so i\\'ll say it. If you have trouble with constipation or hemorrhoids, this is perfect way to regulate yourself and make it easier. Sure you could stuff yourself with a bunch of fiber pills everyday, and probably accomplish the same results, but if you hate taking pills this work as a natural alternative.\"\\n',\n",
       " \"5.0,Fantastic,These are fantastic! I've gone through about 20 bags in the last couple months.  Try putting out a bowl of these rather than pretzels or chips.  They've got a hint of saltiness to them so they go great with beer.  The bulk box of 15 bags is also the most economical purchase I've found.\\n\",\n",
       " '1.0,Cotton Candy Yuck!,\"If you like Starbucks Chai tea stay away from this. It is too sweet and not a good sweet. A 4 year old from far away from me said \"\"I smell Cotton Candy\"\" when I was drinking it. It is just overpowering sweet without the pleasure of the spice taste. So then I tried it without the Latte part and the spices were not pleasing -they had a strange taste to them. My search for at home chai continues. We will not be buying this again. On a side note: I do like Stash Chai Black tea bags they are different than the Starbucks, but very pleasing.\"\\n',\n",
       " '1.0,Not as described,\"The description refers to the item shown in picture, the Colavita EVO in the green tin. This is the same olive oil sold in many shops and supermarkets (and in Italy, by the way) and made exclusively of Italian olives. However I\\'ve been shipped a different item, a blend of Italian, Greek, and Spanish olives, sold in a white tin. Same brand but not the item described, and that I intended to buy.\"\\n',\n",
       " '5.0,Cannellina Beans,These are the best of all white beans.  If you soak them overnight and then cook them on medium heat the hulls will not crack.  It only takes about 40 minutes to cook these beans.\\n',\n",
       " '1.0,pet unable to chew,These munchy sticks were so hard that my dog could not even chew on them.  I gave them to some friends that have a much larger dog and he could not chew them.  We soaked them in water and still could not get them anywhere near soft or munchy.  Sorry for the poor review.\\n',\n",
       " '5.0,yumm!,\"I was in Virginia beach, an went to 7 eleven an they sell these for 99 cent. Total I got 25 of them an I can\\'t wait to get more in a few more days when i go back to VA.  I live in GA where they don\\'t have 7 eleven :(\"\\n',\n",
       " '5.0,Love the CINNAMON Mentos,\"I have been purchasing the cinnamon Mentos from my local stores, but they no longer handle the product, plus it cost over a $1 a roll when I could find them.  I was very happy to find them because cinnamon is my favorite and the grandchildren love them too.\"\\n',\n",
       " '5.0,Great transaction! Great Coffee!,I love the coffee and I love the transaction. Fast and easy. Thanks very much!!\\n',\n",
       " '1.0,Pretzels?  I don\\'t think so...,\"These should not be labeled \"\"pretzels\"\". More like compressed sawdust. Inedible in my opinion.  And I\\'m stuck with 12 bags of them.  Yuk!\"\\n',\n",
       " '5.0,great product,\"bit expensive but worth it first tried it in New Zeeland and glad it is available, because we could not bring it through customs\"\\n',\n",
       " '5.0,Great taste,\"I loved this bread.  Very tasty with a good texture and taste.  I tried making something similar from scratch and it didn\\'t turn out anything like this bread.  Slices great warm or cold.  I bake for my boss and her family and they all voted a resounding \"\"Yes, we like this\"\" when I brought her in a loaf.  Freezes well and toasts up great either plain or with butter or cream cheese.  My boss ate hers with spaghetti after lightly toasting.  She said it was outstanding and wanted more (am I surprised, no).  Would highly recommend if you want a good Italian style bread.  I made mine in my horizonetal Wolfgang Puck breadmaker and used a crisp or dark crust setting.  I tried all other settings, light and medium and the bread came out great with a little different texture but still great nonetheless.\"\\n',\n",
       " '5.0,Awesome!,\"Okay, so I\\'ve been vegan for 9 years. This means I haven\\'t tasted actual franks in that long. These franks tasted very familiar though. After reading the last review, I realize why. He was exactly right! It has a vienna sausage taste. Though it doesn\\'t have that exact flavor, which is great. I always attributed the part of the flavor it doesn\\'t have with spoiling meat anyway. So this is perfect for me. If I could give it more than 5 stars, I would.  These franks are nice and plump. I boiled them, though I thought it would mess up the flavor. But they were perfect after all. I can\\'t wait to try the burgers!\"\\n',\n",
       " '1.0,Stale Granola Bars,\"The Granola bars, with about a month left before being out of date, were stale, petrified and inedible.  I returned the product to the original seller.  Amazon charged double what the original merchant charged for the product. All in all, a very disappointing experience.  I have bought from Amazon many times in the past and was always pleased with the merchandise.  This was the first \"\"FAIL\"\" for me.\"\\n',\n",
       " '1.0,They tried to cover the item expiration with a sticker!,\"I love this product, but BEWARE, Amazon has covered an expired expiration date with a sticker! Shame on you Amazon!\"\\n',\n",
       " '5.0,Great coffee,Love this coffee.  Strong but not too strong...great flavor. I always keep it on hand.\\n',\n",
       " '5.0,The Little One Loves This,Our 6 month old absolutely loves this multi-grain cereal. I would recommend it to anyone and everyone!\\n',\n",
       " '1.0,Not Mrs. Weiss noodles,False advertising not Mrs Weiss noodles  Get the real ones.  Seller needs to make this right or leave amazon.\\n',\n",
       " '5.0,Perfect Training Treat,\"A trainer suggested these treats over a year ago and once I bought them I never when back to hotdogs.  They are really easy to use and my dogs love them.  When I trained our smaller dog, they were easy to break apart.  Ever since I used them the first time I became a loyal Zuke\\'s convert!\"\\n',\n",
       " '1.0,Salty Enough to give you Hypertension,\"These are not at all spicy, so little wasabi taste it should be named \"\"MSG peas\"\". If you hate the spicy taste of wasabi then this is the thing for you(but then why are you ordering \\'wasabi peas\\' in the first place!?)They are so salty I stopped after a few and I usually finishes a whole can in one sitting. And they are hard so watch out for your teeth. Overall, disappointed.\"\\n',\n",
       " '1.0,\"Nice price...but sadly, not potent ...:(\",\"I purchased these mushrooms after taking cordyceps for about a year.  Previously, I was supplied by my father who always ordered them online from Mushroom Harvest.  I figured that this price was better so I decided to buy my own.  I should also state that I take them for 2 specific reasons.... 1. They eliminate my allergies and 2.  They significantly  help my endurance.  I gave half of the NEW cordyceps to my father and kept the other half for myself.  At first, I thought that perhaps it was me because I did not feel any effects at all.  I took them exactly as I had in the past for 2 weeks and sadly, my allergies resurfaced which prompted me to be extremely tired.  I had some of my OLD Mushroom Harvest cordycep supply from my dad so I took a teaspoon.  Within that day, my allergies cleared which indirectly effected my energy level.  I was back to running/gym and my regular work routine at my usual pace.  I did not want to believe that these mushrooms were not potent so I would still take the NEW ones periodically for a week at a time.  At one point, I even tried increasing the dosage..... but still rendered the same disappointing results.    Months later, I mentioned the differences in mushrooms to my father.  He said that he noticed the same effects or lack there of but did not tell me to avoid offending me since I bought/gave them to him. :(  He had already ordered himself more cordyceps from Mushroom Harvest.  I had to do the same thing which bothered me because somehow no matter how old I get, he is always RIGHT!!!!!!!    I really wanted these cordyceps to be effective and am sadly disappointed that they were kind of a waste............ On a positive note, the Kismet Kreations Cordyceps came in a timely fashion and had a nice hand written thank you on the invoice!!!! :)  P.S. No, I am definitely not an endorser for Mushroom Harvest.... If anyone can tell me where to get equally potent but less expensive Cordyceps, please let me know!!!!!!!!!!!!!!!!! :)\"\\n',\n",
       " '5.0,great variety,\"Awesome variety of flavors, coffee, decaf, tea, hot chocolate. My work also orders this variety pack pretty frequently, we love it. Great product.\"\\n',\n",
       " '5.0,Best brand so far,\"The Feline Organizational Committee in my house has informed its employee that this is an acceptable product. They previously complained about everything except Natural Value with Albacore and this one. You do not want to be in this house when they are complaining. As for my research, so far as I know there are no additives. This company does not fool around with the product or try to make it pretty for me or stretch it with inedible filler. They provide real fish and real crab (in a small amount of clear fishy jelly). That\\'s fine with me. I don\\'t want additives that make things colorful and eventually kill my cats. I don\\'t want to look at it, they don\\'t see in color, and all they want to do is smell it and eat it. And when they are happy, I am sooo relieved. Keep up the good work!\"\\n',\n",
       " '5.0,FOLGERS COFFEE,I ORDERED THIS FOR A FRIEND. THEY USE THIS BRAND. SO I GOT HER SOME AN THEY LOVE IT. SHIPPING WAS FAST. PAID LESS FOR THIS ORDER FOR SHIPPING THAN I EXPECTED AND MADE IT A GOOD PURCHASE WHEN YOU CONSIDER THE PRICE OF BUYING AT WALMART AND HOW MUCH IT WOULD COST TO SHIP FROM HERE. THEY WERE DELIGHTED. WAS A GREAT GIFT FOR THEM\\n',\n",
       " \"5.0,2 boys under 10 love it,My review of the literature suggested xylitol gum to reduce or prevent ear infections. My son had several ear infections after bouts with allergies and one dose of penicillin for the infection nearly landed him in the hospital due to a severe allergic reaction.  My choice is to be proactive and reduce the bacteria in the mouth that migrates and causes ear infections. The gum tastes great and he hasn't had an ear infection since. WE bought him the toothpaste too and he brushes all the time with it.\\n\",\n",
       " \"5.0,My kids loves it!!,This bag take care of my family for 2 weeks without food.  I'm ordering 2 bags per month.  Con: Should have big of 10 lbs.\\n\",\n",
       " '5.0,best ice cream ever,\"This cocoa is amazing with its wonderfully strong, sinfully good flavor (I never had the old type in the silver can, so I cannot compare them). Unlike others, I did not notice this to be bitter (and I used a lot in my recipe).  When my wife, who *is* Dutch, moved here, she was very disappointed with the cocoa we could find in the stores. I noticed that Ben & Jerry\\'s used alkali-processed cocoa, so I went looking for some and found this, and then made chocolate ice cream with it. Both my Dutch wife and I think it is the best chocolate ice cream ever. My recipe is below.  Also, note that the item selling here is for SIX containers of cocoa (I paid $2.37 for one at Central Market). Some reviewers think that the price is for only one container. If you can\\'t find it elsewhere, this is still cheaper than the real Dutch cocoas.  Dave\\'s Dutch Chocolate Extreme Ice Cream    2 lg eggs  500 ml heavy whipping cream (about 2 cups + 1 tbsp + 2.5 tsp)  250 ml whole milk  (about 1 cup  + 1 tbsp)  150  g sugar  (3/4 cup + 1/2 tbsp)   65  g dutch cocoa  (3/4 cup + 1 tbsp: well-packed)  pinch  salt  whisk eggs a few minutes to fully blend.  then whisk in sugar until well blended.  continue to whisk until smooth while adding in cream, milk, cocoa, and salt.  store in fridge overnight (this helps with the texture).  freeze according to your ice cream maker\\'s instructions.\"\\n',\n",
       " '5.0,Great product,\"I have never had sea salt before, but I\\'ll tell you, I\\'m hooked!  This is an excellent product, and tastes better than iodized salt.  I understand it\\'s supposed to be better for you too.  You won\\'t go wrong with this product.\"\\n',\n",
       " '1.0,not a sweet deal,\"Dont buy.  I think i am stuck for usd 25.50 as i just read i cant return it. Daughter in-law said she had to use 6-7 pkts in her coffee and it still wasnt sweet.  Granddaughter hated it -didnt taste good/sweet. No wonder they package 400 - it is like \"\"gotcha\"\".  I wont buy an item of this quantity again, unless i have tried first.  good luck.\"\\n',\n",
       " '5.0,clean teeth for my baby,My dog loves these chews. He asks for them every night. Much cheaper to buy them here than try to find them in stores.\\n',\n",
       " '5.0,Very Good Quality! Excellent Taste & Purely Delightful.,\"This Organic Ginger powder is a excellent product for a good price & you just can\\'t beat what you get for the money & the quality of the powder is unparalleled. I love this stuff. It last forever. I kept one pound bag out & the other 1 pound bag I put in my chest freezer. I will definitely be purchasing more of this wonderful A grade organic ground ginger. I put a tablespoon of it in my tea, I put a tablespoon of it in a glass of water with 1 tablespoon of organic ground wheat grass powder with real lemon & 1 heaping tablespoon of  Honey Gardens Raw Honey, 2-Pound Glass Bottle  or the other honey I use is  YS Royal Jelly/Honey Bee - Raw Honey, 22 oz gel . I also put a Tablespoon of it sometimes in my green smoothies sometimes. Simply Wonderful & I am truly enjoying the taste of this yummy Ginger.\"\\n',\n",
       " '1.0,Are you serious?,At this price and you expect to sell these?... You have to be kidding!  This has got to be a joke?\\n',\n",
       " '1.0,Horrible flavor!!!,\"I brought this item to work for lunch today... let\\'s just say I\\'m eating an apple & some trail mix I had in my desk. The flavor & smell of the sauce was just so unappetizing. The ONLY thing this product has going for it is a little bit of spice. Otherwise, the flavor is terrible. Cheap-o ramen noodles have better flavor. I\\'m highly disappointed considering what I paid for this (at the grocery store).\"\\n',\n",
       " '5.0,Tasty and Crunchy,\"I tried two varieties, the Vanilla Blueberry Clusters and the Cinnamon Oat Clusters, both with Flax Seeds.  The package, which weighs 11 oz., advises that you can eat the product as a snack on the go, sprinkled over yogurt, or in a bowl with milk.  The serving size is one third of a cup.  The vanilla blueberry variety contains 120 calories, and the cinnamon variety has 130 calories, with 30 calories coming from fat.  The package also advertises that there are 5 grams of fiber, and 750mg. Omega-3 in each serving.  The clusters contain 100 per cent whole grains, including amaranth, quinoa, oats, millet and buckwheat.  The product is low glycemic, without refined sugars, non GMO, and contains no saturated fat, or trans fat, is cholesterol free and very low sodium.  The clusters are gluten free.  The back of the package notes that the product contains soy, and is made in a facility that uses peanuts, tree nuts, and sesame seeds.  The clusters vary in size from one grain of one of the ingredients to clumps three quarters of an inch in diameter..  They aren\\'t hard to break apart, so this isn\\'t really a problem, except maybe if you are trying to sprinkle them from the package onto yogurt.  You might want to pre-crumble the larger pieces before trying this.  Eating them on yogurt was my preferred use for the vanilla blueberry clusters.  There was something about the flavor of this variety that I didn\\'t immediately like, eaten out of hand.  I can\\'t explain what it was, maybe too sweet?  I have to say, though, that although this was my initial reaction, the flavor sort of grew on me later.  Mixing the clusters in blueberry or other fruit-flavored yogurt masked whatever it was I didn\\'t like and added a nice crunch.  Eating the clusters over yogurt wasn\\'t my favorite use of the cinnamon flavor.  This is just personal preference, because I don\\'t want a cinnamon flavor added to my fruit-flavored yogurt.  If you think you would like this flavor combination, or if you eat vanilla or plain yogurt, then eating these with yogurt might work for you.  Like the vanilla variety, these would add a nice crunch to balance the smoothness of the yogurt.  I liked eating the cinnamon clusters out of hand more so than the vanilla blueberry flavor.  Again, personal preference.  I  sprinkled both varieties (separately) over Special K cereal in a bowl with milk.  They added flavor,  but at 130 calories per one-third cup serving for cinnamon, and 120 calories per one-third cup for the vanilla, it would be easy to go overboard on calories if you ate these alone for breakfast.  All in all, I liked this product.  It was tasty and crunchy.  Although maintaining a \"\"healthy weight\"\" is mentioned on the package, they are not especially low calorie, so portion size has to be watched.  If I see them in the grocery store, I will very likely buy them.\"\\n',\n",
       " '5.0,Amazon\\'s Healthy Cereal,\"We love this healthy, wheat-free, tasty cereal and can no longer buy it at our local HEB, but it is readily available from Amazon.\"\\n',\n",
       " '1.0,Does not taste like chocolate,\"Thought these would be like a brownie with crunchy nuts but I was wrong! These don\\'t taste like chocolate but like bitter cocoa powder instead. Mine had tiny pieces of nuts unlike their other bars that have bigger nut pieces. My husbands had medium nut pieces. We both are vegan and consume only organic foods so we know what to \"\"expect\"\" but these are awful. They\\'re not even a little bit good, just bad! The peanut butter chocolate chip by this brand is yummy, especially if it\\'s been sitting in a hot car or out in the sun for a bit :)\"\\n',\n",
       " '1.0,Nothing like mallowmars,\"I bought these cookies because Mallowmars were out of stock everywhere, and I thought these would be similar. Other than the look, they are nothing alike. These Whippet Cookies are horrible. They don\\'t even come close to a Mallowmar. They leave you with with a bad plastic taste in your mouth. Since I can\\'t return them, they will be going in the garbage. I would give them away, but I would never subject another person to such a terrible cookie!\"\\n',\n",
       " '1.0,Ewwww....,\"Well seems like people either love or hate the seasoning used on these almonds. Count me among the latter camp, I am not against seasoning on nuts in general but the flavor used on these is disgusting in my opinion. To me it almost tastes like chicken flavor, as though they were roasted in poultry seasoning. I have a whole can to eat up and I found rinsing and then drying them does help somewhat in getting the flavor off but I will not be purchasing again!\"\\n',\n",
       " '5.0,I believe in a supreme bean,\"If you have seen Monty Python\\'s \"\"Party Political Broadcast\"\", or marveled at Ann-Margret swimming in baked beans in the Rock Opera \"\"Tommy\"\", then you will have some idea of the importance of the baked bean in popular British culture.  It has long been a staple throughout the British Isles.  A \"\"Full British (or Irish) Breakfast\"\" has to include them, and beans on toast are a ubiquitous snack.  There are many species of baked bean in tomato sauce but the undisputed supreme bean is the Heinz, as manufactured in the UK.  Here in the US, we have plenty of canned \"\"Pork and Beans\"\", but they are different.  They have pork fat added, for flavor, and are heavily sweetened, often with high-fructose corn syrup and/or molasses.  These Heinz beans do have some sugar but they do not have that distinctly sweet taste that their American cousins have.  Also, they are free of artificial additives.  And they certainly have no pork fat.  They are thus a healthier choice.  If you are used to the pork and excessive sweeteners, then these beans may taste somewhat bland at first but, if you persist, you will soon come to prefer the cleaner, lighter taste and will not want to go back.  As they are imported from the UK, they tend to be more expensive than the native US canned beans.  In fact, some specialist stores stock them here, sometimes at prices slightly lower than Amazon is offering, although Super Saver Shipping and Subscribe & Save make them very competitive, and of course you have the convenience of home delivery.  A bigger problem is packaging.  At the time of writing, Amazon has still not quite mastered the art of shipping canned goods.  They are packed too loosely and tend to knock together.  As a result, 3 of the 12 cans in my consignment had dents in them.  Small dents, to be sure, but I know that some people are reluctant to eat food from even slightly dented cans.  Hopefully, Amazon will solve this problem soon.\"\\n',\n",
       " '5.0,Best internet purchase yet,\"If you are looking for a tasty snack or a quick breakfast at work, these are great. I have an ongoing shipment setup to send these to where I work, and as a result I haven\\'t missed breakfast in weeks.\"\\n',\n",
       " '1.0,Not like when I was a kid...,\"I had all these nostalgic, wonderful memories from my childhood about these bears.  So sweet, delicious and comforting.  The perfect little treat.  Brother was I disappointed.  The bears were old, stale and disgusting.  I swear I remember them being super flavorful.  I feel like these had been sitting on the shelf since the mid 80\\'s.  Needless to say the Black Forest are always fresh and I will be getting them next time fo-shizzle!\"\\n',\n",
       " '5.0,great flavor... whole tub gone in less than 9 hours!!!!!,\"My boss brought these in to her office to try them out. They lasted about two days... A week later, she brought in another 44oz. tub. When our whole staff of 10 learner about them, nothing was left but the crumbs at the bottom of the plastic tub!!!!! Too good to NOT finish. Best work snack ever!!!!!!\"\\n',\n",
       " \"5.0,Yam Good dog treats,My dogs LOVE these treats and it takes them a little time to chew them up. ...and they don't make my hands too yucky like some other treats on the market. These are MY favorite treats for my dogs.\\n\",\n",
       " '5.0,Keurig K-Cup Home Brewer,\"Great product that brews a great cup of coffee fast and removable water resevoir is the way to go no more messy water refills with a pitcher or coffee pot.  Looks great with any kitchen decor and saves you money, with so many flavors now available in K cups you cannot go wrong.  Only downfall is that the pump is louder than I would have liked but for the savings over store bought coffee or wasting half a pot in a conventional brewer I can live with it.\"\\n',\n",
       " '1.0,Taste\\'s nothing like White Hot Chocolate,\"I am a fan of White Hot Chocolate, and this doesn\\'t even come remotely close to the flavor. It is similar to 1% milk with some sugar added to it. My son wouldn\\'t even touch the stuff, said it was horrible. I tried adding it to a cup of regular coffee, and it ruined a good cup of coffee. Those who gave this 5 starts obviously have no clue what good White Hot Chocolate tastes like! Gross, don\\'t waste your money.\"\\n',\n",
       " '1.0,Way too Sour!!,\"I normally love Plum products, and when I ordered Pumpkin and Banana, I thought it would be a perfect mix for my 18 month old.  He took one bite, and spit it out.  Confused, I tasted it, and was shocked by how sour it was! After reading the ingredients, I saw they put lemon juice in the mix.  I now have 23 bags of food my children refuse to eat.  Very disappointed!!\"\\n',\n",
       " '5.0,Love this stuff,\"Not for sale where I live, I order it by the case.  Good stuff.\"\\n',\n",
       " '5.0,My dog loves it and i love it because it helped stabilize his stomach.,\"So my dog (Male Boxer) has a really weak stomach due to an infection he has had as a puppy (I assume) This food has helped stabilize his stomach within 4 days of using it. Solid dog poops all the way :) Even though pricey i only use about a cup and a half of this dog food and he is full. He always leaves about half a cup when i feed him the recommended dosage of two cups. With cheaper foods it was totally different, i\\'d have to use up to 4.5 cups.  This food is awesome!\"\\n',\n",
       " '5.0,Great Oatmeal,\"This stuff is great. My family can not tell the difference between this, McCainns and Honeyville Farms. All three taste great. 10 pounds will fill a coffee can sized container and a gallon bag.  Bring 3.5 cups water plus pinch of salt in pan to rolling boil. Before you go to bed, add 1 cups oat groats plus two rounded tablespoons pecan meal to the water. Stir. Turn off the burner / remove from heat when it almost foams to the edge. Cover and lit sit on the stove overnight. In the morning, heat individual bowls in the microwave. I add a bit of milk and one tablespoon brown sugar. We prefer our oatmeal thicker than standard porridge and this is more than enough for 4. The thickest I have made it is 3.5 cups water to 1.25 cups oat groats.  The pecan meal adds nutty flavor. You can make meal using your blender to process nuts.\"\\n',\n",
       " '5.0,PRO - PROBIOTIC SWEETENER,\"Nevella is an outstanding product. This is a Probiotic product that actually works to assure a balanced digestive system and regularity. I\\'ve been using Nevella for about six months and am amazed. I no longer take an individual probiotic in pill form. My local grocery store only carried it for a short time but as always, I can count on Amazon to deliver.\"\\n',\n",
       " '1.0,Do not buy this product,\"Do not buy this product.  It is NOT the product advertised!  I used to be a regular buyer of the Nong Shim Hot and Spicy Picante Bowl Noodles.  It appears that Nong Shim has made a change to their product offering and I have not been able to buy this product anywhere.  A while ago, I made my normal order for the product and received a case of Hot and Spicy *beef* noodles.  This is a very different product than what is advertised on this page.  The new product has a flavor that is bland as compared to the original and in particular is much less spicy.  In thinking that it was my error in the order, I went back and made sure to order from this link...and I still received the beef flavor.  At that point, I contacted Amazon about the error.  They refunded the second order and said that they would correct the page so that it has the correct info.  Now, a few weeks later, it appears that they still have not corrected the product information.  Please do not order this product from this link.  If you want to try the new beef flavor, search for Nong Shim spicy beef and you will get a page for that product.  But if you order from here expecting to get what it shows, you will be disappointed.  Finally, unrelated to my purchase here, I have started to see the new product on store shelves with the word \"\"beef\"\" removed from the cardboard outer wrapper.  I purchased one from my local store hoping that it was new packaging for the old product.  Much to my dismay, the inner packaging (ie. the lid on the bowl, which you cannot see before purchasing) still said that it is the beef flavor.  It\\'s too bad that Nong Shim has made this change.  I really enjoyed the old product, but I do not like the new one at all.\"\\n',\n",
       " '5.0,Love it!,\"I love this stuff!  I gotten it in a grocery store when traveling and haven\\'t been able to find it since. I\\'m ordering a pack now for my sister-in-law to try for nausea.  Hopefully it will be as good as I remember, chewy, spicy, and full of ginger!\"\\n',\n",
       " '5.0,Wonderful choice,\"This purchase was a wonderful choice. I was not sure what I would be getting. I made the purchase based on the comments I had read. Pero is a winner in my book. I had drank Postum in the past but it is no longer available. This drink is even better and is smooth and not bitter. You do have to follow the directions on making it, if not it will clump in your cup. I am 100% satisfied.\"\\n',\n",
       " '5.0,Excellent,\"I have tried many hot sauces(Frank\\'s, Texas Pete, tabasco, etc) and this one is the best.  Some sauces have heat.  Some have flavor.  This one has both.  It will add a very unique flavor to you food.  You wont be dissapointed.\"\\n',\n",
       " '5.0,Yum!,\"Delicious Tea, not too bitter but with a nice strong taste. The foil packets are great, and I use them to keep my desk clean as a spoon rest at work! I underestimated how big a box of 100 tea packets would be, but no worries, I\\'ll get through them all eventually!\"\\n',\n",
       " '1.0,Didappointed!,\"I was disappointed with this product. I was hoping it would be like the ones you have in motels. I have the waffle maker but can not find an easy mix for it. I have to make it from scratch, which is not always convient. This mix tastes more like cornbread than waffles.\"\\n',\n",
       " '1.0,Used once and switched,\"I have a new Akita puppy, and bought the Canidae ALS for him since I couldn\\'t get the breeders type of food in my area. After transitioning him to the Canidae, his stools were loose and yellow. I looked on-line, and saw that Canidae switched their formula, and my puppy\\'s symptoms were mild compared to some I read about. I immediately switched my puppy to Wellness Puppy, and everything has been coming out fine since.\"\\n',\n",
       " '5.0,Pine Nuts,\"We eat a lot of pine nuts.  We use them in our salads, in Basil Pesto, and as a snack.  This was our first experience with Amport Foods Pine nuts.  We were pleased with the quality and taste.  The price was competitive.  We\\'ll buy these again.\"\\n',\n",
       " '5.0,I should have looked more carefully!,\"Here is the important information on the product page:  Safety Information Contains soy, peanut, almond, hazelnut, walnut and pecan ingredients.  Ingredients Whole Grain Rolled Oats, Sugar, Canola Oil, Crisp Rice With Soy Protein (Rice Flour, Soy Protein Concentrate, Sugar, Malt, Salt), Honey, Brown Sugar Syrup, High Fructose Corn Syrup, Salt, Soy Lecithin, Baking Soda, Natural Flavor, Peanut Flour, Almond Flour, Hazelnut Flour, Walnut Flour, Pecan Flour. --- Although I am allergic to peanuts and almonds, I ordered the delicious crunch granola bars, oats and honey flavor.  When they arrived in their inviting \"\"100 percent natural, excellent source of whole grain\"\" I could not wait to crunch down on one of these golden delicacies.  I quickly discovered that for me these bars are real wheezers.  The taste committee living in my house confiscated them.  The report is that they are 100 percent delicious.\"\\n',\n",
       " '5.0,favorite coffee,\"As the title says, it\\'s my favorite blend.  I got hooked while living in Hawaii, and can\\'t buy it in my local grocery store just yet.  The price was right, it\\'s the real deal, and it\\'s great coffee.  Not too strong, good flavor, brews up nice in a French press.  If you like super dark coffees, might not be for you.\"\\n',\n",
       " '1.0,bullseyes,I was really disappointed in the quality of these bullseyes.  They were very hard not soft like the others I have gotten.  The ones I got a long time ago were nice and soft.  These were too hard to do anything with. I had to throw them away.\\n',\n",
       " '5.0,Great coffee at a great price,Love this coffee I like strong coffe my husband likes weak coffee we get two cups out of one pod\\n',\n",
       " '5.0,Love these!,\"Nice vegetarian protein, low cal, good taste, quite spicy, but there are other flavors that are tasty as well and not as zesty...I especially like the terryaki and thai peanut flavors.\"\\n',\n",
       " '1.0,Rancid,I received this order in good condition but when I started using it it had a rancid flavor.  I have used other brands that tasted wonderful but not this one.  I would not recommend this product to anyone.\\n',\n",
       " '5.0,Kids like it.,\"My children love V8 Fusion, especially the strawberry banana flavor.  It\\'s thick and sweet and delicious.  Thanks to creative labeling that deemphasizes the vegetable content, I don\\'t think my kids have noticed there are vegetables in it.  Either they haven\\'t noticed or they just don\\'t care.  I like that they get their servings of fruits and veggies for the day.\"\\n',\n",
       " '1.0,smells like turpentine,\"I did not open right away, I had ordered another kind of cereal and started that kind first.  Therefore was not able to return, as I missed the deadline by a couple of days. The cereal smells like turpentine. Will not be ordering this again.  After a while smell comes through and even the box starts to smell like this.  I have asked others about it just to make sure it was as I had perceived it.  No one else had a different opinion.  They too say it stinks. I will feed the grandkids the sugar-laden cereals before this \"\"healthy\"\" one.\"\\n',\n",
       " '1.0,Bad Business Practice byPetco and Amazon.com,\"I decided to try these because they had a very nice offer for a 25 count. I purchased and paid for the Snozzles and awaited my package to arrive. A few days later, instead of my package arriving I received an email stating this they do not carry the Merrick Snozzles Pork Chew Dog Treat in a 25 pack. Well if you don\\'t carry it then why is it still listed on Amazon.com\\'s website. In my opinion either Petco or Amazon.com should have honored this sale. They did not and shame on them.\"\\n',\n",
       " '5.0,Greenies,\"My dog loves greenies, but they are quite expensive. Anytime I can save some money on them, I try. My dog will go to the counter top that has the greenies on them and sit down looking at them. If we don\\'t respond, he will whimper until someone gives in and gives him one. Then he gets excited, jumps around before he grabs it and runs off to eat it in private.\"\\n',\n",
       " '5.0,Great Product,I have used the product for over two years and have found it very beneficial.  I have recommended it to my friends and they are using this product as well.  Keep producing it.\\n',\n",
       " '5.0,Pork Chomps are the BEST,\"My dog absolutely loves her mini twist pork chomps.  They are the ultimate treat.  I can only find these on Amazon.com or the Pork Chomps website, and with free shipping they are less expensive to purchase on Amazon.com.  I wish these came in a larger quantity bag.\"\\n',\n",
       " '5.0,The Perfect Power Booster,\"I often use this KIND Plus Cranberry Almond Bar as lunch.  Why?  Because it is the perfect all-natural combination of proteins and fruit, is gluten free, and delivers 50% of the DV Antioxidants Vitamin A, C and E.  Oh, did I say it\\'s delicious?!  I also carry one bar in my purse for low blood sugar when I\\'m away from home.  This bar certainly has my vote, and my loyalty! ~ And you can\\'t beat Amazon\\'s subscription prices anywhere -- with free shipping to boot!\"\\n',\n",
       " '1.0,Sad excuse for K cups,\"This is a sad excuse for coffee... I\\'m like the other reviewer that wondered why it\\'s so light. So we cut it open to see, only a sprinkle of instant grounds on the bottom that disappear when you run it through the Keurig. Yes they\\'re way cheaper but yuck, not worth it.\"\\n',\n",
       " '1.0,So VERY Bad,\"If you like the taste of water with a hint of coffee, buy this. Otherwise stick with Starbucks VIA. I use the instant coffee mid-way through my day at work. The Taster\\'s Choice requires 3 packs to make a decent 16oz cup of coffee. The Starbucks VIA only needs 1. Spend the extra couple of dollars on the Starbucks if you want good instant coffee.\"\\n',\n",
       " \"1.0,Very Weak Blend,I have been used to Dunkin and Starbucks. I decided to try something new and picked this one up at local store after reading rave reviews.  I was thoroughly disappointed in this one. I whole heartedly agree with another comment posted here.  This is worse than office coffee!!!  I found the coffee to be too light compared to Medium Roast of Dunkin and Star Bucks.  The flavour and aroma was akin to hot water run through an already filtered coffee grind.  If you are used to stronger blends and richer flavours then you will not miss this one.  If you are trying to move off coffee or want to go for a light coffee then you might prefer buying this.  I am putting this to compost. This ain't my cup of coffee :(\\n\",\n",
       " '1.0,Seriously???,\"This one has a major problem. It\\'s waaaay too watery, even at the recommended settings. The chocolate flavor is okay, and it\\'s not overly sweet (although it still isn\\'t great dark chocolate flavor). The really issue is that there isn\\'t any creaminess, and adding milk only dilutes the flavor even more. Blech! I\\'ll pass, and I\\'m throwing the rest of the box out.\"\\n',\n",
       " '5.0,No more sour milk!,Works great for the Social Hour at the church.  No more sour milk!  Or forgotten creamer purchase!  Coffee drinkers like it.  And keeps coffee table tidy -- no messy milk spills/drips.  Great for storage -- makes purchase easy to have auto-delivery every 3 months.\\n',\n",
       " \"1.0,Not good for doggie digestion,Got two bags of these for my dog.  For some reason they make him have to go poo almost instantly.  Tried two different flavors and the both make him sick.  He does not normally have intestinal issues.  I'm going back to regular milk bones or zukes.\\n\",\n",
       " \"1.0,Too Bitter For My Taste,I had high hopes for this drink despite the fact that I prefer unsweetened drinks.  I poured it in the glass and was unhappy with how dark it was.  I took a sip and choked.  This drink is bitter and to me undrinkable.  It was like drinking the bottom of a burned pot of coffee.  I tried adding milk to the cup but it didn't lighten the color at all.  Even with the milk I couldn't drink it and down the drain it went.  Awful!\\n\",\n",
       " '1.0,Stale and disgusting!,\"This product was quite disgusting and stale!  I\\'m not exactly sure where this old stock came from, but I was highly disappointed with product.  Legitimate Trident gum has an expiration date printed on the product, bright/colorful packaging and tastes fresh.  The product I received was none of the aforementioned and quite unpleasing to the palate!  Never again....I have learned my lesson.\"\\n',\n",
       " '5.0,YUM,\"This syrup does not have an after taste like a lot of sugar free syrups do.  It mixes in great and adds mild flavor to any beverage.  I will buy this product again, very pleased!\"\\n',\n",
       " '1.0,Suggested by Dr. Oz,\"This tea was suggested by Dr. Oz on his show about how to sleep better. I suffer from insomnia so I bought the wheat germ, Chia seeds and Valerian tea he said would help. Haven\\'t used the wheat germ yet, the Chia seeds we are absolutely loving, especially on top of a crisp salad, but the Valerian tea tastes so horrible I can\\'t even force myself to sip it while holding my nose! It has a real earthy, almost \"\"manure\"\" like taste. The woman he had try it on the show sipped it and said \"\"Oh, that\\'s not bad!\"\" So I took a chance. I swear, they must have paid her to give it a tasty review. It\\'s vile and I already threw all three boxes of it in the trash!\"\\n',\n",
       " '5.0,This is really yummy flavored coffee,\"If you don\\'t believe me when I tell you that the Cafe Excellence Jazzy Java decaf whole bean coffee is very tasty, I should tell you that I\\'ve ordered 6 pounds of the stuff thus far.  For purposes of introduction, I consider myself to know a fair amount about coffee and roasting.  I own a small batch roaster and often roast my own green beans.  I typically make \"\"Swiss Method\"\" coffee in a Jura superautomatic espresso machine.  Typically, I\\'ve avoided the flavored coffees.  However, in this case I really enjoy the taste of the various flavors.  According to their website, Jazzy Java is Cafe Excellence\\'s signature coffee.  It is a blend of butter rum, cinnamon and pecan flavors.  I really enjoy it.  The roasting job done on the coffee is worth mentioning as well.  It looks to me like a full city roast, roasted to the 2nd crack.  It\\'s quite full bodied and fresh, but importantly not overroasted.  I generally prefer either decaf or half-caf and you wouldn\\'t know that this is decaf coffee if you hadn\\'t been told that it was.  I\\'ve tried Cafe Excellence\\'s non-flavored coffees as well and they are also very good to excellent.  However, this blend is special.  Highly recommended!\"\\n',\n",
       " \"5.0,Good,Delivered as promised. It's coconut milk. I can't say it's any different that other types. I just liked that it was Lite and the price was right :)\\n\",\n",
       " \"1.0,Good idea - Stale Candy,I was looking for that extra something as a joint gift to my grandparents. I got them individual gifts but it did not seem enough so I got this for them as well. When they opened it they seemed excited about the gift and looking forward to seeing the contents. I then asked them later how they liked it and my grandmother said it was no good and the candy was stale. Well that was embarassing. I love buying Christmas presents and finding unique and fun things for my loved ones. I dont get to do a lot for my family normally like most people on a tight budget. I feel let down by the company and sad that the point of the gift wasn't able to be achieved. I would not buy this again and would sadly not be able to recommend it. I think it is a neat idea but the quality of the candy was no good.\\n\",\n",
       " '1.0,Do not take running,\"I would have expected more from Cytomax. I was looking for a drink I could use while running and this failed horribly. Even though this drink is meant to be taken during a workout, there\\'s no way you can take it running. It foams up to the point where you can\\'t drink it. Don\\'t waste your money, stick to water and gel packs.\"\\n',\n",
       " '1.0,Mud?,\"This is some of the worst coffee I have ever tasted. The other Caribou styles are tolerable, some even decent, but \"\"Daybreak\"\" was just nasty.  I have never written a review for a coffee before, but I felt compelled to share how bad this stuff was in hopes that it will save some one a few bucks and their taste buds.\"\\n',\n",
       " '5.0,A divine experience....,\"This is one of the best smoked sea salts I have purchased.  It is absolutely divine on steaks or sprinkled over edamame.  But I have to confess, sometimes I just take off the top every now and then to get a whiff.  Heaven!\"\\n',\n",
       " '1.0,Robbed by shipping and handling!!!,$27.62 shipping and handling for 30.00 product (24 cans of chili).  I never requested priority shipping. Profit profit profit!!!! 8^<\\n',\n",
       " '1.0,Smaller Bar Same Price,\"[edit to previous review below] Imagine my surprise when my bars arrived today. Same Shop and Save order, same order history, smaller bars and NO notification to indicate the size of the bar had changed. It is essentially NOT the same product. Shame because the taste is still good but terrible service on the part of the manufacturer not to notify buyers of the change to the product. It dropped from 2.2 oz to 1.8 oz and is now more of a snack than lunch.  *Original Review: Love these bars - satisfies my chocolate craving in a good and healthy way. Like these better than Larabar - no aftertaste and better price.\"\\n',\n",
       " \"5.0,Great coffee for a Great price!,I have been drinking Community Coffee for a while and was delighted to find it available on Amazon.  It's hard to find traditional French Roast in Pennsylvania! Ordered two 2-pound bags with their Coffee Club.  Came fast and just as delicious as always!  Thanks again Amazon!\\n\",\n",
       " '1.0,This is very bad!,\"I love SodaStream Zero and I love Pepsi Throwbacks (with pure cane sugar, when you can find them).  So I excited when I heard SodaStream was coming out with this flavor sweetened with cane sugar).  This was the nastiest tasting flavor that I have had.  I hope SodaStream redoes this flavor.\"\\n',\n",
       " '1.0,An appaling product!,\"I can\\'t believe that Ms. Deen would sell such a product now!  I bought this on accident, thinking I was getting another seasoning from Ms. Deen\\'s line of seasoning.  I then looked at the label, and noticed that Ms. Deen now promotes cannibalism!  Not only that, but the consumption of a mother and her child!  How could anyone suggest eating a woman and her offspring, I don\\'t know.  Maybe where she lives this is fine, but I will not consume people just for a gourmet treat.  For shame Paula Deen, stop eating a lady and her son!\"\\n',\n",
       " '1.0,Would not order again,\"I ordered this tea based on the glowing reviews, however in my opinion, the quality just is not there.  I usually drink Japanese brand green teas like Yama Moto Yama and Ito En, and sometimes the Chinese-American brand Triple Leaf.  This Stash organic decaf green tea is the worst green tea I have ever had.  It is a very bitter green tea compared to the brands I am used to drinking.  The color of the tea is not as green as the other brands I usually drink, but rather has more of a yellowish tone.  I had wanted to switch to an organic brand of green tea to avoid pesticides, etc. which may be found on the tea leaves of other brands, but this tea was a major disappointment.\"\\n',\n",
       " '5.0,Deeeeeliiiiiicous!,I had these with a slice a quality cheesecake and it was delightful. I highly recommend them! Perfect little jar for a little sweet treat.\\n',\n",
       " '1.0,Defect?,\"I read the other reviews on this item before I ordered it. Based on those, this coffee sounded wonderful! I ordered it along with a French press so that I could enjoy a cup of coffee before class. When I received both items, I immediately tried to make a cup of this \"\"amazing\"\" coffee. What I found was a coffee that had a repulsive after taste. I cannot describe it, but it tastes like chemicals. Not willing to write off the reviews I had read that easily, I thoroughly cleaned the French press -again- and tried the coffee. Same taste. Finally, I used a different coffee in the press and found that it tasted wonderful. My conclusion? Either this coffee is GROSSLY overrated, or I got a bad batch. Either way, I will not be buying again.\"\\n',\n",
       " '5.0,Wow. I didn\\'t gag! A dark chocolate vibe with slight grassy undertones--and impressive nutrients stats,\"I ordered this with trepidation. I\\'ve never been able to swallow green food mixes, other than Green Magma (which is not \"\"mixed\"\", but just barley grass). Wheat grass makes me gag. Literally--cannot swallow it. My body rejects it and I gag and spit it out. So, over the years, trying green foods trying to find something I can swallow has been trying.  Well, there ya go. This one works.  I ordered it on the basis of numerous positive flavor reviews and I liked the list of nutrients/enzymes.  30 calories per serving of 8 grams= 1 g fat, 2 g protein, 4 g carbs (2 g fiber), 65% Vit A, 30% of C and K, 15% of B12 and Riboflavin, 6% of iron and manganese; organic grasses (wheat, barley, alfalfa, spirulina, spinach, broccoli, chlorela); with antioxidant from maca, acai, carrot, rose hips, beet, pineapple, green tea, acerola cherry. Fiber from apple pectin, organic oat powder, organic flax seed powder. Also L acidophilus, peppermint, Siberian eleuthero root, and sea salt.  The flavor is pleasant. It\\'s like the taste of bitterish dark chocolate bars with a grassy undertone that isn\\'t offputting. It\\'s not like it\\'s a chocolate malted or anything, but it works fine for me. I can drink this. I do not gag. Yay.  I will reorder this. I like the healthful profile and the flavor.  UPDATE: Okay, I didn\\'t really expect a noticeable effect from this (I mean, I\\'ve had superfoods before and didn\\'t suddenly go change the world or anything), but I have actually noticed an uptick in my energy after adding this to my pre-workout smoothie and my pre-chore protein drink. I\\'ve been adding it to BSN sytha-6 chocolate protein mix with an extra teaspoon (heaping) of Raw cacao (organic), and it\\'s a nice flavor combo. I think it would be great with a banana, too, for extra potassium (a chocobanana vibe).  Maybe it\\'s placebo. Who knows? But as I wasn\\'t thinking I\\'d notice a change, maybe not. But wow, I do feel an energy surge in the afternoon when I usually have a slump and I get through my 55 minute personal training session with more oomph.\"\\n',\n",
       " '1.0,\"The listing is one star, not the product\",\"I hope I don\\'t need to tell anybody what baking soda is, or the myriad uses for it. It has been around forever and just always works like it is supposed to. However, what we have here is a listing for a 16oz prduct with a picture of a 1 lb box, that says it is an 8oz product in the description with a shipping weight that verifies that fact. Bad listing, needs to be corrected before you are forced to eat a return shipment. if someone corrects this, please feel free to flush this review.\"\\n',\n",
       " '5.0,Good stuff,This was a very good product! I loved it and would highly recommend it to anyone!! I plan on ordering more when I can.\\n',\n",
       " '5.0,Nutmegs were great!,\"Finding small bottles of nutmeg meant specialty stores and expense -- a couple of ounces of nutmeg for many dollars.  This Christmas, a nutmeg grinder was a gift given to all the ladies in my family -- one just as my mother hung in her kitchen -- along with fresh nutmeg.  I paid less for this pound of nutmeg, split it between our girls in small jelly jars for a fraction of the small bottle cost.  We\\'ve already tasted the added flavor in a variety of dishes. Nothing compares to the fresh grating.\"\\n',\n",
       " '1.0,Nasty and Bitter,\"The Habanero chile is one of the hottest chilies known to man. So it comes as no surprise that this sauce is very hot on a drop by drop basis. There is nothing wrong with that! In fact, I prefer a very potent hot sauce. However there is a nasty and bitter aftertaste to this sauce which I don\\'t think anyone would like.  Note: there is no smoke flavor to this sauce despite what another reviewer says. I suspect this reviewer was confused and was thinking of a chipotle sauce (which is made by this manufacturer and many others). A chipotle sauce has a wonderful smoked flavor to it but this sauce does not use that chile and there is not even a hint of a smoked taste to this one.  This sauce is very potent but beyond that considerable heat there is little else other than a nasty and bitter aftertaste.  Not recommended\"\\n',\n",
       " '5.0,Soy Milk review,\"Great to have handy in car while on the go.  Requires no refrigeration.  All flavors are very tasty. ZenSoy, Soy On The Go Chocolate, Organic Soy Milk, 8.25-Ounce Aseptic Packages (Pack of 15)  ZenSoy, Soy On The Go Cappuccino, USDA Certified Organic Soy Milk, 8.25-Ounce Unit (Pack of 15) \"\\n',\n",
       " '5.0,Yum yum,\"These are not soft shortbread cookies but Krunchy with a hint of butter. Great for t2 diabetics but, as you know, anything we eat moderation is key. Although pricey buying a case [12] is a lot cheaper than buying single packs retail at your local grocer.\"\\n',\n",
       " '1.0,watered down hot chocolate,\"Received a Keurig brewer for Christmas and also received a pack of this hot \"\"chocolate\"\" with it.  We made some after sledding one day for myself, my husband and 2 kids (6 and 10) all thought it was terrible.  We almost returned the Keurig brewer because of it.  I have found that I am enjoying black coffee with my Keurig, but we will never buy any type of hot chocolate k cups again.\"\\n',\n",
       " '5.0,Chocolate Cherries,\"If you\\'re a fan of dark chocolate covered cherries you don\\'t need a review. Milk chocolate is easily available during the Holidays, but dark chocolate has to be hunted for. Ordering them thru Amazon is great! I\\'ve ordered the last two years.  I noticed a change in the individual wrapping this year. They now have a sticker holding the foil closed. I have no complaints with the candies (they\\'re delicious as always!) or with the shipper. The shipper did an excellent job packing them.\"\\n',\n",
       " '1.0,Practically All Sugar - Yuck!,\"I\\'m the type of person who gets lured in by samples; samples always taste delicious to me (seriously, what\\'s the psychological explanation for this?!). A barista offered a sample of the caramel-flavored coffee and I thought it tasted great. There was a $1-off-Via-plus-free-tall-beverage offer and I gave in. But it wasn\\'t until I looked at the nutritional facts that I discovered there is an overwhelming amount of sugar. And sure enough, when I made my own cup of coffee, it was disgustingly sweet.  I am never going to pay such an exorbitant price for packets of sugar. It doesn\\'t make sense for my wallet or my body. For the same convenience and lower prices, I\\'d much rather buy Nescafe\\'s Taster\\'s Choice, which I find much more aromatic and rich with coffee flavor.\"\\n',\n",
       " '5.0,Dolce Gusto,\"I really enjoy waking up in the morning to a great cup of coffee in just about 30 seconds, great.\"\\n',\n",
       " '1.0,small kibble size --- to high in protein for schnauzer mix,\"This food may be very high in quality, but not all dogs can tolerate the high protein content.  Our Schnauzer / Lasa Ahpso mix was drinking water all the time and urinating frequently.  We looked on the bag and noticed the protein level was much higher than the old dog food (which was 21.5% protein, 13% fat) .  To be fair: this is one of the few dog foods that is made in the U.S. and they do have another version (purple bag) with less protein.  We may try that some time.\"\\n',\n",
       " '1.0,Changed the formula-added sugar,\"We fed our son only Earth\\'s Best formula from the day he was born. We have used this product for 7 months. My last purchase I looked on the ingredient list and to my surprise the formula had changed. It now has \"\"organic glucose syrup solids\"\"...added sugar. Why change a great product by adding sugar? I now will be changing to another product and possibly no longer use organic because I feel the added sugar is more harmful. Thank you Earth\\'s Best for 7 months of a good product. Now the doctors thank you for adding to the obesity epidemic and the increase in type 2 diabetics in the US. You have lost a customer.\"\\n',\n",
       " '5.0,Great Value!,\"This is a great value!  A jar this large of a single color is very hard to find, and the price is great too.\"\\n',\n",
       " '1.0,Hershey chocolates made with child labor,\"Hershey uses cocoa and chocolate that is not Fair Trade certified.  Fair Trade certification means that child and slave labor are not used in the process of growing and producing cocoa.  It also means that cocoa farmers and their workers are paid a fair price.  Learn more at [...] Hershey\\'s chocolate products are less expensive than Fair Trade certified chocolate products, but does the lower consumer price justify children and slaves working to produce Hershey\\'s products?\"\\n',\n",
       " '5.0,Yum!,I have been dieting and have been trying many different meal replacement bars.  I have to say this is the best one I have tasted!  So many of them are hard but this one is really easy to eat and keeps me full.\\n',\n",
       " '5.0,Delicious,\"It\\'s hard to imagine a decent meal I prepare these days without Sriracha.  I put it on everything: eggs, sandwiches, Chinese, pizza, burgers, etc.  As someone who\\'s attempting to eat healthier, sometimes the healthy food is a bit bland.  Add a bit of \\'Rach, and what was bland instantly becomes flavorful and delicious.  I love Sriracha and can\\'t imagine eating food without it.  And with Amazon\\'s great price and free shipping with Prime, I will never buy it in a grocery store again.\"\\n',\n",
       " '5.0,Super,\"I have tried numerous brands of pasta and by far this is the only brand I use. There is no difference from the wheat pasta, the taste is great and you cannot tell the differnce that it is gluten free.  I have celiac for 4 years and I would not eat any other brand. Amazon is the best  price for this product. I am an amazon shopper for many other products and have been very satisfied.\"\\n',\n",
       " '1.0,Roland Farro,\"When the product arrived, two of the three bags had holes in them, so much farro had spilled out. We have ordered this product once before without such a problem.\"\\n',\n",
       " '5.0,Hot Drink,\"This is the best non-caffinated hot drink I have found!  It dissolves quickly, has a roasted aroma and can even be substituted for coffee in recipes.  Try it at a 1/2 teaspoon as well as a full teaspoon to adjust the amount of flavor you like.  I bought a case - it\\'s the cheapest and I will always have it on hand.  It is an excellent gift as well.\"\\n',\n",
       " \"1.0,EHKKKKKKKKKKKKKKK,tastes pretty crappy. it's like raw cookies.  it's not even like a cookie. it's a squishy thing in a cookie shape\\n\",\n",
       " '1.0,Don\\'t believe the hype...,\"Was like the packers in last years playoffs , a total loser.If you want to buy a good fruitcake, find it elsewhere. Wisconson need not be proud of this product.\"\\n',\n",
       " \"5.0,Surprisingly impressed!,Wasn't expecting much...I just wanted a reasonably priced mayo that I could buy in bulk that tasted good...  ...and JFG's Real Mayo does just that! It has a better egg flavor than Helmann's and a better price...and good consistency too. It is easy to mix and holds up well without overpowering the other flavors in recipes. I will definitely buy this product from Amazon again!\\n\",\n",
       " '5.0,great breakfast,Works just like regular pancake mix  - rises and cooks the same and excellent taste. We bought this in bulk and are going through it like crazy. Must be good.\\n',\n",
       " '5.0,Lychee Black Tea,I love Lychee tea and have found it difficult to find whole-leaf tea that is of high quality. The China Mist brand that I purchased through Amazon has consistently lived up to my expectations.\\n',\n",
       " '5.0,Mary\\'s Gone Crackers,\"I love these crackers! No dairy, gluten, or soy. they are the only ones I buy.\"\\n',\n",
       " '1.0,Barely edible salmon spread,This Salmon spread was similar in look and smell to cat food. Too salty. Too dry. Not good.\\n',\n",
       " '5.0,Great tea before  and during meals.,\"A very unusual and flavorful tea.  It has helped with my weight loss.  It keeps me from snacking in between, and I usually grab for this rather than grabbing for chips or something sweet.\"\\n',\n",
       " '5.0,Healthy and Pops with flavor,\"I Love ginger ANYTHING..  This is a non alcoholic brew that offers two strengths of ginger. I prefer the 26 gram bottle. Snappy and bubbly.  It\\'s my \"\"eye opener\"\" in the morning . Once you get hooked , you\\'ll miss it when it\\'s gone.  So, I buy 2 cases (48) bottles at a time.  Also is used for goosed up coctails in trendy bars. Try something different and give yourself the benefits of ginger in your life. Mildly spicy with a Jamaican flare. Twist off cap, so bring it with you.  If I have a little stomach queeze, this drink will fix the problem.\"\\n',\n",
       " '1.0,Formula Changed,\"A few years back they changed the formula for making these and the result was a more fragile, thinner chip.  They break apart when dipping them into (example, Deans French Onion Dip).  I am not sure why companies just dont leave well enough alone.\"\\n',\n",
       " '1.0,Tough Cardboard Crackers,\"It is not my intent to write a overly pessimistic review but, I can\\'t believe these crackers got past the marketing department. They literally taste like cardboard that got wet and was dried. They are tough as leather. I am constantly trying new gluten free crackers but these are inedible. Try the Glutino\\'s except for the whole grain ones, they ruined them with sesame seeds.\"\\n',\n",
       " \"5.0,Best Mix Ever,Pamela's Pancake and Baking Mix is the best thing I have found for baking since I was diagnosed with Celiac Sprue. Makes heavenly chocolate chip and peanut butter cookies.  I love their banana bread recipe.  Hadn't had pizza in years but now have it often using their pizza crust recipe.  Check out the recipies on the Pamela's site for great baking! [...]\\n\",\n",
       " '5.0,Very Happy Purchaser,Great quality.....fast delivery. Will be doing business with them again for sure.\\n',\n",
       " '1.0,Yuck!!,\"I was anticipating a product that I had when growing up. What I got was sub-par. The first thing i notice was the sticks were not soft but hard as if the product was out of date. Also I don\\'t know if they have changed the formula, but the flavor was gone in a couple of minutes and it was tasteless. Yuck!!\"\\n',\n",
       " '5.0,Super way to get protein boost,I love the taste of the cocoa in this bar.  Great way to get a protein boost with little calories.  I have a very sensitive stomach stomach and I was completely comfortable eating this.\\n',\n",
       " '1.0,Wrong Item Sent,\"Frustrating. Order was for 24, 15 oz cans of Goya Gandules. Received order today of 24 14 oz bags of dried gandules.\"\\n',\n",
       " '1.0,My Cats Wouldn\\'t Touch It,\"A short background on the eating habits of my two cats, one is super finicky and the other cat will eat just about anything. When even my non-picky cat wouldn\\'t touch any of it, I knew something was not right with this food. They refused to eat any of it. I like the premise behind the food, all natural and grain-free, but I am going to have to go back to the prior food my cats like. Hopefully my local animal shelter can make use of the food for their cats, if they even eat it.\"\\n',\n",
       " '1.0,wrongly advertised,\"The product shown online is not the product described, so I sent it back for a refund. Bad business and I shall not order from this vendor again.\"\\n',\n",
       " '1.0,yuk!,\"After my husband, daughter, and I took our first bite of the Miracle noodles we all said the same thing \"\"this is disgusting!\"\". It all went into the garbage! No more miracle noodles for this family!\"\\n',\n",
       " '1.0,Radical Price Increase,\"We can still get this at local supermarkets, Targets, Walgreens, etc for $10 each, so unless you are living in a remote mountain cabin or on a desert island, I would not buy it here. The instant coffee itself is excellent.\"\\n',\n",
       " '5.0,YUM,\"This stuff has a TON of salt on it, but what doesn\\'t nowadays? I\\'d like to try the reduced sodium kind. Regardless, this makes my homemade quickie soups taste fantastic. I just throw in a tablespoon with some water, toss in some veggies, and simmer for 15 minutes. Nice, quick, delicious lunch to take to work. Can\\'t wait to try all the other flavors! I love that it\\'s so beefy tasting...very roast beef and very rich.\"\\n',\n",
       " '5.0,tasty fruit,\"My kids love these!  Amazon had a great deal on them with the back to school sale.  I use them as snacks when we are on the go.  We live with a long commute no matter where to go, so nutritous snacks are wonderful.  No complaints about flavor, just gobbled right up.  All flavors are a hit in my house!  Plus, they are currently made in a peanut free facility, great for allergic folks!\"\\n',\n",
       " '5.0,Great texture,\"As another reviewer said, they\\'re sour, but not too sour. The texture isn\\'t hard like other sour candy, ate about 25 of them in a row without it breaking the roof of my mouth or ripping my tongue. The texture is soft, but they don\\'t melt into each other, when you pull them apart, each piece will have their own sour particle in tact. Far better than expected, and it reminds me of a candy I used to get as a kid 15 years ago, I wouldn\\'t be surprised if it was. They liked to charge 5 to 10 cents a straw. Don\\'t hesitate, it\\'s well worth it :O\"\\n',\n",
       " '5.0,This is a coffee lovers coffee,\"When we got this coffee my wife promptly told me she would make if for us the following morning.  She did, and it was one of the best tasting cups of coffee I had ever tasted.  I\\'m not a coffee addict or a person who would be able to notice much of a difference between a good Starbucks coffee and a cup of Maxwell House, but I certainly noticed how wonderful this coffee was. Great aroma and a full, rich taste!!!  The following morning I was looking forward to another cup of this coffee..... the first thing I notcied was the aroma was different.  Then, as I tasted the coffee I immediately told my wife it didn\\'t taste the same a the previous day.  It was then that she admitted to me that the Marley coffee was too good to waste on my unappreciative taste buds.  She was keeping it for herself.  This coffee is very good.  I\\'ll be buying some more of this just for me and I obviously recommend it.\"\\n',\n",
       " '5.0,Best coconut flakes I know,\"If you are looking for flaked dehydrated coconut, look no further. I can\\'t say that I\\'ve tried all the brands out there - mainly because I had all but given up on American coconut flakes, that always tastes like cardboard. Similar Brazilian products tend to be less dry, you bite into a flake and taste the coconut natural oils. Well, this is as close to that as I\\'ve ever tasted. The flakes might be dry outside, but are still juicy & flavorful. I eat these as a snack and a treat, straight out of the bag!\"\\n',\n",
       " '5.0,makes great ice tea,We love to brew the tea and add juice or mint over ice.  Very nice alternative to black or green tea.\\n',\n",
       " '1.0,Smelled and tested like iron,\"I am not sure if it was just my can but the formula had a very strong iron smell and taste. My baby would not eat it, I tasted it and it had an awful taste. Too bad it didn\\'t work for us.\"\\n',\n",
       " '5.0,Fiber one,\"This product is great . It does not raise youre blood sugar like regular pancake mix does . It is very , very hard to find in stores . I only found it once , this is why I had to order it on line . It is so worth it . It has a good taste and is healthy for you . Would order it agagin and the free shipping is also a major plus . You can keep it in the freezer to help keep it fresh , if you don\\'t eat it alot or have a small family . Good suff. So is the Fiber One bread and cereal .\"\\n',\n",
       " '1.0,No,\"I thought I would give this one a try since it is cheaper by the ounce and has good reviews.  I suppose it has a better outcome for others.  For me, it gave the feeling of alertness and coherence, but I did feel a strong crash after four hours of consumption.  The other major brands did not do this to me.  Red Rain is a huge disappointment for and I will not be investing in this one again.\"\\n',\n",
       " '1.0,Thieves Ripoff watch out!,\"I like amazon, but I don\\'t approve of anyone allowing this to happen. Stop them Amazon, send them down your river!\"\\n',\n",
       " '1.0,WARNING: HFCS!!,\"I was devastated by this product, even angry. Don\\'t they think, the manufacturers of this otherwise great product, that folks who spend their hard-earned money buying blueberries, are trying to eat a natural health enhacing food?  Why contaminate these big, beautiful berries with one of the most horrible sugars ever invented by mankind. Yes, these blueberries are bathed with High Fructuose Corn Syrup. In fact, they have so much of this Genetically Modified sugar that eating a few of them mad me cough uncontrollably! The only way I could eat these blueberries was after washing them for 15 min in running water and this was not enough.  Worse. Where foes it say in their advertisment that this supposedly natural product is contaminated with GM HFCS? I think, we consumers, should be able to look at a lable before we spend our cash. Please do not buy this product if you are looking for a natural diet!  Why not sweeten this product with the new US approved sweetener Stevia?\"\\n',\n",
       " '5.0,Wagh Bakri tea,\"The finest tea I have ever tasted; subtle, not too strong, great for the morning; beats all common brands. Well worth the money.Try also the Wagh Bakri tea loose (great value), and Tea India.\"\\n',\n",
       " '1.0,\"Like them separate, not together\",\"I purposely get aloe vera products for first aid and for cosmetics (lotion especially). I drink at least two mugs of green tea a day. I thought that putting these two together would be cool. Not so much. No matter how much you shake it, you\\'re basically drinking a meal, and I just don\\'t like the taste of it. I can\\'t even handle drinking orange juice pulp so these random aloe vera portions floating around gross me out. I\\'ll stick to just green tea.\"\\n',\n",
       " '5.0,Excellent Coffee!,\"I had my first cup of Green Mountain Southern Pecan at my daughter\\'s house after a marathon shopping expedition.  The flavor was rich, warm and comforting, and it was love at first taste.  As soon as I got home, I went online and ordered my own Southern Pecan K-Cups from Amazon.  This coffee has definitely become one of my top favorites.  In fact, I\\'m enjoying a cup of Southern Pecan right now.\"\\n',\n",
       " '1.0,Did not meet our expectations,\"My wife and I bought this product with the intentions of using it for the coffee machine we own (Gourmet-Coffee cafe), little did we know that the product (when it arrived) would not fit our machine :-(  , we were so sad to find this out. Adding to the torture-the instructions where in german.  This company needs to put more specifications about its product, so that people like us have less trouble when buying. I would recommend this product but not for the people who have our type of machine. I also forgot to mention that we opened the package. Can we return this product ?-if we can, we will delete this review.\"\\n',\n",
       " '5.0,orchard choice mission figs,\"I have been eating these figs for years, about one tray a week. They are a great & very healthy snack.\"\\n',\n",
       " '1.0,Bitter and stale,\"I love coffee. I bought Eight O\\'Clock because I know it is a good brand, %100 Arabica bean. However, THIS coffee is bitter and has a stale taste. I have have better coffee with Folgers and Maxwell house.\"\\n',\n",
       " '5.0,Adds seasoning to otherwise bland food,\"The other reviewer has food concerns and gave this product an unfair 1-star.  We have food allergies in our home.  That is why I never buy any food product online, until I read the ingredient list in person, then I research the best online price.  I have bought this product, the cubed version and the low-sodium version over the past 10 years, and have been thrilled with the flavour it adds to soups, rice and pasta dishes.  It\\'s sad that a one-star could deter others from purchasing this product.  If it were so bad, it wouldn\\'t be on the shelves.  I highly recommend this for anyone who doesn\\'t have any food concerns.  UPDATE - March 2012 - I am happy to see that the other reviewer upgraded their rating to a satisfactory 3-star from the previous 1-star.\"\\n',\n",
       " '5.0,pricey but worth it,my wife makes gourmet food and she loves this chocolate.  best in the world and you can tell in the taste.\\n',\n",
       " '1.0,Size Does Matter,\"The picture is deceiving and product description is wrong this is not 12 oz, but actually 0.5 oz. The advertised picture shown is a larger size(1 oz), but what was actually sent was much smaller(0.5 oz). We could have gotten 50% more of the same exact product for less. We paid $10.79 for 0.5 oz when we could have paid $9.15 for 1oz. Product itself is great and our cat loves it, we just overpaid and lesson learned.\"\\n',\n",
       " '5.0,Tasty & Not Too Sweet,\"I like orange soda but usually cannot drink an entire can or bottle of Sunkist or  Orange Crush Case 4-6pk  because they are so sickly sweet. This has just the right touch of natural sweetness, and the tangerine gives a nice little tang to the orange flavor. Reminds me of the great orange sodas you can get in Europe or specialty shops, like  Orangina Sparkling Citrus Beverage with Natural Pulp - 24 Cans  or  San Pellegrino Aranciata 6 pack - 6oz bottles .  Dare I say it? Yes. The flavor and size make it a perfect mixer. After my intial sip, I immediately thought it would be great to fill up the rest of the glass with vodka.\"\\n',\n",
       " '5.0,Just what I was looking for,\"I don\\'t usually write reviews, but I\\'m happy to write one about this.  Finally, I\\'ve found a lemonade mix made with good old fashioned sugar and NO ARTIFICIAL COLORS!  I think it\\'s a bit sweet for my taste so I like to squeeze a fresh lemon into the pitcher with a little extra water and it\\'s perfect. I had a bunch of kids over yesterday and we went through 6 or 7 packages.  They loved it.  I\\'m ordering more now and will always have this on hand.\"\\n',\n",
       " \"5.0,Accidental happiness,I bought this by accident thinking it was the regular Wheatebix my husband likes. We tried it and were very surprised by it. One of the few high fiber cereals that tastes good.  I have it in my subscribe order now so we stay stocked up. Crushed it also makes a good crumb coating on chicken. Sounds odd but it's really good.\\n\",\n",
       " \"1.0,This product was defective and the company did nothing about it,I emailed the company several times they never emailed back i left about 5 voicemails because they never picked up the phone they left me very unsatisfied The Online Candy Shop ships damaged goods it came on October 8th 2010 so it wasn't hot outside so why was every candy melted and the ones i sampled tasted disgusting i recommend ordering this product from a different store.\\n\",\n",
       " '5.0,great snack instead of chips,\"My kids, 2yrs and 6yrs will eat a whole package of these and enjoy every minute. Some of it is just fun because of the different color and texture. Not as cheap as chips but worth the cost.  Thanks!\"\\n',\n",
       " '1.0,Standard Shipping,\"I recently ordered this with one click. I got my e-mail confirmation and I was shocked to see that the shipping was over $200. When I tried to cancel my order, Amazon would not let me. Why would Amazon even offer a $34 item if shipping was over $200? I will never use order with one click ever again.\"\\n',\n",
       " '5.0,I can\\'t get enough!,\"These are the best frozen fruit pops(?) I\\'ve ever had. I absolutely love em, and if I could I\\'d eat several a day I would. Storing is convenient since I don\\'t have to freeze them right away.  It\\'s ridiculous how much I like these. I feel like a kid, but they are seriously that good. You get the fruit flavor which tastes like you\\'re actually eating the fruit, not overly sweet..then you get the slightly creamy yummy flavor and texture of the coconut milk (I normally don\\'t like coconut, but coconut milk is different). Perfect flavor combo, plus the ice that cools you off when it\\'s hot. Perfection!  At 50% natural vitamin C in each of the pineapple wedges, I love that that I can actually benefit from my indulgence. When my kids ask if they can have one, I\\'m more than happy to say yes because they are not loaded with a bunch of artificial sweeteners, colors, and whatever else you find in regular Popsicles.  FYI: I\\'ve also tried the mango, which I like, but the pineapple is my favorite. The mango has a little less vitamin C (40%) than the pineapple, but the mango I can eat more of since too much pineapple irritates my mouth.\"\\n',\n",
       " '5.0,Wisconsinmade is a clear winner,\"This shipment arrived carrying the the red hot\\'s, and a couple of jars of pickled eggs which were also Wisconsinmade. The packaging and insert gave the feel of small town artisan pride, which was truly what turned out to be in the box!  These little spicy dandies are not your usual tube meat purchased in the local gas station deli, NO!  They are well made, and have lots more flavor than I have ever experienced in a red hot.  If you are in to the pickled proteins, give the eggs a shot too, they are a wonderful quick and healthy snack.\"\\n',\n",
       " \"5.0,The best!,This is the best trail mix I have ever had.  Packed with nuts and other goodies.......oh so good!  I keep it hidden.......I don't want to share!\\n\",\n",
       " '5.0,Thank you!,Thank you for carrying this product.  I moved from PA to FL and there is no retail store down here that carries this particular flavor of hamburger helper.  So a big huge kudos to Amazon!!!\\n',\n",
       " '1.0,too much raspberry flavor,It has too much raspberry flavor.  Tone it down.  I love raspberry chocolate but I would not buy another bag of your m&ms.  Sorry.\\n',\n",
       " \"1.0,Doesn't attract cluster flies,This product was of no use in catching the cluster flies that are a pest from September through January here in New England.  We set it up indoors in a spot frequented by scores of the little devils and not a one was drawn to his/her death in it.  I hope it works for other kinds of flies.\\n\",\n",
       " '1.0,Horrible!!,\"A total nightmare. If you are going to make this, use crazy glue or a support system for the walls and roof. They keep sliding out of place. Some of my pieces came broken, and it tasted horrible. Dont waste your money.\"\\n',\n",
       " '5.0,Childhood favorite!,\"I loved these as a kid, but have a hard time finding them in the stores here. Amazon to the rescue!!! I love that I can buy a whole case of them and have them around for whenever I want them. This was my pregnancy craving, so I have recently run out, but am back to buy more!!!\"\\n',\n",
       " '5.0,healthy oil,\"I use this as my stir fry oil.  It appears to be healthy.  I have been using it regularly several times a week to enjoy stir fry.  I have been on a weight loss life style for about 15 months.  I have lost about 68 pounds and between this and coconut oil I eat fried food averaging about 1.5 times a day.  I have gotten off all my meds except Warfarin and my blood work came back last week mid normal range normal.  for 20 years before this I had tried to avoid fried food.  I was on blood pressure and cholesterol meds and things were getting worse instead of better.  Macadamia nut oil and Coconut oil have worked better than olive oil for me.  It\\'s not cheap but it works for me. I am also eating more and walking 5-7 miles at least 5 days a week and I eat several pounds of black beans a week along with lots of lean pork, beef, mixed vegetables and salad from my garden.  The salad (and 2 past DVT\\'s before this lifestyle) are the main reason I\\'m on warfarin.\"\\n',\n",
       " '5.0,Fantastic product,\"Great tasting healthy snack.  And when I say great tasting, I mean it, I am very picky about food, so it is not \"\"great tasting\"\" for super health conscious people who only eat bad tasting health bars.  And it\\'s great to know you are getting a ton of fiber which most of us do not get enough of!\"\\n',\n",
       " \"1.0,FAKE RED VINEGAR,Read the ingredients. FD & C Red #40. No where does it say rice vinegar. I wouldn't serve this to Hitler. Another Chinese ripoff\\n\",\n",
       " '1.0,Very bad,\"I expected the product to be good like other plum organic products. But this stinks and smells burnt food. My baby threw up once i fed her a spoon. I did taste and \"\"eek\"\" terrible. I thought the problem was with specific pack.. but no.. the product is bad..\"\\n',\n",
       " '5.0,The best.,\"Just sweet enough. No noticeable sugar. Moist. No excess packaging. Just want I needed, since there seems to be a dearth of dried cranberries in my town right now. Good enough that I think I will skip the bins in the future. These are great for snacking, trail mix, granola, and quick breads.\"\\n',\n",
       " '1.0,Stomach upset,\"I have Celiac disease, and been on a GF diet for over a year.  I have not had problems with any GF foods, but each time I eat a slice of this bread, I get stomach upset.  I am not allergic to dairy or eggs.  Celiacs beware- there is something tainted in this mix.\"\\n',\n",
       " '5.0,Really tasty and quick to prepare!,\"The alu methi is really good. It\\'s pretty hot, and my SO loves the spice level; it\\'s about 20 percent too hot for me, so I like it with lots of basmati rice, chutney, raita and naan. I like all the MTR foods that we\\'ve tried, with the exception of the pongal. (It\\'s just too bland and rather a strange consistency.) We really like the palak paneer and the bisibele bath, and it\\'s nice to have two or three of them with rice for a very complete meal.\"\\n',\n",
       " \"1.0,No effect,This didn't have any effect on me at all - I had a few friends try them and they stated that they didn't feel anything from the energy shot(s) either.  Age range tested 20 - 25 years old.\\n\",\n",
       " '5.0,Squashed Flies,\"We were reminiscing about \"\"squashed fly\"\" cookies and I decided to check Amazon. Except for containing currants rather than raisins these are just what I was looking for. The price and shipping costs are reasonable and delivery was timely.\"\\n',\n",
       " '1.0,NOT PACKAGED FOR DELIVERY CORRECTLY,\"When I took the jar out of the box and opened it - the smell was horrible , I looked at the inside of the lid and it was all black mold. Down the drain and in the garbage it went.  I have sent a message to the seller and have not not received any response.\"\\n',\n",
       " '5.0,goji LOVE,\"Goji berries at the store are EXPENSIVE!  Goji berries on amazon are much cheaper...   Goji berries from navita\\'s naturals are just the right amount of chewiness, sweetness, and tartness. They\\'re my fave brand.\"\\n',\n",
       " '1.0,\"Sweetened, not the same as cheerios\",\"This used to be a great cereal, the only organic \"\"O\"\"s cereal with the same taste, texture and mouth-feel as Cheerios.  The latest box I bought had a sweet coating that ruins the taste and feel.  Won\\'t buy this again.\"\\n',\n",
       " '5.0,fantastic,This product is deliciuos and versatile.  It can be used in many appetizing ways.\\n',\n",
       " '1.0,Complete steal,\"Makes no sense how the 200g package costs ~$7, and the 14.12oz costs ~$7; for those of you that are not familiar with the different unit systems 14.12oz = 400g, so you can get double the size for the same price.\"\\n',\n",
       " '1.0,Don\\'t bother,\"I wouldn\\'t call this flaked, it is more of a disgusting ground up concoction: it smells as does all tuna. The cats gave it a definite paws down. One threw it up, one wouldn\\'t eat it (he eats everything, even marshmellows), and the other was indifferent. We are stuck with 11 cans that will probably be donated somewhere.\"\\n',\n",
       " '5.0,Breakfast for Champions,\"Twinnings has really outdone itself with this exquisite tea.  Add to that the convenience of the Keurig brewer and one finds that this tea very well may become a daily staple.  Once again, I found that this tea is excellently balanced and, contrary to some reviewers, I can personally attest that the quality is similar to that of tea brewed using a teapot.  This tea is a great tea for breakfast or any time of the day.  It is very flavorful and the package contains more than enough k-cups to make it much less expensive to drink daily, which is a good thing considering how good it tastes.\"\\n',\n",
       " \"5.0,Best ever chocolate bar,I love this chocolate. It's ever so slightly crunchy because it is not conched or refined like most chocolate - fabulous!  I recommend you order in the cooler months so it doesn't alter in the heat.\\n\",\n",
       " \"5.0,revv pulse,Really like this coffee. It's very bold and very smooth - not harsh or bitter at all. I'm not sure how much of an extra boost the ginseng and guarana actually gives you but it can't hurt. Will buy again.\\n\",\n",
       " '5.0,Great for a fat dog with a sensitive stomach,\"My miniature schnauzer not only was putting on a little weight with the lamb/rice, it was making his stomach upset for a while.  On the vet\\'s recommendation, I switched to this food and it has been great for him for over a year now.  He also gets way more excited about this food than the previous one.  Highly recommend it.\"\\n',\n",
       " '1.0,\"The subscription feature should make life easier, not harder\",\"Thankfully I happened to look at my subscription. A nearly 150% price hike, with no notification or explanation? What the hell?  Subscriptions aren\\'t convenient if I have to babysit them for bait-and-priceswitch trickery. I\\'ll be going to my local supermarket instead.\"\\n',\n",
       " '1.0,Rip off!,\"Company charged me for three bottles of salad dressing and only shipped one!!!  If you read the description it says $3.32/unit, which means three bottles for the advertised price of $9.95.  But they only shipped one bottle.\"\\n',\n",
       " '5.0,Saving Money,\"I ordered 4 bottles of joop so i could get free ups shipping.They were short one bottle but did not penalize me and i still received free ups and i do appreciate that.I also saved over $60.00.   Joe Nardone   Burbank,Illinois\"\\n',\n",
       " '1.0,Worst popcorn I have ever eaten,\"I ordered two types of popcorn at one time. One, J&D\\'s BaconPop, the other Fireworks Red River Valley.  J&D\\'s BaconPop has to be the worst bag popcorn I have ever tasted. I can even eat burnt popcorn but I cannot eat this stuff. Only half of each bag pops and the bacon stuff burns. It gives off a bad smell and the taste is even worse. It is like burnt salt. I tried cooking at lesser times without improved results. I even tried scraping the popcorn out of the bag and popping it on the stovetop but the results did not improve much. I thought it would be difficult to screw up popcorn but these guys did a great job of making popcorn inedible. No bacon flavor whatsoever.  J&D\\'s BaconPop gets one star. One star is far too generous.  Red River Valley by Fireworks gets 5 stars. The best popcorn I have ever eaten.  ===== 7/14 =====  I gave this popcorn to a lady friend with two kids. They all love it. They ate every bit of it in less than one month. She now buys the popcorn at Kroger.\"\\n',\n",
       " '1.0,Incredibly Overpriced!,\"Because of the way this is listed, I was expecting to receive 6 packs of 6, 1-ounce boxes, for a total of 36 boxes. However, I only received 1 six pack, which meant they cost about $3.00 per ounce. I do like the product itself, but recommend that others purchase it elsewhere.\"\\n',\n",
       " '5.0,Delicious,\"I bought this for my husband and he absolutely loves this tea. It\\'s mild with a slightly sweet hint and is delicious iced as well. Now when he brews sweet tea, he only likes using this blend. Shipment is always prompt and the bags they come in are resealable and do well to maintain the freshness and quality of the tea.\"\\n',\n",
       " '5.0,So that\\'s why it costs so much!,\"I was really hesitant to buy this food because it costs about twice the most expensive premium brand grocery dog food costs at the pet food store, but decided to give it a shot since Amazon offers a deal for subscribing. (I bought the 15 lb bag, which is why I don\\'t have a verified purchase in the 30 lb listing) I honestly wouldn\\'t even know about this product if our new puppy\\'s breeder hadn\\'t recommended it, and was using it on their pups. I\\'m not one of those people that have to eat organic, or those guys that have to have the word \"\"holistic\"\" on their animals\\' food. In fact, I usually just buy what\\'s on sale, as long as it meets my personal quality standards. But after trying this, it kind of makes sense why they cost more.  When I first opened the bag, I noticed that it did not have that strong dog food scent that most dog foods I\\'ve purchased for my dogs have. It actually smells kind of good, to where I would almost be brave enough to taste it. Second, the kibble size is perfect for my golden retriever puppy. Not too big or small, and it perfect for training treats. In the morning before feeding my dogs in their bowl, I usually let them earn their meal through training, and these are perfectly sized and tasty enough to use for that. The outer layer seems almost coated, so you don\\'t get kibble crumbs in your hand and into your fingertips. Third, and most importantly- It\\'s really good for your dog! Prior to buying our new puppy, I did a lot of research (as a good prospective dog owner should) on raising a healthy dog. One of the biggest things that stuck with me was that you WILL pay for your dogs\\' health- either in the form of good dog food, or in the form of a vet bill. Have a nice day:)\"\\n',\n",
       " '1.0,Chemical Ali tea.,This is the worst tea known to man taste nothing like iced tea and im suprised no one has filed a class action lawsuit against Lipton for this false advertising of Chemical Ali in a can stick with nestea or arnold palmer.\\n',\n",
       " '1.0,***NOT*** GLUTEN FREE,\"This product has two markings:  1. Gluten Free  2. Allergen Information: This product was packed on equipment that also packages products that contain milk, soy, wheat, and tree nuts.  Unfortunately, I was so happy to see \"\"gluten free,\"\" I failed to read on to see the allergen statement which indicates the exact opposite of \"\"gluten free.\"\" I ate these for two days - and paid for it each time - before I realized my mistake in trusting the first indication of \"\"gluten free.\"\"  If you are allergic to gluten or a celiac, DO NOT consume this product.  I am very disappointed when businesses don\\'t take these allergies seriously - in this case, by placing two contradictory statements regarding allergens on their packaging, and, of course, emphasizing the one that increases the appeal of the product to a specific group of people vulnerable to allergic reactions. In particular, reactions due to celiac have permanent effects on people\\'s lives and health, including an increased risk of cancer, and a failure to recognize this is blatantly irresponsible and should be prosecuted.\"\\n',\n",
       " '5.0,Very Durable,\"This is a great toy for heavy chewers. I have a pit bull mix who has played with this toy for over a month now, and it is still in good condition. I didn\\'t see how this large plastic object would be appealing to my dog, so I had peanut butter ready just in case. However, I didn\\'t need it, as he chewed on it for a good hour the first time I gave it to him. He still chews on it from time to time, and aside from small particles that he chews off, the whole toy is still intact. I highly recommend this toy. I also suggest taking it away from your dog for a period of time so that when you give it back to him, he will still be excited to play with it.\"\\n',\n",
       " '5.0,\"Variety, the Spice of Life.\",\"I am totally satisfied with an excellent, great tasting product at a fair price with quick shipping. What I received was exactly what I ordered. I\\'m all set for the cold winter mornings of the northeast. Thank you!\"\\n',\n",
       " '1.0,Lowrey\\'s Bacon Curls Pork Rinds,\"Lowrey\\'s Bacon Curls Pork Rinds: 1.75 ounce microwave bags are loaded with 350 milligrams of salt, Thats all I tasted, A pinch of salt would have been better.\"\\n',\n",
       " '5.0,Energy up the @#$!,\"I had heard good things from my friends about 5-hour energy, and I really needed a boost one day after school. I had a couple hours of jujitsu training that day, and I was in desperate need of a wake-up. I walked a couple miles home and on my way, I stopped and grabbed a 5-hour energy. I took it at 3:30, and by 4:45 (when training class started) I felt great. I went through the 2 hours of training just fine, but what really surprised me was that I still had a TON of energy after that. I really felt the need to burn that energy, so at 7:30 I decided to go for a run. A while later, I realized that I just run 5 miles. The energy wasn\\'t an intense sugar high either. It just felt like I could run and never stop. I probably could have gone even further if my leg muscles were in better shape (I usually don\\'t run very long distances). This product did what it advertised and was WAY better than I expected. Will definitely buy again.\"\\n',\n",
       " \"1.0,Uncle Eddie's Trail Mix  is Terrible,Maybe you have to have a taste for these cookies. I bought them and hated them. The Chocolate Chip/Walnut and the Oatmeal Raisin were delectable but the Trail Mix was not. I love these brand of cookies but the Trail Mix is not my cup of tea.\\n\",\n",
       " '1.0,problems with recent batch,\"My first can of Happybellies oatmeal was cream-colored and odorless, my second can was greenish-brown and smelled rancid (I immediately threw it out), and the third can was also greenish-brown in color but smelled a little less rancid.  Serious quality issues considering the high price and brand image.  I don\\'t recommend this oatmeal until they acknowledge and resolve this issue.\"\\n',\n",
       " '5.0,My Favorite Lunch,\"I love this product, I had gastric bypass surgery just over a year ago and my favorite lunch has become smoked oysters on crackers w/cheese. This product is tasty, just the right size/amount,and priced right for me to enjoy as often as I like\"\\n',\n",
       " '5.0,The Cinnamon Grahams are great!,\"I have ordered these twice now, they taste so good! I also tried the chocolate wheat-free ones, they were awful, I would not order them again, but have been waiting several weeks for the grahams to be stocked!\"\\n',\n",
       " '5.0,Long Lasting,\"The dogs are still playing with the first bones I purchased over a year ago.  They cleaned it up pretty quick, but all three are still gnawing on the original bones.\"\\n',\n",
       " '1.0,\"Great on smell, too much ginger\",\"I\\', a fan of lemon and ginger.  I enjoy teas and I will use fresh ginger in recipes.  But this was downright awful.  I followed the instructions, and the smell was so wonderful.  It reminded me of a fancy tea house.  Then I tasted it... yuck... burning sensation from the ginger.  I do not recommend this, unless ginger \\'burns\\' are your thing.\"\\n',\n",
       " '1.0,Disappointed but . . .,\"Amazon offering Community Coffee delighted us; it\\'s been a favorite for years but this coffee is either stale or something\\'s seriously changed in their roasting. No matter how strong we made the brew in our French Press, and in a perculoator, the beans just did not evidence the delights of the past.  We had to cancel our Subscribe and Save and tell friends who joined Prime to get this! Sad, but if you don\\'t notice the grand scent of the beans, return it!  PS I did not do that, and called Community Coffee instead! My batch was \"\"Best Brew Date\"\" of 1/18/12, and they KNEW what was wrong, and told me to contact Amazon, which I should have done in the first place. Thank goodness, our fav coffee mystery has been solved! If you have that date on your coffee bags, contact Amazon!\"\\n',\n",
       " '1.0,Different bag; different food,\"I have been buying Friskies dry cat food, mainly their seafood flavor but sometimes others, for 4+ years. My cats liked the taste and for the cheap price compared to others I was satisfied. Until they changed the bag design, that is. I say bag because that is what the label said. \"\"different bag, same great taste\"\" or something like that.  When I picked the bag up from Target, I had expected to see the same food I had always bought.  When I opened it, I quickly realized this was not the same food.  The shapes were the same, but the colors were noticeably brighter and more vibrant.  It was eye-appealing, but apparently not taste-appealing.  My cats barely touched it, one of them didn\\'t eat it at all.  And when they munched it down reluctantly, they threw up and got diarrhea. ALL of them. We had to throw the junk out and buy a bag of something else.  Unfortunately, my lack of money has forced be to purchase Friskies on and off frequently over the past year, though I no longer buy that flavor, OR the flavor of the bright orange bag. The other flavors seem a bit milder, and the cats only throw up every once in awhile, though they still get cases of diarrhea too often. If I had enough money I\\'d check them out at the vet (along with getting the cat-food tested).  Recently though I found another bag of dried cat-food that was a bit cheaper than Friskies and there\\'s been a definite improvement in their stools since they tried it. No one has thrown-up. I may just stick with this one.  I\\'ve looked up information about Friskies, and while I never expected them to be top-quality for the cheap price, I was more or less disturbed by the constant complaints customers had.  Almost every site I looked at concerning Friskies had people saying their cats died or were throwing up/getting diarrhea. Calling the company does little good, as their standard reply seems to be: \"\"orly? This is first we\\'ve ever heard about it!\"\"\"\\n',\n",
       " '1.0,Why Did They Change It???,\"I used to love Thai Kitchen Coconut Milk and bought it by the case. But they clearly changed the product and ruined a good thing.  The old Thai Kitchen was thick and wonderful. It separated in my fridge and even on my kitchen counter if it was below 70 degrees or so. It whipped up into a lovely whipped cream.  This stuff has the consistency of skim milk. It doesn\\'t separate or harden even in the fridge. It doesn\\'t whip up like heavy cream. The flavor seems watered-down.  Apparently these folks never heard the adage, \"\"if it ain\\'t broke, don\\'t fix it.\"\"\"\\n',\n",
       " '1.0,Where\\'s the Bergamot?,\"I was hoping to like this tea as I love Earl Grey and some green teas and thought this would have more health benefits than the normal Earl Grey. I couldn\\'t taste any bergamot to speak of in this tea. Also, even though I love Twinings Earl Grey and some green teas such as Celestial Seasonings Mandarin Orchard, Salada, and others, I did not like combining the two. It was like I could not taste what was good about either teas in this and will now keep my black teas and my green teas separated from each other so that I can taste what is good about each in it\\'s own way. Also, I\\'ve found the Bigelow\\'s that I\\'ve tried so far to be rather flat and lacking any of the delicacy or subtle complexities of many other brands.\"\\n',\n",
       " '1.0,Yucky,I ended up throwing them all out because they were extrememly tough and not very tasty.\\n',\n",
       " '1.0,Absolutely horrible!,\"I was really excited to try these cookies when I first saw them in the grocery store. We didn\\'t buy them right away and when I found them offered through the Vine program I was quite pleased. Fig and Honey wouldn\\'t have been my first flavor choice, but as I do like regular Fig Newtons, I figured I\\'d give them a try. How bad could they be? The answer is...very, very bad.  I like cinammon but the cinammon in this cookie was both overpowering and artificial tasting. Something was just \"\"off\"\" and \"\"too strong\"\" about them. It might be whatever other \"\"natural flavors\"\" are in the cookie and not just the cinammon, I\\'m not sure, but something just didn\\'t work and the cookie had a bad aftertaste. My 11 year old son said he thought they had a bad \"\"before\"\" and \"\"middle\"\" taste too! I can\\'t argue with him there.  The dried fruit bits were equally bothersome. They made the cookie difficult to eat as the bits were too chewy and stuck in my teeth. I don\\'t want to have to pick fruit bits out of my teeth when I eat a cookie.  All in all, this cookie was a huge disappointment.  My children wouldn\\'t even take a second bite of the cookies and I wasn\\'t too thrilled about eating more myself.  As a fan of fruit newtons (both fig and other flavors), I had high hopes for these cookies. If the basic cookie for all of the flavors is the same, I won\\'t bother trying any of the other flavors.\"\\n',\n",
       " '5.0,Excellent Quality Product. Value for money.,See above. The product was excellent. Family was not disappointed in any aspects of usage. Delivery was on the button.Thanks\\n',\n",
       " '1.0,UGH! YECH! PEW!,\"I don\\'t know why these things are called mints. They sure don\\'t taste minty.  I bought a box, tried some, gave some away and NOBODY could get past the first few minutes without spitting them out. They taste like soap and smell floral!  I guess you need to be raised with these things to appreciate them.\"\\n',\n",
       " '1.0,Shipped wrong product,\"I was anxiously awaiting the arrival of these, the wide noodles are hard to find. Apparently they\\'re hard to find for Amazon, too, because these are not the noodles I got. Got the plain old skinny ones. And they can\\'t claim they were packaged wrong, package doesn\\'t claim to be wide style.  I\\'m going to try elsewhere to find what I wasted my money on this time.\"\\n',\n",
       " '1.0,Not what I expected... at all,\"I was looking for something against clothes eating moths and bought this one. But on the back of the box it says that this \"\"trap\"\" does not catch/trap adult moths.... I guess it was not as useful as I needed.\"\\n',\n",
       " '5.0,Cats love gravy!,\"I have one cat that will eat anything, but for my other cat, when it comes to wet food, he mostly just licks all the gravy off and leaves the chunks behind.  When I saw that this product was specifically designed to have more gravy, I decided to try it on my gravy-loving cat.  He happily licked up every bit of gravy (still left most of the chunks behind, which the other cat ate).  Truly a fantastic product for cats that prefer gravy!\"\\n',\n",
       " '5.0,\"A coffee for all you \"\"Light Brew\"\" drinkers out there!\",\"This Breakfast Blend coffee is very mellow and satisfying! It makes a nice companion to, or just a little change up from my favorite Green Mountain Coffee Breakfast blend! It also comes at a decent price per cup!\"\\n',\n",
       " \"1.0,Ripoff!,I get a 64 oz. bottle of this in the store for $8.  If it was three 64-oz bottles it still wouldn't be worth it.  Wondered if they made a mistake in listing this.\\n\",\n",
       " '1.0,looked like candy sat on shelf for a while,candy arrived in broken pieces. And package looked like it was old and had been sitting around for a while. Very disappointing\\n',\n",
       " '5.0,So far the best tasting green tea!,\"I like this green tea ,as it does not dry my mouth and does not give me that after taste effect!  What makes it better for me if I add a little bit of instant honey ginger flavor to it.\"\\n',\n",
       " '1.0,STALE,\"This coffee and another  WP variety that I ordered  arrived so stale that I could barely tolerate the smell of it in my kitchen.  I\\'m going to call amazon and see if I can get a refund.  YUK, YUK, YUK\"\\n',\n",
       " '1.0,BIG mistake,\"i just received  my cans and should have listened to the reviews. i tried to be positive and go with the reviews who received the cans in perfect shape. what a mistake. ALL but 2 cans were severely dented. the other 2 still had dents. i don\\'t think i could open them if i tried, but i would be afraid to eat the product anyway. i will not pay to send them back. they were wrapped well in bubble wrap so they weren\\'t damaged in transit. they were sent out with the sender KNOWINGLY sending imperfect cans. they should be ashamed of themselves, and if they want them back they should pay for the shipping!  i WILL not be taken in again. i want my money back. this is the FIRST item from amazon i have not been happy with.\"\\n',\n",
       " '5.0,Monster M-80,I love the M-80. It is usually the only E-drink that I will drink!!! I drink 1(one) per day!! Hated it when I found out that most stores would not carry the M-80!! Now I have amazon deliver 1 or 2 cases a month!!! Cheeper than in a store!!!!! Hope this helps!!!! WAR EAGLE!!!\\n',\n",
       " '1.0,Disappointed,\"I was VERY excited to order this Barney Butter after reading about it in a magazine, and I loved the idea of the individual packets.  However, I was extremely disappointed to find that the almond butter was rock hard and dry within the packets, with a little bit of oil at the bottom and no possible way to mix the two together.  When I sampled it, it was like chewing on rubber.  I ended up throwing the entire box into the garbage.\"\\n',\n",
       " '1.0,Not Good,\"I found this at Walmart for $3.00, and on taste alone, it is way overpriced. I\\'m not sure how they pass this stuff off. Like another reviewer said, the texture is weird. It honestly made me feel like I was eating dirt. The sauce isn\\'t good, either. I could taste just a hint, a very fleeting hint, of alfredo. Even the pasta they use tastes weird. It doesn\\'t look very appealing when cooked, either. My husband didn\\'t even want to try it. Never again.\"\\n',\n",
       " '5.0,really good freshest we have had,\"this is the only twizzler my wife will eat and these are the freshest we could have found. The stores around here never has this flavor and when they do it\\'s stale we will be buying from you all the while, thanks for having this and so many other things we love.\"\\n',\n",
       " '1.0,Worst Coffee I Ever Tried To Drink,\"Hey Tiny Footprint, light roast coffee beans are light brown; these beans are dark brown. There were mistakes made somewhere! This coffee is BLAH tasting, rather like dog pooh smells. In fact, this coffee is so bad I wouldn\\'t let my dog drink it. Hey Amazon, the cabon negative story is appealing, but this coffee is a reject!\"\\n',\n",
       " '5.0,My dog Rocky loves Happy Hips and they agree with his sensitive stomch.,\"Rocky is a beautiful Collie but a very picky eater with a sensitive stomach.  He will not eat store bought dog bones and I have made him home made ones in the past.  However, he loves Happy Hips and they agree with his sensitive stomach, so they are not only good for him but apparently taste good also.\"\\n',\n",
       " '5.0,\"Sweet with a \"\"kick\"\"!\",\"As a previous reviewer stated, this mustard packs a punch.  But if you like things on the hot \\'n\\' spicy side, you\\'ll love this.  Use it in moderation the first time, just to get a feel for the spiciness level.  Then adjust later as needed.  I love it on brats, kielbasa, knockwurst, hot dogs, burgers, and I use it in marinades for chicken (mix with some lemon juice, oil, and a little minced garlic) or for grilling salmon (thin with a little oil, then brush on the salmon and grill).  I\\'m a big fan of the Beaver line of sandwich spreads/mustards/etc.  This one is near the top of my list.\"\\n',\n",
       " '5.0,Great tea!,\"This is strong, so maybe water it down with lots of ice cubes or put milk and sugar in it.\"\\n',\n",
       " '1.0,Bland tasting,\"I bought this because I would buy Kirkland (Costco\\'s brand) instant mac \\'n\\' cheese and almost always only use the cheese powder as a quick way to make mac n cheese with my favorite pasta. When it came in the mail (quick shipping), I noticed that it has no packaging date, sell by date, or expiration date. I found that a little odd and was iffy to use it but tried it out anyway. From reading other reviews that it tasted similar to them as using store brand powdered cheese, I made my recipe with the usual amount of pasta and put an equal amount of cheese powder as the box would have. It tasted bland to me and my boyfriend. We added more powder but still nothing much. Then some salt this time and it was a TAD bit better but not much. Given the vague packaging of this product and the bland taste of the powder, I\\'ll stick with using individual boxes of mac n cheese powder.\"\\n',\n",
       " '5.0,From a picky eater - I love these,\"I was a little hesitant to try these, especially after reading such mixed reviews although overall they were positive. However, I liked the idea that they are healthier than regular chips and I figured they would be great for school lunches, quick snacks, etc. I decided to give them a try and figured if we did not like them, they could be donated.  I ordered a mixed case the first time around to see which flavors we liked more (or less) and thought that would give us a good sampling.  After deciding we liked most of the flavors, we decided to try other ones as well.  Despite the flavor preferences, these chips do not taste like cardboard.  At first taste, they are a little crunchier and thicker than you might expect. I think this is a good thing, because it means they are not heavily-laden with oil.  The 0.8 oz bags are 100 calories each as well, which is much better than the other alternatives and gives you the enjoyment of chips without the extra calories, trans fat, etc.  I have included a summary of opinions below from myself, friends and family for each flavor:  Sea Salt & Vinegar - Great, the absolute favorite flavor for everyone BBQ - Very good, I\\'m not crazy about BBQ to begin with but would say this flavor is \"\"sweet\"\" BBQ. Everyone else loved them. Cheddar - Very Good, probably close in preference to the BBQ Original Potato - Good, but a little salty (seems to fluctuate somewhat between bags) Salt & Pepper - Good, everyone liked them but preferred other flavors more Parmesan Garlic - Good, but overall was 50/50. You definitely taste more parmesan than garlic and most people were expecting the latter. Sour Cream & Onion - Not so good, no one really liked these enough to want more or to even finish the bag  I know taste is a very subjective thing, but I hope this review helps someone decide to give these a try. I did get them at a reduced price through subscribe & save, and shortly after my first order, Amazon had them on the Gold Box for an even better price.  I think the average price per bag came out to approximately forty six cents a bag and had free shipping under my prime account.\"\\n',\n",
       " '5.0,Tasty Gum to Clean Your Teeth,\"I love the taste, and my mouth feels fresh after a few chews.  Not too sweet, and not too strong in taste.\"\\n',\n",
       " '1.0,Bad bad coffee - BAD,BAD BAD COFFEE - HORRIBLE - HORRIBLE - DISGUSTING - BOUGHT 2 ORDERS - VANILLA & HAZLENUT - BOTH HORRIBLE - NAMES SOUNDED SO DELICIOUS TOO!\\n',\n",
       " '5.0,HERSHEY\\'S SUGAR-FREE CHOCO SYRUP,\"OUR GRAND-DAUGHTER LOVES HER CHOCOLATE MILK BEFORE BED EACH NIGHT. WE USED THE HERSEHEY\\'S REGULAR CHOCOLATE SYRUP AND THOUGHT IT HAD TOO MUCH SUGAR IN IT, IN THAT IT STARTED TO PUT WEIGHT ON HER. WE SWITCHED TO THE SUGAR FREE BRAND AND WERE PLEASED SHE LIKED IT AS MUCH AS THE SUGAR SYRUP. WE ARE HOPING THIS WILL RESULT IN SOME OF HER WEIGHT LOSS.\"\\n',\n",
       " '1.0,Nastiest Sweetener Ever,\"Put this in my homemade lemonade, had to throw it out. It is BY FAR the worst non-sugar sweetener I\\'ve ever had. It\\'s bitter, oily-tasting and the taste is still in my mouth a full hour after one sip. Going to try either actual stevia (not this extract junk) or an artificial sweetener.\"\\n',\n",
       " '1.0,not as advertised,You are not buying 25 hooves as the details state.  You are buying 1 chew hoof.  Had no problems with company refunding me the price i payed and they also sent me another hoof free of charge.\\n',\n",
       " '5.0,Absolutely Delicious!!,\"Monin Flavored Syrup Coconut is the best out there and I have tried a few.  Be careful, it is very addicting.  My daughter went through a couple bottles in just a few weeks.\"\\n',\n",
       " '5.0,The story tells the review.,\"Met my friend at a sandwich shop, brought a thermos of this coffee. I had added a little soymilk to lighten, she thought the coffee was too weak. The pot was black as night. The taste was smooth as hell, and 30 minutes later, she was a little spun out of control.  It is by far, the smoothest coffee blend I\\'ve had, and is great stuff. Just because a cup might be so bitter from various alkaloids, doesn\\'t make it superior coffee. This stuff truly equates to quality.\"\\n',\n",
       " \"5.0,DOGS LOVE IT,I HAVE THREE DOGS AND THEY ALL WANT THIS TOY AT THE SAME TIME. DOESN'T GET CHEWED APART LIKE MOST THINGS I BUY THEM.\\n\",\n",
       " '5.0,best tea to have at night,\"If you don\\'t always fall asleep as fast as you would like, drink Bigelow\\'s Sweet Dreams tea. It really does help you to sleep better.\"\\n',\n",
       " '5.0,Suprised!,\"This tea is wonderful!  I say I\\'m suprised simply because I am used to \"\"bargain\"\" pricing to mean less than top quality (which I\\'m ok with if the price is right).  That is NOT the case with this tea (or the African Honeybush I have on auto order) It\\'s a great balance of chamomille and fruit.. brews into a light slightly sweet tea. Great after a stressful day... or as I found recently... put it over ice and it\\'s calming and cool after a hot day working in the yard and garden. I share with my daughters so I\\'m sure this tea will eventually go on the auto order just like the African Honeybush.\"\\n',\n",
       " '1.0,\"Keep shopping, I implore you\",\"If you\\'re looking for a beef jerky you can (and will) feed your dog, look no further. With no discernable taste and a texture that resembles  Beggin\\' Strips  at twice the price, Wild Ride Gallopin\\' Pepper Beef Jerky for Dogs is an all-natural choice.  The meat is weirdly soft and completely tasteless. Not salty, nor peppery, nor meaty. I took one bite and immediately spit it in the trash. And 5 out of 5 friends agree: It\\'s garbage. To add insult to injury, one of the bags was ripped down the middle. So it was *actually* garbage.  These bags of \"\"beef jerky\"\" have utterly offended me. Heed my warning and stay away.\"\\n',\n",
       " '1.0,Absolutely Terrible,\"Two types of coffee.  The majority was decaf, and the remainder was sour and spoiled.  Will never buy again.  \"\"No More Than 3 of Any Variety\"\" is a complete and utter lie.\"\\n',\n",
       " '5.0,My Absolute Favorite Hot Cereal,\"I eat this cereal most mornings in the winter.  I love the creamy, smooth texture.  I make it with almond milk and cinnamon.  It cooks up perfect in the microwave every time.  Added benefit - it\\'s rich in fiber.  I definitely recommend it.\"\\n',\n",
       " '5.0,Delicious Blend,\"This may be a tea that I will stick with - it\\'s a whole leaf tea in a delicious India/China blend with an impressively complex and well-balanced flavor.  Attractively and conveniently packaged, and shipped regularly in small amounts to ensure freshness (the Subscribe & Save option is a MUST.) I may have found what I have been looking for!\"\\n',\n",
       " '5.0,Best Green Tea,The tea is remarkably good. Gave up on the poison  (coffee) I had been drinking and Bigelow Green is the best of the several I tried.  The order came in short time so I have been all around pleased\\n',\n",
       " '1.0,Not my nut bar,\"I did not like the taste of this; tasted more like the stuff you feed the birds. The sweet and salt combination does not work well for any candy bar. Although this is a little larger than granola bar, I much rather have granola bar. Lessening the salt content and increasing the cashew nuts may improve the product.  1.  Cereal Bar Maple Nut 5 bars  2.  Cadburys Fruit & Nut Milk Chocolate Bar with Almonds - 3.5 Oz/ Bar, 24 ea  3.  Sugar Free Belgian White Chocolate Macadamia Nut Bars  4.  Homemade Gourmet Chocolate Candy Bars, Milk Chocolate \"\\n',\n",
       " '1.0,My Cairn Terriers Would Not Chew Them; Does Not Mean They are Bad,\"I have two nine year old Cairn Terriers.  I have been trying everything to keep their teeth clean to avoid putting them under anesthesia to have their teeth cleaned by my veterinarian.  I bought these and my guys would not go near them.  They look great and smell good too.  I finally gave them to my neighbor who just adopted a rescue Cockapoo pup.  He is still a puppy and liked them because he needs to chew all the time.  So, if you are planning on buying these, just know that I tried them, they look great, but they got rejected.  Some pups like them and some pups do not.  They made a great welcome gift for the new adopted puppy and that makes me feel great, so my investment was not wasted.\"\\n',\n",
       " '5.0,Super tasty,\"I was hesitant to purchase this, despite the outstanding reviews, because of the price. I mean, what could be cheaper than rice and toasted seaweed?  With that perspective, I was very pleased with these meals/snacks. The rice was more delicious than the freshly made white rice served in many places (possibly even better than the rice in my house) and the wraps are super delicate and with a nice lightly crispy texture that is most enjoyable.  If you like sushi wraps and rice, I highly recommend you try these.\"\\n',\n",
       " '5.0,So yummy!!!,\"This is exactly like the mazapanes of my childhood. Absolutely yummy. This is not your typical Italian or Spanish marzipan, these are much lighter and creamier. De la Rosa has been making these candies for years and years and they are the best!\"\\n',\n",
       " '5.0,\"Great & healthy bamboo, decent holding piece\",\"I just got my bamboo today.  It arrived so so quickly (that\\'s why the shipping costs are so much- they ship it USPS, but it\\'s SUPER quick; they\\'re located in CA, and I got it in three days.  I\\'m in IL)  The bamboo arrived healthy, and looked just as tall as the picture shows, and very green.  Looks wonderful.  I also purchased some Super Green from KL Design & Import; and got that the same day too (highly recommend that to go with Bamboo)  Anyway, my only disappointment was that the photo shows a lovely holding piece; looks almost like a dark wood or ceramic piece.  The one that it comes with is much lighter colored (look at the user pics) and has a random leaf printing on it.  It\\'s not nearly as nice looking, so that is a bummer.  I wish it was darker.  That\\'s my only complaint.  Will update if I have anything to add later on.  Still a great bamboo piece, and I recommend seller.  It will live in my office cubicle to brighten things up. :)  EDIT: April 10th, 2012  Just giving an update on this.  The bamboo is still healthy, and growing great.  My one disappointment was that the spiral piece that came with it has not grown at all since I got it.  It\\'s still the same size, and with the same leaves.  It\\'s still green and alive, but has not shot up and grown new leaves like the other two straight stalks.  I may actually break off the spiral part and let it grow more naturally.\"\\n',\n",
       " '5.0,Fantastic!  This mustard is incredible!,\"This is not a wimpy yellow mustard.  It has a kick!  If you want plain-old-yellow-mustard, buy a generic bottle from the grocery store.  If you want a mustard with a bit of a zing (like a little wasabi on sushi), then give Coleman\\'s a try.  Beautiful color, wonderful flavor, and smooth consistency. Highly recommended.\"\\n',\n",
       " '1.0,Suisse Mocha Decaf Sugar Free,\"This is the worst tasting coffee ever made. It has a distinctly metal taste, and I\\'d never buy it again.\"\\n',\n",
       " '1.0,\"Get educated, save $\",\"Even at $6 per canister, this product is inexplicably overpriced. Let me explain why:  Intro to Oats 101--Oats, in whole form, are known as groats. In an effort to cut down on cooking time (or eating time, for those on the run, who don\\'t have the time or patience to chew @mouthful 20-30x), oats are refined into the following:    -steel cut oats--cracked into two or more pieces   -oat flakes--flattened with an oat roller   -oatmeal--same as flakes, but parboiled   -instant oatmeal--more processed than reg. oatmeal   -oat flour--milled into dust, for baked goods or as a thickening   agent.  This product fits into the first catagory.  Their claim of \"\"guaranteed uniformity\"\" is a coined phrase, meaning each cracked grain is the same size, a gourmet characteristic.  All this being said, I am not aware of oats from Scotland or Ireland having any magical or mystical quality, outside of marketing hype or myth.  Truth be told, you could go to any health food store with a bulk bin (one sign of a conscientious health food store), buy whole oats, certified organic, for about $2 per lb., and crack your own oats with a grain mill (Corona brand, one time investment, about $70, lifetime expectancy), or in a blender. For those more ambitious, you could cook them whole, which involves soaking them overnight, then simmering for about 90 minutes. Do not be put off by the cooking time, it is unattended, with a flame deflector. Cooking becomes a chore because of prep time, not the time on the stove. Why whole? Because any time you grind or crack a grain, there is nutrient loss and, to those open to more estoteric models, a loss of life force (a.k.a. \"\"chi\"\").  I did buy this product, and as connoisseur of oats, I was not impressed, did not give the same energy boost as others. Did not taste fresh, either.  Now, onto an advanced concept: if you truly want the \"\"Rolls Royce\"\" of oats, there is a brand called \"\"Really Raw Oats\"\". Why is this? Because the oats commercially available are partially steamed to protect against rancidity (oats are about 10% fat, albeit an exceptionally healthful fat).  How do I know this? Because a truly raw grain will sprout. Attempts to sprout other oats have been fruitless.  The Really Raw Oats carry a price tag of about $11 per lb., but are worth it. Conversely, the product here, in my opinion, does not command the price point it seeks.  p.s.  the best TASTING oats I had came out of Canada--when you dry-roasted them in a pan, it took on the aroma of vanilla--BLISS! Haven\\'t seen them, however, since the mid 1990\\'s. I purchased from Lynn Paterson, who was pictured in David Sergel\\'s fine book, \"\"Zen Shiatsu\"\"  Bon Appeite, Good Health and Caveat Emptor  -Andrew\"\\n',\n",
       " '1.0,Have ordered before but this shipment was unusable,\"The 4 pounds of sliced meat itself are contained in a single cardboard box; no vacuum seal or even plastic wrap.  That box is placed in another box that is lined with styrofoam sides, styrofoam peanuts, and three frozen \"\"ice\"\" paks.  It was shipped FedEx 2 Day (that\\'s what the label says), not Overnight or next business day, which begs the question, what exactly did the $52 in shipping charges for 4 lbs of meat and minimal packing materials actually go towards?  I think I know, and it wasn\\'t shipping.  Years ago \"\"Grecian Delight\"\" (the brand on the box) was sold in a local supermarket chain in Gyro Kit boxes - each contained a pack of sliced gyro meat, one pita, and a small container of tzatziki sauce.  I loved them, but I haven\\'t seen the kits in decades and was happy to find a way to once again stock the freezer with gyros-in-waiting.  The gyro meat itself, which I have ordered before, tastes just like ... gyro meat!  As I said, I love gyros, but there\\'s no place nearby where I can drop in and enjoy one.  So I have ordered the product in the past, but in this case, I\\'ve ordered for the last time.  I\\'ve gotten the individual 1 lb vacuum packets before 3 at a time and they\\'ve arrived frozen or nearly frozen. Not so this box.  The meat was not only thawed, it was only slightly cool. I\\'m afraid I\\'m going to be throwing it out.  Too risky.  For $52 shipping charges, it should have arrived in perfect condition. Overnight. I won\\'t make this mistake again.  I can\\'t afford to.\"\\n',\n",
       " \"5.0,The BEST Dog Treat Ever,My Mini Poodle won't eat any dog treats. I have wasted hundreds of dollars. I bought this & she goes hog wild over it.  I can't believe her. I have ordered many other flavors of this brand. It is also very healthy & no by-products in it. Try it..your dog will love it.\\n\",\n",
       " '1.0,\"Good product, but too expensive on Amazon\",\"Gatorade made from the powder mix doesn\\'t taste syrupy like store-bought Gatorade does.  It\\'s also much less expensive to mix your own -- think about it, why would you pay for a bottle of water + flavor syrup?  HOWEVER, the prices for this product on Amazon and eBay are very inflated.  I found it at my local grocery store (HEB) for about $7, which was on sale from about $8.  The online prices are ridiculous.\"\\n',\n",
       " '1.0,\"bad candy, inaccurate description\",\"For one thing, these aren\\'t the eyeball candy I was looking for my Halloween dinner to put on my cupcake, the eyeballs are only on the wrapper, not on the candy itself. Secondly, these candy taste old and yucky, the filling is very dry and stick to my teeth like crazy, I thought I\\'ll just have to eat them since I can\\'t use them for my cupcake decoration, but they\\'re no good at all. I could have returned it, but it doesn\\'t even worse the trouble, so I just throw them all out in my garbage can!\"\\n',\n",
       " \"5.0,A Must-Have Item,This salt is outstanding on everything!  It adds so much flavor.  I love the size of the granules and it is so much better than ordinary salt.  I'm so glad I found it on Amazon.\\n\",\n",
       " '5.0,\"Ooohhhh, these are GOOD brownies!\",\"I\\'ve tried quite a few different brands of gluten-free brownie mixes, and this has got to be my favorite!  I find that some GF foods tend to be a bit more dry (compared to wheat-based), but this brownie mix makes a great, very moist and fudgy brownie.  Instead of the oil, I often use a small cup of applesauce (I like the stuff without added sugar) and 1/2 cup of Eggbeaters.  The taste is still great and it\\'s a bit lower in fat.\"\\n',\n",
       " '5.0,Great Coffee for double the price,\"This coffee is great, but honestly after a little searching the price here is ridiculous. I found this exact same product for about half the cost off another website.\"\\n',\n",
       " '1.0,damaged cans,\"sent a case of this product to my brother,he stated numerous cans had tops dented and crushed. thank you ups. i ordered a case in glass bottles a short time ago all were intact.sure am glad i didnt have same driver it would have benn a real mess\"\\n',\n",
       " '1.0,NOT SO HAPPY,\"I DID NOT GET A CHANCE TO USE IT. WHEN I RECEIVED IT, SOME OF IT WAS IN THE BAG I WAS NOT SURE IF I SHOULD USE IT SO I SENT IT BACK. I DID NOT WANT TO RATE IT, BUT THE WAY YOU HAVE IT SET UP YOU HAVE TO. I NEVER TASTE IT\"\\n',\n",
       " '1.0,UGH.,\"Saw these on Dr. Oz as a great snack.  22 chips per serving...I couldn\\'t eat 3.  They stick to your teeth. I want to trick myself into thinking it taste just like a banana chip...it doesn\\'t.  NO thanks.  Like, ew.\"\\n',\n",
       " '5.0,Good Stuff!,\"This is a delicious drink and it gets me going for a great workout.  i wish it didn\\'t have such a cost difference from the Turbo Tea, but I guess it worth it to get a boost to my workouts.\"\\n',\n",
       " '1.0,Waste of Money,\"I received this product as a gift.  I was so excited to use it.  However, I\\'m sadly disappointed with this product.  The puree is very weak!  It takes far too long to blend the products, having to stop many times to stir the contents because it doesn\\'t blend evenly.  The only nice feature is the clean-up--only one bowl to wash.  This is totally overpriced.  I wouldn\\'t even buy it if it were under $20.  Save the money and use a blender.\"\\n',\n",
       " '5.0,AWESOME CEREAL,\"I LOVE THIS CEREAL.  NOT ONLY DOES IT TASTE GOOD, IT\\'S GOOD FOR YOU.  IT\\'S A PITY THAT I CAN\\'T FIND THIS CEREAL IN ANY OF THE LOCAL SUPERMARKETS.  OTHER BRANDS DO NOT MATCH UP.\"\\n',\n",
       " '5.0,Salty Licorice = Deliciousness,\"This is sort of like a salty black licorice.  It is not for everyone.  In fact, most people who try it, don\\'t seem to like it (at least those in the U.S.).  They are great by themselves or with a beer.\"\\n',\n",
       " '1.0,Beware! Bad batch made me sick 4/10/11!,\"I love heath bars, and they agree with me quite well.  Unfortunately, I ordered this item and even without eating a whole one, I got sick from it and have been all night, and am still.  The bar was \"\"off\"\" with a slightly odd taste and the center was a bit \"\"chewy\"\" rather than crisp. Odd enough that I set it aside after eating part of it.  Soon I was queasy and I slept badly, and now 12 hours later it feels like there are knives in my intestines and I\\'m having diarrhea.  Amazon was good about it, gave me a full refund and told me to dispose of them, which I will do. Into the trash they go.  The lot number is a bit smudged on the box, but appears to be  40PR2 BB 01 2012  I don\\'t blame amazon, but I feel like I\\'ve been poisoned.  And no, I didn\\'t eat anything else, it was utterly clear what has made me ill. Also, the same day I had some heath miniatures I also bought from amazon, and they were great!  I suspect that I\\'m not the only person to get a bellyache from this batch.  These should be recalled, IMO.\"\\n',\n",
       " '1.0,Disgusting,\"I can\\'t even GIVE these things away.  The best description I can come up with is \"\"Sawdust surrounded by wax.\"\"  Does not taste like white chocolate (or ANY type of chocolate) in the least.  I\\'ve yet to know anyone who can actually swallow a bite of one of these.  I have a \"\"HELP YOURSELF\"\" sticky note on the box at the office and everyone who has tried it, has SPIT IT OUT and tossed it in the trash.  Save your money.\"\\n',\n",
       " '1.0,What have you done?,\"This is NOT the same honey, as contained in the 23 oz. bottles I\\'ve ordered in the past. MUCH lighter in color and RUNNIER! I immediately cancelled my \\'sub/save\\'...WHY DO THINGS HAVE TO CHANGE...FOR THE WORST?!\"\\n',\n",
       " '1.0,Grossest cola ever,\"I\\'ve had the  SodaStream SodaMix - Cola  before, and it was fine. It tasted like someone mixed a diet soda with a regular one with the slight aftertaste of sucralose, but it wasn\\'t that bad, and the  SodaStream SodaMix - Caffeine Free Root Beer  was one of the best root beers I\\'ve ever had even WITH that aftertaste. I gambled on the Natural Cola, hoping it would taste like the regular one but without that aftertaste, but boy was I wrong. It tastes like you took some apple juice and mixed it with cola.  (The natural rootbeer, incidentally, is freaking awesome - it IS the   SodaStream SodaMix - Caffeine Free Root Beer  without the aftertaste. So my order was only half fail, ha. Amazon apparently doesn\\'t sell it.)\"\\n',\n",
       " '5.0,Ginger drink with a bite.,\"If you like ginger tea than you\\'ll love Ginger drink. It has a little bit of a bite, but that\\'s what makes this drink good.\"\\n',\n",
       " '5.0,My favorite Hot Cocoa!,\"I bought a combo pack at Sams club, it had 8 different flavors, all were great, but my favorite by far is Arctic White.  Much to my surprise it was hard to get a large quantity of the stuff, even the manufacturer wanted way too much money, and then I found it on Amazon, great price great product!!\"\\n',\n",
       " '5.0,Delicioso!,This is very good coffee. I will definitely purchase it again. It is robust and flavorful without any trace of bitterness. Love it!\\n',\n",
       " '5.0,The healthier ones,\"These are a healthier version of Craisins, and to my mind much better tasting.  They are super moist and slightly less sweet. Eden adds no refined sugar;  instead, these cranberries are sweetened with organic apple juice concentrate.  (Don\\'t allow yourself to think that they are \"\"sugar-free,\"\" however. The juice concentrate is still a strong source of natural sugars, which for a 1/3 cup serving of cranberries total 25 grams.) All that being said, if you are looking for a healthier, moist, good-tasting dried cranberry (and organic, to boot,) this is it.\"\\n',\n",
       " '5.0,Delicious!,\"The flavor is very light and crisp, tastes kind of like a green apple with a bit of a kick. One tiny little packet will last you quite awhile, or if you\\'re having a party will provide enough for everyone. If you want to add a bit more kick it tastes great with a little splash of coconut rum. :D\"\\n',\n",
       " '5.0,Good baby food.,excellent product.My baby like the taste of it and easy to digest.Fast shipping.I would recommend the product.Wants to try the other flavors too.\\n',\n",
       " '1.0,too much sweetener,I ordered this recently. The sugar-free has so much sweetener in it that it literally turns my stomach. I never put more than 3 squirts into 6 cups of coffee and milk. The flavor is absolutely missing and overpowered by the sickly sweet syrup.\\n',\n",
       " '5.0,German Gummie Bears are the best!,\"I have to be one of the biggest customers for Haribou Gummie Bears, which I have been purchasing for nearly 10 years now. I am not a big candy officianado but I can tell you that Haribou is the \\'real deal!!\"\" I have tried others, too soft, medicinal tasting, and like Baby Bears Porridge, Haribou\\'s is ....just right!! I love that they sell them in 5lb bags and I always order (2) at a time as they have a way of disappearing very fast...I\\'ve gotten my grandkids hooked on them. Easy to transport for snacks and fun to eat!! One drawback might be if you have dentures....these will definitely do a number on these so watch out and maybe stick with the cheap immitation!! I have never had a \\'tooth problem\\' so to speak so for all other\\'s, enjoy!!\"\\n',\n",
       " '1.0,not like Jelly Belly,not like Jelly Belly they did not tasted like Jelly Belly. the Jelly beans had a funny off tastes. do not sell ?\\n',\n",
       " '1.0,not even close to coconut water!,\"Coconut water should not be sweetened!!! Actually \"\"NO SUGAR SHOULD EVER BE ADDED\"\" sweeting things is an american custom, which ruins the real flavor of coconut water. I lived in Jamaica for 4 years and the bahamas for 2, and the coconut water from real coconut does not have any added sugar, its natural. I will stick to buying the brown hard shell coconuts from the supermarket and drink that it\\'s more natural and unaltered. These boxed, caned and packaged coconut water are nasty, i am still yet to try a brand, one of the many that i have tried that will make me wanna buy it.\"\\n',\n",
       " '5.0,Great blend of Flavors,\"I tried this flavor in a mixed package from the grocery store, but I only liked the lemon flavor.  It has a nice blend of lemon and other herbs.  It does not even need to be sweetened.  I am glad that I can order just the lemon herbal tea.\"\\n',\n",
       " \"5.0,hey they're oreos...,what can i say... great cookies. the only way to improve it is if it came with some cold milk.\\n\",\n",
       " '1.0,Cat food,\"I love salmon spread.  I buy it here in MA, but thought it would be better from Alaska.  I ordered this item because I just returned from Alaska and had the best salmon and salmon spread there.  I ordered this item hoping that it would be fantastic because Alaska is known for its salmon.  I was VERY disappointed.  It tasted and smelled like cat food!  I did write to the company, but have yet to receive a response.\"\\n',\n",
       " '1.0,Really horrible,This is really horrible coffee. It is especially bad in an espresso machine. The taste is completely different than the Lavazza beans that come in a blue bag. There is a reason this brown bag is cheaper.\\n',\n",
       " '5.0,love it,\"love the True Lemon. Two packets makes a big glass of lemonade for my taste.  Just to mention - those 500 packets are just in a box, not packaged neatly. I\\'m not going to count to see if there are actually 500 there, though.\"\\n',\n",
       " '1.0,I couldn\\'t even finish one can,\"I have always been a huge Diet Pepsi fan, but I have recently decided to give up aspartame.  So I searched online and found this product.  So you\\'ve heard the saying \"\"If it sounds too good to be true, then it probably is.\"\"  Well that is definitely the case with Zevia Cola.  I honestly had a hard time getting it down.  I can\\'t believe people are giving it 4 and 5 stars.  They must work for the company or something because it is nasty.  There is an awful after taste.  Luckily, I only bought a six pack at the grocery store and so I only have 5 left over cans instead of 23.  I would honestly be embarassed to offer them to guests (even my little nephews).  However, I did read one review that said it was okay mixed with rum.  I also tried the ginger root beer and it was delicious.  However, it doesn\\'t have any caffeine so it\\'s not really a substitute for Diet Pepsi.  I\\'m going to try the Dr. Zevia and the Mountain Zevia since they are the only two other Zevias that contain caffeine.  Then I\\'ll give up and go back to my Diet Pepsi.  Maybe I\\'ll just cut back on the number of cans I go through.\"\\n',\n",
       " '1.0,poorly wrapped almond butter,I got my almond butter in the mail and opened it.  too my surprize i found chunks of almond butter all around inside the box.  the almond butter become unsealed and splattered all arround inside the box during shipping the shippers never heard of wrapping the almond butter in bubble wrap.  in order for it to arrive to my house safely from amazon.com.  the bottles where never comletely inclosed in bubble wrap.  i called amazon.com up and they dont want me to return the broken jars of almond butter  i can not eat them after this amazon.com says they will refund  my gift cards i am sure glad they take my word for it amazon. is great they reallystand behind what they sell at amazon.com i will continue to shop there\\n',\n",
       " '5.0,for fretting felines and canines,\"This 100% natural product for cats and dogs going through stressful times includes the same active ingredients as those for the relief of tension in some natural human formulas, like valerian and chamomile, and also apparently has a good taste, as a dropper full of the liquid in food is devoured with relish; it also includes passion flower and fructose, which is probably why it has a sweet aroma, and adds to the palatability. Other ingredients are hops, scull cap, and inert ingredients include deionized water and sodium benzoate.  I\\'ve found it very useful on two occasions, once when trying to catch a young feral kitty, and secondly, to relieve the anxiety of my devoted eight year old Liddy when introducing the young cat into the household. Also good for pets that are nervous travelers, and those few animals that get upset when being groomed.  Richard\\'s Organics Pet Calm claims that it \"\"Treats short-term stress\"\", and in my situations, it has worked beautifully. Depending on the size of the dog or cat (1 dropper = 1 ml. / Up to 40 lbs., 1-4 ml. / Over 40 lbs., 3-6 ml.), there are a lot of doses in this 2 oz. bottle, and I think it\\'s an excellent value.  Liddy, Maggie and I are very satisfied customers of this product, which has made our lives easier and more peaceful.\"\\n',\n",
       " '1.0,Terrible Taste,\"This product is a disappointment. There was more of a candy coating than sunflower seed and the candy was not tasty at all. It had a stale and smoky quality to it that I did not expect and I could not find one person that tried them who liked the taste at all. The best part of these, unfortunately, is their look and vibrant colors - that\\'s about it.\"\\n',\n",
       " '5.0,Good tea,Nice robust flavor.  Tastes very good with cream and sugar or black.  I will continue to buy it.\\n',\n",
       " \"1.0,Bad!!!,Two of the three plants were dying and are now dead. They all were tiny!!! They are suppose to catch flies but not one fly has been caught because they couldn't even fit in the bloom.  Rip Off!!! Do not do business with this vendor...\\n\",\n",
       " '1.0,do you really need this?,Please consider whether you want to buy and consume something that was created in an inhumane way. There is no humane way to create a product like this.\\n',\n",
       " \"1.0,Worse than instant,I'm pretty certain any brand of instant coffee is better than this.  We recently moved into a building that has a few of these machines that offer the Columbia and it is just awful (especially considering the premium pricing).\\n\",\n",
       " '5.0,Yummy,\"I got theses yesterday, tried a couple, and put them out on the counter. Everyone in the house has been grabbing one as they walk by. There are only three left.  These cookies are light,crispy and flavorful. They\\'re just sweet enough to satisfy without loading you up with sugar.  These are a winner. I\\'m going to snag one of the last ones now while I have a chance.\"\\n',\n",
       " '5.0,Best decaf hot tea I have tasted!,\"I buy this in the UK but it is wonderful to know I can get it here if supplies run low between trips! I recommend steeping the bag for several minutes, then adding milk and sugar to taste. It has been a lifesaver during cold and flu season. I prefer it to PG Tips, which I find to be quite bitter. Typhoo has a much smoother taste.\"\\n',\n",
       " '5.0,best cereal ever,this is really good and had not been able to find it for a long time\\n',\n",
       " '5.0,amazing tea!,\"I am a no coffee, drink tea ALL the time person.  I have tried so many teas and am constantly interested in trying new ones.  This has to be the most wonderful green tea out there!!  It is wonderful!!!\"\\n',\n",
       " '1.0,\"Worst tea I\\'ve even had, and can\\'t return!\",\"I\\'ll echo another reviewer by saying that this tea is INDEED truly nasty.  Can\\'t be returned, and the smell is so repugnant, I don\\'t even want to use it for potpourri.  Because it had a few good reviews, I thought I\\'d give it a try.  Big mistake.  Perhaps I\\'ll sprinkle it at the edge of the garden to keep away varmints this spring....\"\\n',\n",
       " '5.0,Amazing!,\"I fell in love with this spice while working for a Japanese restaurant during college, and have never looked back! I have used it for so many things, but my favorite way to eat it still remains sprinkled on jasmine rice. I love the flavor of it so much and putting it on a blank canvas such as rice really allows you to enjoy it\\'s true deliciousness! Rice + a sprinkle of nanami togarashi + a sprinkle of soy = AMAZING!! Not too spicy (although I do enjoy spice) and even loved by my four year old! I went through the little bottles so often I invested in the large bag :-)\"\\n',\n",
       " '1.0,broken bears,I thought giving chocolate bears would be great for the holidays but when they arrived half of the bears arrived broken or melted. The packaging was totally insufficient with only a plastic top on the bears. The candy was obviously not lovingly cared for and havoc reigned. Now I have nothing to give the kids. I would not order from this company again.\\n',\n",
       " '1.0,Very disapointed!,The description stated that this gum is naturally sweetened with Stevia. It said NOTHING about containing artificial sweetners (sugar alcohols). My digestive tract can not tolerate sugar alcohols (and I have Type II Diabetes so I do not chew regular gum). A case of this gum is expensive but I thought it would have been worth it (I love gum)if it was ONLY swwetened with Stevia. I feel duped!!!\\n',\n",
       " '5.0,Zero Bars,\"Last of a dying breed!!  Originally made by the Hollywood Candy Company ([...]), now made by Hershey\\'s.  These are similar to the original ones from my youth. Originally they sold for 5 cents. One of only two of the original offerings by Hollywood Candy, the other being the PayDay bar.  Currenty available in two sizes, 1.85 oz and 3.4 oz \"\"Supersize\"\".  Try them, you\\'ll like them!\"\\n',\n",
       " '1.0,Horrible artificial smoke flavor,\"I was shocked and disgusted at the overwhelming, fake smoke flavor in these tomatoes. I missed the return window by 30 minutes, so I can\\'t return them. Do not buy this product under any circumstance.\"\\n',\n",
       " '1.0,\"Too Strong Ginger, with Lemon Tea\",\"I\\'m not a connoisseur of tea or coffee.  I do like ginger bread, and ginger cookies.  Last year, I was on a ship and took ginger pills for sea sickness, and I was told not to chew them.  I thought since I liked ginger (as in bread and cookies) that I would like those pills, so I chewed them.  BAD idea.  Yuck. Terrible after taste.  Well, sorry to say, this ginger lemon beverage was nearly as bad (at least to me).\"\\n',\n",
       " \"1.0,Bassetts Liquorice Allsorts 215g,This is one big rip-off.  This little bag of all-sorts is about half the size of a cracker jacks box.  I guess it's my fault for not knowing how much 215grams is.  I get them locally for $2.79 a bag at Walgreens drug stores.  For some reason I thought this was a bigger bag.  They were $9.99.  If I could give this transaction zero stars I would..............\\n\",\n",
       " '5.0,Siply the best onion soup dip mix,\"This is the \\'little secret\\' my mother uses on her famous clam dip. It is not as salty as other mixes nor as strongly oniony; it does not overpower the subtle clam flavor, but instead enhances it. You will be happily surprised when you don\\'t reek with onion days afterward. Enjoy!\"\\n',\n",
       " '1.0,MOLD MOLD MOLD MOLDY MOLDY MOLDY MOLDY! DONT BUY!,\"First off, it was disgustingly difficult to tear the jerky with my teeth, unlike the other flavor, sweet and hot.  Then after LITERALLY 1 after week there was fuzzies on the jerky. You buy a 1 lb. bag so it lasts, right? I didn\\'t realize what it was so I ate a little bit anyways. Then another week goes by - I\\'m talking about with the bag sealed completely up - and there is a crap ton of white and green mold all over the jerky.  They had it on sale because it expired 10 years ago.  OH AND YOU CAN\\'T GET A REFUND :P\"\\n',\n",
       " '5.0,My View,I love strawberry flavor instant breakfast and cant find it in any local grocery store. Glad to find it online.\\n',\n",
       " '5.0,Yum! Yum!,\"My 7-month old son loves Yummy Spoonfuls! Besides rice cereal, this is the only baby food he\\'s ever eaten. I bought a jar of organic baby food at the grocery store, tried it myself, and it tasted nothing like real food, so I didn\\'t want to feed it to him. I researched other options and found Yummy Spoonfuls (via Cookie Magazine). What a great variety of food for all stages, and it tastes like real food! My son has loved ALL of the veggies ... eats the whole amount every time! Mama and baby couldn\\'t be happier with this product. And I love the fact that it\\'s homemade organic food ... I really wanted to make my own food, but can\\'t find the time or energy, and why should I when Yummy Spoonfuls does it all for me!?\"\\n',\n",
       " \"5.0,great snack,Finally!  A snack that tastes like a real snack & not trying to be another fake chip!  I love the cheddar & can't wait to try the new rosemary flavored smart fries!\\n\",\n",
       " '5.0,Ambrosial treat appeases finnicky adults and children alike,\"I\\'ve never had much of a sweet tooth and even I find these lollipops to be addictive.  They are not sickeningly or artificially sweet, there are no awful additives and food colourings, just fruit juice and sugar.  Best of all, it\\'s organic.  There is a wide variety of piquant flavours, some more traditional (Strawberry Smash) and others more tropical (Mango Tango).  NB: I have to agree with a previous reviewer in that the bags definitely do not provide equal amounts of each flavour.  Luckily, none of them taste terrible but it is a legitimate niggle.  For the kids, this candy is especially practical due to its relatively small (read as exercise in moderation) size and you can give them a few without feeling like you\\'re spoiling or depriving them.  As for the adults, the flavours are complex enough to keep you interested in a guilt-free indulgence.  Sure they cost a bit more than non-organic lollies but where else are you going to find gluten-free Kosher lollipops that taste this great?  Exactly.  So whether you\\'re bribing your nieces and nephews into behaving or helping former smoker friends ease the pain of nicotine withdrawal, it\\'s always good to have a bag of these on hand.\"\\n',\n",
       " '1.0,Not what they said it is,I purchased this tea because I was told that it helps with excess gas but this tea has made worsen my gas problem. I am very disappointed with the purchase\\n',\n",
       " '5.0,Simply Delicious!,\"This is a great all-natural hot treat.  I drink it all the time, though I add a small squeeze of maple syrup to my cup of hot brew.\"\\n',\n",
       " '5.0,SAME AS DEFURR-UMS?  CLOSE ENOUGH!!!  BOTH EXCELLENT!!!,\"This is a reformulated DEFURR-UMS HAIRBALL TREATS (reviewed separately).  The exact ingredients for comparison are hard to come by.  M&C does not list them on its website; luckily a few retail websites have an \"\"ingredients\"\" button that forces M&C to disclose the major ingredients to its otherwise \"\"proprietary\"\" recipe.  The new  concoction made quite a few changes (adding inulin for example and ?cranberry?) but the changes have not affected acceptability negatively (possibly improved it, judging by our pickiest cat who now accepts it). The only negative change is in the pricepoint ($8 vs $4) at which the new package is offered on Amazon; Petco stores have the new package on sale for $4. Until Amazon transfers the reviews under the phased-out version over to this new (and improved?) formula, you might want to take a look at the DEFURR-UMS evaluations and also my separate review of hairball remedies under PET NATURALS HAIRBALL. The HEALTHYBITES iteration is excellent (and I will update this review if its long-term performance proves negative) but my opinion of M&C customer service stands (\"\"lousy\"\"); maybe they loaned the service reps to the marketing department during the change in packaging from metallic to white and the switch in names from DEFURR-UMS to HEALTHYBITES. Personally, I liked the DEFURR-UMS tag; how could you do any better for a hairball remedy than DEFURR-UMS?\"\\n',\n",
       " '5.0,Love this Gum,\"This is by far my favorite gum. It lasts longer than other Trident flavors, but not very long (~30 minutes)\"\\n',\n",
       " '1.0,Tupelo Honey (nasty),Did not care for the Tupelo honey. A fairly bitter taste for honey. Two of the bottles leaked in the package.\\n',\n",
       " '1.0,Toxic ingredients,Menadione Sodium Bisulfite Complex (Source of Vitamin K) is a severely toxic synthetic form of vitamin K (can cause severe liver damage) and Carrageenan as well. I would never feed my cat that food.\\n',\n",
       " \"1.0,Bad taste stay away,This product is bad. I ordered 3 cases of this without knowing about it and it turned out to be the worst coconut water I ever tasted. The water was sour and every single person i know who tasted this didnt like it. Amazon gave me an amazing customer service by refunding me the entire purchase price. Except for amazon's customer service do not get this.\\n\",\n",
       " '1.0,mint tea not minty,\"i was really disappointed with this tea, because i expected mroe from loose leaf tea. my wife thinks it smells like marijuana, and i couldn\\'t taste even a hint of mint. total waste of money\"\\n',\n",
       " \"5.0,Snacks,I like spicy snacks and this product fills the bill nicely. I will not buy another bag from the store after tasting these. A minute twenty seconds in the microwave and they are done. When my stash gets low I'll be buying more.\\n\",\n",
       " \"1.0,NASTY!!!!!!!!!!!,This is the most disgusting thing I've ever tasted.  Smelled like garbage and tasted even worse. It went in the trash.\\n\",\n",
       " '1.0,confirmation of # of packages,I really like this popcorn and decided to give them as gifts to friends and family.  Of course upon reading the review I was a little apprehensive.  Bottom line is this order contains ONLY 3 packages (11oz) of Zebra popcorn.  The 11 oz is considered regular size bags.  On the Popcornopolis website you can get 6 regular cones for $46.99.  The buyer should correct his advertisement as they are very confusing and misguiding.  I guess I was hoping it really was 6 packages but partly my fault for not contacting the buyer to make sure I understood what I was buying.\\n',\n",
       " '5.0,These are my absolute favorite!!!!,\"These are very unique and oh SO GOOD! I only buy them on amazon, I try to resist because once they arrive I can\\'t stop eating them! They have a great crunch, a typical kettle cooked chip, very thick with a great amount of salt and yes a slightly sweet vinegar taste. These are def malt vinegar, not white vinegar flavor. Absolutely the best, I can resist most chips but not these!\"\\n',\n",
       " '1.0,WOULD NOT BUY AGAIN HYDROGINATED OILS AND STARCH,THIS IS A DANGEROUS PRODUCT TO PURCHASE IT HAS HYDROGINATED STARCH OR OILS AND IS VERY UNHEALTHY FOR THE BODY TO CONSUME.  IT IS NOT FIT FOR HUMAN CONSUMPTION DUE TO THE HYDROGINATED OILS.  I WOULD NOT PURCHASE THIS AGAIN GOLITELY MUST CHANGE THEIR FORMULA IF CONSUMERS ARE TO PURCHASE THIS PRODUCT.\\n',\n",
       " '5.0,Crunchy good,\"Excellent crunch. Very fresh. Big size bags. These are not exactly what you enjoy in Mexico, but they are very close. Great flavor. For anyone that has never had these or the ones in Mexico, they are in for a real treat. Just add to your super saver freight order and the price is well worth it.\"\\n',\n",
       " '5.0,overall experience,This is the second time I have ordered from this seller through Amazon.  Both experiences have been outstanding.  I also checked local prices for this product and they could not match the price I got on Amazon.  I ordered on Sunday and the product was delivered on Thursday.  I think that is just amazing.  Well packaged.  What more could you ask?\\n',\n",
       " \"5.0,Andes Peppermint Crunch Chips,This product is hard to find in my area. I use these chips to add to bark. People at the church bazaar were looking for this and were disappointed because I couldn't locate the product. Then I realized I should have checked online. This vendor was almost sold out but I managed to get enough bags to get me through 2012 holiday baking season! I am so thankful to have found a vendor who could easily fill the order! I will defintely use them again!\\n\",\n",
       " '5.0,great food for allergic dogs,\"This food solved some ongoing allergy problems in my dogs....  I went Nature\\'s Recipe for a few reasons 1- they never source from China, everything is USA, so I don\\'t have to worry about things like the scare over poisonous Chinese protein that happened a few years back,,, 2- no by products... this is the only brand I\\'ve found that doesn\\'t have a meat by product meal (by product means beaks, hooves, intestines and a long list of stuff that I would never feed to any animal, and has some proven harmful effects) 3- no corn or wheat...  a lot of dogs become allergic to corn and wheat over tie causing all kinds of health problems...  this is the only allergy food that Ive ever found that had no wheat or corn...  Great product\"\\n',\n",
       " '5.0,\"Incredibly fresh, flavorful coffee!\",\"This coffee has been around for so long, that I\\'ve lost track of when it was first produced.  Originally a product of the old A&P grocery stores, it has LONG had a reputation of just very amazing coffee at a very reasonable price.  I am SO very glad that I found it again at our local Kroger store, and since they kept selling out of it, all of the other grocery stores around here decided to stock it as well.  Even the variety store that begins and ends with a t.  All that to say that we buy this whole bean exclusively, grind it by the pot every morning, and just sit back and enjoy that incredible aroma and flavor that we have for most of our lives.  Our parents, our grandparents, and their parents all enjoyed this coffee.  It\\'s a very long family tradition, one that I certainly won\\'t be breaking anytime soon.  Just an amazing cup of coffee, EVERY time.  Highly, highly, highly recommend!\"\\n',\n",
       " '1.0,Avoid This Product,\"If you enjoy Virginia peanuts, then this is not for you. The nuts are small, broken the majority of times and just not good. These are clearly \\'seconds\\' that they would not include in their regular product. If you want a quality product, skip Virginia Diner and buy Royal Oak or The Peanut Shop of Williamsburg products.\"\\n',\n",
       " '1.0,Leaves and worms,\"To start with, I\\'m a big fan of goji berries. A friend recommended another brand that I faithfully purchased until it was no longer available. I just found out it\\'s name and packaging have changed and I\\'ve placed my order! In the interim, I purchased the Navitas brand and have been disappointed. There were a number of green and dried leaves in the bag, which I never experienced with the \"\"other\"\" brand. I was about two-thirds of the way through my current bag when I discovered a couple of lovely little worms floating in my tea! FYI, I usually start my morning off with a big cup of hot tea, sweetened with gojis. After seeing the additional protein in my tea I decided to check the remaining contents of the bag. I emptied it out onto a white paper towel and discovered a number of more white worms. The bag has been kept sealed and stored in a dry, cool area so I blame the product not how it was stored. I\\'m very disappointed and will not be purchasing any more products from this company.\"\\n',\n",
       " '5.0,Yum!,This is so good in smoothies and as a fruit dip. So much better than eating all the fat and sugar in regular peanut butter. I should have ordered two jars.\\n',\n",
       " '5.0,Adolph\\'s Beef Stew Mix,\"Have used this product for a few years for seasoning roast beef in roaster.  We enjoy the taste.  The stores in our area quit selling this, so I went online.  We bought 16 packs and will buy more if we run out.  Tried other brands, but did not like the taste as well.\"\\n',\n",
       " '1.0,Overpriced,\"I should\\'ve done my research first. Basically over a $1 per jar. I can get a WAY better deal by going to the store. Total ripoff!  I will continue to buy Beech Nut, just not from this person.\"\\n',\n",
       " '5.0,fantastic for weight loss,I have been having this product for lunch 5 times per week over the last six months and it it has contributed to my loosing 50 pds.\\n',\n",
       " '5.0,My picky dog loves it!,\"I have a Shih Tzu who is a very picky eater.  And I mean picky.  He will only eat certain treats, certain dog food and even certain table foods (I know, technically you are not suppose to feed table foods, but we do).  He LOVES Beneful dog food!!  It is, by far his preferred food - even over the more expensive brands.  We also have two large outside dogs - a Newfoundland and a mix breed who both gobble this stuff up like no tomorrow.  The soft chewy chunks add a nice combination for the dogs to enjoy, I think, and the flavor seems to appeal to them greatly.  The bag does state that it is made with real beef, however beef is like the 8th ingredient listed, so I am not sure exactly how much real beef is in the food.  Otherwise it does seem to be very healthy as all our dogs are very active, vital and healthy with shiny coats.  As a pet owner, I feel confident feeding this to my dogs as well. The ingredients are good - though,granted, not the best - ground yellow corn and chicken by-product meal being the first two in the ingredient list, but with table scraps they get enough real meat.  The price is reasonable and (I know, this should technically hold no bearing, but is something that I love) the zip close bag is wonderful.  Beneful is a dog food that we will be using for years and one that I highly recommend dog owners to try, if they haven\\'t already!\"\\n',\n",
       " '1.0,WARNING OUTRAGEOUS SHIPPING COST!!!,\"Buyers Beware, 1 lb. of Marzipan for $4.99.. Sounds great, right? What they neglect to tell you is that there is an additional $9 shipping charge!!!!!! Insane. If this company *ever* thinks they will get another dime from me, they are sorely mistaken. I placed my order along with some books, and Amazon does not itemize the shipping charges, only gives you one lump sum for all the items you order... At *no point* does Amazon or the company tell you what the shipping is for this item, unless it is the only item you order, and then only right before the final checkout. It was only after paying, when I received itemized email invoices that I was informed of the $9 shipping charge. What an incredibly shortsighted business practice. 1 lb Marzipan, for $16. No thank you.\"\\n',\n",
       " '1.0,\"Buy at store, if you must buy at all...\",\"First off - these don\\'t ship well.  When I recieved my package (even though it was clearly sealed and had not been opened) it looked like there were several cookies missing, there was a lot of empty space in the package allowing the cookies that were in there to slide all over, and several were broken as a result.  If you really REALLY want to try these, I would look for them at the local store rather than buy online and have them shipped.  That being said....I\\'m awfully glad I didn\\'t actually pay for these.  I\\'ve never been a fan of Chips Ahoy cookies - even as a kid.  They\\'re just so over-processed and artificial tasting.  I was hoping the extra blob of fudge in these might help make up for that, but not really.  I can\\'t justify buying awful-tasting cookies when it\\'s not that difficult to make your own, or even to buy from a local bakery which tastes a million times better and fresher.  I cannot recommend these - they were not packaged well, and did not taste any better than I expected.\"\\n',\n",
       " '1.0,\"Brown, not yellow or gold\",\"Well, I should have read the reviews because these are definitely not the bright yellow color as pictured.  They are a brownish yellow color and will be returned asap.\"\\n',\n",
       " '1.0,\"Not whitening, ok\",Would rather have the whitening gum. Falls apart when chewing I do not like it at all. Love the Harder Pieces Yummy on those!\\n',\n",
       " '5.0,Works well!,\"Every spring we get little black ants in the home.  It\\'s like a mini invasion in a couple of locations around the house.  Our first invasion this year came to my bathroom, and it wasn\\'t a huge problem.  I\\'d squish 30-50 ants per day, and really, my main complaint is that I don\\'t like little insects crawling on my stuff.  They\\'re small, but they aren\\'t clean, and there are lots of \\'em!  This product stopped the current invasion completely within three days.  When Hot Shot arrived on Wednesday, I placed a two-inch bead of gel along the crack they seemed to be using, wiped up a little residue, and found that the following day I only squished three ants, the next day squished one or two, and today I haven\\'t seen any.  The product may not work as well for all types of ant and insect problems, but for my situation, it\\'s been perfect.  I hope the active ingredients are stable, because for my use, the amount of bait provided will last a lifetime.\"\\n',\n",
       " '1.0,WARNING***COCA LEAF TEA WILL SHOW POSITIVE FOR COCAINE IN DRUG TEST***,\"My boyfriend just got fired from his job b/c he was required to do a drug test and it showed positive for cocaine.  He does not do cocaine.  The day of the test he did happen to have 2 cups of Delisse Mate De Coco and he didn\\'t think anything about it.  It\\'s actually sold in the US and being sold on sites like Amazon.com b/c these distributors are outside of the U.S., people have brought it back through customs with no issues (his mom brought it from Ecuador) and he has found scientific journals supporting that the coca leaf or the coca leaf teas that are sold or brought into the US are actually listed as \"\"illegal\"\" by the US Government.  Here is the link to the US Department of Justice CLEARLY stating that \"\"coca leaf\"\" is a schedule II substance and illegal.  [...]  DO NOT DRINK THIS TEA IF YOU ARE AT RISK FOR A DRUG TEST OR GETTING RANDOM DRUG TESTED AT WORK.  I\\'ve also seen reviews on other coca leaf teas where people have given warnings about losing a job opportunity.  If you did get fired, it\\'s really hard to fight b/c most will just see a positive drug test for cocaine. The only other ways to test positive for cocaine metabolites is if you actually did cocaine or have a major disease such as Kidney or Liver Disease.  If you never drank coca leaf, then I would suggest you go to a doctor to make sure you don\\'t have liver or kidney disease.  It would really suck to get fired for having a disease and having a disease that created cocaine metabolites would be something you could really fight legally, in my opinion, b/c at that point it\\'s wrongful termination.  In Texas if you get fired for a drug test even if you had no previous disciplinary action you can not receive unemployment.  He\\'s even spoken to an Employment Lawyer and they said it\\'ll be hard for him to fight in court. If you or anyone has questions on this, we both have been researching things and can direct you to some advice, discussion or articles on this matter, please feel free to email me at:  MusicRocksInAustin@gmail.com.\"\\n',\n",
       " '1.0,save your money,My two dogs showed absolutely no interest in the pee post. I think I would have gotten better results if I left a ten dollar bill out there for them to pee on!\\n',\n",
       " '5.0,Taste great!,These taste great! We can hardly keep them in the house more than a week. The flavor is great! Yummy!\\n',\n",
       " '5.0,Mellow/Yummy & Easy,\"Not like a typical instant or canned soup -- very much like served in a restaurant. Has a nice body/texture although this is a broth and therefore thin. Also it is a subtle/mild flavor, so might not be for everyone.  Using the 8-oz hot water and a touch of soy sauce (I\\'m a salt-loving person -- you might not want it), I find it perfect. Have served it to company with openness and no apologies for it being instant. I like to make food from scratch, but not every course every time, so this is a welcome addition to my pantry. And a pleasant in-between meal snack.\"\\n',\n",
       " '5.0,The best thing in the world for my son!,\"My son is allergic to wheat, corn, oats and rice. It is soooo hard to find anything that is Gluten Free and does not contain rice. So I was ecstatic to find this and immediately went home and made peanut butter cookies. They turned out great. I admit they have a bit of an aftertaste but it did not deter me from eating four cookies. My son loved them, and he is very picky. Even my daughter loved them and she can have regular grains. The recipes on the [...] website were very helpful too.\"\\n',\n",
       " '5.0,BEST formula--too bad not offered as a subscribe and save!!!,\"When I stopped breast feeding, I did a lot of research on what formula is best for my baby....and I found EB!!!  I appreciate it not only being organic but also free of genetically modified ingredients!  I just wish Amazon offered the \"\"bonus 20% more cans\"\" as a subscribe and save item.  They (the pack of 4 bonus cans) are cheaper than the single, regular cans (which ARE eligible for subscribe and save) so I just have to remind myself to re-order when getting low.  Worth the savings, though!!!\"\\n',\n",
       " '1.0,Disappointed also,\"We bought this for our Paramount 6 oz popper. We were disappointed by the taste. We\\'ve been using LouAna Coconut oil (~[..] from Walmart for 31.5 fl.oz.), Act II popcorn salt and O.R. kernels. After the first mouthfuls of Great Northern Popcorn, people were pushing their bowls aside---it tasted like salted cardboard. Never again---so disappointed.\"\\n',\n",
       " '5.0,Taste good!,\"The thing with rubs is if they don\\'t taste good out of the bottle, well don\\'t use it.  Most rubs arn\\'t much more than cheap spice and lots of salt.  These rubs all have a different taste and they all taste good!  I use them as seasoning on all kinds of food. They are more than just salty color.\"\\n',\n",
       " '5.0,My dog loves it,\"My dog loves this food and I don\\'t have to worry about what\\'s in it. With all of the bad dog food on the market, I\\'m glad there is a product like this one.\"\\n',\n",
       " ...]"
      ]
     },
     "execution_count": 35,
     "metadata": {},
     "output_type": "execute_result"
    }
   ],
   "source": [
    "foods"
   ]
  },
  {
   "cell_type": "code",
   "execution_count": 38,
   "metadata": {},
   "outputs": [
    {
     "data": {
      "text/plain": [
       "'score,summary,review\\n'"
      ]
     },
     "execution_count": 38,
     "metadata": {},
     "output_type": "execute_result"
    }
   ],
   "source": [
    "foods[0]"
   ]
  },
  {
   "cell_type": "code",
   "execution_count": 39,
   "metadata": {},
   "outputs": [],
   "source": [
    "with open(\"finefoods_sample.csv\", \"r\") as f:\n",
    "    foods = f.read()"
   ]
  },
  {
   "cell_type": "code",
   "execution_count": 42,
   "metadata": {},
   "outputs": [
    {
     "data": {
      "text/plain": [
       "'score,summary,review\\n1.0,Didn\\'t Grow. Went Moldy.,\"I\\'m not sure what I did wrong... but I watered it once and followed the directions and waited for it to grow and nothing happened. It simply got fuzzy, and didn\\'t sprout.  After reading the reviews (I wish I had ahead of my purchase) I see it turned moldy for other people as well.\"\\n1.0,\"Great food, but purchase from local store for A LOT less\",\"As 2 others have stated you can get the 32 packs from Wal-Mart for about $12-13. You also do have the variety of choosing different flavors and different textures like the pate or shreds. My older and younger cats would rather eat the shredded or meat bits then the mashed pate thing, and I think they don\\'t have such a strong smell as the pate does either!  If you do not mind paying double then go for it, but I am always searching for the lowest price and knowing that Amazon is usually cheaper thought I could find them on here, but that is obviously not true in this case! Better just to buy some when you\\'re at the store. At the store it is about .42 per can and at what I have been seeing on here it is about .78 -.80. So if you\\'re like me and don\\'t go to Wal-mart all that often or even if you do, best just to stock up on a few cases and save quite a bit of money!\"\\n1.0,\"Product is fine, dodgy seller?\",\"The Lavazza Gran Crema pods are fine if you\\'re not too fussed about good coffee, or if you\\'re using them for latte or other milk drinks. My main issue with these was how they came from the seller. The product description clearly states that the pods come in a \"\"20 pack box\"\" - this was important to me as I keep my pods on the bench in their display boxes. Instead, my 20 pods came loose in a zip lock bag and each one was clearly marked - not for individual sale. The seller obviously buys these in bulk and then on-sells them for a larger profit - very dodgy.\"\\n5.0,\"A sweet, healthy treat\",\"Low sugar, low fat, a measured amount, and sweet and chocolatey enough to satisfy my evening sweet tooth cravings.\"\\n1.0,NOT BERRY... or CHERRY  90% APPLE,AVOID unless you want apple...( product held 90% apple) with less then 14  bitty bits of cherry or berry. If you desire BERRY try the CRUNCHIES freeze dried truly all berry!( if ZERO stars were available this would be a zero...good idea if it really were CHERRY BERRY...so OK 1 star)\\n5.0,Great product,\"Old Wessex Scottish style porridge oats has been my favorite oatmeal since I first tried it 9 years ago. It does not have the gummy consistency of other oatmeal and I prefer its flavor to others.  I\\'ve been eating oatmeal for 60 years now and I think I can speak as \"\"one who knows good oats.\"\" These are good oats. Also, buying it as a club member makes my favorite oatmeal even more affordable.  I used to drive 80 miles to stock up.  Amazon sure has made my shopping a lot easier.\"\\n5.0,Wife loves this tea,\"I used to drink chamomile tea back when I was child and just needed something to settle my stomach. The blended teas of today just don\\'t match that wonderful tea of yesteryear. However, my wife loves the honey, vanilla, chamomile combo. Like other teas we\\'ve grown to enjoy, this one is getting increasingly harder to find. Since I was ready to reorder my Stash brand Double Bergamot Earl Grey tea, it made sense to buy this at the same time. Surprisingly, even though both were ordered at the same time, this came separately even though both are being sold & shipped by Amazon. I am still waiting for the Stash tea.\"\\n1.0,Not for true grits lovers,\"The dry product is extremely fine, almost powdery. The cooked product is mushy and doesn\\'t even taste like grits to me. I like the coarse stone ground grits which haven\\'t been de-germed. Regular white grits from the grocery store is preferable to this product. I will donate the three unopened boxes to our local food bank.\"\\n5.0,Heather In Michigan,\"Everyone ate this pizza as if nothing were different from regular pizza! (and I make a good scratch crust, if I do say so.) I threw some extra spices in the sauce to cover up any potential funny taste, but it wsn\\'t needed! The edges of the crust were delicious, as well! The crust was even crispy on the botton thanks to the pre-cooking! Thank goodness we dont have to adjust our pizza eating now that we have a GF eater in the house!\"\\n5.0,Excellent Sweet Taste,\"This is NOT a hot (hot) sauce that is cruddy on flavor for the sake of heat.  This is a hot (hot) sweet BBQ sauce. I love adding this to anything with BBQ.  From a heat standpoint, I am a \"\"huge\"\" fan of Tabasco. I can\\'t eat pasta, salsa, bloody marys, etc... without it.  This is a lot hotter than Tabasco, but a lot sweeter. I now keep Tabasco and Bone Suckin Sauce-Habanero on hand and I am a very happy dude.\"\\n5.0,Unique savory flavor,I\\'ve tried all the vegetarian Taste of Thai boxed noodle products and all the vegetarian Annie Chun noodle bowls. This is by far the best and one of the few in which the sauce combines with the noodles to create a unique flavor'"
      ]
     },
     "execution_count": 42,
     "metadata": {},
     "output_type": "execute_result"
    }
   ],
   "source": [
    "foods[:5000]"
   ]
  },
  {
   "cell_type": "markdown",
   "metadata": {},
   "source": [
    "**CSV** "
   ]
  },
  {
   "cell_type": "code",
   "execution_count": 43,
   "metadata": {},
   "outputs": [],
   "source": [
    "import pandas as pd"
   ]
  },
  {
   "cell_type": "code",
   "execution_count": 44,
   "metadata": {
    "scrolled": true
   },
   "outputs": [],
   "source": [
    "df = pd.read_csv(\"finefoods_sample.csv\")"
   ]
  },
  {
   "cell_type": "code",
   "execution_count": 45,
   "metadata": {},
   "outputs": [
    {
     "data": {
      "text/html": [
       "<div>\n",
       "<style scoped>\n",
       "    .dataframe tbody tr th:only-of-type {\n",
       "        vertical-align: middle;\n",
       "    }\n",
       "\n",
       "    .dataframe tbody tr th {\n",
       "        vertical-align: top;\n",
       "    }\n",
       "\n",
       "    .dataframe thead th {\n",
       "        text-align: right;\n",
       "    }\n",
       "</style>\n",
       "<table border=\"1\" class=\"dataframe\">\n",
       "  <thead>\n",
       "    <tr style=\"text-align: right;\">\n",
       "      <th></th>\n",
       "      <th>score</th>\n",
       "      <th>summary</th>\n",
       "      <th>review</th>\n",
       "    </tr>\n",
       "  </thead>\n",
       "  <tbody>\n",
       "    <tr>\n",
       "      <th>0</th>\n",
       "      <td>1.0</td>\n",
       "      <td>Didn't Grow. Went Moldy.</td>\n",
       "      <td>I'm not sure what I did wrong... but I watered...</td>\n",
       "    </tr>\n",
       "    <tr>\n",
       "      <th>1</th>\n",
       "      <td>1.0</td>\n",
       "      <td>Great food, but purchase from local store for ...</td>\n",
       "      <td>As 2 others have stated you can get the 32 pac...</td>\n",
       "    </tr>\n",
       "    <tr>\n",
       "      <th>2</th>\n",
       "      <td>1.0</td>\n",
       "      <td>Product is fine, dodgy seller?</td>\n",
       "      <td>The Lavazza Gran Crema pods are fine if you're...</td>\n",
       "    </tr>\n",
       "    <tr>\n",
       "      <th>3</th>\n",
       "      <td>5.0</td>\n",
       "      <td>A sweet, healthy treat</td>\n",
       "      <td>Low sugar, low fat, a measured amount, and swe...</td>\n",
       "    </tr>\n",
       "    <tr>\n",
       "      <th>4</th>\n",
       "      <td>1.0</td>\n",
       "      <td>NOT BERRY... or CHERRY  90% APPLE</td>\n",
       "      <td>AVOID unless you want apple...( product held 9...</td>\n",
       "    </tr>\n",
       "  </tbody>\n",
       "</table>\n",
       "</div>"
      ],
      "text/plain": [
       "   score                                            summary  \\\n",
       "0    1.0                           Didn't Grow. Went Moldy.   \n",
       "1    1.0  Great food, but purchase from local store for ...   \n",
       "2    1.0                     Product is fine, dodgy seller?   \n",
       "3    5.0                             A sweet, healthy treat   \n",
       "4    1.0                  NOT BERRY... or CHERRY  90% APPLE   \n",
       "\n",
       "                                              review  \n",
       "0  I'm not sure what I did wrong... but I watered...  \n",
       "1  As 2 others have stated you can get the 32 pac...  \n",
       "2  The Lavazza Gran Crema pods are fine if you're...  \n",
       "3  Low sugar, low fat, a measured amount, and swe...  \n",
       "4  AVOID unless you want apple...( product held 9...  "
      ]
     },
     "execution_count": 45,
     "metadata": {},
     "output_type": "execute_result"
    }
   ],
   "source": [
    "df.head()"
   ]
  },
  {
   "cell_type": "code",
   "execution_count": 46,
   "metadata": {},
   "outputs": [],
   "source": [
    "summary_raw = df[\"summary\"].values.tolist()"
   ]
  },
  {
   "cell_type": "code",
   "execution_count": 47,
   "metadata": {},
   "outputs": [
    {
     "data": {
      "text/plain": [
       "[\"Didn't Grow. Went Moldy.\",\n",
       " 'Great food, but purchase from local store for A LOT less',\n",
       " 'Product is fine, dodgy seller?',\n",
       " 'A sweet, healthy treat',\n",
       " 'NOT BERRY... or CHERRY  90% APPLE']"
      ]
     },
     "execution_count": 47,
     "metadata": {},
     "output_type": "execute_result"
    }
   ],
   "source": [
    "summary_raw[:5]"
   ]
  },
  {
   "cell_type": "code",
   "execution_count": 48,
   "metadata": {},
   "outputs": [],
   "source": [
    "review_raw = df[\"review\"].values.tolist()"
   ]
  },
  {
   "cell_type": "code",
   "execution_count": 49,
   "metadata": {},
   "outputs": [
    {
     "data": {
      "text/plain": [
       "[\"I'm not sure what I did wrong... but I watered it once and followed the directions and waited for it to grow and nothing happened. It simply got fuzzy, and didn't sprout.  After reading the reviews (I wish I had ahead of my purchase) I see it turned moldy for other people as well.\",\n",
       " \"As 2 others have stated you can get the 32 packs from Wal-Mart for about $12-13. You also do have the variety of choosing different flavors and different textures like the pate or shreds. My older and younger cats would rather eat the shredded or meat bits then the mashed pate thing, and I think they don't have such a strong smell as the pate does either!  If you do not mind paying double then go for it, but I am always searching for the lowest price and knowing that Amazon is usually cheaper thought I could find them on here, but that is obviously not true in this case! Better just to buy some when you're at the store. At the store it is about .42 per can and at what I have been seeing on here it is about .78 -.80. So if you're like me and don't go to Wal-mart all that often or even if you do, best just to stock up on a few cases and save quite a bit of money!\",\n",
       " 'The Lavazza Gran Crema pods are fine if you\\'re not too fussed about good coffee, or if you\\'re using them for latte or other milk drinks. My main issue with these was how they came from the seller. The product description clearly states that the pods come in a \"20 pack box\" - this was important to me as I keep my pods on the bench in their display boxes. Instead, my 20 pods came loose in a zip lock bag and each one was clearly marked - not for individual sale. The seller obviously buys these in bulk and then on-sells them for a larger profit - very dodgy.',\n",
       " 'Low sugar, low fat, a measured amount, and sweet and chocolatey enough to satisfy my evening sweet tooth cravings.',\n",
       " 'AVOID unless you want apple...( product held 90% apple) with less then 14  bitty bits of cherry or berry. If you desire BERRY try the CRUNCHIES freeze dried truly all berry!( if ZERO stars were available this would be a zero...good idea if it really were CHERRY BERRY...so OK 1 star)']"
      ]
     },
     "execution_count": 49,
     "metadata": {},
     "output_type": "execute_result"
    }
   ],
   "source": [
    "review_raw[:5]"
   ]
  },
  {
   "cell_type": "code",
   "execution_count": 50,
   "metadata": {},
   "outputs": [
    {
     "data": {
      "text/plain": [
       "[1.0, 1.0, 1.0, 5.0, 1.0]"
      ]
     },
     "execution_count": 50,
     "metadata": {},
     "output_type": "execute_result"
    }
   ],
   "source": [
    "score = df[\"score\"].values.tolist()\n",
    "score[:5]"
   ]
  },
  {
   "cell_type": "markdown",
   "metadata": {},
   "source": [
    "----\n",
    "## Tokenizacja tekstu\n",
    "\n",
    "**Tokenizacja** – proces dzielenia tekstu na mniejsze komponenty. Do najpopularniejszych  form tokenizacji należy podział tekstu na zdania oraz podział na słowa. W wyniku tokenizacji powstają tokeny."
   ]
  },
  {
   "cell_type": "code",
   "execution_count": 51,
   "metadata": {},
   "outputs": [
    {
     "data": {
      "text/plain": [
       "\"I'm not sure what I did wrong... but I watered it once and followed the directions and waited for it to grow and nothing happened. It simply got fuzzy, and didn't sprout.  After reading the reviews (I wish I had ahead of my purchase) I see it turned moldy for other people as well.\""
      ]
     },
     "execution_count": 51,
     "metadata": {},
     "output_type": "execute_result"
    }
   ],
   "source": [
    "example_sentence = review_raw[0]\n",
    "example_sentence"
   ]
  },
  {
   "cell_type": "markdown",
   "metadata": {},
   "source": [
    "#### split"
   ]
  },
  {
   "cell_type": "code",
   "execution_count": 52,
   "metadata": {},
   "outputs": [],
   "source": [
    "word_tokens = example_sentence.split()"
   ]
  },
  {
   "cell_type": "code",
   "execution_count": 53,
   "metadata": {},
   "outputs": [
    {
     "name": "stdout",
     "output_type": "stream",
     "text": [
      "Liczba tokenów: 54\n",
      "Tokeny:\n",
      "[\"I'm\", 'not', 'sure', 'what', 'I', 'did', 'wrong...', 'but', 'I', 'watered', 'it', 'once', 'and', 'followed', 'the', 'directions', 'and', 'waited', 'for', 'it', 'to', 'grow', 'and', 'nothing', 'happened.', 'It', 'simply', 'got', 'fuzzy,', 'and', \"didn't\", 'sprout.', 'After', 'reading', 'the', 'reviews', '(I', 'wish', 'I', 'had', 'ahead', 'of', 'my', 'purchase)', 'I', 'see', 'it', 'turned', 'moldy', 'for', 'other', 'people', 'as', 'well.']\n"
     ]
    }
   ],
   "source": [
    "print(\"Liczba tokenów: {}\".format(len(word_tokens)))\n",
    "print(\"Tokeny:\")\n",
    "print(word_tokens)"
   ]
  },
  {
   "cell_type": "markdown",
   "metadata": {},
   "source": [
    "#### re.findall"
   ]
  },
  {
   "cell_type": "code",
   "execution_count": 54,
   "metadata": {},
   "outputs": [],
   "source": [
    "word_tokens = re.findall(\"[a-zA-Z']+\", example_sentence)"
   ]
  },
  {
   "cell_type": "code",
   "execution_count": 55,
   "metadata": {},
   "outputs": [
    {
     "name": "stdout",
     "output_type": "stream",
     "text": [
      "Liczba tokenów: 54\n",
      "Tokeny:\n",
      "[\"I'm\", 'not', 'sure', 'what', 'I', 'did', 'wrong', 'but', 'I', 'watered', 'it', 'once', 'and', 'followed', 'the', 'directions', 'and', 'waited', 'for', 'it', 'to', 'grow', 'and', 'nothing', 'happened', 'It', 'simply', 'got', 'fuzzy', 'and', \"didn't\", 'sprout', 'After', 'reading', 'the', 'reviews', 'I', 'wish', 'I', 'had', 'ahead', 'of', 'my', 'purchase', 'I', 'see', 'it', 'turned', 'moldy', 'for', 'other', 'people', 'as', 'well']\n"
     ]
    }
   ],
   "source": [
    "print(\"Liczba tokenów: {}\".format(len(word_tokens)))\n",
    "print(\"Tokeny:\")\n",
    "print(word_tokens)"
   ]
  },
  {
   "cell_type": "markdown",
   "metadata": {},
   "source": [
    "**ZADANIE**\n",
    "> 1. Wykorzystując re.findall podziel wszystkie podsumowania (`summary_raw`) na tokeny - słowa mają być zapisane małymi literami, wynik zapisz jako `summary_tokens`\n",
    "> 2. Wykonaj to samo dla recenzji (`review_raw`), wynik zapisz jako `review_tokens`"
   ]
  },
  {
   "cell_type": "code",
   "execution_count": 63,
   "metadata": {},
   "outputs": [],
   "source": [
    "summary_tokens = [re.findall(\"[a-zA-Z']+\", x.lower()) for x in summary_raw]"
   ]
  },
  {
   "cell_type": "code",
   "execution_count": 60,
   "metadata": {},
   "outputs": [],
   "source": [
    "review_tokens = [re.findall(\"[a-zA-Z']+\", x.lower()) for x in review_raw]"
   ]
  },
  {
   "cell_type": "markdown",
   "metadata": {},
   "source": [
    "----\n",
    "## Usuwanie stopwords'ów\n",
    "\n",
    "**Stopwords** - lista słów mało istotnych, odrzucanych w celu redukcji wymiarowości zbiorów"
   ]
  },
  {
   "cell_type": "code",
   "execution_count": 58,
   "metadata": {},
   "outputs": [],
   "source": [
    "from collections import Counter"
   ]
  },
  {
   "cell_type": "code",
   "execution_count": 61,
   "metadata": {},
   "outputs": [],
   "source": [
    "words = Counter([x for y in review_tokens for x in y])"
   ]
  },
  {
   "cell_type": "code",
   "execution_count": 62,
   "metadata": {},
   "outputs": [
    {
     "name": "stdout",
     "output_type": "stream",
     "text": [
      "liczba unikalnych słów: 18813\n"
     ]
    }
   ],
   "source": [
    "print(f\"liczba unikalnych słów: {len(words)}\")"
   ]
  },
  {
   "cell_type": "code",
   "execution_count": 64,
   "metadata": {},
   "outputs": [
    {
     "name": "stdout",
     "output_type": "stream",
     "text": [
      "10 najpopularniejszych słów:\n",
      "('the', 26083)\n",
      "('i', 21947)\n",
      "('and', 17426)\n",
      "('a', 14916)\n",
      "('to', 13922)\n",
      "('it', 13162)\n",
      "('of', 10771)\n",
      "('this', 10060)\n",
      "('is', 9495)\n",
      "('in', 7513)\n"
     ]
    }
   ],
   "source": [
    "print(\"10 najpopularniejszych słów:\")\n",
    "for x in words.most_common(10):\n",
    "    print(x)"
   ]
  },
  {
   "cell_type": "code",
   "execution_count": 66,
   "metadata": {},
   "outputs": [],
   "source": [
    "from stopwords import STOPWORDS"
   ]
  },
  {
   "cell_type": "code",
   "execution_count": 67,
   "metadata": {
    "collapsed": true,
    "jupyter": {
     "outputs_hidden": true
    }
   },
   "outputs": [
    {
     "data": {
      "text/plain": [
       "{'a',\n",
       " 'about',\n",
       " 'above',\n",
       " 'after',\n",
       " 'again',\n",
       " 'against',\n",
       " 'ain',\n",
       " 'all',\n",
       " 'am',\n",
       " 'an',\n",
       " 'and',\n",
       " 'any',\n",
       " 'are',\n",
       " 'aren',\n",
       " \"aren't\",\n",
       " 'as',\n",
       " 'at',\n",
       " 'be',\n",
       " 'because',\n",
       " 'been',\n",
       " 'before',\n",
       " 'being',\n",
       " 'below',\n",
       " 'between',\n",
       " 'both',\n",
       " 'but',\n",
       " 'by',\n",
       " 'can',\n",
       " 'couldn',\n",
       " \"couldn't\",\n",
       " 'd',\n",
       " 'did',\n",
       " 'didn',\n",
       " \"didn't\",\n",
       " 'do',\n",
       " 'does',\n",
       " 'doesn',\n",
       " \"doesn't\",\n",
       " 'doing',\n",
       " 'don',\n",
       " \"don't\",\n",
       " 'down',\n",
       " 'during',\n",
       " 'each',\n",
       " 'few',\n",
       " 'for',\n",
       " 'from',\n",
       " 'further',\n",
       " 'had',\n",
       " 'hadn',\n",
       " \"hadn't\",\n",
       " 'has',\n",
       " 'hasn',\n",
       " \"hasn't\",\n",
       " 'have',\n",
       " 'haven',\n",
       " \"haven't\",\n",
       " 'having',\n",
       " 'he',\n",
       " 'her',\n",
       " 'here',\n",
       " 'hers',\n",
       " 'herself',\n",
       " 'him',\n",
       " 'himself',\n",
       " 'his',\n",
       " 'how',\n",
       " 'i',\n",
       " \"i'm\",\n",
       " 'if',\n",
       " 'in',\n",
       " 'into',\n",
       " 'is',\n",
       " 'isn',\n",
       " \"isn't\",\n",
       " 'it',\n",
       " \"it's\",\n",
       " 'its',\n",
       " 'itself',\n",
       " 'just',\n",
       " 'll',\n",
       " 'm',\n",
       " 'ma',\n",
       " 'me',\n",
       " 'mightn',\n",
       " \"mightn't\",\n",
       " 'more',\n",
       " 'most',\n",
       " 'mustn',\n",
       " \"mustn't\",\n",
       " 'my',\n",
       " 'myself',\n",
       " 'needn',\n",
       " \"needn't\",\n",
       " 'no',\n",
       " 'nor',\n",
       " 'not',\n",
       " 'now',\n",
       " 'o',\n",
       " 'of',\n",
       " 'off',\n",
       " 'on',\n",
       " 'once',\n",
       " 'only',\n",
       " 'or',\n",
       " 'other',\n",
       " 'our',\n",
       " 'ours',\n",
       " 'ourselves',\n",
       " 'out',\n",
       " 'over',\n",
       " 'own',\n",
       " 're',\n",
       " 's',\n",
       " 'same',\n",
       " 'shan',\n",
       " \"shan't\",\n",
       " 'she',\n",
       " \"she's\",\n",
       " 'should',\n",
       " \"should've\",\n",
       " 'shouldn',\n",
       " \"shouldn't\",\n",
       " 'so',\n",
       " 'some',\n",
       " 'such',\n",
       " 't',\n",
       " 'than',\n",
       " 'that',\n",
       " \"that'll\",\n",
       " 'the',\n",
       " 'their',\n",
       " 'theirs',\n",
       " 'them',\n",
       " 'themselves',\n",
       " 'then',\n",
       " 'there',\n",
       " 'these',\n",
       " 'they',\n",
       " 'this',\n",
       " 'those',\n",
       " 'through',\n",
       " 'to',\n",
       " 'too',\n",
       " 'under',\n",
       " 'until',\n",
       " 'up',\n",
       " 've',\n",
       " 'very',\n",
       " 'was',\n",
       " 'wasn',\n",
       " \"wasn't\",\n",
       " 'we',\n",
       " 'were',\n",
       " 'weren',\n",
       " \"weren't\",\n",
       " 'what',\n",
       " 'when',\n",
       " 'where',\n",
       " 'which',\n",
       " 'while',\n",
       " 'who',\n",
       " 'whom',\n",
       " 'why',\n",
       " 'will',\n",
       " 'with',\n",
       " 'won',\n",
       " \"won't\",\n",
       " 'wouldn',\n",
       " \"wouldn't\",\n",
       " 'y',\n",
       " 'you',\n",
       " \"you'd\",\n",
       " \"you'll\",\n",
       " \"you're\",\n",
       " \"you've\",\n",
       " 'your',\n",
       " 'yours',\n",
       " 'yourself',\n",
       " 'yourselves'}"
      ]
     },
     "execution_count": 67,
     "metadata": {},
     "output_type": "execute_result"
    }
   ],
   "source": [
    "STOPWORDS"
   ]
  },
  {
   "cell_type": "code",
   "execution_count": 68,
   "metadata": {
    "scrolled": true
   },
   "outputs": [
    {
     "data": {
      "text/plain": [
       "[\"i'm\",\n",
       " 'not',\n",
       " 'sure',\n",
       " 'what',\n",
       " 'i',\n",
       " 'did',\n",
       " 'wrong',\n",
       " 'but',\n",
       " 'i',\n",
       " 'watered',\n",
       " 'it',\n",
       " 'once',\n",
       " 'and',\n",
       " 'followed',\n",
       " 'the',\n",
       " 'directions',\n",
       " 'and',\n",
       " 'waited',\n",
       " 'for',\n",
       " 'it',\n",
       " 'to',\n",
       " 'grow',\n",
       " 'and',\n",
       " 'nothing',\n",
       " 'happened',\n",
       " 'it',\n",
       " 'simply',\n",
       " 'got',\n",
       " 'fuzzy',\n",
       " 'and',\n",
       " \"didn't\",\n",
       " 'sprout',\n",
       " 'after',\n",
       " 'reading',\n",
       " 'the',\n",
       " 'reviews',\n",
       " 'i',\n",
       " 'wish',\n",
       " 'i',\n",
       " 'had',\n",
       " 'ahead',\n",
       " 'of',\n",
       " 'my',\n",
       " 'purchase',\n",
       " 'i',\n",
       " 'see',\n",
       " 'it',\n",
       " 'turned',\n",
       " 'moldy',\n",
       " 'for',\n",
       " 'other',\n",
       " 'people',\n",
       " 'as',\n",
       " 'well']"
      ]
     },
     "execution_count": 68,
     "metadata": {},
     "output_type": "execute_result"
    }
   ],
   "source": [
    "example = review_tokens[0]\n",
    "example"
   ]
  },
  {
   "cell_type": "code",
   "execution_count": 69,
   "metadata": {},
   "outputs": [
    {
     "data": {
      "text/plain": [
       "['sure',\n",
       " 'wrong',\n",
       " 'watered',\n",
       " 'followed',\n",
       " 'directions',\n",
       " 'waited',\n",
       " 'grow',\n",
       " 'nothing',\n",
       " 'happened',\n",
       " 'simply',\n",
       " 'got',\n",
       " 'fuzzy',\n",
       " 'sprout',\n",
       " 'reading',\n",
       " 'reviews',\n",
       " 'wish',\n",
       " 'ahead',\n",
       " 'purchase',\n",
       " 'see',\n",
       " 'turned',\n",
       " 'moldy',\n",
       " 'people',\n",
       " 'well']"
      ]
     },
     "execution_count": 69,
     "metadata": {},
     "output_type": "execute_result"
    }
   ],
   "source": [
    "[x for x in example if x not in STOPWORDS]"
   ]
  },
  {
   "cell_type": "code",
   "execution_count": 70,
   "metadata": {},
   "outputs": [],
   "source": [
    "def rm_stopwords(tokens, stopwords=STOPWORDS):\n",
    "    return [x for x in tokens if x not in stopwords]"
   ]
  },
  {
   "cell_type": "code",
   "execution_count": 71,
   "metadata": {},
   "outputs": [
    {
     "data": {
      "text/plain": [
       "['sure',\n",
       " 'wrong',\n",
       " 'watered',\n",
       " 'followed',\n",
       " 'directions',\n",
       " 'waited',\n",
       " 'grow',\n",
       " 'nothing',\n",
       " 'happened',\n",
       " 'simply',\n",
       " 'got',\n",
       " 'fuzzy',\n",
       " 'sprout',\n",
       " 'reading',\n",
       " 'reviews',\n",
       " 'wish',\n",
       " 'ahead',\n",
       " 'purchase',\n",
       " 'see',\n",
       " 'turned',\n",
       " 'moldy',\n",
       " 'people',\n",
       " 'well']"
      ]
     },
     "execution_count": 71,
     "metadata": {},
     "output_type": "execute_result"
    }
   ],
   "source": [
    "rm_stopwords(example)"
   ]
  },
  {
   "cell_type": "markdown",
   "metadata": {},
   "source": [
    "**ZADANIE**\n",
    "> 1. Wykorzystując rm_stopwords usuń stopwordsy ze wszystkich podsumowań (`summary_tokens`), wynik zapisz jako `summary_nostop`\n",
    "> 2. Wykonaj to samo dla recenzji (`review_tokens`), wynik zapisz jako `review_nostop`"
   ]
  },
  {
   "cell_type": "code",
   "execution_count": null,
   "metadata": {},
   "outputs": [],
   "source": []
  },
  {
   "cell_type": "code",
   "execution_count": null,
   "metadata": {},
   "outputs": [],
   "source": []
  },
  {
   "cell_type": "markdown",
   "metadata": {},
   "source": [
    "-----\n",
    "## Stemming\n",
    "\n",
    "**Stemming** – proces usuwania ze słowa końcówki fleksyjnej w celu pozostawienia jedynie tematu wyrazu (rdzenia, stemu). Rdzeń nie musi być słowem. Najpopularniejszy stemmer to stemmer Portera."
   ]
  },
  {
   "cell_type": "code",
   "execution_count": null,
   "metadata": {},
   "outputs": [],
   "source": [
    "to_stem = [\"working\", \"worked\", \"works\", \"rune\", \"ran\", \"running\", \"lying\"]"
   ]
  },
  {
   "cell_type": "markdown",
   "metadata": {},
   "source": [
    "**Porter stemmer**"
   ]
  },
  {
   "cell_type": "code",
   "execution_count": null,
   "metadata": {},
   "outputs": [],
   "source": [
    "from nltk.stem import PorterStemmer"
   ]
  },
  {
   "cell_type": "code",
   "execution_count": null,
   "metadata": {},
   "outputs": [],
   "source": [
    "ps = PorterStemmer()"
   ]
  },
  {
   "cell_type": "code",
   "execution_count": null,
   "metadata": {},
   "outputs": [],
   "source": [
    "for x in to_stem:\n",
    "    print(ps.stem(x))"
   ]
  },
  {
   "cell_type": "markdown",
   "metadata": {},
   "source": [
    "#### Regexp stemmer"
   ]
  },
  {
   "cell_type": "code",
   "execution_count": null,
   "metadata": {},
   "outputs": [],
   "source": [
    "from nltk.stem import RegexpStemmer"
   ]
  },
  {
   "cell_type": "code",
   "execution_count": null,
   "metadata": {},
   "outputs": [],
   "source": [
    "rs = RegexpStemmer(\"ing$|s$|ed$\", 4)"
   ]
  },
  {
   "cell_type": "code",
   "execution_count": null,
   "metadata": {},
   "outputs": [],
   "source": [
    "for x in to_stem:\n",
    "    print(rs.stem(x))"
   ]
  },
  {
   "cell_type": "code",
   "execution_count": null,
   "metadata": {},
   "outputs": [],
   "source": [
    "def stem(tokens, stemmer=ps):\n",
    "    return [stemmer.stem(x) for x in tokens]"
   ]
  },
  {
   "cell_type": "markdown",
   "metadata": {},
   "source": [
    "**ZADANIE**\n",
    "> 1. Wykorzystując stem przeprowadź stemming wszystkich podsumowań (`summary_nostop`), wynik zapisz jako `summary`\n",
    "> 2. Wykonaj to samo dla recenzji (`review_nostop`), wynik zapisz jako `review`"
   ]
  },
  {
   "cell_type": "code",
   "execution_count": null,
   "metadata": {},
   "outputs": [],
   "source": []
  },
  {
   "cell_type": "code",
   "execution_count": null,
   "metadata": {},
   "outputs": [],
   "source": []
  },
  {
   "cell_type": "markdown",
   "metadata": {},
   "source": [
    "----"
   ]
  },
  {
   "cell_type": "code",
   "execution_count": null,
   "metadata": {},
   "outputs": [],
   "source": [
    "words = Counter([x for y in review for x in y])"
   ]
  },
  {
   "cell_type": "code",
   "execution_count": null,
   "metadata": {},
   "outputs": [],
   "source": [
    "print(f\"liczba unikalnych słów: {len(words)}\")"
   ]
  },
  {
   "cell_type": "code",
   "execution_count": null,
   "metadata": {},
   "outputs": [],
   "source": [
    "print(\"10 najpopularniejszych słów:\")\n",
    "for x in words.most_common(10):\n",
    "    print(x)"
   ]
  },
  {
   "cell_type": "markdown",
   "metadata": {},
   "source": [
    "-----\n",
    "## Document-term matrix\n",
    "\n",
    "**Dokument-term matrix/term-document matrix** - macierz opisująca częstość wystąpień elementów (tokenów) w kolekcji dokumentów. W dtm wiersze odpowiadają dokumentom a kolumny tokenom, natomiast w tdm jest odwrotnie."
   ]
  },
  {
   "cell_type": "code",
   "execution_count": null,
   "metadata": {},
   "outputs": [],
   "source": [
    "from sklearn.feature_extraction.text import CountVectorizer, TfidfVectorizer\n",
    "import pandas as pd\n",
    "import numpy as np"
   ]
  },
  {
   "cell_type": "code",
   "execution_count": null,
   "metadata": {},
   "outputs": [],
   "source": [
    "to_dtm = summary[:5]\n",
    "to_dtm"
   ]
  },
  {
   "cell_type": "markdown",
   "metadata": {},
   "source": [
    "### BoW\n",
    "\n",
    "**Bag of Words** - popularna reprezentacja tekstu pomijająca informacje o strukturze i kolejności słów (tokenów), zachowująca natomiast informacje o częstości ich występowania."
   ]
  },
  {
   "cell_type": "code",
   "execution_count": null,
   "metadata": {},
   "outputs": [],
   "source": [
    "def identity(x):\n",
    "    return x"
   ]
  },
  {
   "cell_type": "code",
   "execution_count": null,
   "metadata": {},
   "outputs": [],
   "source": [
    "bow_vectorizer = CountVectorizer(preprocessor=identity, tokenizer=identity)\n",
    "bow_dtm = bow_vectorizer.fit_transform(to_dtm)\n",
    "bow_dtm.todense()"
   ]
  },
  {
   "cell_type": "code",
   "execution_count": null,
   "metadata": {},
   "outputs": [],
   "source": [
    "pd.DataFrame(bow_dtm.todense(), columns=bow_vectorizer.get_feature_names())"
   ]
  },
  {
   "cell_type": "markdown",
   "metadata": {},
   "source": [
    "### tfidf\n",
    "\n",
    "**tfidf** (term frequency inverse document frequency) - często wykorzystywana metoda obliczania wagi słów w oparciu o liczbę ich wystąpień w dokumencie i całym korpusie dokumentów."
   ]
  },
  {
   "cell_type": "markdown",
   "metadata": {},
   "source": [
    "**tf** - term frequency -> BoW <br>\n",
    "**idf** - inverse document frequency -> $idf(t) = 1 + log(\\frac{1 + n_{doc}}{1 + df(t)})$"
   ]
  },
  {
   "cell_type": "code",
   "execution_count": null,
   "metadata": {},
   "outputs": [],
   "source": [
    "tfidf_vectorizer = TfidfVectorizer(preprocessor=identity, tokenizer=identity)\n",
    "tfidf_dtm = tfidf_vectorizer.fit_transform(to_dtm)\n",
    "tfidf_dtm.todense()"
   ]
  },
  {
   "cell_type": "code",
   "execution_count": null,
   "metadata": {},
   "outputs": [],
   "source": [
    "pd.DataFrame(tfidf_dtm.todense(), columns=tfidf_vectorizer.get_feature_names())"
   ]
  },
  {
   "cell_type": "markdown",
   "metadata": {},
   "source": [
    "**ZADANIE**\n",
    "> Na podstawie `dtm_corpus` stwórz macierz dtm bow i wyświetl ją w postaci DataFrame'u"
   ]
  },
  {
   "cell_type": "code",
   "execution_count": null,
   "metadata": {
    "scrolled": true
   },
   "outputs": [],
   "source": [
    "dtm_corpus = summary_raw[:5]\n",
    "dtm_corpus"
   ]
  },
  {
   "cell_type": "code",
   "execution_count": null,
   "metadata": {},
   "outputs": [],
   "source": []
  },
  {
   "cell_type": "code",
   "execution_count": null,
   "metadata": {},
   "outputs": [],
   "source": []
  },
  {
   "cell_type": "markdown",
   "metadata": {},
   "source": [
    "-----\n",
    "## Klasyfikacja\n",
    "\n",
    "🍎 -> jabłko  \n",
    "🍐 -> nie-jabłko  \n",
    "🐢 -> nie-jabłko  \n",
    "🍎 -> jabłko"
   ]
  },
  {
   "cell_type": "markdown",
   "metadata": {},
   "source": [
    "### Podział na zbiór treningowy i testowy"
   ]
  },
  {
   "cell_type": "code",
   "execution_count": null,
   "metadata": {},
   "outputs": [],
   "source": [
    "from sklearn.model_selection import train_test_split"
   ]
  },
  {
   "cell_type": "code",
   "execution_count": null,
   "metadata": {},
   "outputs": [],
   "source": [
    "len(score)"
   ]
  },
  {
   "cell_type": "code",
   "execution_count": null,
   "metadata": {},
   "outputs": [],
   "source": [
    "train_review, test_review, train_labels, test_labels = train_test_split(review, score, \n",
    "                                                                        test_size=0.25, random_state=42)"
   ]
  },
  {
   "cell_type": "code",
   "execution_count": null,
   "metadata": {},
   "outputs": [],
   "source": [
    "len(train_review), len(test_review)"
   ]
  },
  {
   "cell_type": "code",
   "execution_count": null,
   "metadata": {},
   "outputs": [],
   "source": [
    "len(train_labels), len(test_labels)"
   ]
  },
  {
   "cell_type": "markdown",
   "metadata": {},
   "source": [
    "### Przygotowanie zbioru treningowego"
   ]
  },
  {
   "cell_type": "code",
   "execution_count": null,
   "metadata": {},
   "outputs": [],
   "source": [
    "c_vect = CountVectorizer(preprocessor=identity, tokenizer=identity)\n",
    "train_bow = c_vect.fit_transform(train_review)"
   ]
  },
  {
   "cell_type": "code",
   "execution_count": null,
   "metadata": {},
   "outputs": [],
   "source": [
    "pd.DataFrame(train_bow.todense(), columns=c_vect.get_feature_names()).head()"
   ]
  },
  {
   "cell_type": "code",
   "execution_count": null,
   "metadata": {},
   "outputs": [],
   "source": [
    "t_vect = TfidfVectorizer(preprocessor=identity, tokenizer=identity)\n",
    "train_tfidf = t_vect.fit_transform(train_review)"
   ]
  },
  {
   "cell_type": "code",
   "execution_count": null,
   "metadata": {},
   "outputs": [],
   "source": [
    "pd.DataFrame(train_tfidf.todense(), columns=t_vect.get_feature_names()).head()"
   ]
  },
  {
   "cell_type": "markdown",
   "metadata": {},
   "source": [
    "### Przygotowanie zbioru testowego"
   ]
  },
  {
   "cell_type": "code",
   "execution_count": null,
   "metadata": {},
   "outputs": [],
   "source": [
    "test_bow = c_vect.transform(test_review)"
   ]
  },
  {
   "cell_type": "code",
   "execution_count": null,
   "metadata": {},
   "outputs": [],
   "source": [
    "pd.DataFrame(test_bow.todense(), columns=c_vect.get_feature_names()).head()"
   ]
  },
  {
   "cell_type": "code",
   "execution_count": null,
   "metadata": {},
   "outputs": [],
   "source": [
    "test_tfidf = t_vect.transform(test_review)"
   ]
  },
  {
   "cell_type": "code",
   "execution_count": null,
   "metadata": {},
   "outputs": [],
   "source": [
    "pd.DataFrame(test_tfidf.todense(), columns=t_vect.get_feature_names()).head()"
   ]
  },
  {
   "cell_type": "markdown",
   "metadata": {},
   "source": [
    "### Budowa modelu"
   ]
  },
  {
   "cell_type": "code",
   "execution_count": null,
   "metadata": {},
   "outputs": [],
   "source": [
    "from sklearn.naive_bayes import MultinomialNB"
   ]
  },
  {
   "cell_type": "code",
   "execution_count": null,
   "metadata": {},
   "outputs": [],
   "source": [
    "nb = MultinomialNB()"
   ]
  },
  {
   "cell_type": "code",
   "execution_count": null,
   "metadata": {},
   "outputs": [],
   "source": [
    "nb.fit(train_bow, train_labels)"
   ]
  },
  {
   "cell_type": "code",
   "execution_count": null,
   "metadata": {},
   "outputs": [],
   "source": [
    "preds = nb.predict(test_bow)"
   ]
  },
  {
   "cell_type": "code",
   "execution_count": null,
   "metadata": {},
   "outputs": [],
   "source": [
    "preds"
   ]
  },
  {
   "cell_type": "markdown",
   "metadata": {},
   "source": [
    "### Ewaluacja modelu"
   ]
  },
  {
   "cell_type": "code",
   "execution_count": null,
   "metadata": {},
   "outputs": [],
   "source": [
    "from sklearn import metrics"
   ]
  },
  {
   "cell_type": "code",
   "execution_count": null,
   "metadata": {},
   "outputs": [],
   "source": [
    "def print_metrics(true_labels, predicted_labels):\n",
    "    print(\"Accuracy:\", np.round(metrics.accuracy_score(true_labels, predicted_labels), 2))\n",
    "    print(\"Precision:\", np.round(metrics.precision_score(true_labels, predicted_labels), 2))\n",
    "    print(\"Recall:\", np.round(metrics.recall_score(true_labels, predicted_labels), 2))\n",
    "    print(\"F1:\", np.round(metrics.f1_score(true_labels, predicted_labels), 2))"
   ]
  },
  {
   "cell_type": "code",
   "execution_count": null,
   "metadata": {},
   "outputs": [],
   "source": [
    "print_metrics(test_labels, preds)"
   ]
  },
  {
   "cell_type": "markdown",
   "metadata": {},
   "source": [
    "**ZADANIE**\n",
    "> Wytrenuj model MultinomialNB wykorzystując reprezentację tfidf oraz wyświetl miary jakości modelu"
   ]
  },
  {
   "cell_type": "code",
   "execution_count": null,
   "metadata": {},
   "outputs": [],
   "source": []
  },
  {
   "cell_type": "code",
   "execution_count": null,
   "metadata": {},
   "outputs": [],
   "source": []
  },
  {
   "cell_type": "code",
   "execution_count": null,
   "metadata": {},
   "outputs": [],
   "source": []
  },
  {
   "cell_type": "code",
   "execution_count": null,
   "metadata": {},
   "outputs": [],
   "source": []
  },
  {
   "cell_type": "markdown",
   "metadata": {},
   "source": [
    "### Inny model"
   ]
  },
  {
   "cell_type": "code",
   "execution_count": null,
   "metadata": {},
   "outputs": [],
   "source": [
    "from sklearn.svm import SVC"
   ]
  },
  {
   "cell_type": "code",
   "execution_count": null,
   "metadata": {},
   "outputs": [],
   "source": [
    "svm = SVC()\n",
    "svm.fit(train_bow, train_labels)"
   ]
  },
  {
   "cell_type": "code",
   "execution_count": null,
   "metadata": {},
   "outputs": [],
   "source": [
    "p = svm.predict(test_bow)"
   ]
  },
  {
   "cell_type": "code",
   "execution_count": null,
   "metadata": {},
   "outputs": [],
   "source": [
    "print_metrics(test_labels, p)"
   ]
  },
  {
   "cell_type": "markdown",
   "metadata": {},
   "source": [
    "**ZADANIE**\n",
    "> Wytrenuj model SVC wykorzystując reprezentację tfidf oraz wyświetl miary jakości modelu"
   ]
  },
  {
   "cell_type": "code",
   "execution_count": null,
   "metadata": {},
   "outputs": [],
   "source": []
  },
  {
   "cell_type": "code",
   "execution_count": null,
   "metadata": {},
   "outputs": [],
   "source": []
  },
  {
   "cell_type": "code",
   "execution_count": null,
   "metadata": {},
   "outputs": [],
   "source": []
  },
  {
   "cell_type": "markdown",
   "metadata": {},
   "source": [
    "   "
   ]
  }
 ],
 "metadata": {
  "kernelspec": {
   "display_name": "Python 3",
   "language": "python",
   "name": "python3"
  },
  "language_info": {
   "codemirror_mode": {
    "name": "ipython",
    "version": 3
   },
   "file_extension": ".py",
   "mimetype": "text/x-python",
   "name": "python",
   "nbconvert_exporter": "python",
   "pygments_lexer": "ipython3",
   "version": "3.7.6"
  }
 },
 "nbformat": 4,
 "nbformat_minor": 4
}
