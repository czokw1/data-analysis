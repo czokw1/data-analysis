{
 "cells": [
  {
   "cell_type": "code",
   "execution_count": 2,
   "metadata": {},
   "outputs": [],
   "source": [
    "import re\n",
    "\n",
    "import requests \n",
    "\n",
    "from bs4 import BeautifulSoup as bs\n",
    "\n",
    "import pandas as pd"
   ]
  },
  {
   "cell_type": "code",
   "execution_count": 401,
   "metadata": {},
   "outputs": [],
   "source": [
    "def removeAccents(input_text):\n",
    "\n",
    "    strange='ŮôῡΒძěἊἦëĐᾇόἶἧзвŅῑἼźἓŉἐÿἈΌἢὶЁϋυŕŽŎŃğûλВὦėἜŤŨîᾪĝžἙâᾣÚκὔჯᾏᾢĠфĞὝŲŊŁČῐЙῤŌὭŏყἀхῦЧĎὍОуνἱῺèᾒῘᾘὨШūლἚύсÁóĒἍŷöὄЗὤἥბĔõὅῥŋБщἝξĢюᾫაπჟῸდΓÕűřἅгἰშΨńģὌΥÒᾬÏἴქὀῖὣᾙῶŠὟὁἵÖἕΕῨčᾈķЭτἻůᾕἫжΩᾶŇᾁἣჩαἄἹΖеУŹἃἠᾞåᾄГΠКíōĪὮϊὂᾱიżŦИὙἮὖÛĮἳφᾖἋΎΰῩŚἷРῈĲἁéὃσňİΙῠΚĸὛΪᾝᾯψÄᾭêὠÀღЫĩĈμΆᾌἨÑἑïოĵÃŒŸζჭᾼőΣŻçųøΤΑËņĭῙŘАдὗპŰἤცᾓήἯΐÎეὊὼΘЖᾜὢĚἩħĂыῳὧďТΗἺĬὰὡὬὫÇЩᾧñῢĻᾅÆßшδòÂчῌᾃΉᾑΦÍīМƒÜἒĴἿťᾴĶÊΊȘῃΟúχΔὋŴćŔῴῆЦЮΝΛῪŢὯнῬũãáἽĕᾗნᾳἆᾥйᾡὒსᾎĆрĀüСὕÅýფᾺῲšŵкἎἇὑЛვёἂΏθĘэᾋΧĉᾐĤὐὴιăąäὺÈФĺῇἘſგŜæῼῄĊἏØÉПяწДĿᾮἭĜХῂᾦωთĦлðὩზკίᾂᾆἪпἸиᾠώᾀŪāоÙἉἾρаđἌΞļÔβĖÝᾔĨНŀęᾤÓцЕĽŞὈÞუтΈέıàᾍἛśìŶŬȚĳῧῊᾟάεŖᾨᾉςΡმᾊᾸįᾚὥηᾛġÐὓłγľмþᾹἲἔбċῗჰხοἬŗŐἡὲῷῚΫŭᾩὸùᾷĹēრЯĄὉὪῒᾲΜᾰÌœĥტ'\n",
    "\n",
    " \n",
    "    ascii_replacements='UoyBdeAieDaoiiZVNiIzeneyAOiiEyyrZONgulVoeETUiOgzEaoUkyjAoGFGYUNLCiIrOOoqaKyCDOOUniOeiIIOSulEySAoEAyooZoibEoornBSEkGYOapzOdGOuraGisPngOYOOIikoioIoSYoiOeEYcAkEtIuiIZOaNaicaaIZEUZaiIaaGPKioIOioaizTIYIyUIifiAYyYSiREIaeosnIIyKkYIIOpAOeoAgYiCmAAINeiojAOYzcAoSZcuoTAEniIRADypUitiiIiIeOoTZIoEIhAYoodTIIIaoOOCSonyKaAsSdoACIaIiFIiMfUeJItaKEISiOuxDOWcRoiTYNLYTONRuaaIeinaaoIoysACRAuSyAypAoswKAayLvEaOtEEAXciHyiiaaayEFliEsgSaOiCAOEPYtDKOIGKiootHLdOzkiaaIPIIooaUaOUAIrAdAKlObEYiINleoOTEKSOTuTEeiaAEsiYUTiyIIaeROAsRmAAiIoiIgDylglMtAieBcihkoIrOieoIYuOouaKerYAOOiaMaIoht'\n",
    "\n",
    "\n",
    "    translator=str.maketrans(strange,ascii_replacements)\n",
    "    \n",
    "    \n",
    "    return input_text.translate(translator)\n"
   ]
  },
  {
   "cell_type": "code",
   "execution_count": 411,
   "metadata": {},
   "outputs": [],
   "source": [
    "url = 'https://www.gov.pl/web/cyfryzacja/najpopularniejsze-imiona-dla-dziewczynek-2018-woj-kujawsko-pomorskie'"
   ]
  },
  {
   "cell_type": "code",
   "execution_count": 412,
   "metadata": {},
   "outputs": [],
   "source": [
    "def get_names_list(url):\n",
    "    \n",
    "    page = requests.get(url)\n",
    "\n",
    "    psoup = bs(page.content,'html.parser')\n",
    "\n",
    "    paragraph = psoup.article.div.p\n",
    "\n",
    "    paragraph = re.sub(\"<p>|</p>|<br/>\",\"\",str(paragraph))\n",
    "\n",
    "    paragraph = paragraph.split('\\n')\n",
    "\n",
    "    data = pd.DataFrame([x.split('-') for x in paragraph])\n",
    "\n",
    "    data.columns = ['imie', 'liczba']\n",
    "\n",
    "    data['liczba'] = data['liczba'].astype('int')\n",
    "\n",
    "    url_match = re.match('.*/najpopularniejsze-imiona-dla-(.*)-2018-woj-(.*)',url)\n",
    "\n",
    "    data['plec'] = url_match.group(1)\n",
    "    data['wojewodztwo'] = url_match.group(2)\n",
    "    data['imie'] = data['imie'].str.capitalize()\n",
    "    data['plec'] = ['dziewczyna' if x[0] == 'd' else 'chlopiec' for x in data['plec']]\n",
    "    \n",
    "    return data"
   ]
  },
  {
   "cell_type": "code",
   "execution_count": 473,
   "metadata": {},
   "outputs": [
    {
     "data": {
      "text/plain": [
       "['https://www.gov.pl/web/cyfryzacja/najpopularniejsze-imiona-dla-dziewczynek-2018-woj-dolnoslaskie',\n",
       " 'https://www.gov.pl/web/cyfryzacja/najpopularniejsze-imiona-dla-dziewczynek-2018-woj-kujawsko-pomorskie',\n",
       " 'https://www.gov.pl/web/cyfryzacja/najpopularniejsze-imiona-dla-dziewczynek-2018-woj-lubelskie',\n",
       " 'https://www.gov.pl/web/cyfryzacja/najpopularniejsze-imiona-dla-dziewczynek-2018-woj-lubuskie',\n",
       " 'https://www.gov.pl/web/cyfryzacja/najpopularniejsze-imiona-dla-dziewczynek-2018-woj-lodzkie',\n",
       " 'https://www.gov.pl/web/cyfryzacja/najpopularniejsze-imiona-dla-dziewczynek-2018-woj-malopolskie',\n",
       " 'https://www.gov.pl/web/cyfryzacja/najpopularniejsze-imiona-dla-dziewczynek-2018-woj-mazowieckie',\n",
       " 'https://www.gov.pl/web/cyfryzacja/najpopularniejsze-imiona-dla-dziewczynek-2018-woj-opolskie',\n",
       " 'https://www.gov.pl/web/cyfryzacja/najpopularniejsze-imiona-dla-dziewczynek-2018-woj-podkarpackie',\n",
       " 'https://www.gov.pl/web/cyfryzacja/najpopularniejsze-imiona-dla-dziewczynek-2018-woj-podlaskie',\n",
       " 'https://www.gov.pl/web/cyfryzacja/najpopularniejsze-imiona-dla-dziewczynek-2018-woj-pomorskie',\n",
       " 'https://www.gov.pl/web/cyfryzacja/najpopularniejsze-imiona-dla-dziewczynek-2018-woj-slaskie',\n",
       " 'https://www.gov.pl/web/cyfryzacja/najpopularniejsze-imiona-dla-dziewczynek-2018-woj-swietokrzyskie',\n",
       " 'https://www.gov.pl/web/cyfryzacja/najpopularniejsze-imiona-dla-dziewczynek-2018-woj-warminsko-mazurskie',\n",
       " 'https://www.gov.pl/web/cyfryzacja/najpopularniejsze-imiona-dla-dziewczynek-2018-woj-wielkopolskie',\n",
       " 'https://www.gov.pl/web/cyfryzacja/najpopularniejsze-imiona-dla-dziewczynek-2018-woj-zachodniopomorskie',\n",
       " 'https://www.gov.pl/web/cyfryzacja/najpopularniejsze-imiona-dla-chlopcow-2018-woj-dolnoslaskie',\n",
       " 'https://www.gov.pl/web/cyfryzacja/najpopularniejsze-imiona-dla-chlopcow-2018-woj-kujawsko-pomorskie',\n",
       " 'https://www.gov.pl/web/cyfryzacja/najpopularniejsze-imiona-dla-chlopcow-2018-woj-lubelskie',\n",
       " 'https://www.gov.pl/web/cyfryzacja/najpopularniejsze-imiona-dla-chlopcow-2018-woj-lubuskie',\n",
       " 'https://www.gov.pl/web/cyfryzacja/najpopularniejsze-imiona-dla-chlopcow-2018-woj-lodzkie',\n",
       " 'https://www.gov.pl/web/cyfryzacja/najpopularniejsze-imiona-dla-chlopcow-2018-woj-malopolskie',\n",
       " 'https://www.gov.pl/web/cyfryzacja/najpopularniejsze-imiona-dla-chlopcow-2018-woj-mazowieckie',\n",
       " 'https://www.gov.pl/web/cyfryzacja/najpopularniejsze-imiona-dla-chlopcow-2018-woj-opolskie',\n",
       " 'https://www.gov.pl/web/cyfryzacja/najpopularniejsze-imiona-dla-chlopcow-2018-woj-podkarpackie',\n",
       " 'https://www.gov.pl/web/cyfryzacja/najpopularniejsze-imiona-dla-chlopcow-2018-woj-podlaskie',\n",
       " 'https://www.gov.pl/web/cyfryzacja/najpopularniejsze-imiona-dla-chlopcow-2018-woj-pomorskie',\n",
       " 'https://www.gov.pl/web/cyfryzacja/najpopularniejsze-imiona-dla-chlopcow-2018-woj-slaskie',\n",
       " 'https://www.gov.pl/web/cyfryzacja/najpopularniejsze-imiona-dla-chlopcow-2018-woj-swietokrzyskie',\n",
       " 'https://www.gov.pl/web/cyfryzacja/najpopularniejsze-imiona-dla-chlopcow-2018-woj-warminsko-mazurskie',\n",
       " 'https://www.gov.pl/web/cyfryzacja/najpopularniejsze-imiona-dla-chlopcow-2018-woj-wielkopolskie',\n",
       " 'https://www.gov.pl/web/cyfryzacja/najpopularniejsze-imiona-dla-chlopcow-2018-woj-zachodniopomorskie']"
      ]
     },
     "execution_count": 473,
     "metadata": {},
     "output_type": "execute_result"
    }
   ],
   "source": [
    "links_page = requests.get('https://www.gov.pl/web/cyfryzacja/imiona')\n",
    "\n",
    "content = links_page.content\n",
    "\n",
    "soup = bs(content,'html.parser')\n",
    "\n",
    "text_href = re.findall(r'href.*', str(soup.article))\n",
    "text_href = re.sub(\"'href=|</a>\",\"\", str(text_href))\n",
    "\n",
    "text_href_tab = []\n",
    "\n",
    "for x in text_href.split(','):\n",
    "    text_href_tab.append(re.findall('>.*',x)[0][1:-1])\n",
    "    #print(re.findall('>.*\\D+',x)[0][1:-1])\n",
    "    \n",
    "text_href_tab = [x for x in text_href_tab if re.search('</li>',x) ==  None]\n",
    "text_href_tab = ['https://www.gov.pl/web/cyfryzacja/'+x.lower() for x in text_href_tab]\n",
    "text_href_tab = [re.sub(' ','-',x) for x in text_href_tab]\n",
    "text_href_tab = [re.sub('---','-',x) for x in text_href_tab]\n",
    "text_href_tab = [re.sub('\\.-','-',x) for x in text_href_tab]\n",
    "text_href_tab = [removeAccents(x) for x in text_href_tab]\n",
    "text_href_tab = [x for x in text_href_tab if re.search('ogolnopolski',x) == None]\n",
    "\n",
    "text_href_tab"
   ]
  },
  {
   "cell_type": "code",
   "execution_count": 478,
   "metadata": {},
   "outputs": [],
   "source": [
    "names = pd.DataFrame()\n",
    "\n",
    "for x in range(len(text_href_tab)):\n",
    "    tmp = get_names_list(text_href_tab[x])\n",
    "    names = names.append(tmp)\n"
   ]
  },
  {
   "cell_type": "code",
   "execution_count": 481,
   "metadata": {},
   "outputs": [
    {
     "data": {
      "text/html": [
       "<div>\n",
       "<style scoped>\n",
       "    .dataframe tbody tr th:only-of-type {\n",
       "        vertical-align: middle;\n",
       "    }\n",
       "\n",
       "    .dataframe tbody tr th {\n",
       "        vertical-align: top;\n",
       "    }\n",
       "\n",
       "    .dataframe thead th {\n",
       "        text-align: right;\n",
       "    }\n",
       "</style>\n",
       "<table border=\"1\" class=\"dataframe\">\n",
       "  <thead>\n",
       "    <tr style=\"text-align: right;\">\n",
       "      <th></th>\n",
       "      <th>imie</th>\n",
       "      <th>liczba</th>\n",
       "    </tr>\n",
       "  </thead>\n",
       "  <tbody>\n",
       "    <tr>\n",
       "      <th>0</th>\n",
       "      <td>Zuzanna</td>\n",
       "      <td>8862</td>\n",
       "    </tr>\n",
       "    <tr>\n",
       "      <th>1</th>\n",
       "      <td>Julia</td>\n",
       "      <td>8463</td>\n",
       "    </tr>\n",
       "    <tr>\n",
       "      <th>2</th>\n",
       "      <td>Maja</td>\n",
       "      <td>8027</td>\n",
       "    </tr>\n",
       "    <tr>\n",
       "      <th>3</th>\n",
       "      <td>Zofia</td>\n",
       "      <td>7928</td>\n",
       "    </tr>\n",
       "    <tr>\n",
       "      <th>4</th>\n",
       "      <td>Hanna</td>\n",
       "      <td>7718</td>\n",
       "    </tr>\n",
       "    <tr>\n",
       "      <th>5</th>\n",
       "      <td>Lena</td>\n",
       "      <td>7647</td>\n",
       "    </tr>\n",
       "    <tr>\n",
       "      <th>6</th>\n",
       "      <td>Alicja</td>\n",
       "      <td>5757</td>\n",
       "    </tr>\n",
       "    <tr>\n",
       "      <th>7</th>\n",
       "      <td>Maria</td>\n",
       "      <td>5440</td>\n",
       "    </tr>\n",
       "    <tr>\n",
       "      <th>8</th>\n",
       "      <td>Amelia</td>\n",
       "      <td>5309</td>\n",
       "    </tr>\n",
       "    <tr>\n",
       "      <th>9</th>\n",
       "      <td>Oliwia</td>\n",
       "      <td>5057</td>\n",
       "    </tr>\n",
       "  </tbody>\n",
       "</table>\n",
       "</div>"
      ],
      "text/plain": [
       "       imie  liczba\n",
       "0  Zuzanna     8862\n",
       "1    Julia     8463\n",
       "2     Maja     8027\n",
       "3    Zofia     7928\n",
       "4    Hanna     7718\n",
       "5     Lena     7647\n",
       "6   Alicja     5757\n",
       "7    Maria     5440\n",
       "8   Amelia     5309\n",
       "9   Oliwia     5057"
      ]
     },
     "execution_count": 481,
     "metadata": {},
     "output_type": "execute_result"
    }
   ],
   "source": [
    "most_popular_girls_names = names[names['plec'] == 'dziewczyna'].groupby ('imie').sum().sort_values('liczba',ascending=False).reset_index()\n",
    "most_popular_boys_names = names[names['plec'] == 'chlopiec'].groupby('imie').sum().sort_values('liczba',ascending=False).reset_index()\n",
    "most_popular_girls_names.head(10)"
   ]
  },
  {
   "cell_type": "code",
   "execution_count": 487,
   "metadata": {},
   "outputs": [
    {
     "data": {
      "text/html": [
       "<div>\n",
       "<style scoped>\n",
       "    .dataframe tbody tr th:only-of-type {\n",
       "        vertical-align: middle;\n",
       "    }\n",
       "\n",
       "    .dataframe tbody tr th {\n",
       "        vertical-align: top;\n",
       "    }\n",
       "\n",
       "    .dataframe thead th {\n",
       "        text-align: right;\n",
       "    }\n",
       "</style>\n",
       "<table border=\"1\" class=\"dataframe\">\n",
       "  <thead>\n",
       "    <tr style=\"text-align: right;\">\n",
       "      <th></th>\n",
       "      <th>wojewodztwo</th>\n",
       "      <th>plec</th>\n",
       "      <th>liczba</th>\n",
       "    </tr>\n",
       "  </thead>\n",
       "  <tbody>\n",
       "    <tr>\n",
       "      <th>0</th>\n",
       "      <td>dolnoslaskie</td>\n",
       "      <td>chlopiec</td>\n",
       "      <td>14575</td>\n",
       "    </tr>\n",
       "    <tr>\n",
       "      <th>1</th>\n",
       "      <td>dolnoslaskie</td>\n",
       "      <td>dziewczyna</td>\n",
       "      <td>13708</td>\n",
       "    </tr>\n",
       "    <tr>\n",
       "      <th>2</th>\n",
       "      <td>kujawsko-pomorskie</td>\n",
       "      <td>chlopiec</td>\n",
       "      <td>10761</td>\n",
       "    </tr>\n",
       "    <tr>\n",
       "      <th>3</th>\n",
       "      <td>kujawsko-pomorskie</td>\n",
       "      <td>dziewczyna</td>\n",
       "      <td>10007</td>\n",
       "    </tr>\n",
       "    <tr>\n",
       "      <th>4</th>\n",
       "      <td>lodzkie</td>\n",
       "      <td>chlopiec</td>\n",
       "      <td>12013</td>\n",
       "    </tr>\n",
       "  </tbody>\n",
       "</table>\n",
       "</div>"
      ],
      "text/plain": [
       "          wojewodztwo        plec  liczba\n",
       "0        dolnoslaskie    chlopiec   14575\n",
       "1        dolnoslaskie  dziewczyna   13708\n",
       "2  kujawsko-pomorskie    chlopiec   10761\n",
       "3  kujawsko-pomorskie  dziewczyna   10007\n",
       "4             lodzkie    chlopiec   12013"
      ]
     },
     "execution_count": 487,
     "metadata": {},
     "output_type": "execute_result"
    }
   ],
   "source": [
    "children_by_province = names.groupby(['wojewodztwo','plec']).sum().reset_index()\n",
    "children_by_province.head()"
   ]
  },
  {
   "cell_type": "code",
   "execution_count": 535,
   "metadata": {},
   "outputs": [],
   "source": [
    "names_province = pd.merge(names,children_by_province,on=['wojewodztwo','plec'])\n",
    "names_province['percent'] = 100*names_province['liczba_x']/names_province['liczba_y']\n",
    "most_popular_names_province = names_province.loc[names_province.groupby(['plec','wojewodztwo'])['percent'].idxmax()\n",
    "                                                 ,['wojewodztwo','plec','imie','percent']]\n",
    "name_popularity= names_province[names_province.imie == 'Olga ']"
   ]
  },
  {
   "cell_type": "code",
   "execution_count": 536,
   "metadata": {},
   "outputs": [
    {
     "data": {
      "image/png": "[encoded data removed]",
      "text/plain": [
       "<Figure size 432x288 with 1 Axes>"
      ]
     },
     "metadata": {
      "needs_background": "light"
     },
     "output_type": "display_data"
    }
   ],
   "source": [
    "import seaborn as sns\n",
    "import matplotlib.pyplot as plt\n",
    "\n",
    "sns.barplot(x ='percent',y = 'wojewodztwo',data=name_popularity)\n",
    "plt.show()\n"
   ]
  },
  {
   "cell_type": "code",
   "execution_count": null,
   "metadata": {},
   "outputs": [],
   "source": []
  }
 ],
 "metadata": {
  "kernelspec": {
   "display_name": "Python 3",
   "language": "python",
   "name": "python3"
  },
  "language_info": {
   "codemirror_mode": {
    "name": "ipython",
    "version": 3
   },
   "file_extension": ".py",
   "mimetype": "text/x-python",
   "name": "python",
   "nbconvert_exporter": "python",
   "pygments_lexer": "ipython3",
   "version": "3.7.0"
  }
 },
 "nbformat": 4,
 "nbformat_minor": 2
}
