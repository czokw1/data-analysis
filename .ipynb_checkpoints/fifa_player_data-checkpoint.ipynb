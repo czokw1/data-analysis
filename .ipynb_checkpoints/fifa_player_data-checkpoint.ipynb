{
 "nbformat": 4,
 "nbformat_minor": 2,
 "metadata": {
  "language_info": {
   "name": "python",
   "codemirror_mode": {
    "name": "ipython",
    "version": 3
   }
  },
  "orig_nbformat": 2,
  "file_extension": ".py",
  "mimetype": "text/x-python",
  "name": "python",
  "npconvert_exporter": "python",
  "pygments_lexer": "ipython3",
  "version": 3
 },
 "cells": [
  {
   "cell_type": "code",
   "execution_count": null,
   "metadata": {},
   "outputs": [
    {
     "output_type": "error",
     "ename": "Error",
     "evalue": "Jupyter notebook failed to launch. \r\nError: Jupyter server crashed. Unable to connect. \r\nError code from jupyter: 0\nFailed to run jupyter as observable with args notebook --no-browser --notebook-dir=C:\\Users\\czowoj\\AppData\\Local\\Temp\\4e235d12-7a61-4e18-92f1-1d74bbdd947f --config=C:\\Users\\czowoj\\AppData\\Local\\Temp\\4e235d12-7a61-4e18-92f1-1d74bbdd947f\\jupyter_notebook_config.py --NotebookApp.iopub_data_rate_limit=10000000000.0\n",
     "traceback": [
      "Error: Jupyter notebook failed to launch.",
      "Error: Jupyter server crashed. Unable to connect.",
      "Error code from jupyter: 0",
      "Failed to run jupyter as observable with args notebook --no-browser --notebook-dir=C:\\Users\\czowoj\\AppData\\Local\\Temp\\4e235d12-7a61-4e18-92f1-1d74bbdd947f --config=C:\\Users\\czowoj\\AppData\\Local\\Temp\\4e235d12-7a61-4e18-92f1-1d74bbdd947f\\jupyter_notebook_config.py --NotebookApp.iopub_data_rate_limit=10000000000.0",
      "at E.start (c:\\Users\\czowoj\\.vscode\\extensions\\ms-python.python-2020.2.64397\\out\\client\\extension.js:1:825656)"
     ]
    }
   ],
   "source": [
    "import pandas as pd\nimport numpy as np \nimport matplotlib.pyplot as plt"
   ]
  },
  {
   "cell_type": "code",
   "execution_count": null,
   "metadata": {},
   "outputs": [],
   "source": []
  }
 ]
}