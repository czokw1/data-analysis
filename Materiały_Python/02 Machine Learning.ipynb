{
 "cells": [
  {
   "cell_type": "markdown",
   "metadata": {},
   "source": [
    "![alt text](img/LM.png)\n",
    "# Kurs: Warsztaty Machine Learning w Pythonie\n",
    "## Piotr Ćwiakowski\n",
    "\n",
    "### Lekcja 8. Model lasów losowych\n",
    "\n",
    "#### Spis treści\n",
    "\n",
    "1. Bikesharing case study"
   ]
  },
  {
   "cell_type": "code",
   "execution_count": 1,
   "metadata": {},
   "outputs": [],
   "source": [
    "# Wczytanie podstawowych pakietów\n",
    "import pandas as pd\n",
    "import numpy as np\n",
    "import matplotlib.pyplot as plt\n",
    "# Wydrukowanie wykresów\n",
    "%matplotlib inline"
   ]
  },
  {
   "cell_type": "code",
   "execution_count": 2,
   "metadata": {},
   "outputs": [],
   "source": [
    "# Wczytanie danych\n",
    "bs = pd.read_csv(\"datasets/bikesharing_prepared.csv\", index_col = 0)"
   ]
  },
  {
   "cell_type": "code",
   "execution_count": 3,
   "metadata": {},
   "outputs": [
    {
     "data": {
      "text/html": [
       "<div>\n",
       "<style scoped>\n",
       "    .dataframe tbody tr th:only-of-type {\n",
       "        vertical-align: middle;\n",
       "    }\n",
       "\n",
       "    .dataframe tbody tr th {\n",
       "        vertical-align: top;\n",
       "    }\n",
       "\n",
       "    .dataframe thead th {\n",
       "        text-align: right;\n",
       "    }\n",
       "</style>\n",
       "<table border=\"1\" class=\"dataframe\">\n",
       "  <thead>\n",
       "    <tr style=\"text-align: right;\">\n",
       "      <th></th>\n",
       "      <th>season</th>\n",
       "      <th>holiday</th>\n",
       "      <th>workingday</th>\n",
       "      <th>weather</th>\n",
       "      <th>temp</th>\n",
       "      <th>atemp</th>\n",
       "      <th>humidity</th>\n",
       "      <th>windspeed</th>\n",
       "      <th>count</th>\n",
       "      <th>date</th>\n",
       "      <th>hour</th>\n",
       "      <th>weekday</th>\n",
       "      <th>month</th>\n",
       "    </tr>\n",
       "  </thead>\n",
       "  <tbody>\n",
       "    <tr>\n",
       "      <th>0</th>\n",
       "      <td>Spring</td>\n",
       "      <td>0</td>\n",
       "      <td>0</td>\n",
       "      <td>Clear + Few clouds + Partly cloudy + Partly c...</td>\n",
       "      <td>9.84</td>\n",
       "      <td>14.395</td>\n",
       "      <td>81</td>\n",
       "      <td>0.0</td>\n",
       "      <td>16</td>\n",
       "      <td>2011-01-01</td>\n",
       "      <td>0</td>\n",
       "      <td>Saturday</td>\n",
       "      <td>January</td>\n",
       "    </tr>\n",
       "    <tr>\n",
       "      <th>1</th>\n",
       "      <td>Spring</td>\n",
       "      <td>0</td>\n",
       "      <td>0</td>\n",
       "      <td>Clear + Few clouds + Partly cloudy + Partly c...</td>\n",
       "      <td>9.02</td>\n",
       "      <td>13.635</td>\n",
       "      <td>80</td>\n",
       "      <td>0.0</td>\n",
       "      <td>40</td>\n",
       "      <td>2011-01-01</td>\n",
       "      <td>1</td>\n",
       "      <td>Saturday</td>\n",
       "      <td>January</td>\n",
       "    </tr>\n",
       "    <tr>\n",
       "      <th>2</th>\n",
       "      <td>Spring</td>\n",
       "      <td>0</td>\n",
       "      <td>0</td>\n",
       "      <td>Clear + Few clouds + Partly cloudy + Partly c...</td>\n",
       "      <td>9.02</td>\n",
       "      <td>13.635</td>\n",
       "      <td>80</td>\n",
       "      <td>0.0</td>\n",
       "      <td>32</td>\n",
       "      <td>2011-01-01</td>\n",
       "      <td>2</td>\n",
       "      <td>Saturday</td>\n",
       "      <td>January</td>\n",
       "    </tr>\n",
       "    <tr>\n",
       "      <th>3</th>\n",
       "      <td>Spring</td>\n",
       "      <td>0</td>\n",
       "      <td>0</td>\n",
       "      <td>Clear + Few clouds + Partly cloudy + Partly c...</td>\n",
       "      <td>9.84</td>\n",
       "      <td>14.395</td>\n",
       "      <td>75</td>\n",
       "      <td>0.0</td>\n",
       "      <td>13</td>\n",
       "      <td>2011-01-01</td>\n",
       "      <td>3</td>\n",
       "      <td>Saturday</td>\n",
       "      <td>January</td>\n",
       "    </tr>\n",
       "    <tr>\n",
       "      <th>4</th>\n",
       "      <td>Spring</td>\n",
       "      <td>0</td>\n",
       "      <td>0</td>\n",
       "      <td>Clear + Few clouds + Partly cloudy + Partly c...</td>\n",
       "      <td>9.84</td>\n",
       "      <td>14.395</td>\n",
       "      <td>75</td>\n",
       "      <td>0.0</td>\n",
       "      <td>1</td>\n",
       "      <td>2011-01-01</td>\n",
       "      <td>4</td>\n",
       "      <td>Saturday</td>\n",
       "      <td>January</td>\n",
       "    </tr>\n",
       "  </tbody>\n",
       "</table>\n",
       "</div>"
      ],
      "text/plain": [
       "   season  holiday  workingday  \\\n",
       "0  Spring        0           0   \n",
       "1  Spring        0           0   \n",
       "2  Spring        0           0   \n",
       "3  Spring        0           0   \n",
       "4  Spring        0           0   \n",
       "\n",
       "                                             weather  temp   atemp  humidity  \\\n",
       "0   Clear + Few clouds + Partly cloudy + Partly c...  9.84  14.395        81   \n",
       "1   Clear + Few clouds + Partly cloudy + Partly c...  9.02  13.635        80   \n",
       "2   Clear + Few clouds + Partly cloudy + Partly c...  9.02  13.635        80   \n",
       "3   Clear + Few clouds + Partly cloudy + Partly c...  9.84  14.395        75   \n",
       "4   Clear + Few clouds + Partly cloudy + Partly c...  9.84  14.395        75   \n",
       "\n",
       "   windspeed  count        date  hour   weekday    month  \n",
       "0        0.0     16  2011-01-01     0  Saturday  January  \n",
       "1        0.0     40  2011-01-01     1  Saturday  January  \n",
       "2        0.0     32  2011-01-01     2  Saturday  January  \n",
       "3        0.0     13  2011-01-01     3  Saturday  January  \n",
       "4        0.0      1  2011-01-01     4  Saturday  January  "
      ]
     },
     "execution_count": 3,
     "metadata": {},
     "output_type": "execute_result"
    }
   ],
   "source": [
    "# Dane - kilka pierwszych wierszy\n",
    "bs.head()"
   ]
  },
  {
   "cell_type": "code",
   "execution_count": 4,
   "metadata": {},
   "outputs": [
    {
     "name": "stdout",
     "output_type": "stream",
     "text": [
      "['season', 'holiday', 'workingday', 'weather', 'temp', 'atemp', 'humidity', 'windspeed', 'hour', 'weekday', 'month']\n"
     ]
    }
   ],
   "source": [
    "# Stwórzmy dla wygody listę zmiennych objaśniających (features)\n",
    "features = bs.columns.tolist() # zapiszmy nazwy kolumn jako zmienne\n",
    "features.remove(\"count\") # zmienna objaśniana\n",
    "features.remove(\"date\") # dla uproszczenia usuniemy datę\n",
    "\n",
    "# Wydrukujmy listę zmiennych:\n",
    "print(features)"
   ]
  },
  {
   "cell_type": "code",
   "execution_count": 5,
   "metadata": {},
   "outputs": [],
   "source": [
    "# Wczytanie z sklearna potrzebnych funkcji:\n",
    "from sklearn.ensemble import RandomForestRegressor\n",
    "from sklearn.metrics import mean_squared_error, r2_score"
   ]
  },
  {
   "cell_type": "code",
   "execution_count": 6,
   "metadata": {},
   "outputs": [
    {
     "ename": "ValueError",
     "evalue": "could not convert string to float: 'Spring'",
     "output_type": "error",
     "traceback": [
      "\u001b[1;31m---------------------------------------------------------------------------\u001b[0m",
      "\u001b[1;31mValueError\u001b[0m                                Traceback (most recent call last)",
      "\u001b[1;32m<ipython-input-6-827922271325>\u001b[0m in \u001b[0;36m<module>\u001b[1;34m\u001b[0m\n\u001b[0;32m      6\u001b[0m                            max_features = 'auto') # liczba kolumn losowanych do pojedynczego\n\u001b[0;32m      7\u001b[0m \u001b[1;31m# Dopasowanie modelu do konkretnych danych\u001b[0m\u001b[1;33m\u001b[0m\u001b[1;33m\u001b[0m\u001b[1;33m\u001b[0m\u001b[0m\n\u001b[1;32m----> 8\u001b[1;33m \u001b[0mrf\u001b[0m\u001b[1;33m.\u001b[0m\u001b[0mfit\u001b[0m\u001b[1;33m(\u001b[0m\u001b[0mX\u001b[0m \u001b[1;33m=\u001b[0m \u001b[0mbs\u001b[0m\u001b[1;33m[\u001b[0m\u001b[0mfeatures\u001b[0m\u001b[1;33m]\u001b[0m\u001b[1;33m,\u001b[0m \u001b[0my\u001b[0m \u001b[1;33m=\u001b[0m \u001b[0mbs\u001b[0m\u001b[1;33m[\u001b[0m\u001b[1;34m\"count\"\u001b[0m\u001b[1;33m]\u001b[0m\u001b[1;33m)\u001b[0m\u001b[1;33m\u001b[0m\u001b[1;33m\u001b[0m\u001b[0m\n\u001b[0m",
      "\u001b[1;32m~\\.conda\\envs\\ds\\lib\\site-packages\\sklearn\\ensemble\\_forest.py\u001b[0m in \u001b[0;36mfit\u001b[1;34m(self, X, y, sample_weight)\u001b[0m\n\u001b[0;32m    293\u001b[0m         \"\"\"\n\u001b[0;32m    294\u001b[0m         \u001b[1;31m# Validate or convert input data\u001b[0m\u001b[1;33m\u001b[0m\u001b[1;33m\u001b[0m\u001b[1;33m\u001b[0m\u001b[0m\n\u001b[1;32m--> 295\u001b[1;33m         \u001b[0mX\u001b[0m \u001b[1;33m=\u001b[0m \u001b[0mcheck_array\u001b[0m\u001b[1;33m(\u001b[0m\u001b[0mX\u001b[0m\u001b[1;33m,\u001b[0m \u001b[0maccept_sparse\u001b[0m\u001b[1;33m=\u001b[0m\u001b[1;34m\"csc\"\u001b[0m\u001b[1;33m,\u001b[0m \u001b[0mdtype\u001b[0m\u001b[1;33m=\u001b[0m\u001b[0mDTYPE\u001b[0m\u001b[1;33m)\u001b[0m\u001b[1;33m\u001b[0m\u001b[1;33m\u001b[0m\u001b[0m\n\u001b[0m\u001b[0;32m    296\u001b[0m         \u001b[0my\u001b[0m \u001b[1;33m=\u001b[0m \u001b[0mcheck_array\u001b[0m\u001b[1;33m(\u001b[0m\u001b[0my\u001b[0m\u001b[1;33m,\u001b[0m \u001b[0maccept_sparse\u001b[0m\u001b[1;33m=\u001b[0m\u001b[1;34m'csc'\u001b[0m\u001b[1;33m,\u001b[0m \u001b[0mensure_2d\u001b[0m\u001b[1;33m=\u001b[0m\u001b[1;32mFalse\u001b[0m\u001b[1;33m,\u001b[0m \u001b[0mdtype\u001b[0m\u001b[1;33m=\u001b[0m\u001b[1;32mNone\u001b[0m\u001b[1;33m)\u001b[0m\u001b[1;33m\u001b[0m\u001b[1;33m\u001b[0m\u001b[0m\n\u001b[0;32m    297\u001b[0m         \u001b[1;32mif\u001b[0m \u001b[0msample_weight\u001b[0m \u001b[1;32mis\u001b[0m \u001b[1;32mnot\u001b[0m \u001b[1;32mNone\u001b[0m\u001b[1;33m:\u001b[0m\u001b[1;33m\u001b[0m\u001b[1;33m\u001b[0m\u001b[0m\n",
      "\u001b[1;32m~\\.conda\\envs\\ds\\lib\\site-packages\\sklearn\\utils\\validation.py\u001b[0m in \u001b[0;36mcheck_array\u001b[1;34m(array, accept_sparse, accept_large_sparse, dtype, order, copy, force_all_finite, ensure_2d, allow_nd, ensure_min_samples, ensure_min_features, warn_on_dtype, estimator)\u001b[0m\n\u001b[0;32m    529\u001b[0m                     \u001b[0marray\u001b[0m \u001b[1;33m=\u001b[0m \u001b[0marray\u001b[0m\u001b[1;33m.\u001b[0m\u001b[0mastype\u001b[0m\u001b[1;33m(\u001b[0m\u001b[0mdtype\u001b[0m\u001b[1;33m,\u001b[0m \u001b[0mcasting\u001b[0m\u001b[1;33m=\u001b[0m\u001b[1;34m\"unsafe\"\u001b[0m\u001b[1;33m,\u001b[0m \u001b[0mcopy\u001b[0m\u001b[1;33m=\u001b[0m\u001b[1;32mFalse\u001b[0m\u001b[1;33m)\u001b[0m\u001b[1;33m\u001b[0m\u001b[1;33m\u001b[0m\u001b[0m\n\u001b[0;32m    530\u001b[0m                 \u001b[1;32melse\u001b[0m\u001b[1;33m:\u001b[0m\u001b[1;33m\u001b[0m\u001b[1;33m\u001b[0m\u001b[0m\n\u001b[1;32m--> 531\u001b[1;33m                     \u001b[0marray\u001b[0m \u001b[1;33m=\u001b[0m \u001b[0mnp\u001b[0m\u001b[1;33m.\u001b[0m\u001b[0masarray\u001b[0m\u001b[1;33m(\u001b[0m\u001b[0marray\u001b[0m\u001b[1;33m,\u001b[0m \u001b[0morder\u001b[0m\u001b[1;33m=\u001b[0m\u001b[0morder\u001b[0m\u001b[1;33m,\u001b[0m \u001b[0mdtype\u001b[0m\u001b[1;33m=\u001b[0m\u001b[0mdtype\u001b[0m\u001b[1;33m)\u001b[0m\u001b[1;33m\u001b[0m\u001b[1;33m\u001b[0m\u001b[0m\n\u001b[0m\u001b[0;32m    532\u001b[0m             \u001b[1;32mexcept\u001b[0m \u001b[0mComplexWarning\u001b[0m\u001b[1;33m:\u001b[0m\u001b[1;33m\u001b[0m\u001b[1;33m\u001b[0m\u001b[0m\n\u001b[0;32m    533\u001b[0m                 raise ValueError(\"Complex data not supported\\n\"\n",
      "\u001b[1;32m~\\.conda\\envs\\ds\\lib\\site-packages\\numpy\\core\\_asarray.py\u001b[0m in \u001b[0;36masarray\u001b[1;34m(a, dtype, order)\u001b[0m\n\u001b[0;32m     83\u001b[0m \u001b[1;33m\u001b[0m\u001b[0m\n\u001b[0;32m     84\u001b[0m     \"\"\"\n\u001b[1;32m---> 85\u001b[1;33m     \u001b[1;32mreturn\u001b[0m \u001b[0marray\u001b[0m\u001b[1;33m(\u001b[0m\u001b[0ma\u001b[0m\u001b[1;33m,\u001b[0m \u001b[0mdtype\u001b[0m\u001b[1;33m,\u001b[0m \u001b[0mcopy\u001b[0m\u001b[1;33m=\u001b[0m\u001b[1;32mFalse\u001b[0m\u001b[1;33m,\u001b[0m \u001b[0morder\u001b[0m\u001b[1;33m=\u001b[0m\u001b[0morder\u001b[0m\u001b[1;33m)\u001b[0m\u001b[1;33m\u001b[0m\u001b[1;33m\u001b[0m\u001b[0m\n\u001b[0m\u001b[0;32m     86\u001b[0m \u001b[1;33m\u001b[0m\u001b[0m\n\u001b[0;32m     87\u001b[0m \u001b[1;33m\u001b[0m\u001b[0m\n",
      "\u001b[1;31mValueError\u001b[0m: could not convert string to float: 'Spring'"
     ]
    }
   ],
   "source": [
    "# Zainicjowanie przykładowego modelu i zapisanie do obiektu rf\n",
    "rf = RandomForestRegressor(n_estimators=100, # liczba drzew w lesie losowym\n",
    "                           max_depth=7, # maksymalna głębokość\n",
    "                           min_samples_split=10, # minimalna liczba obserwacji w gałęzi\n",
    "                           min_samples_leaf=3, # minimalna liczba obserwacji na liściu\n",
    "                           max_features = 'auto') # liczba kolumn losowanych do pojedynczego\n",
    "# Dopasowanie modelu do konkretnych danych\n",
    "rf.fit(X = bs[features], y = bs[\"count\"])"
   ]
  },
  {
   "cell_type": "markdown",
   "metadata": {},
   "source": [
    "Mamy błąd - wynika on z tego, że część danych jest w formie tekstowej, a funkcja szacująca model wymaga danych numerycznych. Zrekodujmy dane tekstowe, wykorzystując do tego odpowiednie narzędzia z biblioteki sklearn."
   ]
  },
  {
   "cell_type": "code",
   "execution_count": 7,
   "metadata": {},
   "outputs": [],
   "source": [
    "# import narzędzia z biblioteki sklearn\n",
    "from sklearn import preprocessing"
   ]
  },
  {
   "cell_type": "code",
   "execution_count": 8,
   "metadata": {},
   "outputs": [
    {
     "data": {
      "text/plain": [
       "array([0, 0, 1, 2], dtype=int64)"
      ]
     },
     "execution_count": 8,
     "metadata": {},
     "output_type": "execute_result"
    }
   ],
   "source": [
    "# Inicjujemy obiekt do kodowania, który będzie przechowywał mapę wartości\n",
    "le = preprocessing.LabelEncoder()\n",
    "# Dopasowujemy dane (tworzymy mapę)\n",
    "le.fit([1, 2, 2, 6])\n",
    "# Od tego momentu możemy mapę nakładać\n",
    "le.transform([1, 1, 2, 6])"
   ]
  },
  {
   "cell_type": "code",
   "execution_count": 9,
   "metadata": {},
   "outputs": [
    {
     "name": "stdout",
     "output_type": "stream",
     "text": [
      "[1 1 2 0]\n",
      "['amsterdam' 'paris' 'tokyo']\n"
     ]
    }
   ],
   "source": [
    "le = preprocessing.LabelEncoder()\n",
    "le.fit([\"paris\", \"paris\", \"tokyo\", \"amsterdam\"])\n",
    "print(le.transform([\"paris\", \"paris\", \"tokyo\", \"amsterdam\"]))\n",
    "print(le.classes_)"
   ]
  },
  {
   "cell_type": "code",
   "execution_count": 10,
   "metadata": {},
   "outputs": [],
   "source": [
    "for feature in ['season', 'weather', 'weekday', 'month']:\n",
    "    # Iniciujemy obiekt do kodowania, który będzie przechowywał mapę\n",
    "    le = preprocessing.LabelEncoder()\n",
    "    # Dopasowujemy kolumnę (tworzymy mapę) i od razu ją nakładamy na zmienną, na której robiliśmy dopasowanie\n",
    "    bs[feature] = le.fit_transform(bs[feature])"
   ]
  },
  {
   "cell_type": "markdown",
   "metadata": {},
   "source": [
    "Wyświetlmy nagłówek data frame'u w celu zbadania zmian:"
   ]
  },
  {
   "cell_type": "code",
   "execution_count": 11,
   "metadata": {},
   "outputs": [
    {
     "data": {
      "text/html": [
       "<div>\n",
       "<style scoped>\n",
       "    .dataframe tbody tr th:only-of-type {\n",
       "        vertical-align: middle;\n",
       "    }\n",
       "\n",
       "    .dataframe tbody tr th {\n",
       "        vertical-align: top;\n",
       "    }\n",
       "\n",
       "    .dataframe thead th {\n",
       "        text-align: right;\n",
       "    }\n",
       "</style>\n",
       "<table border=\"1\" class=\"dataframe\">\n",
       "  <thead>\n",
       "    <tr style=\"text-align: right;\">\n",
       "      <th></th>\n",
       "      <th>season</th>\n",
       "      <th>holiday</th>\n",
       "      <th>workingday</th>\n",
       "      <th>weather</th>\n",
       "      <th>temp</th>\n",
       "      <th>atemp</th>\n",
       "      <th>humidity</th>\n",
       "      <th>windspeed</th>\n",
       "      <th>count</th>\n",
       "      <th>date</th>\n",
       "      <th>hour</th>\n",
       "      <th>weekday</th>\n",
       "      <th>month</th>\n",
       "    </tr>\n",
       "  </thead>\n",
       "  <tbody>\n",
       "    <tr>\n",
       "      <th>0</th>\n",
       "      <td>1</td>\n",
       "      <td>0</td>\n",
       "      <td>0</td>\n",
       "      <td>0</td>\n",
       "      <td>9.84</td>\n",
       "      <td>14.395</td>\n",
       "      <td>81</td>\n",
       "      <td>0.0</td>\n",
       "      <td>16</td>\n",
       "      <td>2011-01-01</td>\n",
       "      <td>0</td>\n",
       "      <td>2</td>\n",
       "      <td>4</td>\n",
       "    </tr>\n",
       "    <tr>\n",
       "      <th>1</th>\n",
       "      <td>1</td>\n",
       "      <td>0</td>\n",
       "      <td>0</td>\n",
       "      <td>0</td>\n",
       "      <td>9.02</td>\n",
       "      <td>13.635</td>\n",
       "      <td>80</td>\n",
       "      <td>0.0</td>\n",
       "      <td>40</td>\n",
       "      <td>2011-01-01</td>\n",
       "      <td>1</td>\n",
       "      <td>2</td>\n",
       "      <td>4</td>\n",
       "    </tr>\n",
       "    <tr>\n",
       "      <th>2</th>\n",
       "      <td>1</td>\n",
       "      <td>0</td>\n",
       "      <td>0</td>\n",
       "      <td>0</td>\n",
       "      <td>9.02</td>\n",
       "      <td>13.635</td>\n",
       "      <td>80</td>\n",
       "      <td>0.0</td>\n",
       "      <td>32</td>\n",
       "      <td>2011-01-01</td>\n",
       "      <td>2</td>\n",
       "      <td>2</td>\n",
       "      <td>4</td>\n",
       "    </tr>\n",
       "    <tr>\n",
       "      <th>3</th>\n",
       "      <td>1</td>\n",
       "      <td>0</td>\n",
       "      <td>0</td>\n",
       "      <td>0</td>\n",
       "      <td>9.84</td>\n",
       "      <td>14.395</td>\n",
       "      <td>75</td>\n",
       "      <td>0.0</td>\n",
       "      <td>13</td>\n",
       "      <td>2011-01-01</td>\n",
       "      <td>3</td>\n",
       "      <td>2</td>\n",
       "      <td>4</td>\n",
       "    </tr>\n",
       "    <tr>\n",
       "      <th>4</th>\n",
       "      <td>1</td>\n",
       "      <td>0</td>\n",
       "      <td>0</td>\n",
       "      <td>0</td>\n",
       "      <td>9.84</td>\n",
       "      <td>14.395</td>\n",
       "      <td>75</td>\n",
       "      <td>0.0</td>\n",
       "      <td>1</td>\n",
       "      <td>2011-01-01</td>\n",
       "      <td>4</td>\n",
       "      <td>2</td>\n",
       "      <td>4</td>\n",
       "    </tr>\n",
       "  </tbody>\n",
       "</table>\n",
       "</div>"
      ],
      "text/plain": [
       "   season  holiday  workingday  weather  temp   atemp  humidity  windspeed  \\\n",
       "0       1        0           0        0  9.84  14.395        81        0.0   \n",
       "1       1        0           0        0  9.02  13.635        80        0.0   \n",
       "2       1        0           0        0  9.02  13.635        80        0.0   \n",
       "3       1        0           0        0  9.84  14.395        75        0.0   \n",
       "4       1        0           0        0  9.84  14.395        75        0.0   \n",
       "\n",
       "   count        date  hour  weekday  month  \n",
       "0     16  2011-01-01     0        2      4  \n",
       "1     40  2011-01-01     1        2      4  \n",
       "2     32  2011-01-01     2        2      4  \n",
       "3     13  2011-01-01     3        2      4  \n",
       "4      1  2011-01-01     4        2      4  "
      ]
     },
     "execution_count": 11,
     "metadata": {},
     "output_type": "execute_result"
    }
   ],
   "source": [
    "bs.head()"
   ]
  },
  {
   "cell_type": "markdown",
   "metadata": {},
   "source": [
    "Efekt zgodnie z zamierzeniem spróbujmy reestymować model:"
   ]
  },
  {
   "cell_type": "code",
   "execution_count": 12,
   "metadata": {},
   "outputs": [
    {
     "name": "stdout",
     "output_type": "stream",
     "text": [
      "Mean squared error: 6814.05\n",
      "R2 score: 0.79\n"
     ]
    }
   ],
   "source": [
    "# Dopasowanie modelu do danych:\n",
    "rf.fit(bs[features].values, bs[\"count\"].values)\n",
    "\n",
    "preds = rf.predict(bs[features].values)\n",
    "print(\"Mean squared error: %.2f\" % mean_squared_error(bs[\"count\"].values, preds))\n",
    "print('R2 score: %.2f' % r2_score(bs[\"count\"].values, preds))"
   ]
  },
  {
   "cell_type": "markdown",
   "metadata": {},
   "source": [
    "Błąd został zmierzony na tych samych danych, na których został oszacowany, mamy zatem do czynienia z przetrenowaniem. Wykonajmy walidację krzyżową 5 razy składaną."
   ]
  },
  {
   "cell_type": "code",
   "execution_count": 13,
   "metadata": {},
   "outputs": [],
   "source": [
    "from sklearn.model_selection import KFold\n",
    "kf = KFold(n_splits=5) # stworzenie modelu do generowania foldów treningowych i testowych\n",
    "mses = list() # Obiekt przechowujący wyniki z kolejnych foldów"
   ]
  },
  {
   "cell_type": "code",
   "execution_count": 14,
   "metadata": {},
   "outputs": [],
   "source": [
    "# Stworzenie modelu z określonymi hiperparametrami (domyślnymi)\n",
    "rf = RandomForestRegressor(n_estimators=100, # liczba drzew \n",
    "                           max_depth = None, # maksymalna głębokość drzewa \n",
    "                           min_samples_split=2, # minimalna liczba obserwacji w gałęzi do dokonania podziału\n",
    "                           min_samples_leaf=1, # miniamalna liczba obserwacji na liściu \n",
    "                           max_features='auto') # liczba zmiennych wykorzystywanych w każdym drzewie"
   ]
  },
  {
   "cell_type": "code",
   "execution_count": 15,
   "metadata": {},
   "outputs": [
    {
     "name": "stdout",
     "output_type": "stream",
     "text": [
      "Train Mean squared error: 576.98\n",
      "Test Mean squared error: 13128.68\n",
      "Train Mean squared error: 514.48\n",
      "Test Mean squared error: 11969.95\n",
      "Train Mean squared error: 585.02\n",
      "Test Mean squared error: 8747.67\n",
      "Train Mean squared error: 477.57\n",
      "Test Mean squared error: 14814.54\n",
      "Train Mean squared error: 478.66\n",
      "Test Mean squared error: 15594.31\n",
      "12851.029458400575\n"
     ]
    }
   ],
   "source": [
    "# Pętla po foldach\n",
    "for train, test in kf.split(bs.index.values): \n",
    "    # dopasowanie modelu do zbioru treningowego\n",
    "    rf.fit(bs.iloc[train][features], bs.iloc[train][\"count\"])\n",
    "    # wygenerowanie predykcji na zbiorze treningowym i testowym\n",
    "    predsTrain = rf.predict(bs.iloc[train][features])\n",
    "    predsTest = rf.predict(bs.iloc[test][features])\n",
    "    # Wydruk wyników\n",
    "    print(\"Train Mean squared error: %.2f\" % mean_squared_error(bs.iloc[train][\"count\"], predsTrain))\n",
    "    print(\"Test Mean squared error: %.2f\" % mean_squared_error(bs.iloc[test][\"count\"], predsTest))\n",
    "    # Zapisanie błedu testowego do listy wyników\n",
    "    mses.append(mean_squared_error(bs.iloc[test][\"count\"], predsTest))\n",
    "print(np.mean(mses))"
   ]
  },
  {
   "cell_type": "markdown",
   "metadata": {},
   "source": [
    "Wykonajmy prosty tuning hiperparametrów. Zacznijmy od liczby kolumn."
   ]
  },
  {
   "cell_type": "code",
   "execution_count": 16,
   "metadata": {},
   "outputs": [
    {
     "name": "stdout",
     "output_type": "stream",
     "text": [
      "1 17658.56446439008\n",
      "3 14579.321075103542\n",
      "5 13148.778092525274\n",
      "7 12662.373544142833\n",
      "9 12748.983542319858\n",
      "11 12897.940329503443\n"
     ]
    }
   ],
   "source": [
    "# Pętla zewnętrzna po wartościach hiperparametru\n",
    "for n_col in range(1,12,2):\n",
    "    mses = [] # lista wyników\n",
    "    rf = RandomForestRegressor(n_estimators = 100, # liczba drzew\n",
    "                               max_depth = None, # maksymalna głębokość drzewa\n",
    "                               min_samples_split = 2, # minimalna liczba obserwacji w gałęzi, żeby dokonać podziału\n",
    "                               min_samples_leaf = 1, # minimalna liczba obserwacji na liściu po podziale\n",
    "                               max_features = n_col) # liczba kolumn losowana do oszacowania pojedynczego drzewa \n",
    "    # Pętla wewnętrzna walidująca konkretną wartość hiperparametru\n",
    "    for train, test in kf.split(bs.index.values):\n",
    "        # dopasowanie modelu do zbioru treningowego\n",
    "        rf.fit(bs.iloc[train][features], bs.iloc[train][\"count\"])\n",
    "        # wygenerowanie predykcji na zbiorze treningowym i testowym\n",
    "        predsTrain = rf.predict(bs.iloc[train][features])\n",
    "        predsTest = rf.predict(bs.iloc[test][features])\n",
    "        # Zapisanie błedu testowego do listy wyników\n",
    "        mses.append(mean_squared_error(bs.iloc[test][\"count\"], predsTest))\n",
    "    print(n_col, np.mean(mses))"
   ]
  },
  {
   "cell_type": "markdown",
   "metadata": {},
   "source": [
    "7 lub 9 zmiennych wydaje się najsensowniejsze. Spróbujmy teraz sprawdzić jak na wyniki wpływa narzucenie maksymalnej głębokości drzewa. Do tej pory drzewa rozrastały się do maksymalnych rozmiarów."
   ]
  },
  {
   "cell_type": "code",
   "execution_count": 17,
   "metadata": {},
   "outputs": [
    {
     "name": "stdout",
     "output_type": "stream",
     "text": [
      "1 25376.51078987686\n",
      "4 19408.43107022968\n",
      "7 14457.59248314973\n",
      "10 12749.701048358489\n",
      "13 12749.964740266334\n",
      "16 12729.549364457238\n",
      "19 12659.095310294666\n"
     ]
    }
   ],
   "source": [
    "# Pętla zewnętrzna po wartościach hiperparametru\n",
    "for tree_depth in range(1, 20, 3):\n",
    "    mses = [] # lista wyników\n",
    "    rf = RandomForestRegressor(n_estimators = 100, # liczba drzew\n",
    "                               max_depth = tree_depth, # maksymalna głębokość drzewa\n",
    "                               min_samples_split = 2, # minimalna liczba obserwacji w gałęzi, żeby dokonać podziału\n",
    "                               min_samples_leaf = 1, # minimalna liczba obserwacji na liściu po podziale\n",
    "                               max_features = 7) # liczba kolumn losowana do oszacowania pojedynczego drzewa \n",
    "    # Pętla wewnętrzna walidująca konkretną wartość hiperparametru\n",
    "    for train, test in kf.split(bs.index.values):\n",
    "        # dopasowanie modelu do zbioru treningowego\n",
    "        rf.fit(bs.iloc[train][features], bs.iloc[train][\"count\"])\n",
    "        # wygenerowanie predykcji na zbiorze treningowym i testowym\n",
    "        predsTrain = rf.predict(bs.iloc[train][features])\n",
    "        predsTest = rf.predict(bs.iloc[test][features])\n",
    "        # Zapisanie błedu testowego do listy wyników\n",
    "        mses.append(mean_squared_error(bs.iloc[test][\"count\"], predsTest))\n",
    "    print(tree_depth, np.mean(mses))"
   ]
  },
  {
   "cell_type": "markdown",
   "metadata": {},
   "source": [
    "Głębokość powyżej 10 nie daje istotnej poprawy. Wartość 10-19 są bardzo porównywalne, wpiszmy 13 - jest lepiej niż przy 13, ale drzewa są mniej skomplikowane co ogranicza ryzyko przetrenowania. Sprawdźmy inny hiperparametr - min_samples_split."
   ]
  },
  {
   "cell_type": "code",
   "execution_count": 18,
   "metadata": {},
   "outputs": [
    {
     "name": "stdout",
     "output_type": "stream",
     "text": [
      "2 12943.965050281377\n",
      "5 12899.436895593211\n",
      "8 12634.339133315723\n",
      "11 12840.905404587309\n"
     ]
    }
   ],
   "source": [
    "# Pętla zewnętrzna po wartościach hiperparametru\n",
    "for minSamp in range(2, 12, 3):\n",
    "    mses = [] # lista wyników\n",
    "    rf = RandomForestRegressor(n_estimators = 100, # liczba drzew\n",
    "                               max_depth = 10, # maksymalna głębokość drzewa\n",
    "                               min_samples_split = minSamp, # minimalna liczba obserwacji w gałęzi, żeby dokonać podziału\n",
    "                               min_samples_leaf = 1, # minimalna liczba obserwacji na liściu po podziale\n",
    "                               max_features = 7) # liczba kolumn losowana do oszacowania pojedynczego drzewa \n",
    "    # Pętla wewnętrzna walidująca konkretną wartość hiperparametru\n",
    "    for train, test in kf.split(bs.index.values):\n",
    "        # dopasowanie modelu do zbioru treningowego\n",
    "        rf.fit(bs.iloc[train][features], bs.iloc[train][\"count\"])\n",
    "        # wygenerowanie predykcji na zbiorze treningowym i testowym\n",
    "        predsTrain = rf.predict(bs.iloc[train][features])\n",
    "        predsTest = rf.predict(bs.iloc[test][features])\n",
    "        # Zapisanie błedu testowego do listy wyników\n",
    "        mses.append(mean_squared_error(bs.iloc[test][\"count\"], predsTest))\n",
    "    print(minSamp, np.mean(mses))"
   ]
  },
  {
   "cell_type": "markdown",
   "metadata": {},
   "source": [
    "Interpretacja wyników na tym etapie powinna być oczywista. Oczywiście budowa, tuning i walidacja modelu jest daleko od zakończenia, m. in.: \n",
    "\n",
    "* optymalnych hiperparametrów należałoby poszukać w przestrzeni wielowymiarowej z wykorzystaniem algorytmu *random search*, \n",
    "* katalog zmiennych objaśniających można by poszerzyć o dodatkowe kolumny, wykorzystując techniki *feature engineering*,\n",
    "* walidacja modelu powinna być staranniejsza, dodatkowo powinniśmy zbudować zbiór testowy (i wyłączyć go z walidacji krzyżowej),\n",
    "* działanie modelu powinno być sprawdzone technikami explainable AI.\n",
    "\n",
    "Chcesz wiedzieć jak to zrobić w Pythonie? Zapisz się na kurs:\n",
    "https://labmasters.pl/kursy-otwarte/python/p-3/"
   ]
  },
  {
   "cell_type": "code",
   "execution_count": null,
   "metadata": {},
   "outputs": [],
   "source": []
  }
 ],
 "metadata": {
  "kernelspec": {
   "display_name": "Python 3",
   "language": "python",
   "name": "python3"
  },
  "language_info": {
   "codemirror_mode": {
    "name": "ipython",
    "version": 3
   },
   "file_extension": ".py",
   "mimetype": "text/x-python",
   "name": "python",
   "nbconvert_exporter": "python",
   "pygments_lexer": "ipython3",
   "version": "3.7.5"
  }
 },
 "nbformat": 4,
 "nbformat_minor": 2
}
